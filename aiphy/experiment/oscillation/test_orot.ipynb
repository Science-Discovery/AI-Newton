{
 "cells": [
  {
   "cell_type": "code",
   "execution_count": 1,
   "metadata": {},
   "outputs": [
    {
     "name": "stdout",
     "output_type": "stream",
     "text": [
      "/home/lixiang/code/ai-physicist\n"
     ]
    }
   ],
   "source": [
    "import os\n",
    "work_dir = os.path.abspath('../../..')\n",
    "print(work_dir)\n",
    "os.chdir(work_dir)\n",
    "from aiphy import Knowledge, MeasureType, Concept, Exp, Intrinsic, Expression\n",
    "from aiphy.experiment.ground_laboratory import free_fall_config, gravity_config\n",
    "from aiphy.dataplot import plot_datastruct, plot_data"
   ]
  },
  {
   "cell_type": "code",
   "execution_count": 2,
   "metadata": {},
   "outputs": [],
   "source": [
    "knowledge = Knowledge.default()\n",
    "knowledge.register_expstruct('gravity', gravity_config())\n",
    "vx = knowledge.register_expr(f\"(1->Particle) |- D[posx[1]]/D[t[0]]\")\n",
    "vy = knowledge.register_expr(f\"(1->Particle) |- D[posy[1]]/D[t[0]]\")\n",
    "vz = knowledge.register_expr(f\"(1->Particle) |- D[posz[1]]/D[t[0]]\")\n",
    "ax = knowledge.register_expr(f\"(1->Particle) |- D[{vx}[1]]/D[t[0]]\")\n",
    "ay = knowledge.register_expr(f\"(1->Particle) |- D[{vy}[1]]/D[t[0]]\")\n",
    "az = knowledge.register_expr(f\"(1->Particle) |- D[{vz}[1]]/D[t[0]]\")\n",
    "freel = knowledge.register_expr(\n",
    "    Expression(\"[#stringmotion0 (1->Spring) |- length[1]]\"))\n",
    "mass = knowledge.register_expr(\n",
    "    Expression(f\"[#gravity (1->Particle) |- length[2] - {freel}[2]]\"))\n",
    "\n",
    "knowledge.register_expstruct('free_fall', free_fall_config())\n",
    "g = knowledge.register_expr(\n",
    "    Expression(f\"[#free_fall |- {az}[1]]\"))\n",
    "k = knowledge.register_expr(f\"[#oscillation (2->Spring) |- (-{mass}[1] * {ax}[1] / (length[2] - {freel}[2]))]\")\n",
    "\n",
    "\n",
    "T = knowledge.register_expr(\n",
    "    Expression(\"(1 -> Particle) |- (D[posx[1]]/D[t[0]] ** 2 + D[posy[1]]/D[t[0]] ** 2 + D[posz[1]]/D[t[0]] ** 2)/2\"))\n",
    "sumT = knowledge.register_expr(\n",
    "    Expression(f\"[Sum:Particle] (1->Particle) |- {mass}[1] * {T}[1]\"))\n",
    "sumV = knowledge.register_expr(\n",
    "    Expression(f\"[Sum:Particle] (1->Particle) (2->Particle) |- {mass}[1]*{mass}[2]/(dist[1, 2]+dist[2, 1])\"))\n",
    "sumVg = knowledge.register_expr(\n",
    "    Expression(f\"[Sum:Particle] (1->Particle) |- {mass}[1]*{g}*posz[1]\"))\n",
    "sumVk = knowledge.register_expr(\n",
    "    Expression(f\"[Sum:Spring] (1->Spring) |- {k}[1] * (length[1] - {freel}[1])**2 / 2\"))"
   ]
  },
  {
   "cell_type": "code",
   "execution_count": 3,
   "metadata": {},
   "outputs": [],
   "source": [
    "from aiphy.experiment.oscillation import oscillation_rot_3_config"
   ]
  },
  {
   "cell_type": "code",
   "execution_count": 4,
   "metadata": {},
   "outputs": [],
   "source": [
    "main_exp = oscillation_rot_3_config()\n",
    "knowledge.register_expstruct('oscillation_rot_3', main_exp)"
   ]
  },
  {
   "cell_type": "code",
   "execution_count": 5,
   "metadata": {},
   "outputs": [],
   "source": [
    "main_exp.random_settings()\n",
    "Tv = knowledge.eval(sumT, main_exp)\n",
    "Vkv = knowledge.eval(sumVk, main_exp)"
   ]
  },
  {
   "cell_type": "code",
   "execution_count": 6,
   "metadata": {},
   "outputs": [],
   "source": [
    "Eallv = knowledge.eval(f\"{sumT} + {sumVk}\", main_exp)"
   ]
  },
  {
   "cell_type": "code",
   "execution_count": 7,
   "metadata": {},
   "outputs": [
    {
     "data": {
      "text/plain": [
       "<ExpData_Const at 0x7296cf92b190>"
      ]
     },
     "execution_count": 7,
     "metadata": {},
     "output_type": "execute_result"
    }
   ],
   "source": [
    "Eallv"
   ]
  },
  {
   "cell_type": "code",
   "execution_count": 8,
   "metadata": {},
   "outputs": [
    {
     "data": {
      "text/plain": [
       "'C_15'"
      ]
     },
     "execution_count": 8,
     "metadata": {},
     "output_type": "execute_result"
    }
   ],
   "source": [
    "F1 = "
   ]
  },
  {
   "cell_type": "code",
   "execution_count": null,
   "metadata": {},
   "outputs": [],
   "source": []
  }
 ],
 "metadata": {
  "kernelspec": {
   "display_name": "pubpy",
   "language": "python",
   "name": "python3"
  },
  "language_info": {
   "codemirror_mode": {
    "name": "ipython",
    "version": 3
   },
   "file_extension": ".py",
   "mimetype": "text/x-python",
   "name": "python",
   "nbconvert_exporter": "python",
   "pygments_lexer": "ipython3",
   "version": "3.11.9"
  }
 },
 "nbformat": 4,
 "nbformat_minor": 2
}
