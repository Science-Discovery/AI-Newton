{
 "cells": [
  {
   "cell_type": "code",
   "execution_count": 1,
   "metadata": {},
   "outputs": [
    {
     "name": "stdout",
     "output_type": "stream",
     "text": [
      "/home/lixiang/code/ai-physicist\n"
     ]
    }
   ],
   "source": [
    "import os\n",
    "work_dir = os.path.abspath('../../..')\n",
    "print(work_dir)\n",
    "os.chdir(work_dir)\n",
    "from aiphy import Knowledge, MeasureType, Concept, Exp, Intrinsic, Expression\n",
    "from aiphy.experiment.ground_laboratory import free_fall_config, gravity_config\n",
    "from aiphy.dataplot import plot_datastruct, plot_data"
   ]
  },
  {
   "cell_type": "code",
   "execution_count": 2,
   "metadata": {},
   "outputs": [],
   "source": [
    "knowledge = Knowledge.default()\n",
    "knowledge.register_expstruct('gravity', gravity_config())\n",
    "vx = knowledge.register_expr(f\"(1->Particle) |- D[posx[1]]/D[t[0]]\")\n",
    "vy = knowledge.register_expr(f\"(1->Particle) |- D[posy[1]]/D[t[0]]\")\n",
    "vz = knowledge.register_expr(f\"(1->Particle) |- D[posz[1]]/D[t[0]]\")\n",
    "ax = knowledge.register_expr(f\"(1->Particle) |- D[{vx}[1]]/D[t[0]]\")\n",
    "ay = knowledge.register_expr(f\"(1->Particle) |- D[{vy}[1]]/D[t[0]]\")\n",
    "az = knowledge.register_expr(f\"(1->Particle) |- D[{vz}[1]]/D[t[0]]\")\n",
    "freel = knowledge.register_expr(\n",
    "    Expression(\"[#stringmotion0 (1->Spring) |- length[1]]\"))\n",
    "mass = knowledge.register_expr(\n",
    "    Expression(f\"[#gravity (1->Particle) |- length[2] - {freel}[2]]\"))\n",
    "\n",
    "knowledge.register_expstruct('free_fall', free_fall_config())\n",
    "g = knowledge.register_expr(\n",
    "    Expression(f\"[#free_fall |- {az}[1]]\"))\n",
    "k = knowledge.register_expr(f\"[#oscillation (2->Spring) |- (-{mass}[1] * {ax}[1] / (length[2] - {freel}[2]))]\")\n",
    "\n",
    "\n",
    "T = knowledge.register_expr(\n",
    "    Expression(\"(1 -> Particle) |- (D[posx[1]]/D[t[0]] ** 2 + D[posy[1]]/D[t[0]] ** 2 + D[posz[1]]/D[t[0]] ** 2)/2\"))\n",
    "sumT = knowledge.register_expr(\n",
    "    Expression(f\"[Sum:Particle] (1->Particle) |- {mass}[1] * {T}[1]\"))\n",
    "sumV = knowledge.register_expr(\n",
    "    Expression(f\"[Sum:Particle] (1->Particle) (2->Particle) |- {mass}[1]*{mass}[2]/(dist[1, 2]+dist[2, 1])\"))\n",
    "sumVg = knowledge.register_expr(\n",
    "    Expression(f\"[Sum:Particle] (1->Particle) |- {mass}[1]*{g}*posz[1]\"))\n",
    "sumVk = knowledge.register_expr(\n",
    "    Expression(f\"[Sum:Spring] (1->Spring) |- {k}[1] * (length[1] - {freel}[1])**2 / 2\"))"
   ]
  },
  {
   "cell_type": "code",
   "execution_count": 3,
   "metadata": {},
   "outputs": [],
   "source": [
    "from aiphy.experiment.ground_laboratory import projectile_oscillation_1_config, projectile_oscillation_2_config\n",
    "from aiphy.experiment.ground_laboratory import pulley_1_config, pulley_2_config, pulley_3_config\n",
    "from aiphy.experiment.ground_laboratory import pulley_oscillation_1_config, pulley_oscillation_2_config\n",
    "from aiphy.experiment.ground_laboratory import masspulley_oscillation_1_config, masspulley_oscillation_2_config"
   ]
  },
  {
   "cell_type": "code",
   "execution_count": 10,
   "metadata": {},
   "outputs": [
    {
     "name": "stdout",
     "output_type": "stream",
     "text": [
      "Unexpected exception formatting exception. Falling back to standard exception\n"
     ]
    },
    {
     "name": "stderr",
     "output_type": "stream",
     "text": [
      "thread '<unnamed>' panicked at src/experiments/topy.rs:355:35:\n",
      "called `Option::unwrap()` on a `None` value\n",
      "note: run with `RUST_BACKTRACE=1` environment variable to display a backtrace\n",
      "Traceback (most recent call last):\n",
      "  File \"/opt/miniconda/envs/pubpy/lib/python3.11/site-packages/IPython/core/interactiveshell.py\", line 3577, in run_code\n",
      "    exec(code_obj, self.user_global_ns, self.user_ns)\n",
      "  File \"/tmp/ipykernel_2187230/644102373.py\", line 1, in <module>\n",
      "    main_exp = masspulley_oscillation_2_config()\n",
      "               ^^^^^^^^^^^^^^^^^^^^^^^^^^^^^^^^^\n",
      "  File \"/home/lixiang/code/ai-physicist/aiphy/experiment/ground_laboratory/masspulley_oscillation_2.py\", line 128, in masspulley_oscillation_2_config\n",
      "    expconfig.register_geometry_info(Proposition.IsConserved(expconfig.gen_exp(\n",
      "                                                             ^^^^^^^^^^^^^^^^^^\n",
      "pyo3_runtime.PanicException: called `Option::unwrap()` on a `None` value\n",
      "\n",
      "During handling of the above exception, another exception occurred:\n",
      "\n",
      "Traceback (most recent call last):\n",
      "  File \"/opt/miniconda/envs/pubpy/lib/python3.11/site-packages/IPython/core/interactiveshell.py\", line 2168, in showtraceback\n",
      "    stb = self.InteractiveTB.structured_traceback(\n",
      "          ^^^^^^^^^^^^^^^^^^^^^^^^^^^^^^^^^^^^^^^^\n",
      "  File \"/opt/miniconda/envs/pubpy/lib/python3.11/site-packages/IPython/core/ultratb.py\", line 1454, in structured_traceback\n",
      "    return FormattedTB.structured_traceback(\n",
      "           ^^^^^^^^^^^^^^^^^^^^^^^^^^^^^^^^^\n",
      "  File \"/opt/miniconda/envs/pubpy/lib/python3.11/site-packages/IPython/core/ultratb.py\", line 1345, in structured_traceback\n",
      "    return VerboseTB.structured_traceback(\n",
      "           ^^^^^^^^^^^^^^^^^^^^^^^^^^^^^^^\n",
      "  File \"/opt/miniconda/envs/pubpy/lib/python3.11/site-packages/IPython/core/ultratb.py\", line 1192, in structured_traceback\n",
      "    formatted_exception = self.format_exception_as_a_whole(etype, evalue, etb, number_of_lines_of_context,\n",
      "                          ^^^^^^^^^^^^^^^^^^^^^^^^^^^^^^^^^^^^^^^^^^^^^^^^^^^^^^^^^^^^^^^^^^^^^^^^^^^^^^^^\n",
      "  File \"/opt/miniconda/envs/pubpy/lib/python3.11/site-packages/IPython/core/ultratb.py\", line 1082, in format_exception_as_a_whole\n",
      "    self.get_records(etb, number_of_lines_of_context, tb_offset) if etb else []\n",
      "    ^^^^^^^^^^^^^^^^^^^^^^^^^^^^^^^^^^^^^^^^^^^^^^^^^^^^^^^^^^^^\n",
      "  File \"/opt/miniconda/envs/pubpy/lib/python3.11/site-packages/IPython/core/ultratb.py\", line 1150, in get_records\n",
      "    mod = inspect.getmodule(cf.tb_frame)\n",
      "          ^^^^^^^^^^^^^^^^^^^^^^^^^^^^^^\n",
      "  File \"/opt/miniconda/envs/pubpy/lib/python3.11/inspect.py\", line 994, in getmodule\n",
      "    f = getabsfile(module)\n",
      "        ^^^^^^^^^^^^^^^^^^\n",
      "  File \"/opt/miniconda/envs/pubpy/lib/python3.11/inspect.py\", line 963, in getabsfile\n",
      "    _filename = getsourcefile(object) or getfile(object)\n",
      "                ^^^^^^^^^^^^^^^^^^^^^\n",
      "  File \"/opt/miniconda/envs/pubpy/lib/python3.11/inspect.py\", line 936, in getsourcefile\n",
      "    filename = getfile(object)\n",
      "               ^^^^^^^^^^^^^^^\n",
      "  File \"/opt/miniconda/envs/pubpy/lib/python3.11/inspect.py\", line 897, in getfile\n",
      "    raise TypeError('{!r} is a built-in module'.format(object))\n",
      "TypeError: <module '' from '/home/lixiang/code/ai-physicist'> is a built-in module\n"
     ]
    }
   ],
   "source": [
    "main_exp = masspulley_oscillation_2_config()\n",
    "knowledge.register_expstruct('masspulley_oscillation_2', main_exp)"
   ]
  },
  {
   "cell_type": "code",
   "execution_count": 8,
   "metadata": {},
   "outputs": [],
   "source": [
    "main_exp.random_settings()\n",
    "Tv = knowledge.eval(sumT, main_exp)\n",
    "Vgv = knowledge.eval(sumVg, main_exp)\n",
    "Vkv = knowledge.eval(sumVk, main_exp)"
   ]
  },
  {
   "cell_type": "code",
   "execution_count": 9,
   "metadata": {},
   "outputs": [
    {
     "data": {
      "text/plain": [
       "<ExpData_Const at 0x762a588d0d50>"
      ]
     },
     "execution_count": 9,
     "metadata": {},
     "output_type": "execute_result"
    }
   ],
   "source": [
    "Eallv = knowledge.eval(f\"{sumT} - {sumVg} + {sumVk}\", main_exp)\n",
    "Eallv"
   ]
  },
  {
   "cell_type": "code",
   "execution_count": 16,
   "metadata": {},
   "outputs": [
    {
     "data": {
      "image/png": "[encoded data removed]",
      "text/plain": [
       "<Figure size 640x480 with 1 Axes>"
      ]
     },
     "metadata": {},
     "output_type": "display_data"
    }
   ],
   "source": [
    "plot_data(Eallv)"
   ]
  },
  {
   "cell_type": "code",
   "execution_count": 3,
   "metadata": {},
   "outputs": [],
   "source": [
    "from aiphy.experiment.ground_laboratory import slope_oscillation_1_config"
   ]
  },
  {
   "cell_type": "code",
   "execution_count": 4,
   "metadata": {},
   "outputs": [],
   "source": [
    "main_exp = slope_oscillation_1_config()\n",
    "knowledge.register_expstruct('slope_oscillation_1', main_exp)\n",
    "main_exp.random_settings()\n",
    "Tv = knowledge.eval(sumT, main_exp)\n",
    "Vgv = knowledge.eval(sumVg, main_exp)\n",
    "Vkv = knowledge.eval(sumVk, main_exp)"
   ]
  },
  {
   "cell_type": "code",
   "execution_count": 5,
   "metadata": {},
   "outputs": [],
   "source": [
    "Eallv = knowledge.eval(f\"{sumT} - {sumVg} + {sumVk}\", main_exp)"
   ]
  },
  {
   "cell_type": "code",
   "execution_count": null,
   "metadata": {},
   "outputs": [],
   "source": []
  }
 ],
 "metadata": {
  "kernelspec": {
   "display_name": "pubpy",
   "language": "python",
   "name": "python3"
  },
  "language_info": {
   "codemirror_mode": {
    "name": "ipython",
    "version": 3
   },
   "file_extension": ".py",
   "mimetype": "text/x-python",
   "name": "python",
   "nbconvert_exporter": "python",
   "pygments_lexer": "ipython3",
   "version": "3.11.9"
  }
 },
 "nbformat": 4,
 "nbformat_minor": 2
}
