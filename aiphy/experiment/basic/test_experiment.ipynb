{
 "cells": [
  {
   "cell_type": "code",
   "execution_count": 1,
   "metadata": {},
   "outputs": [
    {
     "name": "stdout",
     "output_type": "stream",
     "text": [
      "/home/lixiang/code/ai-physicist-base/ai-physicist\n"
     ]
    }
   ],
   "source": [
    "import os\n",
    "work_dir = os.path.abspath('../../..')\n",
    "print(work_dir)\n",
    "os.chdir(work_dir)\n",
    "import numpy as np\n",
    "import sympy as sp\n",
    "from scipy.integrate import odeint\n",
    "from aiphy.experiment import default_parastructure, ExpConfig, Objstructure, DoExpType, ExpStructure\n",
    "from aiphy.experiment import concept_posx, concept_posy, concept_posz, concept_t, concept_length"
   ]
  },
  {
   "cell_type": "code",
   "execution_count": 2,
   "metadata": {},
   "outputs": [],
   "source": [
    "pi = 3.1415926\n",
    "exp_para = {\n",
    "    \"l\": default_parastructure(5.0, 7.0),\n",
    "    \"theta0\": default_parastructure(0.0, 2*pi),\n",
    "    \"omega0\": default_parastructure(pi/4.0, pi/2.0),\n",
    "    \"y0\": default_parastructure(3.0, 5.0),\n",
    "    \"vx0\": default_parastructure(1.0, 2.0),\n",
    "    \"vy0\": default_parastructure(1.0, 2.0),\n",
    "    \"t0\": default_parastructure(0.5, 1.5)\n",
    "}\n",
    "\n",
    "obj_info = {\n",
    "    \"o1\": Objstructure.make_particle(1, 2),\n",
    "    \"o2\": Objstructure.make_particle(2, 4),\n",
    "    \"clock\": Objstructure.clock()\n",
    "}\n",
    "data_info = [\n",
    "    (concept_posx, [\"o1\"]),\n",
    "    (concept_posy, [\"o1\"]),\n",
    "    (concept_posz, [\"o1\"]),\n",
    "    (concept_posx, [\"o2\"]),\n",
    "    (concept_posy, [\"o2\"]),\n",
    "    (concept_posz, [\"o2\"]),\n",
    "    (concept_t, [\"clock\"]),\n",
    "]"
   ]
  },
  {
   "cell_type": "code",
   "execution_count": 3,
   "metadata": {},
   "outputs": [],
   "source": [
    "exp_config = ExpConfig(\"collision_circle\", 2, exp_para, obj_info, data_info)\n",
    "exp_config.random_settings()"
   ]
  },
  {
   "cell_type": "code",
   "execution_count": 4,
   "metadata": {},
   "outputs": [],
   "source": [
    "t_end=2.0\n",
    "t_num=100\n",
    "step = t_end / t_num\n",
    "t = np.arange(0, t_end, step)\n",
    "l = exp_config.para('l')\n",
    "theta0 = exp_config.para('theta0')\n",
    "omega0 = exp_config.para('omega0')\n",
    "y0 = exp_config.para('y0')\n",
    "vx0 = exp_config.para('vx0')\n",
    "vy0 = exp_config.para('vy0')\n",
    "t0 = exp_config.para('t0')\n",
    "m1 = exp_config.get_obj_para(\"o1\", \"m\")\n",
    "m2 = exp_config.get_obj_para(\"o2\", \"m\")\n",
    "step = t_end / t_num\n",
    "t = np.arange(0, t_end, step)\n",
    "\n",
    "# after collison:\n",
    "vx = (m2 * vx0 * y0**2 - l**2 * m1 * (vx0 + 2*omega0 * y0))/(l**2 * m1 + m2 * y0**2)\n",
    "omega = (l**2 * m1 * omega0 - m2 * y0 * (2 * vx0 + omega0 * y0))/(l**2 * m1 + m2 * y0**2)\n",
    "\n",
    "# motion trajectory\n",
    "data_x = np.array([vx0*(i-t0) if i < t0 else vx*(i-t0) for i in t])\n",
    "data_y = np.array([y0 + vy0*(i-t0) for i in t])\n",
    "data_theta = np.array([theta0+pi/2 + omega0*(i-t0) if i < t0 else theta0+pi/2 + omega*(i-t0) for i in t])\n",
    "\n",
    "data_x_ = np.cos(theta0) * data_x - np.sin(theta0) * data_y\n",
    "data_y_ = np.sin(theta0) * data_x + np.cos(theta0) * data_y"
   ]
  },
  {
   "cell_type": "code",
   "execution_count": 5,
   "metadata": {},
   "outputs": [],
   "source": [
    "import matplotlib.pyplot as plt"
   ]
  },
  {
   "cell_type": "code",
   "execution_count": 6,
   "metadata": {},
   "outputs": [
    {
     "data": {
      "text/plain": [
       "[<matplotlib.lines.Line2D at 0x79b9ad2bcfd0>]"
      ]
     },
     "execution_count": 6,
     "metadata": {},
     "output_type": "execute_result"
    },
    {
     "data": {
      "image/png": "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",
      "text/plain": [
       "<Figure size 640x480 with 1 Axes>"
      ]
     },
     "metadata": {},
     "output_type": "display_data"
    }
   ],
   "source": [
    "plt.plot(data_x_, data_y_)\n",
    "plt.plot(l*np.cos(data_theta), l*np.sin(data_theta))"
   ]
  },
  {
   "cell_type": "code",
<<<<<<< HEAD
   "execution_count": 3,
=======
   "execution_count": 17,
>>>>>>> 2df5be1 (add more experiments:)
   "metadata": {},
   "outputs": [
    {
     "data": {
      "text/plain": [
<<<<<<< HEAD
       "{1, 2, 3, '3'}"
      ]
     },
     "execution_count": 3,
=======
       "1.1876590281602024"
      ]
     },
     "execution_count": 17,
>>>>>>> 2df5be1 (add more experiments:)
     "metadata": {},
     "output_type": "execute_result"
    }
   ],
   "source": [
<<<<<<< HEAD
    "newset = {1, 2, 3}\n",
    "newset.add('3')\n",
    "newset"
   ]
  },
  {
   "cell_type": "code",
   "execution_count": 8,
   "metadata": {},
   "outputs": [],
   "source": [
    "from tqdm import tqdm"
=======
    "omega"
>>>>>>> 2df5be1 (add more experiments:)
   ]
  },
  {
   "cell_type": "code",
   "execution_count": 9,
   "metadata": {},
   "outputs": [
    {
<<<<<<< HEAD
     "name": "stderr",
     "output_type": "stream",
     "text": [
      "Reduce Conclusions: 100%|██████████| 5/5 [00:00<00:00, 21098.11it/s]"
     ]
    },
    {
     "name": "stdout",
     "output_type": "stream",
     "text": [
      "(0, 1)\n",
      "(1, 2)\n",
      "(2, 3)\n",
      "(3, 4)\n",
      "(4, 5)\n"
     ]
    },
    {
     "name": "stderr",
     "output_type": "stream",
     "text": [
      "\n"
     ]
    }
   ],
   "source": [
    "name_list = [1, 2, 3, 4, 5]\n",
    "for i, j in enumerate(tqdm(name_list, desc='Reduce Conclusions')):\n",
    "    print((i, j))"
=======
     "data": {
      "text/plain": [
       "array([ 2.80067595,  2.60967802,  2.41628033,  2.22066073,  2.0229991 ,\n",
       "        1.82347719,  1.6222785 ,  1.41958802,  1.21559214,  1.01047846,\n",
       "        0.80443558,  0.59765297,  0.39032078,  0.18262967, -0.02522937,\n",
       "       -0.23306522, -0.44068675, -0.64790304, -0.85452355, -1.06035827,\n",
       "       -1.26521793, -1.46891414, -1.6712596 , -1.87206824, -2.0711554 ,\n",
       "       -2.26833801, -2.46343474, -2.6562662 , -2.84665506, -3.03442625,\n",
       "       -3.21940711, -3.40142753, -3.58032013, -3.75592041, -3.9280669 ,\n",
       "       -4.0966013 , -4.26136863, -4.42221737, -4.57899962, -4.7315712 ,\n",
       "       -4.87979183, -5.02352519, -5.14148943, -5.24772316, -5.35099619,\n",
       "       -5.45125026, -5.54842881, -5.642477  , -5.73334179, -5.82097189,\n",
       "       -5.90531788, -5.98633216, -6.06396904, -6.1381847 , -6.20893727,\n",
       "       -6.27618685, -6.33989548, -6.40002722, -6.45654815, -6.50942638,\n",
       "       -6.55863208, -6.60413748, -6.64591691, -6.6839468 , -6.7182057 ,\n",
       "       -6.74867427, -6.77533532, -6.79817382, -6.81717688, -6.83233377,\n",
       "       -6.84363595, -6.85107704, -6.85465284, -6.85436134, -6.85020269,\n",
       "       -6.84217925, -6.83029553, -6.81455826, -6.79497629, -6.77156069,\n",
       "       -6.74432466, -6.71328358, -6.67845494, -6.63985841, -6.59751575,\n",
       "       -6.55145086, -6.50168973, -6.44826043, -6.3911931 , -6.33051995,\n",
       "       -6.26627519, -6.19849509, -6.12721787, -6.05248376, -5.97433492,\n",
       "       -5.89281543, -5.80797129, -5.71985037, -5.62850239, -5.53397887])"
      ]
     },
     "execution_count": 9,
     "metadata": {},
     "output_type": "execute_result"
    }
   ],
   "source": [
    "(l*np.cos(data_theta))"
>>>>>>> 2df5be1 (add more experiments:)
   ]
  },
  {
   "cell_type": "code",
<<<<<<< HEAD
=======
   "execution_count": 3,
   "metadata": {},
   "outputs": [],
   "source": [
    "import numpy as np"
   ]
  },
  {
   "cell_type": "code",
   "execution_count": 4,
   "metadata": {},
   "outputs": [],
   "source": [
    "t_end = 2.0\n",
    "t_num = 100\n",
    "step = t_end / t_num\n",
    "t = np.arange(0, t_end, step)"
   ]
  },
  {
   "cell_type": "code",
   "execution_count": 6,
   "metadata": {},
   "outputs": [
    {
     "data": {
      "text/plain": [
       "0.02"
      ]
     },
     "execution_count": 6,
     "metadata": {},
     "output_type": "execute_result"
    }
   ],
   "source": []
  },
  {
   "cell_type": "code",
>>>>>>> 2df5be1 (add more experiments:)
   "execution_count": null,
   "metadata": {},
   "outputs": [],
   "source": []
  }
 ],
 "metadata": {
  "kernelspec": {
   "display_name": "pubpy",
   "language": "python",
   "name": "python3"
  },
  "language_info": {
   "codemirror_mode": {
    "name": "ipython",
    "version": 3
   },
   "file_extension": ".py",
   "mimetype": "text/x-python",
   "name": "python",
   "nbconvert_exporter": "python",
   "pygments_lexer": "ipython3",
   "version": "3.11.9"
  }
 },
 "nbformat": 4,
 "nbformat_minor": 2
}
