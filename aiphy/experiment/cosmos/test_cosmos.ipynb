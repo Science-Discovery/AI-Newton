{
 "cells": [
  {
   "cell_type": "code",
   "execution_count": 2,
   "metadata": {},
   "outputs": [
    {
     "name": "stdout",
     "output_type": "stream",
     "text": [
      "/home/lixiang/code/ai-physicist\n"
     ]
    }
   ],
   "source": [
    "import os\n",
    "work_dir = os.path.abspath('../../..')\n",
    "print(work_dir)\n",
    "os.chdir(work_dir)\n",
    "from aiphy import Knowledge, MeasureType, Concept, Exp, Intrinsic, Expression\n",
    "from aiphy.experiment.ground_laboratory import gravity_config\n",
    "from aiphy.experiment.cosmos import celestial_3_config\n",
    "from aiphy.dataplot import plot_datastruct, plot_data"
   ]
  },
  {
   "cell_type": "code",
   "execution_count": 3,
   "metadata": {},
   "outputs": [],
   "source": [
    "knowledge = Knowledge.default()\n",
    "main_exp = celestial_3_config()\n",
    "knowledge.register_expstruct('gravity', gravity_config())\n",
    "knowledge.register_expstruct('celestial', main_exp)\n",
    "freel = knowledge.register_expr(\n",
    "    Expression(\"[#stringmotion0 (1->Spring) |- length[1]]\"))\n",
    "mass = knowledge.register_expr(\n",
    "    Expression(f\"[#gravity (1->Particle) |- length[2] - {freel}[2]]\"))\n",
    "\n",
    "Txy = knowledge.register_expr(\n",
    "    Expression(\"(1 -> Particle) |- (D[posx[1]]/D[t[0]] ** 2 + D[posy[1]]/D[t[0]] ** 2)\"))\n",
    "sumT = knowledge.register_expr(\n",
    "    Expression(f\"[Sum:Particle] (1->Particle) |- {mass}[1] * {Txy}[1]\"))\n",
    "sumV = knowledge.register_expr(\n",
    "    Expression(f\"[Sum:Particle] (1->Particle) (2->Particle) |- {mass}[1]*{mass}[2]/(dist[1, 2]+dist[2, 1])\"))\n"
   ]
  },
  {
   "cell_type": "code",
   "execution_count": null,
   "metadata": {},
   "outputs": [],
   "source": [
    "data_T = knowledge.eval('mass[1]', main_exp)"
   ]
  },
  {
   "cell_type": "code",
   "execution_count": 3,
   "metadata": {},
   "outputs": [],
   "source": [
    "exp = Exp(f\"D[{sumT}]/D[{sumV}]\")"
   ]
  },
  {
   "cell_type": "code",
   "execution_count": 4,
   "metadata": {},
   "outputs": [
    {
     "name": "stdout",
     "output_type": "stream",
     "text": [
      "Unexpected exception formatting exception. Falling back to standard exception\n"
     ]
    },
    {
     "name": "stderr",
     "output_type": "stream",
     "text": [
      "Traceback (most recent call last):\n",
      "  File \"/home/lixiang/code/ai-physicist/aiphy/interface.py\", line 161, in eval\n",
      "    return self.K.eval(expr, expstruct)\n",
      "           ^^^^^^^^^^^^^^^^^^^^^^^^^^^^\n",
      "ValueError: No data found for [Sum:Particle] (1->Particle) |- (C_02[1] * C_03[1])\n",
      "\n",
      "During handling of the above exception, another exception occurred:\n",
      "\n",
      "Traceback (most recent call last):\n",
      "  File \"/opt/miniconda/envs/pubpy/lib/python3.11/site-packages/IPython/core/interactiveshell.py\", line 3577, in run_code\n",
      "    exec(code_obj, self.user_global_ns, self.user_ns)\n",
      "  File \"/tmp/ipykernel_2161878/2015062576.py\", line 2, in <module>\n",
      "    data = knowledge.eval(exp, main_exp)\n",
      "           ^^^^^^^^^^^^^^^^^^^^^^^^^^^^^\n",
      "  File \"/home/lixiang/code/ai-physicist/aiphy/interface.py\", line 163, in eval\n",
      "    raise Exception(f\"Failed to eval {expr}\")\n",
      "Exception: Failed to eval D[C_04]/D[C_05]\n",
      "\n",
      "During handling of the above exception, another exception occurred:\n",
      "\n",
      "Traceback (most recent call last):\n",
      "  File \"/opt/miniconda/envs/pubpy/lib/python3.11/site-packages/IPython/core/interactiveshell.py\", line 2168, in showtraceback\n",
      "    stb = self.InteractiveTB.structured_traceback(\n",
      "          ^^^^^^^^^^^^^^^^^^^^^^^^^^^^^^^^^^^^^^^^\n",
      "  File \"/opt/miniconda/envs/pubpy/lib/python3.11/site-packages/IPython/core/ultratb.py\", line 1454, in structured_traceback\n",
      "    return FormattedTB.structured_traceback(\n",
      "           ^^^^^^^^^^^^^^^^^^^^^^^^^^^^^^^^^\n",
      "  File \"/opt/miniconda/envs/pubpy/lib/python3.11/site-packages/IPython/core/ultratb.py\", line 1345, in structured_traceback\n",
      "    return VerboseTB.structured_traceback(\n",
      "           ^^^^^^^^^^^^^^^^^^^^^^^^^^^^^^^\n",
      "  File \"/opt/miniconda/envs/pubpy/lib/python3.11/site-packages/IPython/core/ultratb.py\", line 1192, in structured_traceback\n",
      "    formatted_exception = self.format_exception_as_a_whole(etype, evalue, etb, number_of_lines_of_context,\n",
      "                          ^^^^^^^^^^^^^^^^^^^^^^^^^^^^^^^^^^^^^^^^^^^^^^^^^^^^^^^^^^^^^^^^^^^^^^^^^^^^^^^^\n",
      "  File \"/opt/miniconda/envs/pubpy/lib/python3.11/site-packages/IPython/core/ultratb.py\", line 1082, in format_exception_as_a_whole\n",
      "    self.get_records(etb, number_of_lines_of_context, tb_offset) if etb else []\n",
      "    ^^^^^^^^^^^^^^^^^^^^^^^^^^^^^^^^^^^^^^^^^^^^^^^^^^^^^^^^^^^^\n",
      "  File \"/opt/miniconda/envs/pubpy/lib/python3.11/site-packages/IPython/core/ultratb.py\", line 1150, in get_records\n",
      "    mod = inspect.getmodule(cf.tb_frame)\n",
      "          ^^^^^^^^^^^^^^^^^^^^^^^^^^^^^^\n",
      "  File \"/opt/miniconda/envs/pubpy/lib/python3.11/inspect.py\", line 994, in getmodule\n",
      "    f = getabsfile(module)\n",
      "        ^^^^^^^^^^^^^^^^^^\n",
      "  File \"/opt/miniconda/envs/pubpy/lib/python3.11/inspect.py\", line 963, in getabsfile\n",
      "    _filename = getsourcefile(object) or getfile(object)\n",
      "                ^^^^^^^^^^^^^^^^^^^^^\n",
      "  File \"/opt/miniconda/envs/pubpy/lib/python3.11/inspect.py\", line 936, in getsourcefile\n",
      "    filename = getfile(object)\n",
      "               ^^^^^^^^^^^^^^^\n",
      "  File \"/opt/miniconda/envs/pubpy/lib/python3.11/inspect.py\", line 897, in getfile\n",
      "    raise TypeError('{!r} is a built-in module'.format(object))\n",
      "TypeError: <module '' from '/home/lixiang/code/ai-physicist'> is a built-in module\n"
     ]
    }
   ],
   "source": [
    "main_exp.random_settings()\n",
    "data = knowledge.eval(exp, main_exp)"
   ]
  },
  {
   "cell_type": "code",
   "execution_count": 6,
   "metadata": {},
   "outputs": [
    {
     "name": "stdout",
     "output_type": "stream",
     "text": [
      "True\n",
      "True\n",
      "True\n",
      "True\n",
      "True\n",
      "True\n",
      "True\n",
      "True\n",
      "True\n",
      "True\n"
     ]
    }
   ],
   "source": [
    "for _ in range(10):\n",
    "    main_exp.random_settings()\n",
    "    data = knowledge.eval(exp, main_exp)\n",
    "    print(data.is_conserved)"
   ]
  },
  {
   "cell_type": "code",
   "execution_count": 4,
   "metadata": {},
   "outputs": [],
   "source": [
    "data = knowledge.eval(exp, main_exp)"
   ]
  },
  {
   "cell_type": "code",
   "execution_count": 5,
   "metadata": {},
   "outputs": [
    {
     "data": {
      "text/plain": [
       "True"
      ]
     },
     "execution_count": 5,
     "metadata": {},
     "output_type": "execute_result"
    }
   ],
   "source": [
    "data.is_conserved"
   ]
  },
  {
   "cell_type": "code",
   "execution_count": 14,
   "metadata": {},
   "outputs": [
    {
     "data": {
      "image/png": "[encoded data removed]",
      "text/plain": [
       "<Figure size 640x480 with 1 Axes>"
      ]
     },
     "metadata": {},
     "output_type": "display_data"
    }
   ],
   "source": [
    "plot_data(data)"
   ]
  },
  {
   "cell_type": "code",
   "execution_count": null,
   "metadata": {},
   "outputs": [],
   "source": [
    "\n",
    "\n",
    "assert knowledge.eval(exp, main_exp).is_const\n",
    "\n",
    "G = knowledge.register_expr(Expression(f\"[#celestial |- D[{sumT}]/D[dist[1,2]**(-1)] / {mass}[1] / {mass}[2]]\"))\n",
    "\n",
    "print(knowledge.eval(G, main_exp))\n",
    "\n",
    "main_exp.random_settings()\n",
    "data = knowledge.eval(f\"{G}*{mass}[1]*{mass}[2]/dist[1,2] - {sumT}\", main_exp)\n",
    "assert data.is_const\n"
   ]
  }
 ],
 "metadata": {
  "kernelspec": {
   "display_name": "pubpy",
   "language": "python",
   "name": "python3"
  },
  "language_info": {
   "codemirror_mode": {
    "name": "ipython",
    "version": 3
   },
   "file_extension": ".py",
   "mimetype": "text/x-python",
   "name": "python",
   "nbconvert_exporter": "python",
   "pygments_lexer": "ipython3",
   "version": "3.11.9"
  }
 },
 "nbformat": 4,
 "nbformat_minor": 2
}
