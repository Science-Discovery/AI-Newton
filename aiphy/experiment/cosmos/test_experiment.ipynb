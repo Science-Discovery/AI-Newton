{
 "cells": [
  {
   "cell_type": "code",
   "execution_count": null,
   "metadata": {},
   "outputs": [
    {
     "name": "stdout",
     "output_type": "stream",
     "text": [
      "/home/lixiang/code/ai-physicist\n"
     ]
    }
   ],
   "source": [
    "import os\n",
    "work_dir = os.path.abspath('../../..')\n",
    "print(work_dir)\n",
    "os.chdir(work_dir)\n",
    "import sympy as sp\n",
    "import numpy as np\n",
    "from aiphy.experiment import default_parastructure, ExpConfig, Objstructure, DoExpType, ExpStructure, Proposition\n",
    "from aiphy.experiment import concept_posx, concept_posy, concept_t, concept_dist, concept_posz\n",
    "from scipy.integrate import odeint\n",
    "import matplotlib.pyplot as plt"
   ]
  },
  {
   "cell_type": "code",
   "execution_count": 2,
   "metadata": {},
   "outputs": [],
   "source": [
<<<<<<< HEAD
<<<<<<< HEAD
    "from aiphy.experiment import concept_posx, concept_posy, concept_t, concept_dist, concept_posz"
   ]
  },
  {
   "cell_type": "code",
   "execution_count": 3,
   "metadata": {},
   "outputs": [],
   "source": [
    "pi = 3.1415926\n",
    "\n",
    "exp_para = {\n",
    "    \"x0\": default_parastructure(-1.0, 1.0),\n",
    "    \"y0\": default_parastructure(-1.0, 1.0),\n",
    "    \"r0\": default_parastructure(5.0, 7.0),\n",
    "    \"theta0\": default_parastructure(0.0, 2*pi/3),\n",
    "    \"omega10\": default_parastructure(1.0, 2.0),\n",
    "    \"omega20\": default_parastructure(1.0, 2.0),\n",
    "    \"omega30\": default_parastructure(1.0, 2.0),\n",
    "    \"v10\": default_parastructure(-0.05, 0.05),\n",
    "    \"v20\": default_parastructure(-0.05, 0.05),\n",
    "    \"v30\": default_parastructure(-0.05, 0.05),\n",
    "}\n",
    "\n",
    "obj_info = {\n",
    "    \"o1\": Objstructure.make_particle(1, 2),\n",
    "    \"o2\": Objstructure.make_particle(1, 2),\n",
    "    \"o3\": Objstructure.make_particle(1, 2),\n",
=======
    "# using astronomical unit\n",
=======
    "\n",
>>>>>>> 4ebcaa5 (complete celestial)
    "pi = 3.1415926\n",
    "\n",
    "exp_para = {\n",
    "    \"x0\": default_parastructure(-1e-1, 1e-1),\n",
    "    \"y0\": default_parastructure(-1e-1, 1e-1),\n",
    "    \"r0\": default_parastructure(2.0e-2, 2.4e-2),\n",
    "    \"theta0\": default_parastructure(0.0, pi/2),\n",
    "    \"omega10\": default_parastructure(2*pi/3, pi),\n",
    "    \"v10\": default_parastructure(-5e-5, 5e-5),\n",
    "    \"v20\": default_parastructure(-5e-5, 5e-5),\n",
    "    \"v30\": default_parastructure(-5e-5, 5e-5),\n",
    "    \"v40\": default_parastructure(-5e-5, 5e-5),\n",
    "}\n",
    "\n",
    "obj_info = {\n",
<<<<<<< HEAD
    "    \"o1\": Objstructure.make_particle(2e2, 5e2),\n",
    "    \"o2\": Objstructure.make_particle(2e2, 5e2),\n",
    "    \"o3\": Objstructure.make_particle(2e2, 5e2),\n",
>>>>>>> 512df72 (need debug for G)
=======
    "    \"o1\": Objstructure.make_particle(5e5, 6e5),\n",
    "    \"o2\": Objstructure.make_particle(5e5, 6e5),\n",
    "    \"o3\": Objstructure.make_particle(5e5, 6e5),\n",
    "    \"o4\": Objstructure.make_particle(5e5, 6e5),\n",
>>>>>>> 4ebcaa5 (complete celestial)
    "    \"clock\": Objstructure.clock()\n",
    "}\n",
    "data_info = [\n",
    "    (concept_posx, [\"o1\"]),\n",
    "    (concept_posy, [\"o1\"]),\n",
    "    (concept_posz, [\"o1\"]),\n",
    "    (concept_posx, [\"o2\"]),\n",
    "    (concept_posy, [\"o2\"]),\n",
    "    (concept_posz, [\"o2\"]),\n",
    "    (concept_posx, [\"o3\"]),\n",
    "    (concept_posy, [\"o3\"]),\n",
    "    (concept_posz, [\"o3\"]),\n",
    "    (concept_posx, [\"o4\"]),\n",
    "    (concept_posy, [\"o4\"]),\n",
    "    (concept_posz, [\"o4\"]),\n",
    "    (concept_dist, [\"o1\", \"o2\"]),\n",
    "    (concept_dist, [\"o2\", \"o1\"]),\n",
    "    (concept_dist, [\"o1\", \"o3\"]),\n",
    "    (concept_dist, [\"o3\", \"o1\"]),\n",
    "    (concept_dist, [\"o3\", \"o2\"]),\n",
    "    (concept_dist, [\"o2\", \"o3\"]),\n",
    "    (concept_dist, [\"o1\", \"o4\"]),\n",
    "    (concept_dist, [\"o4\", \"o1\"]),\n",
    "    (concept_dist, [\"o2\", \"o4\"]),\n",
    "    (concept_dist, [\"o4\", \"o2\"]),\n",
    "    (concept_dist, [\"o3\", \"o4\"]),\n",
    "    (concept_dist, [\"o4\", \"o3\"]),\n",
    "    (concept_t, [\"clock\"]),\n",
    "]\n",
    "\n",
<<<<<<< HEAD
    "G = 4*pi**2\n",
=======
    "G = 6.6e-11\n",
<<<<<<< HEAD
>>>>>>> 512df72 (need debug for G)
    "acs0 = [sp.sympify(\"G*(m2*(x2-x1)/r12**3 + m3*(x3-x1)/r13**3)\"),\n",
    "        sp.sympify(\"G*(m1*(x1-x2)/r12**3 + m3*(x3-x2)/r23**3)\"),\n",
    "        sp.sympify(\"G*(m1*(x1-x3)/r13**3 + m2*(x2-x3)/r23**3)\"),\n",
    "        sp.sympify(\"G*(m2*(y2-y1)/r12**3 + m3*(y3-y1)/r13**3)\"),\n",
    "        sp.sympify(\"G*(m1*(y1-y2)/r12**3 + m3*(y3-y2)/r23**3)\"),\n",
<<<<<<< HEAD
    "        sp.sympify(\"G*(m1*(y1-y3)/r13**3 + m2*(y2-y3)/r23**3)\"),]\n"
=======
    "        sp.sympify(\"G*(m1*(y1-y3)/r13**3 + m2*(y2-y3)/r23**3)\"),]"
>>>>>>> 512df72 (need debug for G)
=======
    "acs0 = [sp.sympify(\"G*(m2*(x2-x1)/r12**3 + m3*(x3-x1)/r13**3 + m4*(x4-x1)/r14**3)\"),\n",
    "        sp.sympify(\"G*(m1*(x1-x2)/r12**3 + m3*(x3-x2)/r23**3 + m4*(x4-x2)/r24**3)\"),\n",
    "        sp.sympify(\"G*(m1*(x1-x3)/r13**3 + m2*(x2-x3)/r23**3 + m4*(x4-x3)/r34**3)\"),\n",
    "        sp.sympify(\"G*(m1*(x1-x4)/r14**3 + m2*(x2-x4)/r24**3 + m3*(x3-x4)/r34**3)\"),\n",
    "        sp.sympify(\"G*(m2*(y2-y1)/r12**3 + m3*(y3-y1)/r13**3 + m4*(y4-y1)/r14**3)\"),\n",
    "        sp.sympify(\"G*(m1*(y1-y2)/r12**3 + m3*(y3-y2)/r23**3 + m4*(y4-y2)/r24**3)\"),\n",
    "        sp.sympify(\"G*(m1*(y1-y3)/r13**3 + m2*(y2-y3)/r23**3 + m4*(y4-y3)/r34**3)\"),\n",
    "        sp.sympify(\"G*(m1*(y1-y4)/r14**3 + m2*(y2-y4)/r24**3 + m3*(y3-y4)/r34**3)\"),]\n"
   ]
  },
  {
   "cell_type": "code",
   "execution_count": 3,
   "metadata": {},
   "outputs": [],
   "source": [
    "t_end = 2.0\n",
    "t_num = 100\n",
    "error = 1e-8\n",
    "exp_config = ExpConfig(\"celestial_3\", 1, exp_para, obj_info, data_info)"
>>>>>>> 4ebcaa5 (complete celestial)
   ]
  },
  {
   "cell_type": "code",
   "execution_count": 4,
   "metadata": {},
   "outputs": [],
   "source": [
<<<<<<< HEAD
    "t_end = 2.0\n",
<<<<<<< HEAD
    "t_num = 100\n",
    "error = 1e-8"
   ]
  },
  {
   "cell_type": "code",
   "execution_count": 13,
   "metadata": {},
   "outputs": [],
   "source": [
    "exp_config = ExpConfig(\"celestial_2\", 1, exp_para, obj_info, data_info)\n",
=======
    "t_num = 50\n",
    "error = 1e-8\n",
    "exp_config = ExpConfig(\"celestial_3\", 1, exp_para, obj_info, data_info)\n",
>>>>>>> 512df72 (need debug for G)
    "exp_config.random_settings()"
   ]
  },
  {
   "cell_type": "code",
<<<<<<< HEAD
   "execution_count": 14,
=======
   "execution_count": 4,
>>>>>>> 512df72 (need debug for G)
   "metadata": {},
   "outputs": [],
   "source": [
    "x0 = exp_config.para('x0')\n",
    "y0 = exp_config.para('y0')\n",
    "r0 = exp_config.para('r0')\n",
    "theta0 = exp_config.para('theta0')\n",
    "omega10 = exp_config.para('omega10')\n",
    "omega20 = exp_config.para('omega20')\n",
    "omega30 = exp_config.para('omega30')\n",
    "v10 = exp_config.para('v10')\n",
    "v20 = exp_config.para('v20')\n",
    "v30 = exp_config.para('v30')\n",
    "\n",
    "x10 = x0 + r0*np.cos(theta0)\n",
    "x20 = x0 + r0*np.cos(theta0 + 2*pi/3)\n",
    "x30 = x0 + r0*np.cos(theta0 + 4*pi/3)\n",
    "y10 = y0 + r0*np.sin(theta0)\n",
<<<<<<< HEAD
    "y20 = x0 + r0*np.sin(theta0 + 2*pi/3)\n",
    "y30 = x0 + r0*np.sin(theta0 + 4*pi/3)\n",
=======
    "y20 = y0 + r0*np.sin(theta0 + 2*pi/3)\n",
    "y30 = y0 + r0*np.sin(theta0 + 4*pi/3)\n",
>>>>>>> 512df72 (need debug for G)
    "vx10 = v10*np.cos(theta0) - omega10*r0*np.sin(theta0)\n",
    "vy10 = v10*np.sin(theta0) + omega10*r0*np.cos(theta0)\n",
    "vx20 = v20*np.cos(theta0 + 2*pi/3) - omega20*r0*np.sin(theta0 + 2*pi/3)\n",
    "vy20 = v20*np.sin(theta0 + 2*pi/3) + omega20*r0*np.cos(theta0 + 2*pi/3)\n",
    "vx30 = v30*np.cos(theta0 + 4*pi/3) - omega30*r0*np.sin(theta0 + 4*pi/3)\n",
    "vy30 = v30*np.sin(theta0 + 4*pi/3) + omega30*r0*np.cos(theta0 + 4*pi/3)\n",
=======
    "def do_experiment(t_end: float, t_num: int, error: float, exp_config: ExpConfig):\n",
    "    exp_config.random_settings()\n",
    "    x0 = exp_config.para('x0')\n",
    "    y0 = exp_config.para('y0')\n",
    "    r0 = exp_config.para('r0')\n",
    "    theta0 = exp_config.para('theta0')\n",
    "    omega10 = exp_config.para('omega10')\n",
    "    v10 = exp_config.para('v10')\n",
    "    v20 = exp_config.para('v20')\n",
    "    v30 = exp_config.para('v30')\n",
    "    v40 = exp_config.para('v40')\n",
    "\n",
    "    x10 = x0 + r0*np.cos(theta0)\n",
    "    x20 = x0 + r0*np.cos(theta0 + pi/2)\n",
    "    x30 = x0 + r0*np.cos(theta0 + pi)\n",
    "    x40 = x0 + r0*np.cos(theta0 + 3*pi/2)\n",
    "    y10 = y0 + r0*np.sin(theta0)\n",
    "    y20 = y0 + r0*np.sin(theta0 + pi/2)\n",
    "    y30 = y0 + r0*np.sin(theta0 + pi)\n",
    "    y40 = y0 + r0*np.sin(theta0 + 3*pi/2)\n",
    "    vx10 = v10*np.cos(theta0) - omega10*r0*np.sin(theta0)\n",
    "    vy10 = v10*np.sin(theta0) + omega10*r0*np.cos(theta0)\n",
    "    vx20 = v20*np.cos(theta0 + pi/2) - omega10*r0*np.sin(theta0 + pi/2)\n",
    "    vy20 = v20*np.sin(theta0 + pi/2) + omega10*r0*np.cos(theta0 + pi/2)\n",
    "    vx30 = v30*np.cos(theta0 + pi) - omega10*r0*np.sin(theta0 + pi)\n",
    "    vy30 = v30*np.sin(theta0 + pi) + omega10*r0*np.cos(theta0 + pi)\n",
    "    vx40 = v40*np.cos(theta0 + 3*pi/2) - omega10*r0*np.sin(theta0 + 3*pi/2)\n",
    "    vy40 = v40*np.sin(theta0 + 3*pi/2) + omega10*r0*np.cos(theta0 + 3*pi/2)\n",
>>>>>>> 4ebcaa5 (complete celestial)
    "\n",
    "    m1 = exp_config.get_obj_para('o1', 'm')\n",
    "    m2 = exp_config.get_obj_para('o2', 'm')\n",
    "    m3 = exp_config.get_obj_para('o3', 'm')\n",
    "    m4 = exp_config.get_obj_para('o4', 'm')\n",
    "    numeric = {'m1': m1, 'm2': m2, 'm3': m3, 'm4': m4, 'G': G}\n",
    "    acs = [ac.subs(numeric) for ac in acs0]\n",
    "\n",
<<<<<<< HEAD
    "step = t_end / t_num\n",
    "t = np.arange(0, t_end, step)\n",
    "y0 = [x10, x20, x30, y10, y20, y30, vx10, vx20, vx30, vy10, vy20, vy30]\n"
<<<<<<< HEAD
=======
=======
    "    step = t_end / t_num\n",
    "    t = np.arange(0, t_end, step)\n",
    "    y0 = [x10, x20, x30, x40, y10, y20, y30, y40, vx10, vx20, vx30, vx40, vy10, vy20, vy30, vy40]\n",
    "\n",
    "    def f(y, t):\n",
    "        x1, x2, x3, x4, y1, y2, y3, y4, vx1, vx2, vx3, vx4, vy1, vy2, vy3, vy4 = y\n",
    "        r12 = np.sqrt((x1-x2)**2 + (y1-y2)**2)\n",
    "        r13 = np.sqrt((x1-x3)**2 + (y1-y3)**2)\n",
    "        r14 = np.sqrt((x1-x4)**2 + (y1-y4)**2)\n",
    "        r23 = np.sqrt((x3-x2)**2 + (y3-y2)**2)\n",
    "        r24 = np.sqrt((x4-x2)**2 + (y4-y2)**2)\n",
    "        r34 = np.sqrt((x3-x4)**2 + (y3-y4)**2)\n",
    "        numeric = {'r12': r12, 'r23': r23, 'r13': r13, 'r14': r14, 'r24': r24, 'r34': r34,\n",
    "                   'x1': x1, 'x2': x2, 'x3': x3, 'x4': x4, 'y1': y1, 'y2': y2, 'y3': y3, 'y4': y4,\n",
    "                   'vx1': vx1, 'vx2': vx2, 'vx3': vx3, 'vx4': vx4, 'vy1': vy1, 'vy2': vy2, 'vy3': vy3, 'vy4': vy4}\n",
    "        acs_n = [ac.subs(numeric) for ac in acs]\n",
    "        return [vx1, vx2, vx3, vx4, vy1, vy2, vy3, vy4] + acs_n\n",
    "    sol = odeint(f, y0, t)\n",
    "    x1 = sol[:, 0]\n",
    "    x2 = sol[:, 1]\n",
    "    x3 = sol[:, 2]\n",
    "    x4 = sol[:, 3]\n",
    "    y1 = sol[:, 4]\n",
    "    y2 = sol[:, 5]\n",
    "    y3 = sol[:, 6]\n",
    "    y4 = sol[:, 7]\n",
    "\n",
    "    data = [x1, x2, x3, x4, y1, y2, y3, y4]\n",
    "    config = [m1, m2, m3, m4, r0, omega10, vx10, vx20, vx30, vx40, vy10, vy20, vy30, vy40]\n",
    "    return data, config"
>>>>>>> 4ebcaa5 (complete celestial)
   ]
  },
  {
   "cell_type": "code",
   "execution_count": 5,
   "metadata": {},
   "outputs": [
    {
     "ename": "KeyboardInterrupt",
     "evalue": "",
     "output_type": "error",
     "traceback": [
      "\u001b[0;31m---------------------------------------------------------------------------\u001b[0m",
      "\u001b[0;31mKeyboardInterrupt\u001b[0m                         Traceback (most recent call last)",
      "Cell \u001b[0;32mIn[5], line 1\u001b[0m\n\u001b[0;32m----> 1\u001b[0m data_config \u001b[38;5;241m=\u001b[39m [do_experiment(t_end\u001b[38;5;241m=\u001b[39mt_end, t_num\u001b[38;5;241m=\u001b[39mt_num, error\u001b[38;5;241m=\u001b[39merror, exp_config\u001b[38;5;241m=\u001b[39mexp_config) \u001b[38;5;28;01mfor\u001b[39;00m _ \u001b[38;5;129;01min\u001b[39;00m \u001b[38;5;28mrange\u001b[39m(\u001b[38;5;241m20\u001b[39m)]\n",
      "Cell \u001b[0;32mIn[5], line 1\u001b[0m, in \u001b[0;36m<listcomp>\u001b[0;34m(.0)\u001b[0m\n\u001b[0;32m----> 1\u001b[0m data_config \u001b[38;5;241m=\u001b[39m [do_experiment(t_end\u001b[38;5;241m=\u001b[39mt_end, t_num\u001b[38;5;241m=\u001b[39mt_num, error\u001b[38;5;241m=\u001b[39merror, exp_config\u001b[38;5;241m=\u001b[39mexp_config) \u001b[38;5;28;01mfor\u001b[39;00m _ \u001b[38;5;129;01min\u001b[39;00m \u001b[38;5;28mrange\u001b[39m(\u001b[38;5;241m20\u001b[39m)]\n",
      "Cell \u001b[0;32mIn[4], line 54\u001b[0m, in \u001b[0;36mdo_experiment\u001b[0;34m(t_end, t_num, error, exp_config)\u001b[0m\n\u001b[1;32m     52\u001b[0m     acs_n \u001b[38;5;241m=\u001b[39m [ac\u001b[38;5;241m.\u001b[39msubs(numeric) \u001b[38;5;28;01mfor\u001b[39;00m ac \u001b[38;5;129;01min\u001b[39;00m acs]\n\u001b[1;32m     53\u001b[0m     \u001b[38;5;28;01mreturn\u001b[39;00m [vx1, vx2, vx3, vx4, vy1, vy2, vy3, vy4] \u001b[38;5;241m+\u001b[39m acs_n\n\u001b[0;32m---> 54\u001b[0m sol \u001b[38;5;241m=\u001b[39m odeint(f, y0, t)\n\u001b[1;32m     55\u001b[0m x1 \u001b[38;5;241m=\u001b[39m sol[:, \u001b[38;5;241m0\u001b[39m]\n\u001b[1;32m     56\u001b[0m x2 \u001b[38;5;241m=\u001b[39m sol[:, \u001b[38;5;241m1\u001b[39m]\n",
      "File \u001b[0;32m/opt/miniconda/envs/pubpy/lib/python3.11/site-packages/scipy/integrate/_odepack_py.py:243\u001b[0m, in \u001b[0;36modeint\u001b[0;34m(func, y0, t, args, Dfun, col_deriv, full_output, ml, mu, rtol, atol, tcrit, h0, hmax, hmin, ixpr, mxstep, mxhnil, mxordn, mxords, printmessg, tfirst)\u001b[0m\n\u001b[1;32m    241\u001b[0m t \u001b[38;5;241m=\u001b[39m copy(t)\n\u001b[1;32m    242\u001b[0m y0 \u001b[38;5;241m=\u001b[39m copy(y0)\n\u001b[0;32m--> 243\u001b[0m output \u001b[38;5;241m=\u001b[39m _odepack\u001b[38;5;241m.\u001b[39modeint(func, y0, t, args, Dfun, col_deriv, ml, mu,\n\u001b[1;32m    244\u001b[0m                          full_output, rtol, atol, tcrit, h0, hmax, hmin,\n\u001b[1;32m    245\u001b[0m                          ixpr, mxstep, mxhnil, mxordn, mxords,\n\u001b[1;32m    246\u001b[0m                          \u001b[38;5;28mint\u001b[39m(\u001b[38;5;28mbool\u001b[39m(tfirst)))\n\u001b[1;32m    247\u001b[0m \u001b[38;5;28;01mif\u001b[39;00m output[\u001b[38;5;241m-\u001b[39m\u001b[38;5;241m1\u001b[39m] \u001b[38;5;241m<\u001b[39m \u001b[38;5;241m0\u001b[39m:\n\u001b[1;32m    248\u001b[0m     warning_msg \u001b[38;5;241m=\u001b[39m (\u001b[38;5;124mf\u001b[39m\u001b[38;5;124m\"\u001b[39m\u001b[38;5;132;01m{\u001b[39;00m_msgs[output[\u001b[38;5;241m-\u001b[39m\u001b[38;5;241m1\u001b[39m]]\u001b[38;5;132;01m}\u001b[39;00m\u001b[38;5;124m Run with full_output = 1 to \u001b[39m\u001b[38;5;124m\"\u001b[39m\n\u001b[1;32m    249\u001b[0m                    \u001b[38;5;124mf\u001b[39m\u001b[38;5;124m\"\u001b[39m\u001b[38;5;124mget quantitative information.\u001b[39m\u001b[38;5;124m\"\u001b[39m)\n",
      "Cell \u001b[0;32mIn[4], line 52\u001b[0m, in \u001b[0;36mdo_experiment.<locals>.f\u001b[0;34m(y, t)\u001b[0m\n\u001b[1;32m     48\u001b[0m r34 \u001b[38;5;241m=\u001b[39m np\u001b[38;5;241m.\u001b[39msqrt((x3\u001b[38;5;241m-\u001b[39mx4)\u001b[38;5;241m*\u001b[39m\u001b[38;5;241m*\u001b[39m\u001b[38;5;241m2\u001b[39m \u001b[38;5;241m+\u001b[39m (y3\u001b[38;5;241m-\u001b[39my4)\u001b[38;5;241m*\u001b[39m\u001b[38;5;241m*\u001b[39m\u001b[38;5;241m2\u001b[39m)\n\u001b[1;32m     49\u001b[0m numeric \u001b[38;5;241m=\u001b[39m {\u001b[38;5;124m'\u001b[39m\u001b[38;5;124mr12\u001b[39m\u001b[38;5;124m'\u001b[39m: r12, \u001b[38;5;124m'\u001b[39m\u001b[38;5;124mr23\u001b[39m\u001b[38;5;124m'\u001b[39m: r23, \u001b[38;5;124m'\u001b[39m\u001b[38;5;124mr13\u001b[39m\u001b[38;5;124m'\u001b[39m: r13, \u001b[38;5;124m'\u001b[39m\u001b[38;5;124mr14\u001b[39m\u001b[38;5;124m'\u001b[39m: r14, \u001b[38;5;124m'\u001b[39m\u001b[38;5;124mr24\u001b[39m\u001b[38;5;124m'\u001b[39m: r24, \u001b[38;5;124m'\u001b[39m\u001b[38;5;124mr34\u001b[39m\u001b[38;5;124m'\u001b[39m: r34,\n\u001b[1;32m     50\u001b[0m            \u001b[38;5;124m'\u001b[39m\u001b[38;5;124mx1\u001b[39m\u001b[38;5;124m'\u001b[39m: x1, \u001b[38;5;124m'\u001b[39m\u001b[38;5;124mx2\u001b[39m\u001b[38;5;124m'\u001b[39m: x2, \u001b[38;5;124m'\u001b[39m\u001b[38;5;124mx3\u001b[39m\u001b[38;5;124m'\u001b[39m: x3, \u001b[38;5;124m'\u001b[39m\u001b[38;5;124mx4\u001b[39m\u001b[38;5;124m'\u001b[39m: x4, \u001b[38;5;124m'\u001b[39m\u001b[38;5;124my1\u001b[39m\u001b[38;5;124m'\u001b[39m: y1, \u001b[38;5;124m'\u001b[39m\u001b[38;5;124my2\u001b[39m\u001b[38;5;124m'\u001b[39m: y2, \u001b[38;5;124m'\u001b[39m\u001b[38;5;124my3\u001b[39m\u001b[38;5;124m'\u001b[39m: y3, \u001b[38;5;124m'\u001b[39m\u001b[38;5;124my4\u001b[39m\u001b[38;5;124m'\u001b[39m: y4,\n\u001b[1;32m     51\u001b[0m            \u001b[38;5;124m'\u001b[39m\u001b[38;5;124mvx1\u001b[39m\u001b[38;5;124m'\u001b[39m: vx1, \u001b[38;5;124m'\u001b[39m\u001b[38;5;124mvx2\u001b[39m\u001b[38;5;124m'\u001b[39m: vx2, \u001b[38;5;124m'\u001b[39m\u001b[38;5;124mvx3\u001b[39m\u001b[38;5;124m'\u001b[39m: vx3, \u001b[38;5;124m'\u001b[39m\u001b[38;5;124mvx4\u001b[39m\u001b[38;5;124m'\u001b[39m: vx4, \u001b[38;5;124m'\u001b[39m\u001b[38;5;124mvy1\u001b[39m\u001b[38;5;124m'\u001b[39m: vy1, \u001b[38;5;124m'\u001b[39m\u001b[38;5;124mvy2\u001b[39m\u001b[38;5;124m'\u001b[39m: vy2, \u001b[38;5;124m'\u001b[39m\u001b[38;5;124mvy3\u001b[39m\u001b[38;5;124m'\u001b[39m: vy3, \u001b[38;5;124m'\u001b[39m\u001b[38;5;124mvy4\u001b[39m\u001b[38;5;124m'\u001b[39m: vy4}\n\u001b[0;32m---> 52\u001b[0m acs_n \u001b[38;5;241m=\u001b[39m [ac\u001b[38;5;241m.\u001b[39msubs(numeric) \u001b[38;5;28;01mfor\u001b[39;00m ac \u001b[38;5;129;01min\u001b[39;00m acs]\n\u001b[1;32m     53\u001b[0m \u001b[38;5;28;01mreturn\u001b[39;00m [vx1, vx2, vx3, vx4, vy1, vy2, vy3, vy4] \u001b[38;5;241m+\u001b[39m acs_n\n",
      "Cell \u001b[0;32mIn[4], line 52\u001b[0m, in \u001b[0;36m<listcomp>\u001b[0;34m(.0)\u001b[0m\n\u001b[1;32m     48\u001b[0m r34 \u001b[38;5;241m=\u001b[39m np\u001b[38;5;241m.\u001b[39msqrt((x3\u001b[38;5;241m-\u001b[39mx4)\u001b[38;5;241m*\u001b[39m\u001b[38;5;241m*\u001b[39m\u001b[38;5;241m2\u001b[39m \u001b[38;5;241m+\u001b[39m (y3\u001b[38;5;241m-\u001b[39my4)\u001b[38;5;241m*\u001b[39m\u001b[38;5;241m*\u001b[39m\u001b[38;5;241m2\u001b[39m)\n\u001b[1;32m     49\u001b[0m numeric \u001b[38;5;241m=\u001b[39m {\u001b[38;5;124m'\u001b[39m\u001b[38;5;124mr12\u001b[39m\u001b[38;5;124m'\u001b[39m: r12, \u001b[38;5;124m'\u001b[39m\u001b[38;5;124mr23\u001b[39m\u001b[38;5;124m'\u001b[39m: r23, \u001b[38;5;124m'\u001b[39m\u001b[38;5;124mr13\u001b[39m\u001b[38;5;124m'\u001b[39m: r13, \u001b[38;5;124m'\u001b[39m\u001b[38;5;124mr14\u001b[39m\u001b[38;5;124m'\u001b[39m: r14, \u001b[38;5;124m'\u001b[39m\u001b[38;5;124mr24\u001b[39m\u001b[38;5;124m'\u001b[39m: r24, \u001b[38;5;124m'\u001b[39m\u001b[38;5;124mr34\u001b[39m\u001b[38;5;124m'\u001b[39m: r34,\n\u001b[1;32m     50\u001b[0m            \u001b[38;5;124m'\u001b[39m\u001b[38;5;124mx1\u001b[39m\u001b[38;5;124m'\u001b[39m: x1, \u001b[38;5;124m'\u001b[39m\u001b[38;5;124mx2\u001b[39m\u001b[38;5;124m'\u001b[39m: x2, \u001b[38;5;124m'\u001b[39m\u001b[38;5;124mx3\u001b[39m\u001b[38;5;124m'\u001b[39m: x3, \u001b[38;5;124m'\u001b[39m\u001b[38;5;124mx4\u001b[39m\u001b[38;5;124m'\u001b[39m: x4, \u001b[38;5;124m'\u001b[39m\u001b[38;5;124my1\u001b[39m\u001b[38;5;124m'\u001b[39m: y1, \u001b[38;5;124m'\u001b[39m\u001b[38;5;124my2\u001b[39m\u001b[38;5;124m'\u001b[39m: y2, \u001b[38;5;124m'\u001b[39m\u001b[38;5;124my3\u001b[39m\u001b[38;5;124m'\u001b[39m: y3, \u001b[38;5;124m'\u001b[39m\u001b[38;5;124my4\u001b[39m\u001b[38;5;124m'\u001b[39m: y4,\n\u001b[1;32m     51\u001b[0m            \u001b[38;5;124m'\u001b[39m\u001b[38;5;124mvx1\u001b[39m\u001b[38;5;124m'\u001b[39m: vx1, \u001b[38;5;124m'\u001b[39m\u001b[38;5;124mvx2\u001b[39m\u001b[38;5;124m'\u001b[39m: vx2, \u001b[38;5;124m'\u001b[39m\u001b[38;5;124mvx3\u001b[39m\u001b[38;5;124m'\u001b[39m: vx3, \u001b[38;5;124m'\u001b[39m\u001b[38;5;124mvx4\u001b[39m\u001b[38;5;124m'\u001b[39m: vx4, \u001b[38;5;124m'\u001b[39m\u001b[38;5;124mvy1\u001b[39m\u001b[38;5;124m'\u001b[39m: vy1, \u001b[38;5;124m'\u001b[39m\u001b[38;5;124mvy2\u001b[39m\u001b[38;5;124m'\u001b[39m: vy2, \u001b[38;5;124m'\u001b[39m\u001b[38;5;124mvy3\u001b[39m\u001b[38;5;124m'\u001b[39m: vy3, \u001b[38;5;124m'\u001b[39m\u001b[38;5;124mvy4\u001b[39m\u001b[38;5;124m'\u001b[39m: vy4}\n\u001b[0;32m---> 52\u001b[0m acs_n \u001b[38;5;241m=\u001b[39m [ac\u001b[38;5;241m.\u001b[39msubs(numeric) \u001b[38;5;28;01mfor\u001b[39;00m ac \u001b[38;5;129;01min\u001b[39;00m acs]\n\u001b[1;32m     53\u001b[0m \u001b[38;5;28;01mreturn\u001b[39;00m [vx1, vx2, vx3, vx4, vy1, vy2, vy3, vy4] \u001b[38;5;241m+\u001b[39m acs_n\n",
      "File \u001b[0;32m/opt/miniconda/envs/pubpy/lib/python3.11/site-packages/sympy/core/basic.py:1123\u001b[0m, in \u001b[0;36mBasic.subs\u001b[0;34m(self, *args, **kwargs)\u001b[0m\n\u001b[1;32m   1121\u001b[0m rv \u001b[38;5;241m=\u001b[39m \u001b[38;5;28mself\u001b[39m\n\u001b[1;32m   1122\u001b[0m \u001b[38;5;28;01mfor\u001b[39;00m old, new \u001b[38;5;129;01min\u001b[39;00m sequence:\n\u001b[0;32m-> 1123\u001b[0m     rv \u001b[38;5;241m=\u001b[39m rv\u001b[38;5;241m.\u001b[39m_subs(old, new, \u001b[38;5;241m*\u001b[39m\u001b[38;5;241m*\u001b[39mkwargs)\n\u001b[1;32m   1124\u001b[0m     \u001b[38;5;28;01mif\u001b[39;00m \u001b[38;5;129;01mnot\u001b[39;00m \u001b[38;5;28misinstance\u001b[39m(rv, Basic):\n\u001b[1;32m   1125\u001b[0m         \u001b[38;5;28;01mbreak\u001b[39;00m\n",
      "File \u001b[0;32m/opt/miniconda/envs/pubpy/lib/python3.11/site-packages/sympy/core/cache.py:72\u001b[0m, in \u001b[0;36m__cacheit.<locals>.func_wrapper.<locals>.wrapper\u001b[0;34m(*args, **kwargs)\u001b[0m\n\u001b[1;32m     69\u001b[0m \u001b[38;5;129m@wraps\u001b[39m(func)\n\u001b[1;32m     70\u001b[0m \u001b[38;5;28;01mdef\u001b[39;00m \u001b[38;5;21mwrapper\u001b[39m(\u001b[38;5;241m*\u001b[39margs, \u001b[38;5;241m*\u001b[39m\u001b[38;5;241m*\u001b[39mkwargs):\n\u001b[1;32m     71\u001b[0m     \u001b[38;5;28;01mtry\u001b[39;00m:\n\u001b[0;32m---> 72\u001b[0m         retval \u001b[38;5;241m=\u001b[39m cfunc(\u001b[38;5;241m*\u001b[39margs, \u001b[38;5;241m*\u001b[39m\u001b[38;5;241m*\u001b[39mkwargs)\n\u001b[1;32m     73\u001b[0m     \u001b[38;5;28;01mexcept\u001b[39;00m \u001b[38;5;167;01mTypeError\u001b[39;00m \u001b[38;5;28;01mas\u001b[39;00m e:\n\u001b[1;32m     74\u001b[0m         \u001b[38;5;28;01mif\u001b[39;00m \u001b[38;5;129;01mnot\u001b[39;00m e\u001b[38;5;241m.\u001b[39margs \u001b[38;5;129;01mor\u001b[39;00m \u001b[38;5;129;01mnot\u001b[39;00m e\u001b[38;5;241m.\u001b[39margs[\u001b[38;5;241m0\u001b[39m]\u001b[38;5;241m.\u001b[39mstartswith(\u001b[38;5;124m'\u001b[39m\u001b[38;5;124munhashable type:\u001b[39m\u001b[38;5;124m'\u001b[39m):\n",
      "File \u001b[0;32m/opt/miniconda/envs/pubpy/lib/python3.11/site-packages/sympy/core/basic.py:1237\u001b[0m, in \u001b[0;36mBasic._subs\u001b[0;34m(self, old, new, **hints)\u001b[0m\n\u001b[1;32m   1235\u001b[0m rv \u001b[38;5;241m=\u001b[39m \u001b[38;5;28mself\u001b[39m\u001b[38;5;241m.\u001b[39m_eval_subs(old, new)\n\u001b[1;32m   1236\u001b[0m \u001b[38;5;28;01mif\u001b[39;00m rv \u001b[38;5;129;01mis\u001b[39;00m \u001b[38;5;28;01mNone\u001b[39;00m:\n\u001b[0;32m-> 1237\u001b[0m     rv \u001b[38;5;241m=\u001b[39m fallback(\u001b[38;5;28mself\u001b[39m, old, new)\n\u001b[1;32m   1238\u001b[0m \u001b[38;5;28;01mreturn\u001b[39;00m rv\n",
      "File \u001b[0;32m/opt/miniconda/envs/pubpy/lib/python3.11/site-packages/sympy/core/basic.py:1209\u001b[0m, in \u001b[0;36mBasic._subs.<locals>.fallback\u001b[0;34m(self, old, new)\u001b[0m\n\u001b[1;32m   1207\u001b[0m \u001b[38;5;28;01mif\u001b[39;00m \u001b[38;5;129;01mnot\u001b[39;00m \u001b[38;5;28mhasattr\u001b[39m(arg, \u001b[38;5;124m'\u001b[39m\u001b[38;5;124m_eval_subs\u001b[39m\u001b[38;5;124m'\u001b[39m):\n\u001b[1;32m   1208\u001b[0m     \u001b[38;5;28;01mcontinue\u001b[39;00m\n\u001b[0;32m-> 1209\u001b[0m arg \u001b[38;5;241m=\u001b[39m arg\u001b[38;5;241m.\u001b[39m_subs(old, new, \u001b[38;5;241m*\u001b[39m\u001b[38;5;241m*\u001b[39mhints)\n\u001b[1;32m   1210\u001b[0m \u001b[38;5;28;01mif\u001b[39;00m \u001b[38;5;129;01mnot\u001b[39;00m _aresame(arg, args[i]):\n\u001b[1;32m   1211\u001b[0m     hit \u001b[38;5;241m=\u001b[39m \u001b[38;5;28;01mTrue\u001b[39;00m\n",
      "File \u001b[0;32m/opt/miniconda/envs/pubpy/lib/python3.11/site-packages/sympy/core/cache.py:72\u001b[0m, in \u001b[0;36m__cacheit.<locals>.func_wrapper.<locals>.wrapper\u001b[0;34m(*args, **kwargs)\u001b[0m\n\u001b[1;32m     69\u001b[0m \u001b[38;5;129m@wraps\u001b[39m(func)\n\u001b[1;32m     70\u001b[0m \u001b[38;5;28;01mdef\u001b[39;00m \u001b[38;5;21mwrapper\u001b[39m(\u001b[38;5;241m*\u001b[39margs, \u001b[38;5;241m*\u001b[39m\u001b[38;5;241m*\u001b[39mkwargs):\n\u001b[1;32m     71\u001b[0m     \u001b[38;5;28;01mtry\u001b[39;00m:\n\u001b[0;32m---> 72\u001b[0m         retval \u001b[38;5;241m=\u001b[39m cfunc(\u001b[38;5;241m*\u001b[39margs, \u001b[38;5;241m*\u001b[39m\u001b[38;5;241m*\u001b[39mkwargs)\n\u001b[1;32m     73\u001b[0m     \u001b[38;5;28;01mexcept\u001b[39;00m \u001b[38;5;167;01mTypeError\u001b[39;00m \u001b[38;5;28;01mas\u001b[39;00m e:\n\u001b[1;32m     74\u001b[0m         \u001b[38;5;28;01mif\u001b[39;00m \u001b[38;5;129;01mnot\u001b[39;00m e\u001b[38;5;241m.\u001b[39margs \u001b[38;5;129;01mor\u001b[39;00m \u001b[38;5;129;01mnot\u001b[39;00m e\u001b[38;5;241m.\u001b[39margs[\u001b[38;5;241m0\u001b[39m]\u001b[38;5;241m.\u001b[39mstartswith(\u001b[38;5;124m'\u001b[39m\u001b[38;5;124munhashable type:\u001b[39m\u001b[38;5;124m'\u001b[39m):\n",
      "File \u001b[0;32m/opt/miniconda/envs/pubpy/lib/python3.11/site-packages/sympy/core/basic.py:1237\u001b[0m, in \u001b[0;36mBasic._subs\u001b[0;34m(self, old, new, **hints)\u001b[0m\n\u001b[1;32m   1235\u001b[0m rv \u001b[38;5;241m=\u001b[39m \u001b[38;5;28mself\u001b[39m\u001b[38;5;241m.\u001b[39m_eval_subs(old, new)\n\u001b[1;32m   1236\u001b[0m \u001b[38;5;28;01mif\u001b[39;00m rv \u001b[38;5;129;01mis\u001b[39;00m \u001b[38;5;28;01mNone\u001b[39;00m:\n\u001b[0;32m-> 1237\u001b[0m     rv \u001b[38;5;241m=\u001b[39m fallback(\u001b[38;5;28mself\u001b[39m, old, new)\n\u001b[1;32m   1238\u001b[0m \u001b[38;5;28;01mreturn\u001b[39;00m rv\n",
      "File \u001b[0;32m/opt/miniconda/envs/pubpy/lib/python3.11/site-packages/sympy/core/basic.py:1214\u001b[0m, in \u001b[0;36mBasic._subs.<locals>.fallback\u001b[0;34m(self, old, new)\u001b[0m\n\u001b[1;32m   1212\u001b[0m         args[i] \u001b[38;5;241m=\u001b[39m arg\n\u001b[1;32m   1213\u001b[0m \u001b[38;5;28;01mif\u001b[39;00m hit:\n\u001b[0;32m-> 1214\u001b[0m     rv \u001b[38;5;241m=\u001b[39m \u001b[38;5;28mself\u001b[39m\u001b[38;5;241m.\u001b[39mfunc(\u001b[38;5;241m*\u001b[39margs)\n\u001b[1;32m   1215\u001b[0m     hack2 \u001b[38;5;241m=\u001b[39m hints\u001b[38;5;241m.\u001b[39mget(\u001b[38;5;124m'\u001b[39m\u001b[38;5;124mhack2\u001b[39m\u001b[38;5;124m'\u001b[39m, \u001b[38;5;28;01mFalse\u001b[39;00m)\n\u001b[1;32m   1216\u001b[0m     \u001b[38;5;28;01mif\u001b[39;00m hack2 \u001b[38;5;129;01mand\u001b[39;00m \u001b[38;5;28mself\u001b[39m\u001b[38;5;241m.\u001b[39mis_Mul \u001b[38;5;129;01mand\u001b[39;00m \u001b[38;5;129;01mnot\u001b[39;00m rv\u001b[38;5;241m.\u001b[39mis_Mul:  \u001b[38;5;66;03m# 2-arg hack\u001b[39;00m\n",
      "File \u001b[0;32m/opt/miniconda/envs/pubpy/lib/python3.11/site-packages/sympy/core/cache.py:72\u001b[0m, in \u001b[0;36m__cacheit.<locals>.func_wrapper.<locals>.wrapper\u001b[0;34m(*args, **kwargs)\u001b[0m\n\u001b[1;32m     69\u001b[0m \u001b[38;5;129m@wraps\u001b[39m(func)\n\u001b[1;32m     70\u001b[0m \u001b[38;5;28;01mdef\u001b[39;00m \u001b[38;5;21mwrapper\u001b[39m(\u001b[38;5;241m*\u001b[39margs, \u001b[38;5;241m*\u001b[39m\u001b[38;5;241m*\u001b[39mkwargs):\n\u001b[1;32m     71\u001b[0m     \u001b[38;5;28;01mtry\u001b[39;00m:\n\u001b[0;32m---> 72\u001b[0m         retval \u001b[38;5;241m=\u001b[39m cfunc(\u001b[38;5;241m*\u001b[39margs, \u001b[38;5;241m*\u001b[39m\u001b[38;5;241m*\u001b[39mkwargs)\n\u001b[1;32m     73\u001b[0m     \u001b[38;5;28;01mexcept\u001b[39;00m \u001b[38;5;167;01mTypeError\u001b[39;00m \u001b[38;5;28;01mas\u001b[39;00m e:\n\u001b[1;32m     74\u001b[0m         \u001b[38;5;28;01mif\u001b[39;00m \u001b[38;5;129;01mnot\u001b[39;00m e\u001b[38;5;241m.\u001b[39margs \u001b[38;5;129;01mor\u001b[39;00m \u001b[38;5;129;01mnot\u001b[39;00m e\u001b[38;5;241m.\u001b[39margs[\u001b[38;5;241m0\u001b[39m]\u001b[38;5;241m.\u001b[39mstartswith(\u001b[38;5;124m'\u001b[39m\u001b[38;5;124munhashable type:\u001b[39m\u001b[38;5;124m'\u001b[39m):\n",
      "\u001b[0;31mKeyboardInterrupt\u001b[0m: "
     ]
    }
   ],
   "source": [
<<<<<<< HEAD
    "def f(y, t):\n",
    "        x1, x2, x3, y1, y2, y3, vx1, vx2, vx3, vy1, vy2, vy3 = y\n",
    "        r12 = np.sqrt((x1-x2)**2 + (y1-y2)**2)\n",
    "        r23 = np.sqrt((x3-x2)**2 + (y3-y2)**2)\n",
    "        r13 = np.sqrt((x1-x3)**2 + (y1-y3)**2)\n",
    "        numeric = {'r12': r12, 'r23': r23, 'r13': r13,\n",
    "                   'x1': x1, 'x2': x2, 'x3': x3, 'y1': y1, 'y2': y2, 'y3': y3,\n",
    "                   'vx1': vx1, 'vx2': vx2, 'vx3': vx3, 'vy1': vy1, 'vy2': vy2, 'vy3': vy3}\n",
    "        acs_n = [ac.subs(numeric) for ac in acs]\n",
    "        return [vx1, vx2, vx3, vy1, vy2, vy3] + acs_n\n",
    "sol = odeint(f, y0, t)\n",
    "x1 = sol[:, 0]\n",
    "x2 = sol[:, 1]\n",
    "x3 = sol[:, 2]\n",
    "y1 = sol[:, 3]\n",
    "y2 = sol[:, 4]\n",
    "y3 = sol[:, 5]"
>>>>>>> 512df72 (need debug for G)
=======
    "data_config = [do_experiment(t_end=t_end, t_num=t_num, error=error, exp_config=exp_config) for _ in range(20)]"
>>>>>>> 4ebcaa5 (complete celestial)
   ]
  },
  {
   "cell_type": "code",
<<<<<<< HEAD
   "execution_count": 15,
   "metadata": {},
<<<<<<< HEAD
   "outputs": [],
   "source": [
    "def f(y, t):\n",
    "        x1, x2, x3, y1, y2, y3, vx1, vx2, vx3, vy1, vy2, vy3 = y\n",
    "        r12 = np.sqrt((x1-x2)**2 + (y1-y2)**2)\n",
    "        r23 = np.sqrt((x3-x2)**2 + (y3-y2)**2)\n",
    "        r13 = np.sqrt((x1-x3)**2 + (y1-y3)**2)\n",
    "        numeric = {'r12': r12, 'r23': r23, 'r13': r13,\n",
    "                        'x1': x1, 'x2': x2, 'x3': x3, 'y1': y1, 'y2': y2, 'y3': y3,\n",
    "                        'vx1': vx1, 'vx2': vx2, 'vx3': vx3, 'vy1': vy1, 'vy2': vy2, 'vy3': vy3}\n",
    "        acs_n = [ac.subs(numeric) for ac in acs]\n",
    "        return [vx1, vx2, vx3, vy1, vy2, vy3] + acs_n\n",
    "sol = odeint(f, y0, t)\n",
    "x1 = sol[:, 0]\n",
    "x2 = sol[:, 1]\n",
    "x3 = sol[:, 2]\n",
    "y1 = sol[:, 3]\n",
    "y2 = sol[:, 4]\n",
    "y3 = sol[:, 5]\n",
    "dist12 = np.sqrt((x1-x2)**2 + (y1-y2)**2)\n",
    "dist23 = np.sqrt((x3-x2)**2 + (y3-y2)**2)\n",
    "dist31 = np.sqrt((x1-x3)**2 + (y1-y3)**2)"
   ]
  },
  {
   "cell_type": "code",
   "execution_count": 24,
   "metadata": {},
   "outputs": [],
   "source": [
    "x1, x2, x3, y1, y2, y3, vx1, vx2, vx3, vy1, vy2, vy3 = y0\n",
    "r12 = np.sqrt((x1-x2)**2 + (y1-y2)**2)\n",
    "r23 = np.sqrt((x3-x2)**2 + (y3-y2)**2)\n",
    "r13 = np.sqrt((x1-x3)**2 + (y1-y3)**2)\n",
    "numeric = {'r12': r12, 'r23': r23, 'r13': r13,\n",
    "                'x1': x1, 'x2': x2, 'x3': x3, 'y1': y1, 'y2': y2, 'y3': y3,\n",
    "                'vx1': vx1, 'vx2': vx2, 'vx3': vx3, 'vy1': vy1, 'vy2': vy2, 'vy3': vy3}\n",
    "acs_n = [ac.subs(numeric) for ac in acs]"
   ]
  },
  {
   "cell_type": "code",
   "execution_count": 27,
=======
   "execution_count": null,
>>>>>>> 4ebcaa5 (complete celestial)
   "metadata": {},
   "outputs": [
    {
     "data": {
      "text/plain": [
<<<<<<< HEAD
       "((-1.3975588902907035, 5.9184873692574325),\n",
       " (-4.515865744416982, -3.8067911221274797),\n",
       " (4.215972634949826, -2.3661728282445793))"
      ]
     },
     "execution_count": 27,
     "metadata": {},
     "output_type": "execute_result"
    }
   ],
   "source": [
    "(x1, y1), (x2, y2), (x3, y3)"
   ]
  },
  {
   "cell_type": "code",
   "execution_count": 29,
   "metadata": {},
   "outputs": [
    {
     "data": {
      "text/plain": [
       "((-6.799793962564867, -1.1085621906136973),\n",
       " (5.994427521763759, -7.249191423104522),\n",
       " (3.09805630011199, 8.12635859049587))"
      ]
     },
     "execution_count": 29,
     "metadata": {},
     "output_type": "execute_result"
    }
   ],
   "source": [
    "(vx1, vy1), (vx2, vy2), (vx3, vy3)"
   ]
  },
  {
   "cell_type": "code",
   "execution_count": 28,
   "metadata": {},
   "outputs": [
    {
     "data": {
      "text/plain": [
       "[(0.211516808932276, -1.34332514277968),\n",
       " (1.10812511111838, 0.559795096450155),\n",
       " (-1.21004949891045, 0.201048689742512)]"
      ]
     },
     "execution_count": 28,
     "metadata": {},
     "output_type": "execute_result"
    }
   ],
   "source": [
    "[(acs_n[i], acs_n[i+3]) for i in range(3)]"
   ]
  },
  {
   "cell_type": "code",
   "execution_count": 16,
   "metadata": {},
   "outputs": [],
   "source": [
    "import matplotlib.pyplot as plt"
   ]
  },
  {
   "cell_type": "code",
   "execution_count": 22,
   "metadata": {},
=======
>>>>>>> 512df72 (need debug for G)
   "outputs": [
    {
     "data": {
      "text/plain": [
<<<<<<< HEAD
       "[<matplotlib.lines.Line2D at 0x76da9515b750>]"
      ]
     },
     "execution_count": 22,
=======
       "[<matplotlib.lines.Line2D at 0x777b91aa5110>]"
      ]
     },
     "execution_count": 6,
>>>>>>> 512df72 (need debug for G)
=======
       "[<matplotlib.lines.Line2D at 0x7b89a29ccf90>]"
      ]
     },
     "execution_count": 25,
>>>>>>> 4ebcaa5 (complete celestial)
     "metadata": {},
     "output_type": "execute_result"
    },
    {
     "data": {
<<<<<<< HEAD
<<<<<<< HEAD
      "image/png": "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",
=======
      "image/png": "iVBORw0KGgoAAAANSUhEUgAAAkEAAAGdCAYAAAAVEKdkAAAAOXRFWHRTb2Z0d2FyZQBNYXRwbG90bGliIHZlcnNpb24zLjkuMiwgaHR0cHM6Ly9tYXRwbG90bGliLm9yZy8hTgPZAAAACXBIWXMAAA9hAAAPYQGoP6dpAABT9ElEQVR4nO3de1xUdf4/8NfMMMxwHbkIA4KCiAqppWgIec1CbM1s29StyL5btlRqaLu1Zhd3v9/C+u6vdjdTqzWr3RK3yPRbatJFUhlUDLyB5gUFgeGiMAMIw+3z+2NyauIiKMOZYV7Px+M8znDmfc68z/EyL85VJoQQICIiInIycqkbICIiIpICQxARERE5JYYgIiIickoMQUREROSUGIKIiIjIKTEEERERkVNiCCIiIiKnxBBERERETslF6gbsVVtbG0pLS+Hl5QWZTCZ1O0RERNQNQgjU1tYiODgYcnnX+3oYgjpRWlqK0NBQqdsgIiKia1BcXIyQkJAuaxiCOuHl5QXAvBG9vb0l7oaIiIi6w2g0IjQ01PI93hWGoE5cOQTm7e3NEERERORgunMqC0+MJiIiIqfEEEREREROiSGIiIiInBJDEBERETklhiAiIiJySgxBRERE5JQYgoiIiMgpMQQRERGRU2IIIiIiIqfEEEREREROiSGIiIiInBJDEBERETklPkCViMjGPtpfhDOVdRg32AfjhgxAkMZN6paICAxBREQ2tzWvBPsLL2EDCgEAQRo1xg32wdjBAzBuiA9GBWvg6sId80R9jSGIiMjGkuKGIDLQE7lFNTihr0WZoRFfHC3DF0fLAABqpRxjQ30wIdwXN4f5YtyQAXB35X/PRLYmE0IIqZuwR0ajERqNBgaDAd7e3lK3Q0T9RL2pBUcuGPB9UTVyi6px6Hw1qi83W9Uo5DKMHqRBXIQf4ob6YXyYD0MRUTf15PubIagTDEFE1Bfa2gTOVNbhwLlLOFh4CQfPVaOkpsGqRqmQ4caQAYiL8EN8hD9ihvjw8BlRJxiCegFDEBFJpaSmAdlnLkJ39iJ0Zy62C0XurgrEhvtiUuRATI70R2SAJ2QymUTdEtkXhqBewBBERPZACIHiSw3Qna1C1pmL2He6ClV1TVY1gd4qTB0+ENNHBOCWSH94q5USdUskPYagXsAQRET2qK1N4IS+FntPV2LPqSocKLwEU0ub5X0XuQzjhvhg+ogATB85ECMCvbiXiJwKQ1AvYAgiIkfQ2NyKA4WXsPtkJXb/UIGzlfVW74f4uOG2qEDcHh2Im8N9oVTwXCLq3xiCegFDEBE5oqKLl7H7hwp8e6ICWWcuWu0l8lK7YOrwgUi4QYvpIwbCi4fNqB9iCOoFDEFE5OguN7Vg76kqfFVQjm9OVFidS+SqkGNypD9mjtLi9qhA+Hi4StgpUe9hCOoFDEFE1J+0tQnkXahBRn45vjymx9mqnw6bKeQyTBzqi1+NDkbiKC18GYjIgTEE9QKGICLqr4QQOFVRh53H9NhxTI+CMqPlPYVchluG+WP2mCDMjNZC485DZuRYGIJ6AUMQETmL8xfrsf2oHp8fKcXx0p8CkVIhw5TIgZg7dhBuiwqEm6tCwi6Juqcn3999cpnA2rVrER4eDrVajZiYGOzZs6fL+szMTMTExECtVmPo0KFYv359u5r09HRER0dDpVIhOjoaW7Zs6XR5qampkMlkSElJud5VISLqd4b4eeCxaRH4YulkfPPUVDx1+3CMCPRCc6vA1ycqsGRTLia89BWe+s9h7D1VhdY2/u5M/YPNQ9DmzZuRkpKClStXIjc3F5MnT8asWbNQVFTUYX1hYSHuuOMOTJ48Gbm5uXj22WexdOlSpKenW2p0Oh3mz5+PpKQkHD58GElJSZg3bx7279/fbnkHDx7E22+/jTFjxthsHYmI+ouhAz2xZEYkvlw2BbuWTcET0yMwaIAb6kwtSP/+Ah7YsB9xqV8jdXsBTlfUSt0u0XWx+eGw2NhYjBs3DuvWrbNMi4qKwty5c5Gamtqu/plnnsG2bdtQUFBgmZacnIzDhw9Dp9MBAObPnw+j0YgdO3ZYahITE+Hj44NNmzZZptXV1WHcuHFYu3Yt/ud//gc33XQT/va3v3Wrbx4OIyIya2sTOFRUjS25JfjiSBkMDT898PXG0AG4NyYEd94YDI0bzx8i6dnN4bCmpiYcOnQICQkJVtMTEhKQlZXV4Tw6na5d/cyZM5GTk4Pm5uYua365zCeeeAK/+tWvcNttt121V5PJBKPRaDUQEREgl8swIcwXL989GgdWzsD6B2JwW1QgFHIZDhfX4LnPjmHCS19h6aZcZJ2pAk81JUfhYsuFV1VVobW1FYGBgVbTAwMDodfrO5xHr9d3WN/S0oKqqioEBQV1WvPzZaalpeH777/HwYMHu9Vramoq/vznP3erlojIWalcFEgcpUXiKC0qa034LLcEHx8qxg/lddh2uBTbDpci3N8DCyaE4p6YEPh7qqRumahTfXJi9C+fWyOE6PJZNh3V/3J6V8ssLi7Gk08+iX//+99Qq9Xd6nHFihUwGAyWobi4uFvzERE5q4FeKiyaMhRfpkzBtsW34L7YwfBwVaCwqh6pO04gLvVrPPHh98g6zb1DZJ9suifI398fCoWi3V6fioqKdntyrtBqtR3Wu7i4wM/Pr8uaK8s8dOgQKioqEBMTY3m/tbUV3333HdasWQOTyQSFwvpST5VKBZWKv7EQEfWUTCbDmJABGBMyACvviML/HS7FpoPFOFxcgy+OluGLo2UYFuCJpIlD8Otxg/i4DrIbNt0T5OrqipiYGGRkZFhNz8jIQHx8fIfzxMXFtavftWsXxo8fD6VS2WXNlWXOmDEDR48eRV5enmUYP3487r//fuTl5bULQERE1Ds8VC5YcPNgbH3iFmxfOhn3xw6Gu6sCpyvq8OK244h9+Wus3HIUP5TzyjKSns2vDtu8eTOSkpKwfv16xMXF4e2338Y777yD48ePY8iQIVixYgVKSkrwwQcfADBfIj9q1Cj8/ve/x6JFi6DT6ZCcnIxNmzbhnnvuAQBkZWVhypQpeOmll3DXXXdh69ateO6557B3717ExsZ22Me0adN4dRgRkQRqG5vx6fcl+Ff2eZyuqLNMnxzpj9/dEo6pwwdCLu/8FAminujJ97dND4cB5svZL168iL/85S8oKyvDqFGjsH37dgwZMgQAUFZWZnXPoPDwcGzfvh3Lli3Dm2++ieDgYPzjH/+wBCAAiI+PR1paGp577jk8//zziIiIwObNmzsNQEREJB0vtRIL48PwYNwQ6M5exAdZ57ErX489p6qw51QVhvp74L9uCcOvx4XAQ2XzryUiCz42oxPcE0REZDvFly7jA905pB0sRm1jCwDAW+2CByYOwUO3hCHAq3sXtRD9Ep8d1gsYgoiIbK/O1IL0QxewcV8hzl28DABwVchxT8wgPDJ5KCIGekrcITkahqBewBBERNR32toEMgrK8VbmGXxfVAMAkMmA26MC8di0CIwd7CNtg+QwGIJ6AUMQEZE0cs5dwvrMs/iqoNwybdIwfzwxfRgmDvXt8j5zRAxBvYAhiIhIWqcrarE+8yw+yy1By49Pro8Z4oPFtw7DtOEDGYaoQwxBvYAhiIjIPhRfuoy3vjuD/+RcQFNLGwBgTIgGKbdFYvqIAIYhssIQ1AsYgoiI7EuFsRHv7DmLD/cX4XJTKwDzU+xTbovkniGyYAjqBQxBRET26WKdCW9/dxYf6M6jodkchsYOHoDltw/HpGH+DENOjiGoFzAEERHZt6o6E97KPIMPdOdh+vEwWdxQPzydOIJXkzkxhqBewBBEROQYKmobsW73GXyYXYSmVnMYSogOxB9njkBkoJfE3VFfYwjqBQxBRESO5UL1Zfz9q1NI//4C2gQglwG/HheCpxKGI0jjJnV71EcYgnoBQxARkWM6VV6Lv+46iS+Pm+8zpFbK8cikoUieFgFPPpus32MI6gUMQUREji23qBovby/AwXPVAAB/T1ek3DYcCyaEwkUhl7g7shWGoF7AEERE5PiEENiVX47VO06gsKoeADAswBMvzI7GlOEDJe6ObIEhqBcwBBER9R/NrW34aH8R/vbVD6i+3AwAuC0qEM/9Kgph/h4Sd0e9iSGoFzAEERH1P4aGZvz9q1P4QHcOLW0Crgo5fjcpHItvHcbzhfoJhqBewBBERNR/na6oxZ//Lx97TlUBAAK8VHh+djRmjwnizRYdHENQL2AIIiLq34QQ+LqgAv/9RT7OX7wMwPy0+j/fdQMiBnpK3B1dq558f/P0eCIickoymQy3RQfiy5QpWHbbcLi6yLH3dBUS//Yd/vrlSTT8+Hwy6r8YgoiIyKmplQo8eVskMpZNwbQRA9HcKrDm29NI+Fsm9pyqlLo9siGGICIiIgBD/Dyw8aEJWP9ADII0ahRfakDShgNYvjkPl+qbpG6PbIAhiIiI6EcymQyJo7TIWD4VD8WHQSYDPs0twW2vZWJL7gXwNNr+hSGIiIjoFzxVLlg15wZ8+lg8Rmq9cKm+Ccs2H8Z/vXcQZYYGqdujXsIQRERE1Imxg33wf0sm4Y8zR8DVRY7dJyuR8Pp3+E9OMfcK9QMMQURERF1QKuR4YvowfLFkEm4MHYDaxhY8/ckR/O69g9AbGqVuj64DQxAREVE3RAZ6IT05Ds8kjoSrQo5vT1bi9td5rpAjYwgiIiLqJheFHI9Ni8AXS3/aK7Rs82Es3pSLmsu8gszRMAQRERH10JW9QstvHw6FXIYvjpQh8W97sPfHx3CQY2AIIiIiugYuCjmWzojEp4/FY6i/B/TGRjywYT/+8n/5MLXwbtOOgCGIiIjoOtwYOgCfL52EByYOBgC8u68Qv16bhbOVdRJ3RlfDEERERHSd3F1d8D9zR2PDwvHwcVfieKkRs9/Yi/RDF6RujbrAEERERNRLZkQFYseTUxAb7ovLTa146uPDWLY5D/WmFqlbow4wBJH9EgIw1UrdBRFRj2g1any0aCKW3z4cchmwJbcEd725D6fK+f+ZvWEIIvtUcgh4/05g8wNSd0JE1GMKuQxLZ0Qi7dE4BHqrcLqiDne9uQ9b80qkbo1+hiGI7EvVaeA/DwLv3Aqc2wOczwIunpG6KyKia3JzuC++WDoZ8RF+uNzUiifT8vD8Z8d49ZidYAgi+1BXCXy+DHjzZiB/KwAZcON9wJJDgF+E1N0REV0zf08V/vVwLJbcOgwA8K/s85j/VjbKjXzkhtRkgvf67pDRaIRGo4HBYIC3t7fU7fRfLSZg/3og83+Bph+Plw9PBGa8AATeIG1vRES97NsTFUjZnAdDQzMGeqmw/oFxiBniK3Vb/UpPvr/7ZE/Q2rVrER4eDrVajZiYGOzZs6fL+szMTMTExECtVmPo0KFYv359u5r09HRER0dDpVIhOjoaW7ZssXp/3bp1GDNmDLy9veHt7Y24uDjs2LGjV9eLroMQQMHnwJuxQMYL5gAUdBPw0Hbgvs0MQETUL00fGYBti2/BiEAvVNaasODtbGw6UCR1W07L5iFo8+bNSElJwcqVK5Gbm4vJkydj1qxZKCrq+A+9sLAQd9xxByZPnozc3Fw8++yzWLp0KdLT0y01Op0O8+fPR1JSEg4fPoykpCTMmzcP+/fvt9SEhIRg9erVyMnJQU5ODm699VbcddddOH78uK1Xma7m4hng378GNt8PVBcCnlpg7jpg0bdA2C1Sd0dEZFND/Dzw6ePxmDVKi+ZWgRWfHsXKLUfR3NomdWtOx+aHw2JjYzFu3DisW7fOMi0qKgpz585Fampqu/pnnnkG27ZtQ0FBgWVacnIyDh8+DJ1OBwCYP38+jEaj1Z6dxMRE+Pj4YNOmTZ324uvri//93//Fww8/fNW+eTjMBpobgD2vAfv+BrQ2AQoVEL8YmLQcUHlK3R0RUZ8SQmDt7jP4666TEAK4ZZgf1t4XA427UurWHJrdHA5ramrCoUOHkJCQYDU9ISEBWVlZHc6j0+na1c+cORM5OTlobm7usqazZba2tiItLQ319fWIi4vrsMZkMsFoNFoN1ItOf2U+9PXdq+YAFDEDeFxnPveHAYiInJBMJsMT04fhnaTxcHdVYN/pi7h73T6cq6qXujWnYdMQVFVVhdbWVgQGBlpNDwwMhF6v73AevV7fYX1LSwuqqqq6rPnlMo8ePQpPT0+oVCokJydjy5YtiI6O7vBzU1NTodFoLENoaGiP1pU6cfkSsCUZ+Pc9QM15wCsYmPcB8EA6r/oiIgJwW3QgPkmOR7BGjbOV9Zi7dh+yz16Uui2n0CcnRstkMqufhRDtpl2t/pfTu7PMESNGIC8vD9nZ2XjsscewcOFC5Ofnd/iZK1asgMFgsAzFxcVXXzHqnBDAsU/Nl7wf3gRABsQ+Biw+CETfBXTx509E5Gyig73x2eJbcGPoANRcbkbShv28sWIfcLHlwv39/aFQKNrtoamoqGi3J+cKrVbbYb2Liwv8/Py6rPnlMl1dXTFsmPm+DOPHj8fBgwfx97//HW+99Va7z1WpVFCpVD1bQepYfZX5nj8F28w/DxwJzFkDhE6Qti8iIjsW4KXG5kcn4qn/HMYXR8vwZFoeygyN+P2UoV3uOKBrZ9M9Qa6uroiJiUFGRobV9IyMDMTHx3c4T1xcXLv6Xbt2Yfz48VAqlV3WdLbMK4QQMJlMPV0N6okT24G1E80BSO4CTP0T8PvvGICIiLpBrVTgjd+OxcOTwgEAq3ecwKptx9Haxlv62YJN9wQBwPLly5GUlITx48cjLi4Ob7/9NoqKipCcnAzAfBiqpKQEH3zwAQDzlWBr1qzB8uXLsWjRIuh0OmzYsMHqqq8nn3wSU6ZMwSuvvIK77roLW7duxVdffYW9e/daap599lnMmjULoaGhqK2tRVpaGnbv3o2dO3faepWdk6kW2PEnIO/f5p8HRgG/fgsIulHavoiIHIxcLsPzs6MRpFHjpe0FeF93HnpjI/6+YCzUSoXU7fUrNg9B8+fPx8WLF/GXv/wFZWVlGDVqFLZv344hQ4YAAMrKyqzuGRQeHo7t27dj2bJlePPNNxEcHIx//OMfuOeeeyw18fHxSEtLw3PPPYfnn38eERER2Lx5M2JjYy015eXlSEpKQllZGTQaDcaMGYOdO3fi9ttvt/UqO5+S74FPfme+5w9kQPwSYPpKQKmWujMiIof1yOShCNK4YdnmPHx5vBz/tfEg3lk4Hp4qm391Ow0+NqMTvE9QN7S1Abo1wNd/BtpaAE0o8Ou3gSFdH5YkIqLu0525iEUf5KDO1IIxIRq89183w9fDVeq27Jbd3CeI+rH6i8BH9wIZz5sDUNQcIHkPAxARUS+Li/DDpkUT4evhiiMXDLh3fRbKDA1St9UvMARRz104BLw1xXwDRBc34M6/m+/94+YjdWdERP3S6BAN/vP7OARp1DhTWY/frNPh/EXeVPF6MQRR9wkBHHgHeHcmYLwA+A0DFn0DxDzE+/4QEdnYsABPfJwch3B/D5TUNGD+W9ko5N2lrwtDEHVPcyPw2WPA9j8Abc3mw1+LvgUCO74DNxER9b4QH3dsfnQihgV4Qm9sxPy3dDhdUSd1Ww6LIYiuzlgGvHeH+c7PMgWQ8JL58JeaJ4wTEfW1AG810h6diJFaL1TUmrDgbR1O6mulbsshMQRR10oOAe9MN4/VA4CkT81PfufhLyIiyfh7qvDRoomIDvJGVV0T7nsnG6fKGYR6iiGIOnf8M2DjHUBtmfnRF49+CwydJnVXREQEwNfDFR8tisWoQd64WN+E+/65n+cI9RBDELUnBJC1Bvj4IaClEYicCTycAfgOlbozIiL6mQHurvjX72IxUuuFyloT7nsnG8WXLkvdlsNgCCJrba3AjqeBXSsBCGDCIuC3m3j+DxGRnfLxcMW/H4nFsABPlBkaseDtbJTU8D5C3cEQRD9pbgQ+XggceNv8c8L/AHf8LyDns2qIiOyZv6cKHz0Sa7l8PmnDflys4wPDr4YhiMxMteY7QBf8H6BwBe59z/wMMJ4ATUTkEAK81fjwkVgMGuCGs5X1eGjjQdSZWqRuy64xBBFw+RLw/hyg8DvA1RO4/xPghrul7oqIiHooeIAbPnjY/GyxoyUGPPpBDhqbW6Vuy24xBDm7ugrzFWCl3wNuvsDCbcDQqVJ3RURE1yhioCfe+68J8HBVIOvMRaSk5aG1jc9K7whDkDOrLQfemw1UFgBeQcDvdgKDYqTuioiIrtOYkAF458HxcFXIsfO4Hv/9eT6EYBD6JYYgZ2UsA977FVB1EvAeBDz0BTBwhNRdERFRL4kf5o/X598EAHgv6xw27C2UtiE7xBDkjGrLgfdnAxdPAZpQcwDyi5C6KyIi6mW/GhOElXdEAQBe2l6AHUfLJO7IvjAEOZvLl4B/zQUungY0g80ByDdc6q6IiMhGHpkcjoVxQyAEkLI5D4fOV0vdkt1gCHImjUbg378GKvIBTy2wcCvgM0TqroiIyIZkMhleuPMG3BYVCFNLG37/rxzeTPFHDEHOorkB2LQAKM01XwX24FY+BoOIyEko5DL847c3WR64+sj7ObjcxHsIMQQ5g7ZW4NNFwPl9gMobSNoCBIyUuisiIupD7q4ueGfhePh7uqKgzIin/nMYbU5+6TxDUH8nBLDzTz/dCXrBR0DwTVJ3RUREEhg0wA3rH4iBUiHDjmN6/P3rU1K3JCmGoP5u399/ehbY3W8B4ZOl7YeIiCQ1PswXL989GgDw969P4euCcok7kg5DUH+Wvw346kXz65kvA6N+LW0/RERkF+4dH4qFceYLY1I25+FcVb3EHUmDIai/KjsMbPm9+fXNjwJxT0jbDxER2ZWVv4rGuMEDUNvYguR/H0JDk/M9Y4whqD+qLQc23Qc0XwaGTgdmpkrdERER2RlXFznW3h8Df09XnNDXYuVnR53u0RoMQf1NazPwnwcB4wXAbxhw70ZA4SJ1V0REZIe0GjXe+O04KOQyfPp9CT45dEHqlvoUQ1B/s+t5oDjbfCn8bzcDbj5Sd0RERHYsLsIPy28fDgB4YetxnK6ok7ijvsMQ1J8c/QTYv878+u71gP8wafshIiKH8NjUCEwa5o+G5lYs/uh7NDY7x/lBDEH9ReUPwLal5teTlgEjfyVtP0RE5DDkchlem3+j5fygl74okLqlPsEQ1B+0mIBPfgc01wNhk4Hpz0ndEREROZgALzX+37ybAAD/yj6Pb070//sHMQT1B1+tAsqPAu5+wD3/5InQRER0TaYOH4iHJ4UDAJ7+5Cgu1TdJ3JFtMQQ5ulMZQPZa8+u71gJeWmn7ISIih/bHmSMQGeCJqjoTVm7p35fNMwQ5ssuXgM8eN7+++ffAiERp+yEiIoenVirw+vyb4CI3P19sS26J1C3ZDEOQI9vxNFBfAfiPAG7/i9TdEBFRPzFqkAYpt0UCAF7cdhzlxkaJO7INhiBHVfB/wNGPAZkcmLsOUKql7oiIiPqR5KkRuDFEg9rGFjz32bF+eViMIcgRXb4EfL7M/PqWJ4GQGGn7ISKifsdFIccrvxkDF7kMGfnl2H5UL3VLva5PQtDatWsRHh4OtVqNmJgY7Nmzp8v6zMxMxMTEQK1WY+jQoVi/fn27mvT0dERHR0OlUiE6Ohpbtmyxej81NRUTJkyAl5cXAgICMHfuXJw8ebJX10syX60C6ivNh8GmrZC6GyIi6qdGar3x+HTzjXdf3HYM1f3sajGbh6DNmzcjJSUFK1euRG5uLiZPnoxZs2ahqKiow/rCwkLccccdmDx5MnJzc/Hss89i6dKlSE9Pt9TodDrMnz8fSUlJOHz4MJKSkjBv3jzs37/fUpOZmYknnngC2dnZyMjIQEtLCxISElBfX2/rVbatomzg+/fNr+/8O+CikrYfIiLq156YHoFhAZ6oqmvCS9v7100UZcLGB/liY2Mxbtw4rFu3zjItKioKc+fORWpq+6ebP/PMM9i2bRsKCn7a0MnJyTh8+DB0Oh0AYP78+TAajdixY4elJjExET4+Pti0aVOHfVRWViIgIACZmZmYMmXKVfs2Go3QaDQwGAzw9vbu9vraVGsz8NYUoCIfGJsE3LVG6o6IiMgJHDpfjXvWZQEAPkmOw/gwX4k76lxPvr9tuieoqakJhw4dQkJCgtX0hIQEZGVldTiPTqdrVz9z5kzk5OSgubm5y5rOlgkABoMBAODr2/EfnMlkgtFotBrszoF3zAHI3Y9XgxERUZ+JGeKD+eNDAQDPfXYMLa1tEnfUO2wagqqqqtDa2orAwECr6YGBgdDrOz7BSq/Xd1jf0tKCqqqqLms6W6YQAsuXL8ekSZMwatSoDmtSU1Oh0WgsQ2hoaLfWsc/UXwQyV5tfz3gRcLffFE5ERP3PM7NGYoC7Eif0tXhfd17qdnpFn5wYLZPJrH4WQrSbdrX6X07vyTIXL16MI0eOdHqoDABWrFgBg8FgGYqLizutlcTuVKDRAGhHA2MfkLobIiJyMr4ernh65kgAwOsZP6CiH9w7yKYhyN/fHwqFot0emoqKinZ7cq7QarUd1ru4uMDPz6/Lmo6WuWTJEmzbtg3ffvstQkJCOu1VpVLB29vbarAbFSeAnHfNr2e+DMgV0vZDREROacGEUNwYOgB1phb8dZfjX3Ft0xDk6uqKmJgYZGRkWE3PyMhAfHx8h/PExcW1q9+1axfGjx8PpVLZZc3PlymEwOLFi/Hpp5/im2++QXh4eG+skjS++W9AtAIjZwPhVz+pm4iIyBbkchlevDMaAPDxoQs4VmKQuKPrY/PDYcuXL8c///lPvPvuuygoKMCyZctQVFSE5ORkAObDUA8++KClPjk5GefPn8fy5ctRUFCAd999Fxs2bMAf/vAHS82TTz6JXbt24ZVXXsGJEyfwyiuv4KuvvkJKSoql5oknnsC///1vfPTRR/Dy8oJer4der0dDQ4OtV7l3lRwCTnxuvjP0jBek7oaIiJzcuME+uPPGYAgBvPRFgWPfSVr0gTfffFMMGTJEuLq6inHjxonMzEzLewsXLhRTp061qt+9e7cYO3ascHV1FWFhYWLdunXtlvnxxx+LESNGCKVSKUaOHCnS09Ot3gfQ4bBx48Zu9WwwGAQAYTAYery+ver9u4R40VuIT5Ol7YOIiOhHxZfqReTK7WLIM5+LL4+VSd2OlZ58f9v8PkGOyi7uE3RuH/DeHYBcCSzJAXzCpOmDiIjoF17deQJrd5/B0IEe2JUyBS4K+3gSl93cJ4iu057/Zx6PS2IAIiIiu/LYtAgMcFfibGU9tuSWSN3ONWEIslelucCZrwGZwvyQVCIiIjvipVbi8WkRAIC/fXUKppZWiTvqOYYge7X3dfN49G+4F4iIiOzSg3FhCPRWoaSmAWkH7Oz+et3AEGSPLp0F8reZX9+SImkrREREnVErFVhyayQA4I1vTqOhybH2BjEE2aMD/wQggGG3A4HRUndDRETUqfkTQhHi44aqOhM2HyySup0eYQiyN6Y6IPdf5texydL2QkREdBVKhRzJU83nBr313Vk0tTjOw1UZguzN4U2AyQj4RQIRt0rdDRER0VX9JiYEgd4qlBka8en3F6Rup9sYguyJEEDORvPrmx8F5PzjISIi+6dWKvDoFPPeoLW7z6Cl1TH2BvFb1p6Ufg9UHAdc1MCYeVJ3Q0RE1G2/vTkUvh6uKLp0GTuP668+gx1gCLIn3/94LlDUHMBtgKStEBER9YS7qwuSJg4BAPxzT6HE3XQPQ5C9aG4AjqWbX499QNpeiIiIrsEDE4fAVSFHXnENDp2vlrqdq2IIshc/fGk+IVoTCoRNlrobIiKiHhvopcLcscEAgA17z0rczdUxBNmLK3uBRv2aJ0QTEZHDenjSUADAzmN6XKi+LHE3XeO3rT0w1QKndplfj7pH2l6IiIiuwwitF24Z5oc2Abt/lAZDkD344UugpRHwjQC0Y6TuhoiI6LrcH2s+QXpzTjGa7fhyeYYge3Byu3kcfRcgk0nbCxER0XW6PToQ/p4qVNaa8FV+udTtdIohSGqtzcDpr8yvR8ySthciIqJeoFTIMX9CCADgw/32+zwxhiCpFWUDjQbA3Q8YFCN1N0RERL1iwYTBkMmAvaer7PYEaYYgqZ360jyOTADkCml7ISIi6iWhvu6IG+oHAPgst0TibjrGECS1wu/M44gZ0vZBRETUy349znxI7NPcEgghJO6mPYYgKV2+BJQdMb8O5w0SiYiof0kcpYVaKcfZynocvmCQup12GIKkdH4fAAH4jwC8tFJ3Q0RE1Ks8VS5IvMH8/fbp9xck7qY9hiApndtnHnMvEBER9VN3jR0EANhxTI/WNvs6JMYQJKULB83j0InS9kFERGQjt0T4w1vtgspak909VJUhSCotJkD/4/lAIbw0noiI+idXFzlujzYfEtt+tEzibqwxBElFfxRobTLfH8gnXOpuiIiIbOaO0eYQtPOYHm12dEiMIUgqpbnmcfA4PiqDiIj6tUmR/vBUuUBvbMThCzVSt2PBECSV8uPmsXa0tH0QERHZmMpFgSnD/QEA356slLibnzAESaWiwDwOiJa2DyIioj4wbUQAAODbExUSd/IThiApCPFTCApkCCIiov5v2oiBAICjJQZU1DZK3I0ZQ5AUassAkwGQKQC/SKm7ISIisrkALzVGD9IAAHbbySExhiApXCo0jweEAi6u0vZCRETUR67sDdp7qkriTswYgqRQfc489gmTsgsiIqI+FRdhfqq87uxFu3igKkOQFKp/3BPEEERERE5k3GAfuLrIUVlrwpnKeqnbYQiSRE2ReTxgiLR9EBER9SG1UoFxgwcAMO8NklqfhKC1a9ciPDwcarUaMTEx2LNnT5f1mZmZiImJgVqtxtChQ7F+/fp2Nenp6YiOjoZKpUJ0dDS2bNli9f53332HO++8E8HBwZDJZPjss896c5WuT125eewVJG0fREREfSxuqPl+QdnOEII2b96MlJQUrFy5Erm5uZg8eTJmzZqFoqKiDusLCwtxxx13YPLkycjNzcWzzz6LpUuXIj093VKj0+kwf/58JCUl4fDhw0hKSsK8efOwf/9+S019fT1uvPFGrFmzxtar2HN1P94jwTNA2j6IiIj62IRwHwBAXlGNtI0AkAkbn5kUGxuLcePGYd26dZZpUVFRmDt3LlJTU9vVP/PMM9i2bRsKCgos05KTk3H48GHodDoAwPz582E0GrFjxw5LTWJiInx8fLBp06Z2y5TJZNiyZQvmzp3b7b6NRiM0Gg0MBgO8vb27PV+3vBoBXK4CkvcB2lG9u2wiIiI7VmdqwehVX0II4MCzMxDgre7V5ffk+9ume4Kamppw6NAhJCQkWE1PSEhAVlZWh/PodLp29TNnzkROTg6am5u7rOlsmXalrQ24/OMuQI+B0vZCRETUxzxVLhgR6AUAyC2ukbQXm4agqqoqtLa2IjAw0Gp6YGAg9Hp9h/Po9foO61taWlBVVdVlTWfL7A6TyQSj0Wg12ERTHYAfd76pNbb5DCIiIjs29seTo3MlPiTWJydGy37xlHQhRLtpV6v/5fSeLvNqUlNTodFoLENoaOg1L6tLplrzWK4EXFS2+QwiIiI7dlPoAABAXnG1pH3YNAT5+/tDoVC020NTUVHRbk/OFVqttsN6FxcX+Pn5dVnT2TK7Y8WKFTAYDJahuLj4mpfVpSshSOUFXEdoIyIiclSx4X54KD4MD8aFSdqHTUOQq6srYmJikJGRYTU9IyMD8fHxHc4TFxfXrn7Xrl0YP348lEpllzWdLbM7VCoVvL29rQabaPrx5lCunrZZPhERkZ0L8/fAqjk34I7R0t4qxsXWH7B8+XIkJSVh/PjxiIuLw9tvv42ioiIkJycDMO+BKSkpwQcffADAfCXYmjVrsHz5cixatAg6nQ4bNmywuurrySefxJQpU/DKK6/grrvuwtatW/HVV19h7969lpq6ujqcPn3a8nNhYSHy8vLg6+uLwYMH23q1O9dmPrkbCqV0PRAREZHtQ9D8+fNx8eJF/OUvf0FZWRlGjRqF7du3Y8gQ892Sy8rKrO4ZFB4eju3bt2PZsmV48803ERwcjH/84x+45557LDXx8fFIS0vDc889h+effx4RERHYvHkzYmNjLTU5OTmYPn265efly5cDABYuXIj33nvPxmvdhbYW81hu801PREREXbD5fYIclc3uE3R2N/DBXUDADcDjDnBJPxERkQOxm/sEUQdEm3nMk6KJiIgkxRDU1+Q/ngt05bAYERERSYIhqK8pXM3j1iZp+yAiInJyDEF97cpVYS0MQURERFJiCOprV+4S3dIobR9EREROjiGor6nMD42z3DmaiIiIJMEQ1NeuPDS11QQ0c28QERGRVBiC+pqrF4AfL49vNEjaChERkTNjCOprcjmg/vHmTQ3SPj2XiIjImTEEScHzx6fd15VL2wcREZETYwiSAkMQERGR5BiCpOAVZB7XlknbBxERkRNjCJKCl9Y8NjIEERERSYUhSAoDBpvH1eckbYOIiMiZMQRJwXeoeVxdKG0fRERETowhSAq+4ebxpUKgrU3aXoiIiJwUQ5AUNIMBuYv5rtG1pVJ3Q0RE5JQYgqSgcAF8I8yvKwqk7YWIiMhJMQRJJfAG87j8uLR9EBEROSmGIKkERpvHFfnS9kFEROSkGIKkEvDjniD9MWn7ICIiclIMQVIJutE8riwAmuql7YWIiMgJMQRJRTPI/PgM0QaU5kndDRERkdNhCJLSoBjzuCRH2j6IiIicEEOQlELGm8cXDkrbBxERkRNiCJLS4Djz+LwOEELaXoiIiJwMQ5CUgscBLm7A5Sqg8oTU3RARETkVhiApubgCg2PNr8/tlbYXIiIiJ8MQJLWwSeZxYaa0fRARETkZhiCpDZ1uHp/9DmhtlrYXIiIiJ8IQJLXgsYC7H2AyAMX7pe6GiIjIaTAESU2uAIbdZn59ape0vRARETkRhiB7EJlgHv/AEERERNRXGILswbAZgNzF/ByxqtNSd0NEROQUGILsgZsPED7F/Lpgq7S9EBEROQmGIHsRfZd5nM8QRERE1Bf6JAStXbsW4eHhUKvViImJwZ49e7qsz8zMRExMDNRqNYYOHYr169e3q0lPT0d0dDRUKhWio6OxZcuW6/5cSY2cDcjkQNlh4FKh1N0QERH1ezYPQZs3b0ZKSgpWrlyJ3NxcTJ48GbNmzUJRUVGH9YWFhbjjjjswefJk5Obm4tlnn8XSpUuRnp5uqdHpdJg/fz6SkpJw+PBhJCUlYd68edi//6dLzHv6uZLz8AfCJptfH/1E2l6IiIicgEwI2z65MzY2FuPGjcO6dess06KiojB37lykpqa2q3/mmWewbds2FBQUWKYlJyfj8OHD0Ol0AID58+fDaDRix44dlprExET4+Phg06ZN1/S5v2Q0GqHRaGAwGODt7d3zFb8WeR8Bnz0G+A0DFucAMlnffC4REVE/0ZPvb5vuCWpqasKhQ4eQkJBgNT0hIQFZWVkdzqPT6drVz5w5Ezk5OWhubu6y5soyr+VzTSYTjEaj1dDnou4ElO7AxdNAyaG+/3wiIiInYtMQVFVVhdbWVgQGBlpNDwwMhF6v73AevV7fYX1LSwuqqqq6rLmyzGv53NTUVGg0GssQGhra/RXtLSov87lBAHB4U99/PhERkRPpkxOjZb84rCOEaDftavW/nN6dZfbkc1esWAGDwWAZiouLO+3Ppm76rXl85GOg6bI0PRARETkBm4Ygf39/KBSKdntfKioq2u2luUKr1XZY7+LiAj8/vy5rrizzWj5XpVLB29vbapBE+DRgwBDzs8SOt7/ijYiIiHqHTUOQq6srYmJikJGRYTU9IyMD8fHxHc4TFxfXrn7Xrl0YP348lEpllzVXlnktn2s35HIg5iHz60MbJW2FiIioXxM2lpaWJpRKpdiwYYPIz88XKSkpwsPDQ5w7d04IIcSf/vQnkZSUZKk/e/ascHd3F8uWLRP5+fliw4YNQqlUik8++cRSs2/fPqFQKMTq1atFQUGBWL16tXBxcRHZ2dnd/tyrMRgMAoAwGAy9tCV6oLZciD/7CvGitxBlR/r+84mIiBxUT76/bR6ChBDizTffFEOGDBGurq5i3LhxIjMz0/LewoULxdSpU63qd+/eLcaOHStcXV1FWFiYWLduXbtlfvzxx2LEiBFCqVSKkSNHivT09B597tVIGoKEEOI/C80h6LMnpPl8IiIiB9ST72+b3yfIUUlyn6CfK9oPvJsAKFTAsuOA58C+74GIiMjB2M19gug6hN4MDIoBWk1AzrtSd0NERNTvMATZK5kMmPi4+fXBd4DmRmn7ISIi6mcYguxZ9F2AdwhQXwkc/kjqboiIiPoVhiB7plAC8UvMr/f+DWhtkbQdIiKi/oQhyN6NexBw9wdqzgPH0qXuhoiIqN9gCLJ3ru5A3I/nBu35f0Bbm7T9EBER9RMMQY5gwiOASgNUnQSOfyp1N0RERP0CQ5AjUGuA+MXm17tTeW4QERFRL2AIchQTHwPcfIGLp4EjaVJ3Q0RE5PAYghyFyguYtMz8evcrQItJ2n6IiIgcHEOQI7l5EeCpBQxFwMF/St0NERGRQ2MIciRKN2D6s+bXma8Cly9J2w8REZEDYwhyNGMfAAJuABprgO/+KnU3REREDoshyNHIFUDCf5tfH3gbuHhG2n6IiIgcFEOQIxo2A4iYAbQ1A7uek7obIiIih8QQ5KgSUwG5C3ByO/DDLqm7ISIicjgMQY5q4AjzvYMAYMfTQHOjtP0QERE5GIYgRzb1GcArCKguBHRvSN0NERGRQ2EIcmQqLyDhf8yvv/srT5ImIiLqAYYgRzfqHmDoNKClEfh8GSCE1B0RERE5BIYgRyeTAbNfB1zcgMJMIO8jqTsiIiJyCAxB/YHvUGDan8yvd60E6iql7YeIiMgBMAT1F3FPAIGjgYZqIPtNqbshIiKyey5SN0C9RKEE5vwDKPzOHIiIiIioSwxB/cmgceaBiIiIroqHw4iIiMgpMQQRERGRU2IIIiIiIqfEEEREREROiSGIiIiInBJDEBERETklhiAiIiJySgxBRERE5JQYgoiIiMgpMQQRERGRU2IIIiIiIqdk0xBUXV2NpKQkaDQaaDQaJCUloaampst5hBBYtWoVgoOD4ebmhmnTpuH48eNWNSaTCUuWLIG/vz88PDwwZ84cXLhwwarmpZdeQnx8PNzd3TFgwIBeXjMiIiJydDYNQffddx/y8vKwc+dO7Ny5E3l5eUhKSupynldffRWvvfYa1qxZg4MHD0Kr1eL2229HbW2tpSYlJQVbtmxBWloa9u7di7q6OsyePRutra2WmqamJtx777147LHHbLZ+RERE5MCEjeTn5wsAIjs72zJNp9MJAOLEiRMdztPW1ia0Wq1YvXq1ZVpjY6PQaDRi/fr1QgghampqhFKpFGlpaZaakpISIZfLxc6dO9stc+PGjUKj0fS4f4PBIAAIg8HQ43mJiIhIGj35/rbZniCdTgeNRoPY2FjLtIkTJ0Kj0SArK6vDeQoLC6HX65GQkGCZplKpMHXqVMs8hw4dQnNzs1VNcHAwRo0a1elyu8NkMsFoNFoNRERE1H/ZLATp9XoEBAS0mx4QEAC9Xt/pPAAQGBhoNT0wMNDynl6vh6urK3x8fDqtuRapqamWc5c0Gg1CQ0OveVlERERk/3ocglatWgWZTNblkJOTAwCQyWTt5hdCdDj95375fnfm6U5NV1asWAGDwWAZiouLr3lZREREZP9cejrD4sWLsWDBgi5rwsLCcOTIEZSXl7d7r7Kyst2eniu0Wi0A896eoKAgy/SKigrLPFqtFk1NTaiurrbaG1RRUYH4+Piero6FSqWCSqW65vmJiIjIsfR4T5C/vz9GjhzZ5aBWqxEXFweDwYADBw5Y5t2/fz8MBkOnYSU8PBxarRYZGRmWaU1NTcjMzLTMExMTA6VSaVVTVlaGY8eOXVcIIiIiIufS4z1B3RUVFYXExEQsWrQIb731FgDg0UcfxezZszFixAhL3ciRI5Gamoq7774bMpkMKSkpePnllxEZGYnIyEi8/PLLcHd3x3333QcA0Gg0ePjhh/HUU0/Bz88Pvr6++MMf/oDRo0fjtttusyy3qKgIly5dQlFREVpbW5GXlwcAGDZsGDw9PW212kREROQgbBaCAODDDz/E0qVLLVdyzZkzB2vWrLGqOXnyJAwGg+Xnp59+Gg0NDXj88cdRXV2N2NhY7Nq1C15eXpaa119/HS4uLpg3bx4aGhowY8YMvPfee1AoFJaaF154Ae+//77l57FjxwIAvv32W0ybNs0Wq0tEREQORCaEEFI3YY+MRiM0Gg0MBgO8vb2lboeIiIi6oSff33x2GBERETklhiAiIiJySgxBRERE5JQYgoiIiMgpMQQRERGRU2IIIiIiIqfEEEREREROiSGIiIiInBJDEBERETklhiAiIiJySgxBRERE5JQYgoiIiMgpMQQRERGRU2IIIiIiIqfEEEREREROiSGIiIiInBJDEBERETklhiAiIiJySgxBRERE5JQYgoiIiMgpMQQRERGRU2IIIiIiIqfEEEREREROiSGIiIiInBJDEBERETklhiAiIiJySgxBRERE5JQYgoiIiMgpMQQRERGRU2IIIiIiIqfEEEREREROiSGIiIiInBJDEBERETklhiAiIiJySgxBRERE5JQYgoiIiMgp2TQEVVdXIykpCRqNBhqNBklJSaipqelyHiEEVq1aheDgYLi5uWHatGk4fvy4VY3JZMKSJUvg7+8PDw8PzJkzBxcuXLC8f+7cOTz88MMIDw+Hm5sbIiIi8OKLL6KpqckWq0lEREQOyKYh6L777kNeXh527tyJnTt3Ii8vD0lJSV3O8+qrr+K1117DmjVrcPDgQWi1Wtx+++2ora211KSkpGDLli1IS0vD3r17UVdXh9mzZ6O1tRUAcOLECbS1teGtt97C8ePH8frrr2P9+vV49tlnbbm6RERE5EiEjeTn5wsAIjs72zJNp9MJAOLEiRMdztPW1ia0Wq1YvXq1ZVpjY6PQaDRi/fr1QgghampqhFKpFGlpaZaakpISIZfLxc6dOzvt59VXXxXh4eHd7t9gMAgAwmAwdHseIiIiklZPvr9ttidIp9NBo9EgNjbWMm3ixInQaDTIysrqcJ7CwkLo9XokJCRYpqlUKkydOtUyz6FDh9Dc3GxVExwcjFGjRnW6XAAwGAzw9fXt9H2TyQSj0Wg1EBERUf9lsxCk1+sREBDQbnpAQAD0en2n8wBAYGCg1fTAwEDLe3q9Hq6urvDx8em05pfOnDmDN954A8nJyZ32m5qaajl3SaPRIDQ0tPOVIyIiIofX4xC0atUqyGSyLoecnBwAgEwmaze/EKLD6T/3y/e7M09nNaWlpUhMTMS9996LRx55pNP5V6xYAYPBYBmKi4u7/DwiIiJybC49nWHx4sVYsGBBlzVhYWE4cuQIysvL271XWVnZbk/PFVqtFoB5b09QUJBlekVFhWUerVaLpqYmVFdXW+0NqqioQHx8vNXySktLMX36dMTFxeHtt9/usmeVSgWVStVlDREREfUfPd4T5O/vj5EjR3Y5qNVqxMXFwWAw4MCBA5Z59+/fD4PB0C6sXBEeHg6tVouMjAzLtKamJmRmZlrmiYmJgVKptKopKyvDsWPHrJZbUlKCadOmYdy4cdi4cSPkct4SiYiIiH5is2QQFRWFxMRELFq0CNnZ2cjOzsaiRYswe/ZsjBgxwlI3cuRIbNmyBYD5MFhKSgpefvllbNmyBceOHcNDDz0Ed3d33HfffQAAjUaDhx9+GE899RS+/vpr5Obm4oEHHsDo0aNx2223ATDvAZo2bRpCQ0Px17/+FZWVldDr9Z2eM0RERETOp8eHw3riww8/xNKlSy1Xcs2ZMwdr1qyxqjl58iQMBoPl56effhoNDQ14/PHHUV1djdjYWOzatQteXl6Wmtdffx0uLi6YN28eGhoaMGPGDLz33ntQKBQAgF27duH06dM4ffo0QkJCrD5PCGGr1SUiIiIHIhNMBR0yGo3QaDQwGAzw9vaWuh0iIqI+dd54HpebLyPKL0rqVnqkJ9/fNt0TRERERI6jqbUJ3xR9g09++AT79fsxQTsB7858V+q2bIYhiIiIyMkVGgqR/kM6tp3ZhmpTNQBABhnUCjWaWpvgqnCVuEPbYAgiIiJyQvXN9fjy3JfYcmoL8irzLNMD3APw68hf4+5hdyPYM1i6BvsAQxAREZGTaBNtOFR+CJ+d/gwZ5zPQ0NIAAJDL5Jg8aDJ+M/w3mDRoElzkzhEPnGMtiYiInNhZw1l8fuZzfH72c5TVl1mmh3mH4e7Iu3Hn0Dsx0H2ghB1KgyGIiIioH6pqqMKX577E52c+x7GLxyzTvZReSAhLwNxhc3HjwBuv+liq/owhiIiIqJ8wmAz4uuhrbC/cjoP6g2gTbQAAF5kLbhl0C+6MuBPTQqdBpeBjogCGICIiIodmbDIiszgTu87twt7SvWhpa7G8N2bgGNwRfgdmhc+Cr9pXwi7tE0MQERGRgzE2GfFt0bfYdX4XskqzrIJPpE8k7gi/A4lhiQjxCuliKcQQRERE5AAqL1fim6Jv8HXR1zioP4gW8VPwGaoZioSwBCQMSUCkT6SEXToWhiAiIiI7VWgoxO7i3fi66GscqTwCgZ+edDVswDAkDElAQlgCIgZESNekA2MIIiIishPNbc3Iq8jD7uLdyLyQifPG81bvj/Efg1sH34oZg2cgTBMmSY/9CUMQUR/R1+uxu3g34oPjMdh7sNTtEJGdqGqowr6Sfdhbshf7SvehtqnW8p5SrsQE7QRMD52O6aHTEegRKGGn/Q9DEFEfySzOxEv7XwIADPIchPjgeMQHx+PmoJvh7dr1k46JqP9obmvG0cqj2FuyF3tL9qLgUoHV+z4qH0wOmYxpodMQHxwPD6WHRJ32fwxBRH3E180X4wPHI68iDyV1Jfj4h4/x8Q8fQy6TY7T/aMQFx+Fm7c24ceCN/fZhhUTOSAiB88bz0JXpkFWahYP6g6hvrreqifaLxqRBkzB50GSM9h8NhVwhUbfORSaEEFcvcz5GoxEajQYGgwHe3vwtnXpPfXM9cvQ5yCrNQlZpFs4Zz1m9r1aocVPATYgNikWsNhZRflFO8xwfov6ivL4cB/QHcFB/EPvL9qO0vtTq/QGqAZgYNBGTQyYjPjge/m7+EnXa//Tk+5shqBMMQdRXSutKoSvVYb9+Pw6UHcDFxotW73soPTA2YCxiAmMwPnA8bvC7AUqFUqJuiagjVQ1VyCnPwcGygzigP9DulxsXuQvGBYxDXHAc4oLjEOUbBblMLk2z/RxDUC9gCCIpCCFw1nAW+8v244D+AA7oD1idJAkAKoUKNw68EeMCx2FswFiM8R8DT1dPiTomck4ldSU4VH7IMvzyKi4ZZIjyi0KsNhYTtBMQExgDd6W7RN06F4agXsAQRPagta0Vp2pOWf1ne6nxklWNDDJE+kTipoE34aYA8xDiGeLUD0Uk6k3Nbc04eekk8irykFeZh7yKPJRfLreqkUGG4T7DMV47Hjdrb0ZMYAw0Ko1EHTs3hqBewBBE9kgIgUJjoSUQXTnJ+pd81b4Y7T/aMtzgfwP/QybqpvL6chytOoojVUdwtPIojlUdQ2Nro1WNi8wF0f7RlsPUNwXcxKs87QRDUC9gCCJHUXm5EocrDyO3Ihd5lXnIv5hv9RyhK8K8wzDKfxRu8LsBUX5RiPKN4u55cnoGkwH5F/ORfzEfR6uO4mjVUVRcrmhX5+3qbd7T+uMe1xv8buC/HzvFENQLGILIUZlaTSi4WIBjVcdwpOoIjlUdQ3Ftcbs6GWQI04QhyjcK0X7RiPaLxnCf4dxjRP3WpcZLOHnppCX05F/Mx4W6C+3q5DI5hg0YhtH+ozFm4BjcNPAmhGnCeCKzg2AI6gUMQdSf1DTW4GiVebd+/iXzf/4d/bYLAFoPLUb4jMBwn+EY7jscI3xGYLDXYN63hBxGa1srimqL8EP1Dzh56SROXDqBk5dOoqKh47/zgzwHIdov2nL4ONovmnt5HBhDUC9gCKL+rqqhCgUXCyy/EZ+sPtnh+UWA+Yq0cE04hg0YhogBERg2YBiGDRiGYM9g/nZMkhFCQF+vx+ma0zhdcxqnqk/hdM1pnDWchanV1OE8g70GY6TvSMvez2i/aO797GcYgnoBQxA5o9qmWstvz1fGp2pOdfqFolaoEaYJQ7h3OMI15iFME4Yh3kPg5uLWx91Tf9XU2oQLtRdw1nAWhYZCnDWctbxuaGnocB61Qo1hA4ZhhO8IjPQdiZG+IxHpE8lHUDgBhqBewBBEZNba1oqSuhKcrjmNMzVncKrmFM7UnEGhoRDNbc2dzhfoHogh3kMQ6hWKwd6DMdhrMEK9QhHqFcpDDdROU2sTSutKUVxbjKLaIpw3nrcMZfVlaBNtHc7nInPBYO/BiPSJROSASAzzGYbhA4ZjkNcg7qV0UgxBvYAhiKhrLW0tKKkrQaGh0HowFsJgMnQ5r6/aF4M8B2GQ5yAEewZjkOcghHiGIMgzCFoPLfci9UPNbc2ouFyB0rpSlNWXobSuFCV1JbhQewEX6i6gvL4cAp1/Hbm7uCNME4ahmqGWIXxAOEK9QqGU8w7q9BOGoF7AEER07aobq3HeeN7yW32Rscjy+moBCQA0Kg2CPIKgddci0CMQWg8tAt0DMdB9IAa6DcRA94HwUnrxhpB2orm1GZUNlSi/XI7yy+WoqK8wjy+bx6V1pahsqOx0b84Vbi5uCPEKwWCvwRjiPQRDvIdgsNdghGnC4Kf24583dQtDUC9gCCKyDYPJYNkLYDXUlqCsvgyXWy53azlqhdoSinzVvvBz84Ov2tfqtY/KBxqVBhqVhg+h7QEhBOqb61HdWI1qUzWqG6txqfESqk3VuNhwEVUNVZZxVWNVt4ItACjlSgR5BCHIMwjBHuY9gKFeoQjxCkGIVwh8VD4MOnTdevL9zf8ViKhPXQklUX5R7d4TQqC2uRZldWUov1wOfb3eMlQ0VKDqchUqGipQ21SLxtZGFNcWd3gPpI54Kb3grfLGANUADFANgJerF7xcveDp6glvV294Kj3NPys94a50Nw8u5sFD6QE3FzeHuE2AEAINLQ1obG1EQ0sDGpobUNdch/rmetQ116Guqc7yc21TLQwmA4xNRhibjJbXBpOhy/O9OqKUKxHgHoBA90AEuAf89NojAMEewQj2DIav2pfn6ZBdYQgiIrshk8ng7eoNb19vjPAd0WldY0sjKhsqUXm5EpUNlbjUeMk8NJjHFxsv4mLDRdSYalDbVAsBc7iqba7t9DYA3aGUK6FWqKFyUUGl+GlQu6ihlCvhInexGivlSijkCshlcsggg1wmtxqEEBAQljFgDjFtaENLWwta21rR0taCFtFi/lm0oqm1yTKY2kxobm2GqdUEU6vJHHo6uVrqWri5uMFH5YMB6gHwUfvAV2Xey+bv5m8Z+6v94e/mD2+VNwMOORyGICJyOGoXteVKs6tpbWuFscmIGlMNDCYDakw1qDHVoK6pzhyMmsxDXVOd+XVzLRpaGnC5+bJ5aLmMVtEKwHxyb3NbM2qba229ir1CrVDDzcUNHkoPeLp6msfKn8aerp7QqDTwdvVuN/ZR+/AEder3GIKIqF9TyBXwUfvAR+1zTfMLIdDU1oT65nqYWkxobG1EU2sTGlsbrX5uaWtBc1uzZdzc1ozm1ma0ilYICLSJNvNrYX595SRhmUwGGWQ/jX98fWVvkkKmgEKugEKmgIvcBa4KV7jKXaFSqMyvFT+9dnNxg5uLG9xd3KF2UXPPDNFVMAQREXVBJpNZDnsRUf/CXxOIiIjIKdk0BFVXVyMpKQkajQYajQZJSUmoqanpch4hBFatWoXg4GC4ublh2rRpOH78uFWNyWTCkiVL4O/vDw8PD8yZMwcXLlg/CXjOnDkYPHgw1Go1goKCkJSUhNLS0t5eRSIiInJQNg1B9913H/Ly8rBz507s3LkTeXl5SEpK6nKeV199Fa+99hrWrFmDgwcPQqvV4vbbb0dt7U8nIqakpGDLli1IS0vD3r17UVdXh9mzZ6O1tdVSM336dPznP//ByZMnkZ6ejjNnzuA3v/mNzdaViIiIHIywkfz8fAFAZGdnW6bpdDoBQJw4caLDedra2oRWqxWrV6+2TGtsbBQajUasX79eCCFETU2NUCqVIi0tzVJTUlIi5HK52LlzZ6f9bN26VchkMtHU1NSt/g0GgwAgDAZDt+qJiIhIej35/rbZniCdTgeNRoPY2FjLtIkTJ0Kj0SArK6vDeQoLC6HX65GQkGCZplKpMHXqVMs8hw4dQnNzs1VNcHAwRo0a1elyL126hA8//BDx8fFQKvmMGSIiIrLh4TC9Xo+AgIB20wMCAqDX6zudBwACAwOtpgcGBlre0+v1cHV1hY+PT6c1VzzzzDPw8PCAn58fioqKsHXr1k77NZlMMBqNVgMRERH1Xz0OQatWrTLfz6KLIScnBwA6fAaMEOKqz4b55fvdmaejmj/+8Y/Izc3Frl27oFAo8OCDD0J08qi01NRUywncGo0GoaFXvwkbEREROa4e3ydo8eLFWLBgQZc1YWFhOHLkCMrLy9u9V1lZ2W5PzxVarRaAeW9PUFCQZXpFRYVlHq1Wi6amJlRXV1vtDaqoqEB8fLzV8vz9/eHv74/hw4cjKioKoaGhyM7ORlxcXLvPXrFiBZYvX2752Wg0MggRERH1Yz0OQVeCxdXExcXBYDDgwIEDuPnmmwEA+/fvh8FgaBdWrggPD4dWq0VGRgbGjh0LAGhqakJmZiZeeeUVAEBMTAyUSiUyMjIwb948AEBZWRmOHTuGV199tdN+ruwBMplMHb6vUqmgUvFmaERERM7CZneMjoqKQmJiIhYtWoS33noLAPDoo49i9uzZGDHipwcjjhw5Eqmpqbj77rshk8mQkpKCl19+GZGRkYiMjMTLL78Md3d33HfffQAAjUaDhx9+GE899RT8/Pzg6+uLP/zhDxg9ejRuu+02AMCBAwdw4MABTJo0CT4+Pjh79ixeeOEFREREdLgXiIiIiJyPTR+b8eGHH2Lp0qWWK7nmzJmDNWvWWNWcPHkSBoPB8vPTTz+NhoYGPP7446iurkZsbCx27doFLy8vS83rr78OFxcXzJs3Dw0NDZgxYwbee+89KBQKAICbmxs+/fRTvPjii6ivr0dQUBASExORlpbGvT1EREQEAJCJzs4UdnJGoxEajQYGgwHe3t5St0NERETd0JPvbz47jIiIiJwSnyLfiSs7yHi/ICIiIsdx5Xu7Owe6GII6ceVZZbxMnoiIyPHU1tZCo9F0WcNzgjrR1taG0tJSeHl5XfVGjT1x5f5DxcXFPNeoE9xGXeP2uTpuo65x+3SN2+fq7HkbCSFQW1uL4OBgyOVdn/XDPUGdkMvlCAkJsdnyvb297e4vjr3hNuoat8/VcRt1jduna9w+V2ev2+hqe4Cu4InRRERE5JQYgoiIiMgpMQT1MZVKhRdffJE3bewCt1HXuH2ujtuoa9w+XeP2ubr+so14YjQRERE5Je4JIiIiIqfEEEREREROiSGIiIiInBJDEBERETklhqDrVF1djaSkJGg0Gmg0GiQlJaGmpqbLeYQQWLVqFYKDg+Hm5oZp06bh+PHjVjUmkwlLliyBv78/PDw8MGfOHFy4cKHD5ZlMJtx0002QyWTIy8vrpTXrPVJuozlz5mDw4MFQq9UICgpCUlISSktLe3sVr4tU2+fcuXN4+OGHER4eDjc3N0RERODFF19EU1OTLVbzmkn59+ell15CfHw83N3dMWDAgF5es2u3du1ahIeHQ61WIyYmBnv27OmyPjMzEzExMVCr1Rg6dCjWr1/friY9PR3R0dFQqVSIjo7Gli1brvtzpSLF9vnuu+9w5513Ijg4GDKZDJ999llvrlKvk2IbpaamYsKECfDy8kJAQADmzp2LkydP9up69Zig65KYmChGjRolsrKyRFZWlhg1apSYPXt2l/OsXr1aeHl5ifT0dHH06FExf/58ERQUJIxGo6UmOTlZDBo0SGRkZIjvv/9eTJ8+Xdx4442ipaWl3fKWLl0qZs2aJQCI3Nzc3l7F6yblNnrttdeETqcT586dE/v27RNxcXEiLi7OZut6LaTaPjt27BAPPfSQ+PLLL8WZM2fE1q1bRUBAgHjqqadsur49JeXfnxdeeEG89tprYvny5UKj0dhqFXskLS1NKJVK8c4774j8/Hzx5JNPCg8PD3H+/PkO68+ePSvc3d3Fk08+KfLz88U777wjlEql+OSTTyw1WVlZQqFQiJdfflkUFBSIl19+Wbi4uIjs7Oxr/lypSLV9tm/fLlauXCnS09MFALFlyxZbr+o1k2obzZw5U2zcuFEcO3ZM5OXliV/96ldi8ODBoq6uzubr3BmGoOuQn58vAFj9Iet0OgFAnDhxosN52trahFarFatXr7ZMa2xsFBqNRqxfv14IIURNTY1QKpUiLS3NUlNSUiLkcrnYuXOn1fK2b98uRo4cKY4fP26XIcgettHPbd26VchkMtHU1HS9q9Yr7G37vPrqqyI8PPx6V6vX2Mv22bhxo92EoJtvvlkkJydbTRs5cqT405/+1GH9008/LUaOHGk17fe//72YOHGi5ed58+aJxMREq5qZM2eKBQsWXPPnSkWq7fNz9h6C7GEbCSFERUWFACAyMzN7ugq9hofDroNOp4NGo0FsbKxl2sSJE6HRaJCVldXhPIWFhdDr9UhISLBMU6lUmDp1qmWeQ4cOobm52aomODgYo0aNslpueXk5Fi1ahH/9619wd3fv7dXrFVJvo5+7dOkSPvzwQ8THx0OpVPbG6l03e9o+AGAwGODr63u9q9Vr7G37SK2pqQmHDh2y6hsAEhISOu1bp9O1q585cyZycnLQ3NzcZc2VZV7L50pBqu3jSOxpGxkMBgCQ9P8chqDroNfrERAQ0G56QEAA9Hp9p/MAQGBgoNX0wMBAy3t6vR6urq7w8fHptEYIgYceegjJyckYP378da+LrUi5ja545pln4OHhAT8/PxQVFWHr1q3XvD69zR62zxVnzpzBG2+8geTk5B6vh63Y0/axB1VVVWhtbe1y3X5Jr9d3WN/S0oKqqqoua64s81o+VwpSbR9HYi/bSAiB5cuXY9KkSRg1atS1rs51YwjqwKpVqyCTyboccnJyAAAymazd/EKIDqf/3C/f7848P6954403YDQasWLFip6sWq9xhG10xR//+Efk5uZi165dUCgUePDBByFsfKN0R9o+AFBaWorExETce++9eOSRR662etfN0baPvenpunVU/8vp3VnmtWxTKUi1fRyJ1Nto8eLFOHLkCDZt2tSjvnubi6SfbqcWL16MBQsWdFkTFhaGI0eOoLy8vN17lZWV7RLxFVqtFoA5NQcFBVmmV1RUWObRarVoampCdXW11W+qFRUViI+PBwB88803yM7ObvfclvHjx+P+++/H+++/3401vXaOsI2u8Pf3h7+/P4YPH46oqCiEhoYiOzsbcXFx3VvZa+BI26e0tBTTp09HXFwc3n777e6t4HVypO1jT/z9/aFQKNr9dv3zdfslrVbbYb2Liwv8/Py6rLmyzGv5XClItX0ciT1soyVLlmDbtm347rvvEBIScj2rc/367OyjfujKSZv79++3TMvOzu7WSZuvvPKKZZrJZOrwpM3NmzdbakpLS61O2jx//rw4evSoZfjyyy8FAPHJJ5+I4uJiW6zuNZFyG3WkqKhIABDffvvtda5Z75B6+1y4cEFERkaKBQsWdHjlodSk3j5X2NuJ0Y899pjVtKioqC5Pao2KirKalpyc3O6k1lmzZlnVJCYmtjsxuiefKxWpts/PwQFOjJZiG7W1tYknnnhCBAcHix9++OF6V6NXMARdp8TERDFmzBih0+mETqcTo0ePbnf57ogRI8Snn35q+Xn16tVCo9GITz/9VBw9elT89re/7fDy3ZCQEPHVV1+J77//Xtx6662dXiIvhBCFhYV2eXWYENJto/3794s33nhD5ObminPnzolvvvlGTJo0SURERIjGxsa+WflukGr7lJSUiGHDholbb71VXLhwQZSVlVkGeyLlv7Hz58+L3Nxc8ec//1l4enqK3NxckZubK2pra22/4p24cnnzhg0bRH5+vkhJSREeHh7i3LlzQggh/vSnP4mkpCRL/ZXLm5ctWyby8/PFhg0b2l3evG/fPqFQKMTq1atFQUGBWL16daeXyHf2ufZCqu1TW1tr+fsBQLz22msiNzfX7m4hIIR02+ixxx4TGo1G7N692+r/m8uXL/fdyv8CQ9B1unjxorj//vuFl5eX8PLyEvfff7+orq62qgEgNm7caPm5ra1NvPjii0Kr1QqVSiWmTJkijh49ajVPQ0ODWLx4sfD19RVubm5i9uzZoqioqNM+7DkESbWNjhw5IqZPny58fX2FSqUSYWFhIjk5WVy4cMGWq9tjUm2fjRs3CgAdDvZEyn9jCxcu7HD7SL0n8c033xRDhgwRrq6uYty4cVaXGC9cuFBMnTrVqn737t1i7NixwtXVVYSFhYl169a1W+bHH38sRowYIZRKpRg5cqRIT0/v0efaEym2z7ffftvh35WFCxfaYhWvmxTbqLP/b37+b7evyX5sjIiIiMip8OowIiIickoMQUREROSUGIKIiIjIKTEEERERkVNiCCIiIiKnxBBERERETokhiIiIiJwSQxARERE5JYYgIiIickoMQUREROSUGIKIiIjIKTEEERERkVP6/xr+yQ9MO6CSAAAAAElFTkSuQmCC",
>>>>>>> 512df72 (need debug for G)
=======
      "image/png": "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",
>>>>>>> 4ebcaa5 (complete celestial)
      "text/plain": [
       "<Figure size 640x480 with 1 Axes>"
      ]
     },
     "metadata": {},
     "output_type": "display_data"
    }
   ],
   "source": [
<<<<<<< HEAD
<<<<<<< HEAD
    "plt.plot(t, y1)"
=======
    "plt.plot(x1, y1)\n",
    "plt.plot(x2, y2)\n",
    "plt.plot(x3, y3)"
>>>>>>> 512df72 (need debug for G)
=======
    "data, config = data_config[19]\n",
    "x1, x2, x3, x4, y1, y2, y3, y4 = data\n",
    "plt.plot(x1, y1)\n",
    "plt.plot(x2, y2)\n",
    "plt.plot(x3, y3)\n",
    "plt.plot(x4, y4)"
   ]
  },
  {
   "cell_type": "code",
   "execution_count": 7,
   "metadata": {},
   "outputs": [
    {
     "data": {
      "text/plain": [
       "array([-0.05524242, -0.0551808 , -0.05520538, -0.0553133 , -0.05549975,\n",
       "       -0.0557585 , -0.05608246, -0.05646423, -0.05689653, -0.05737248,\n",
       "       -0.05788579, -0.05843087, -0.05900276, -0.0595972 , -0.0602105 ,\n",
       "       -0.06083953, -0.0614816 , -0.06213445, -0.06279613, -0.06346503,\n",
       "       -0.06413975, -0.06481911, -0.06550214, -0.06618797, -0.06687588,\n",
       "       -0.06756528, -0.06825563, -0.06894649, -0.06963749, -0.07032829,\n",
       "       -0.07101864, -0.07170829, -0.07239704, -0.07308473, -0.07377121,\n",
       "       -0.07445637, -0.07514009, -0.0758223 , -0.07650292, -0.07718189,\n",
       "       -0.07785917, -0.07853471, -0.07920849, -0.07988048, -0.08055066,\n",
       "       -0.08121902, -0.08188555, -0.08255024, -0.0832131 , -0.08387413])"
      ]
     },
     "execution_count": 7,
     "metadata": {},
     "output_type": "execute_result"
    }
   ],
   "source": [
    "y1"
   ]
  },
  {
   "cell_type": "code",
   "execution_count": 8,
   "metadata": {},
   "outputs": [
    {
     "data": {
      "text/plain": [
       "[506109.82551045954,\n",
       " 566615.8384437879,\n",
       " 0.013103072948602442,\n",
       " 2.923462170949974,\n",
       " 2.923462170949974,\n",
       " -0.03821613447484805,\n",
       " 0.0382164603982113,\n",
       " 0.0026272821357581086,\n",
       " -0.0026225362120523873]"
      ]
     },
     "execution_count": 8,
     "metadata": {},
     "output_type": "execute_result"
    }
   ],
   "source": [
    "data_config[4][1]"
   ]
  },
  {
   "cell_type": "code",
   "execution_count": 9,
   "metadata": {},
   "outputs": [
    {
     "data": {
      "text/plain": [
       "[525846.492033166,\n",
       " 544530.9288533449,\n",
       " 0.014797973132060535,\n",
       " 2.4620553881346123,\n",
       " 2.4620553881346123,\n",
       " -0.0036527424283645223,\n",
       " 0.003671630168416425,\n",
       " 0.03624986113953644,\n",
       " -0.03624795095617166]"
      ]
     },
     "execution_count": 9,
     "metadata": {},
     "output_type": "execute_result"
    }
   ],
   "source": [
    "data_config[2][1]"
>>>>>>> 4ebcaa5 (complete celestial)
   ]
  },
  {
   "cell_type": "code",
   "execution_count": null,
   "metadata": {},
   "outputs": [],
   "source": []
  }
 ],
 "metadata": {
  "kernelspec": {
   "display_name": "pubpy",
   "language": "python",
   "name": "python3"
  },
  "language_info": {
   "codemirror_mode": {
    "name": "ipython",
    "version": 3
   },
   "file_extension": ".py",
   "mimetype": "text/x-python",
   "name": "python",
   "nbconvert_exporter": "python",
   "pygments_lexer": "ipython3",
   "version": "3.11.9"
  }
 },
 "nbformat": 4,
 "nbformat_minor": 2
}
