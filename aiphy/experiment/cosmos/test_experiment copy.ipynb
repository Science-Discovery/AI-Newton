{
 "cells": [
  {
   "cell_type": "code",
   "execution_count": null,
   "metadata": {},
   "outputs": [
    {
     "name": "stdout",
     "output_type": "stream",
     "text": [
      "/home/lixiang/code/ai-physicist\n"
     ]
    }
   ],
   "source": [
    "import os\n",
    "work_dir = os.path.abspath('../../..')\n",
    "print(work_dir)\n",
    "os.chdir(work_dir)\n",
    "import sympy as sp\n",
    "import numpy as np\n",
    "from aiphy.experiment import default_parastructure, ExpConfig, Objstructure, DoExpType, ExpStructure, Proposition\n",
    "from aiphy.experiment import concept_posx, concept_posy, concept_t, concept_dist, concept_posz\n",
    "from scipy.integrate import odeint"
   ]
  },
  {
   "cell_type": "code",
   "execution_count": 2,
   "metadata": {},
   "outputs": [],
   "source": [
    "from aiphy.experiment import concept_posx, concept_posy, concept_t, concept_dist, concept_posz"
   ]
  },
  {
   "cell_type": "code",
   "execution_count": 3,
   "metadata": {},
   "outputs": [],
   "source": [
    "pi = 3.1415926\n",
    "\n",
    "exp_para = {\n",
    "    \"x0\": default_parastructure(-1.0, 1.0),\n",
    "    \"y0\": default_parastructure(-1.0, 1.0),\n",
    "    \"r0\": default_parastructure(5.0, 7.0),\n",
    "    \"theta0\": default_parastructure(0.0, 2*pi/3),\n",
    "    \"omega10\": default_parastructure(1.0, 2.0),\n",
    "    \"omega20\": default_parastructure(1.0, 2.0),\n",
    "    \"omega30\": default_parastructure(1.0, 2.0),\n",
    "    \"v10\": default_parastructure(-0.05, 0.05),\n",
    "    \"v20\": default_parastructure(-0.05, 0.05),\n",
    "    \"v30\": default_parastructure(-0.05, 0.05),\n",
    "}\n",
    "\n",
    "obj_info = {\n",
    "    \"o1\": Objstructure.make_particle(1, 2),\n",
    "    \"o2\": Objstructure.make_particle(1, 2),\n",
    "    \"o3\": Objstructure.make_particle(1, 2),\n",
    "    \"clock\": Objstructure.clock()\n",
    "}\n",
    "data_info = [\n",
    "    (concept_posx, [\"o1\"]),\n",
    "    (concept_posy, [\"o1\"]),\n",
    "    (concept_posz, [\"o1\"]),\n",
    "    (concept_posx, [\"o2\"]),\n",
    "    (concept_posy, [\"o2\"]),\n",
    "    (concept_posz, [\"o2\"]),\n",
    "    (concept_dist, [\"o1\", \"o2\"]),\n",
    "    (concept_dist, [\"o2\", \"o1\"]),\n",
    "    (concept_t, [\"clock\"]),\n",
    "]\n",
    "\n",
    "G = 4*pi**2\n",
    "acs0 = [sp.sympify(\"G*(m2*(x2-x1)/r12**3 + m3*(x3-x1)/r13**3)\"),\n",
    "        sp.sympify(\"G*(m1*(x1-x2)/r12**3 + m3*(x3-x2)/r23**3)\"),\n",
    "        sp.sympify(\"G*(m1*(x1-x3)/r13**3 + m2*(x2-x3)/r23**3)\"),\n",
    "        sp.sympify(\"G*(m2*(y2-y1)/r12**3 + m3*(y3-y1)/r13**3)\"),\n",
    "        sp.sympify(\"G*(m1*(y1-y2)/r12**3 + m3*(y3-y2)/r23**3)\"),\n",
    "        sp.sympify(\"G*(m1*(y1-y3)/r13**3 + m2*(y2-y3)/r23**3)\"),]\n"
   ]
  },
  {
   "cell_type": "code",
   "execution_count": 4,
   "metadata": {},
   "outputs": [],
   "source": [
    "t_end = 2.0\n",
    "t_num = 100\n",
    "error = 1e-8"
   ]
  },
  {
   "cell_type": "code",
   "execution_count": 13,
   "metadata": {},
   "outputs": [],
   "source": [
    "exp_config = ExpConfig(\"celestial_2\", 1, exp_para, obj_info, data_info)\n",
    "exp_config.random_settings()"
   ]
  },
  {
   "cell_type": "code",
   "execution_count": 14,
   "metadata": {},
   "outputs": [],
   "source": [
    "x0 = exp_config.para('x0')\n",
    "y0 = exp_config.para('y0')\n",
    "r0 = exp_config.para('r0')\n",
    "theta0 = exp_config.para('theta0')\n",
    "omega10 = exp_config.para('omega10')\n",
    "omega20 = exp_config.para('omega20')\n",
    "omega30 = exp_config.para('omega30')\n",
    "v10 = exp_config.para('v10')\n",
    "v20 = exp_config.para('v20')\n",
    "v30 = exp_config.para('v30')\n",
    "\n",
    "x10 = x0 + r0*np.cos(theta0)\n",
    "x20 = x0 + r0*np.cos(theta0 + 2*pi/3)\n",
    "x30 = x0 + r0*np.cos(theta0 + 4*pi/3)\n",
    "y10 = y0 + r0*np.sin(theta0)\n",
    "y20 = x0 + r0*np.sin(theta0 + 2*pi/3)\n",
    "y30 = x0 + r0*np.sin(theta0 + 4*pi/3)\n",
    "vx10 = v10*np.cos(theta0) - omega10*r0*np.sin(theta0)\n",
    "vy10 = v10*np.sin(theta0) + omega10*r0*np.cos(theta0)\n",
    "vx20 = v20*np.cos(theta0 + 2*pi/3) - omega20*r0*np.sin(theta0 + 2*pi/3)\n",
    "vy20 = v20*np.sin(theta0 + 2*pi/3) + omega20*r0*np.cos(theta0 + 2*pi/3)\n",
    "vx30 = v30*np.cos(theta0 + 4*pi/3) - omega30*r0*np.sin(theta0 + 4*pi/3)\n",
    "vy30 = v30*np.sin(theta0 + 4*pi/3) + omega30*r0*np.cos(theta0 + 4*pi/3)\n",
    "\n",
    "m1 = exp_config.get_obj_para('o1', 'm')\n",
    "m2 = exp_config.get_obj_para('o2', 'm')\n",
    "m3 = exp_config.get_obj_para('o3', 'm')\n",
    "numeric = {'m1': m1, 'm2': m2, 'm3': m3, 'G': G}\n",
    "acs = [ac.subs(numeric) for ac in acs0]\n",
    "\n",
    "step = t_end / t_num\n",
    "t = np.arange(0, t_end, step)\n",
    "y0 = [x10, x20, x30, y10, y20, y30, vx10, vx20, vx30, vy10, vy20, vy30]\n"
   ]
  },
  {
   "cell_type": "code",
   "execution_count": 15,
   "metadata": {},
   "outputs": [],
   "source": [
    "def f(y, t):\n",
    "        x1, x2, x3, y1, y2, y3, vx1, vx2, vx3, vy1, vy2, vy3 = y\n",
    "        r12 = np.sqrt((x1-x2)**2 + (y1-y2)**2)\n",
    "        r23 = np.sqrt((x3-x2)**2 + (y3-y2)**2)\n",
    "        r13 = np.sqrt((x1-x3)**2 + (y1-y3)**2)\n",
    "        numeric = {'r12': r12, 'r23': r23, 'r13': r13,\n",
    "                        'x1': x1, 'x2': x2, 'x3': x3, 'y1': y1, 'y2': y2, 'y3': y3,\n",
    "                        'vx1': vx1, 'vx2': vx2, 'vx3': vx3, 'vy1': vy1, 'vy2': vy2, 'vy3': vy3}\n",
    "        acs_n = [ac.subs(numeric) for ac in acs]\n",
    "        return [vx1, vx2, vx3, vy1, vy2, vy3] + acs_n\n",
    "sol = odeint(f, y0, t)\n",
    "x1 = sol[:, 0]\n",
    "x2 = sol[:, 1]\n",
    "x3 = sol[:, 2]\n",
    "y1 = sol[:, 3]\n",
    "y2 = sol[:, 4]\n",
    "y3 = sol[:, 5]\n",
    "dist12 = np.sqrt((x1-x2)**2 + (y1-y2)**2)\n",
    "dist23 = np.sqrt((x3-x2)**2 + (y3-y2)**2)\n",
    "dist31 = np.sqrt((x1-x3)**2 + (y1-y3)**2)"
   ]
  },
  {
   "cell_type": "code",
   "execution_count": 24,
   "metadata": {},
   "outputs": [],
   "source": [
    "x1, x2, x3, y1, y2, y3, vx1, vx2, vx3, vy1, vy2, vy3 = y0\n",
    "r12 = np.sqrt((x1-x2)**2 + (y1-y2)**2)\n",
    "r23 = np.sqrt((x3-x2)**2 + (y3-y2)**2)\n",
    "r13 = np.sqrt((x1-x3)**2 + (y1-y3)**2)\n",
    "numeric = {'r12': r12, 'r23': r23, 'r13': r13,\n",
    "                'x1': x1, 'x2': x2, 'x3': x3, 'y1': y1, 'y2': y2, 'y3': y3,\n",
    "                'vx1': vx1, 'vx2': vx2, 'vx3': vx3, 'vy1': vy1, 'vy2': vy2, 'vy3': vy3}\n",
    "acs_n = [ac.subs(numeric) for ac in acs]"
   ]
  },
  {
   "cell_type": "code",
   "execution_count": 27,
   "metadata": {},
   "outputs": [
    {
     "data": {
      "text/plain": [
       "((-1.3975588902907035, 5.9184873692574325),\n",
       " (-4.515865744416982, -3.8067911221274797),\n",
       " (4.215972634949826, -2.3661728282445793))"
      ]
     },
     "execution_count": 27,
     "metadata": {},
     "output_type": "execute_result"
    }
   ],
   "source": [
    "(x1, y1), (x2, y2), (x3, y3)"
   ]
  },
  {
   "cell_type": "code",
   "execution_count": 29,
   "metadata": {},
   "outputs": [
    {
     "data": {
      "text/plain": [
       "((-6.799793962564867, -1.1085621906136973),\n",
       " (5.994427521763759, -7.249191423104522),\n",
       " (3.09805630011199, 8.12635859049587))"
      ]
     },
     "execution_count": 29,
     "metadata": {},
     "output_type": "execute_result"
    }
   ],
   "source": [
    "(vx1, vy1), (vx2, vy2), (vx3, vy3)"
   ]
  },
  {
   "cell_type": "code",
   "execution_count": 28,
   "metadata": {},
   "outputs": [
    {
     "data": {
      "text/plain": [
       "[(0.211516808932276, -1.34332514277968),\n",
       " (1.10812511111838, 0.559795096450155),\n",
       " (-1.21004949891045, 0.201048689742512)]"
      ]
     },
     "execution_count": 28,
     "metadata": {},
     "output_type": "execute_result"
    }
   ],
   "source": [
    "[(acs_n[i], acs_n[i+3]) for i in range(3)]"
   ]
  },
  {
   "cell_type": "code",
   "execution_count": 16,
   "metadata": {},
   "outputs": [],
   "source": [
    "import matplotlib.pyplot as plt"
   ]
  },
  {
   "cell_type": "code",
   "execution_count": 22,
   "metadata": {},
   "outputs": [
    {
     "data": {
      "text/plain": [
       "[<matplotlib.lines.Line2D at 0x76da9515b750>]"
      ]
     },
     "execution_count": 22,
     "metadata": {},
     "output_type": "execute_result"
    },
    {
     "data": {
      "image/png": "[encoded data removed]",
      "text/plain": [
       "<Figure size 640x480 with 1 Axes>"
      ]
     },
     "metadata": {},
     "output_type": "display_data"
    }
   ],
   "source": [
    "plt.plot(t, y1)"
   ]
  },
  {
   "cell_type": "code",
   "execution_count": null,
   "metadata": {},
   "outputs": [],
   "source": []
  }
 ],
 "metadata": {
  "kernelspec": {
   "display_name": "pubpy",
   "language": "python",
   "name": "python3"
  },
  "language_info": {
   "codemirror_mode": {
    "name": "ipython",
    "version": 3
   },
   "file_extension": ".py",
   "mimetype": "text/x-python",
   "name": "python",
   "nbconvert_exporter": "python",
   "pygments_lexer": "ipython3",
   "version": "3.11.9"
  }
 },
 "nbformat": 4,
 "nbformat_minor": 2
}
