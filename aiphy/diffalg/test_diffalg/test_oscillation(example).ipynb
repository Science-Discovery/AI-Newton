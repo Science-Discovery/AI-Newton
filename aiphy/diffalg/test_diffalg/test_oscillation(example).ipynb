{
 "cells": [
  {
   "cell_type": "code",
   "execution_count": 1,
   "metadata": {},
   "outputs": [
    {
     "name": "stdout",
     "output_type": "stream",
     "text": [
      "/home/eden/ai-physicist\n"
     ]
    }
   ],
   "source": [
    "import os\n",
    "import sympy as sp\n",
    "work_dir = os.path.abspath('../..')\n",
    "print(work_dir)\n",
    "os.chdir(work_dir)"
   ]
  },
  {
   "cell_type": "code",
   "execution_count": 2,
   "metadata": {},
   "outputs": [],
   "source": [
    "from aiphy.diffalg import diffalg, DifferentialRing"
   ]
  },
  {
   "cell_type": "code",
   "execution_count": 3,
   "metadata": {},
   "outputs": [],
   "source": [
    "t = sp.Symbol('t')\n",
    "posl = sp.Function('posl')(t)\n",
    "posr = sp.Function('posr')(t)\n",
    "x = sp.Function('x')(t)\n",
    "m, k, minv, kinv, freeL = sp.symbols('m k minv kinv freeL')\n",
    "P2, P102, P259 = sp.symbols('P2 P102 P259')\n",
    "ring = DifferentialRing([\n",
    "        (\"lex\", [posl, posr, x]),\n",
    "        (\"lex\", [P102, P259, P2]),\n",
    "        (\"lex\", [m, kinv, freeL, minv])\n",
    "    ]\n",
    ")"
   ]
  },
  {
   "cell_type": "code",
   "execution_count": 4,
   "metadata": {},
   "outputs": [],
   "source": [
    "eq0 = x - posr\n",
    "eq1 = posl - P2\n",
    "eq2 = m * x.diff(t, 2) + x / kinv - P102\n",
    "eq3 = x.diff(t, 2) * kinv + x * minv - P259\n",
    "eq4 = m * x.diff(t, 2) + (posr - posl - freeL) / kinv\n",
    "eq5 = m * minv - 1"
   ]
  },
  {
   "cell_type": "code",
   "execution_count": 5,
   "metadata": {},
   "outputs": [],
   "source": [
    "ineqs = [P2, P102, P259, m, kinv, freeL, minv]\n",
    "eqs = [eq0, eq1, eq2, eq3, eq4, eq5]\n",
    "ideal = diffalg.from_eqs(ring, eqs, ineqs)"
   ]
  },
  {
   "cell_type": "code",
   "execution_count": 6,
   "metadata": {},
   "outputs": [
    {
     "name": "stdout",
     "output_type": "stream",
     "text": [
      "with (DifferentialAlgebra);\n",
      "R := DifferentialRing(blocks = [lex[temp], lex[posl,posr,x], lex[P102,P259,P2], lex[m,kinv,freeL,minv]], derivations = [t]);\n",
      "eqs := [((-1) * (posr(t))) + (x(t)), ((-1) * (P2)) + (posl(t)), ((-1) * (P102)) + ((m) * (diff(x(t), t$2))) + (((kinv)^(-1)) * (x(t))), ((-1) * (P259)) + ((kinv) * (diff(x(t), t$2))) + ((minv) * (x(t))), ((m) * (diff(x(t), t$2))) + (((kinv)^(-1)) * (((-1) * (freeL)) + ((-1) * (posl(t))) + (posr(t)))), (-1) + ((m) * (minv)), ((-1) * (temp)) + ((m) * ((diff(x(t), t))^(2))) + (((kinv)^(-1)) * ((((-1) * (freeL)) + ((-1) * (posl(t))) + (posr(t)))^(2))), P2<> 0, P102<> 0, P259<> 0, m<> 0, kinv<> 0, freeL<> 0, minv<> 0];\n",
      "ideal := RosenfeldGroebner(eqs, R);\n",
      "print(Equations(ideal));\n",
      "eq := NormalForm(temp, ideal[1]);\n",
      "print(eq);\n"
     ]
    },
    {
     "data": {
      "text/latex": [
       "$\\displaystyle \\frac{P_{2}^{2} minv + 2 P_{2} freeL minv - 2 P_{2} minv x{\\left(t \\right)} + freeL^{2} minv - 2 freeL minv x{\\left(t \\right)} + kinv \\left(\\frac{d}{d t} x{\\left(t \\right)}\\right)^{2} + minv x^{2}{\\left(t \\right)}}{kinv minv}$"
      ],
      "text/plain": [
       "(P2**2*minv + 2*P2*freeL*minv - 2*P2*minv*x(t) + freeL**2*minv - 2*freeL*minv*x(t) + kinv*Derivative(x(t), t)**2 + minv*x(t)**2)/(kinv*minv)"
      ]
     },
     "execution_count": 6,
     "metadata": {},
     "output_type": "execute_result"
    }
   ],
   "source": [
    "eq = m * x.diff(t, 1) ** 2 + (posr - posl - freeL) ** 2 / kinv\n",
    "ideal.reduce(eq, debug=True)"
   ]
  },
  {
   "cell_type": "code",
   "execution_count": 7,
   "metadata": {},
   "outputs": [
    {
     "data": {
      "text/plain": [
       "[<aiphy.diffalg.diffalg.RegularDifferentialChain at 0x7f0d3c0a2cf0>]"
      ]
     },
     "execution_count": 7,
     "metadata": {},
     "output_type": "execute_result"
    }
   ],
   "source": [
    "ideal.gb"
   ]
  },
  {
   "cell_type": "code",
   "execution_count": 8,
   "metadata": {},
   "outputs": [
    {
     "name": "stdout",
     "output_type": "stream",
     "text": [
      "with (DifferentialAlgebra);\n",
      "R := DifferentialRing(blocks = [lex[temp], lex[posl,posr,x], lex[P102,P259,P2], lex[m,kinv,freeL,minv]], derivations = [t]);\n",
      "eqs := [((-1) * (posr(t))) + (x(t)), ((-1) * (P2)) + (posl(t)), ((-1) * (P102)) + ((m) * (diff(x(t), t$2))) + (((kinv)^(-1)) * (x(t))), ((-1) * (P259)) + ((kinv) * (diff(x(t), t$2))) + ((minv) * (x(t))), ((m) * (diff(x(t), t$2))) + (((kinv)^(-1)) * (((-1) * (freeL)) + ((-1) * (posl(t))) + (posr(t)))), ((-1) * (temp)) + ((m) * ((diff(x(t), t))^(2))) + (((kinv)^(-1)) * ((((-1) * (freeL)) + ((-1) * (posl(t))) + (posr(t)))^(2))), P2<> 0, P102<> 0, P259<> 0, m<> 0, kinv<> 0, freeL<> 0, minv<> 0];\n",
      "ideal := RosenfeldGroebner(eqs, R);\n",
      "print(Equations(ideal));\n",
      "eq := NormalForm(temp, ideal[1]);\n",
      "print(eq);\n"
     ]
    },
    {
     "data": {
      "text/latex": [
       "$\\displaystyle 0$"
      ],
      "text/plain": [
       "0"
      ]
     },
     "execution_count": 8,
     "metadata": {},
     "output_type": "execute_result"
    }
   ],
   "source": [
    "eqs = [eq0, eq1, eq2, eq3, eq4]\n",
    "ideal = diffalg.from_eqs(ring, eqs, ineqs)\n",
    "eq = m * x.diff(t, 1) ** 2 + (posr - posl - freeL) ** 2 / kinv\n",
    "ideal.reduce(eq, debug=True)"
   ]
  },
  {
   "cell_type": "code",
   "execution_count": 9,
   "metadata": {},
   "outputs": [
    {
     "data": {
      "text/plain": [
       "[<aiphy.diffalg.diffalg.RegularDifferentialChain at 0x7f0d4f1c91d0>,\n",
       " <aiphy.diffalg.diffalg.RegularDifferentialChain at 0x7f0d4f1c9310>]"
      ]
     },
     "execution_count": 9,
     "metadata": {},
     "output_type": "execute_result"
    }
   ],
   "source": [
    "ideal.gb"
   ]
  },
  {
   "cell_type": "code",
   "execution_count": 10,
   "metadata": {},
   "outputs": [
    {
     "data": {
      "text/latex": [
       "$\\displaystyle \\frac{P_{2}^{2} minv + 2 P_{2} freeL minv - 2 P_{2} minv x{\\left(t \\right)} + freeL^{2} minv - 2 freeL minv x{\\left(t \\right)} + kinv \\left(\\frac{d}{d t} x{\\left(t \\right)}\\right)^{2} + minv x^{2}{\\left(t \\right)}}{kinv minv}$"
      ],
      "text/plain": [
       "(P2**2*minv + 2*P2*freeL*minv - 2*P2*minv*x(t) + freeL**2*minv - 2*freeL*minv*x(t) + kinv*Derivative(x(t), t)**2 + minv*x(t)**2)/(kinv*minv)"
      ]
     },
     "execution_count": 10,
     "metadata": {},
     "output_type": "execute_result"
    }
   ],
   "source": [
    "ideal.gb[1].reduce(eq)"
   ]
  },
  {
   "cell_type": "code",
   "execution_count": 11,
   "metadata": {},
   "outputs": [
    {
     "data": {
      "text/plain": [
       "[-P2 + posl(t),\n",
       " -P2 - freeL + posr(t),\n",
       " -P2 - freeL + x(t),\n",
       " P102*kinv - P2 - freeL,\n",
       " -P2*minv + P259 - freeL*minv]"
      ]
     },
     "execution_count": 11,
     "metadata": {},
     "output_type": "execute_result"
    }
   ],
   "source": [
    "ideal.gb[0].gb"
   ]
  },
  {
   "cell_type": "code",
   "execution_count": 12,
   "metadata": {},
   "outputs": [
    {
     "data": {
      "text/plain": [
       "[-P2*minv - freeL*minv + kinv*Derivative(x(t), (t, 2)) + minv*x(t),\n",
       " -P2 + posl(t),\n",
       " posr(t) - x(t),\n",
       " P102*kinv - P2 - freeL,\n",
       " -P2*minv + P259 - freeL*minv,\n",
       " m*minv - 1]"
      ]
     },
     "execution_count": 12,
     "metadata": {},
     "output_type": "execute_result"
    }
   ],
   "source": [
    "ideal.gb[1].gb"
   ]
  },
  {
   "cell_type": "code",
   "execution_count": null,
   "metadata": {},
   "outputs": [],
   "source": []
  }
 ],
 "metadata": {
  "kernelspec": {
   "display_name": "aiphy",
   "language": "python",
   "name": "python3"
  },
  "language_info": {
   "codemirror_mode": {
    "name": "ipython",
    "version": 3
   },
   "file_extension": ".py",
   "mimetype": "text/x-python",
   "name": "python",
   "nbconvert_exporter": "python",
   "pygments_lexer": "ipython3",
   "version": "3.13.0"
  }
 },
 "nbformat": 4,
 "nbformat_minor": 2
}
