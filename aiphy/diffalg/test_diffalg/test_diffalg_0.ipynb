{
 "cells": [
  {
   "cell_type": "code",
   "execution_count": 1,
   "metadata": {},
   "outputs": [
    {
     "name": "stdout",
     "output_type": "stream",
     "text": [
      "/home/fyl/ai-physicist\n"
     ]
    }
   ],
   "source": [
    "import os\n",
    "import sys\n",
    "work_dir = os.path.abspath('../..')\n",
    "sys.path.append(work_dir)\n",
    "from aiphy.diffalg import diffalg, DifferentialRing\n",
    "import sympy as sp"
   ]
  },
  {
   "cell_type": "code",
   "execution_count": 2,
   "metadata": {},
   "outputs": [],
   "source": [
    "t = sp.Symbol('t')\n",
    "z = sp.Function('z')(t)\n",
    "vz = z.diff(t)\n",
    "az = vz.diff(t)\n",
    "Z0 = sp.Symbol('Z0')\n",
    "V0 = sp.Symbol('V0')\n",
    "g = sp.Symbol('g')"
   ]
  },
  {
   "cell_type": "code",
   "execution_count": 3,
   "metadata": {},
   "outputs": [],
   "source": [
    "ring = DifferentialRing([('lex', [z]), ('lex', [Z0, V0, g])])"
   ]
  },
  {
   "cell_type": "code",
   "execution_count": 13,
   "metadata": {},
   "outputs": [],
   "source": [
    "ideal = diffalg.from_eqs(\n",
    "    ring,\n",
    "    [vz - g * t - V0, z - vz * t / 2 - Z0]\n",
    ")"
   ]
  },
  {
   "cell_type": "code",
   "execution_count": 14,
   "metadata": {},
   "outputs": [],
   "source": [
    "eq = vz**2 - 2 * g * z"
   ]
  },
  {
   "cell_type": "code",
   "execution_count": 15,
   "metadata": {},
   "outputs": [
    {
     "data": {
      "text/latex": [
       "$\\displaystyle - 2 Z_{0} g$"
      ],
      "text/plain": [
       "-2*Z0*g"
      ]
     },
     "execution_count": 15,
     "metadata": {},
     "output_type": "execute_result"
    }
   ],
   "source": [
    "assert(ideal.reduce(eq)==-2*Z0*g)"
   ]
  },
  {
   "cell_type": "code",
   "execution_count": null,
   "metadata": {},
   "outputs": [],
   "source": [
    "assert(ideal.reduce(eq.diff(t)).is_zero)"
   ]
  }
 ],
 "metadata": {
  "kernelspec": {
   "display_name": "aiphy",
   "language": "python",
   "name": "python3"
  },
  "language_info": {
   "codemirror_mode": {
    "name": "ipython",
    "version": 3
   },
   "file_extension": ".py",
   "mimetype": "text/x-python",
   "name": "python",
   "nbconvert_exporter": "python",
   "pygments_lexer": "ipython3",
   "version": "3.12.4"
  }
 },
 "nbformat": 4,
 "nbformat_minor": 2
}
