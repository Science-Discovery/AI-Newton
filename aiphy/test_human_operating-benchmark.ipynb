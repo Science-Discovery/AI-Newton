{
 "cells": [
  {
   "cell_type": "markdown",
   "metadata": {},
   "source": [
    "# Tests with manual selections"
   ]
  },
  {
   "cell_type": "code",
   "execution_count": 1,
   "metadata": {},
   "outputs": [
    {
     "name": "stdout",
     "output_type": "stream",
     "text": [
      "/home/dsjian/researches/ai-physicist\n"
     ]
    }
   ],
   "source": [
    "import os\n",
    "work_dir = os.path.abspath('..')\n",
    "print(work_dir)\n",
    "os.chdir(work_dir)\n",
    "from aiphy.main import Theorist, MeasureType, Exp, ExpStructure, Proposition, Concept, Intrinsic\n",
    "from aiphy.dataplot import plot_datastruct, plot_data, plot_normaldata, ExpData, NormalData\n",
    "from aiphy.debugger import Debugger\n",
    "\n",
    "# Experiment configs can be added here\n",
    "from aiphy.experiment.basic import (\n",
    "    motion0_3d_config, motion_3d_config,\n",
    "    collision_elastic_3body_config, collision_y_config,\n",
    "    collision_2d_config, collision_nh_config,\n",
    ")\n",
    "from aiphy.experiment.ground_laboratory import (\n",
    "    gravity_config, free_fall_config,\n",
    "    projectile_config, oblique_projectile_x_config, oblique_projectile_y_config,\n",
    "    oblique_projectile_config, vertical_projectile_config,\n",
    "    hanging_spring_1_config, hanging_spring_2_config, hanging_spring_3_config,\n",
    "    pendulum_oscillation_1_config, pendulum_oscillation_2_config,\n",
    "    slope_oscillation_1_config, slope_oscillation_2_config,\n",
    "    projectile_oscillation_1_config, projectile_oscillation_2_config,\n",
    ")\n",
    "from aiphy.experiment.oscillation import (\n",
    "    oscillation_x_1_config, oscillation_x_2_config, oscillation_x_3_config,\n",
    "    oscillation_2d_1_config, oscillation_2d_2_config, oscillation_2d_3_config,\n",
    "    oscillation_r_3_config, oscillation_r_4_config,\n",
    "    oscillation_rot_1_config, oscillation_rot_2_config, oscillation_rot_3_config,\n",
    ")\n",
    "from aiphy.experiment.cosmos import (\n",
    "    celestial_2_xy_config, celestial_2_xz_config, celestial_2_yz_config,\n",
    "    celestial_3_config, celestial_4_config,\n",
    ")\n"
   ]
  },
  {
   "cell_type": "code",
   "execution_count": 2,
   "metadata": {},
   "outputs": [],
   "source": [
    "rd = Theorist.read_from_file\n",
    "wr = Theorist.save_to_file\n",
    "debug_file = \"data/human/jds\""
   ]
  },
  {
   "cell_type": "markdown",
   "metadata": {},
   "source": [
    "register experiments"
   ]
  },
  {
   "cell_type": "code",
   "execution_count": 3,
   "metadata": {},
   "outputs": [],
   "source": [
    "theorist = Theorist.read_from_file(debug_file)"
   ]
  },
  {
   "cell_type": "code",
   "execution_count": 4,
   "metadata": {},
   "outputs": [],
   "source": [
    "# theorist = Theorist()\n",
    "# # Register imported experiments\n",
    "# theorist.register_experiment(motion0_3d_config())\n",
    "# theorist.register_experiment(motion_3d_config())\n",
    "# theorist.register_experiment(collision_elastic_3body_config())\n",
    "# theorist.register_experiment(collision_y_config())\n",
    "# theorist.register_experiment(collision_2d_config())\n",
    "# theorist.register_experiment(collision_nh_config())\n",
    "\n",
    "# theorist.register_experiment(gravity_config())\n",
    "# theorist.register_experiment(free_fall_config())\n",
    "# theorist.register_experiment(projectile_config())\n",
    "# theorist.register_experiment(oblique_projectile_x_config())\n",
    "# theorist.register_experiment(oblique_projectile_y_config())\n",
    "# theorist.register_experiment(oblique_projectile_config())\n",
    "# theorist.register_experiment(vertical_projectile_config())\n",
    "# theorist.register_experiment(hanging_spring_1_config())\n",
    "# theorist.register_experiment(hanging_spring_2_config())\n",
    "# theorist.register_experiment(hanging_spring_3_config())\n",
    "# theorist.register_experiment(pendulum_oscillation_1_config())\n",
    "# theorist.register_experiment(pendulum_oscillation_2_config())\n",
    "# theorist.register_experiment(slope_oscillation_1_config())\n",
    "# theorist.register_experiment(slope_oscillation_2_config())\n",
    "# theorist.register_experiment(projectile_oscillation_1_config())\n",
    "# theorist.register_experiment(projectile_oscillation_2_config())\n",
    "\n",
    "# theorist.register_experiment(oscillation_x_1_config())\n",
    "# theorist.register_experiment(oscillation_x_2_config())\n",
    "# theorist.register_experiment(oscillation_x_3_config())\n",
    "# theorist.register_experiment(oscillation_2d_1_config())\n",
    "# theorist.register_experiment(oscillation_2d_2_config())\n",
    "# theorist.register_experiment(oscillation_2d_3_config())\n",
    "# theorist.register_experiment(oscillation_r_3_config())\n",
    "# theorist.register_experiment(oscillation_r_4_config())\n",
    "# theorist.register_experiment(oscillation_rot_1_config())\n",
    "# theorist.register_experiment(oscillation_rot_2_config())\n",
    "# theorist.register_experiment(oscillation_rot_3_config())\n",
    "\n",
    "# theorist.register_experiment(celestial_2_xy_config())\n",
    "# theorist.register_experiment(celestial_2_xz_config())\n",
    "# theorist.register_experiment(celestial_2_yz_config())\n",
    "# theorist.register_experiment(celestial_3_config())\n",
    "# theorist.register_experiment(celestial_4_config())"
   ]
  },
  {
   "cell_type": "markdown",
   "metadata": {},
   "source": [
    "define alias"
   ]
  },
  {
   "cell_type": "code",
   "execution_count": 5,
   "metadata": {},
   "outputs": [],
   "source": [
    "prc = theorist.print_concepts\n",
    "prg = theorist.print_general_laws\n",
    "debugger = Debugger(theorist)"
   ]
  },
  {
   "cell_type": "code",
   "execution_count": 6,
   "metadata": {},
   "outputs": [
    {
     "name": "stdout",
     "output_type": "stream",
     "text": [
      "Saving knowledge to data/human/jds_knowledge.txt \n",
      "\n"
     ]
    }
   ],
   "source": [
    "theorist.save_to_file(debug_file)"
   ]
  },
  {
   "cell_type": "markdown",
   "metadata": {},
   "source": [
    "## Test: find energy conservation on ground"
   ]
  },
  {
   "cell_type": "markdown",
   "metadata": {},
   "source": [
    "### find intrinsic: **oringinal length** of a spring"
   ]
  },
  {
   "cell_type": "code",
   "execution_count": 7,
   "metadata": {},
   "outputs": [
    {
     "data": {
      "text/plain": [
       "(t, length, posx, posy, posz, dist)"
      ]
     },
     "execution_count": 7,
     "metadata": {},
     "output_type": "execute_result"
    }
   ],
   "source": [
    "t = debugger.check_concept_discovered(Concept(\"(1->Clock) |- t[1]\"), \"t\")\n",
    "len = debugger.check_concept_discovered(Concept(\"(1->Spring) |- length[1]\"), \"len\")\n",
    "posx = debugger.check_concept_discovered(Concept(\"(1->Particle) |- posx[1]\"), \"posx\")\n",
    "posy = debugger.check_concept_discovered(Concept(\"(1->Particle) |- posy[1]\"), \"posy\")\n",
    "posz = debugger.check_concept_discovered(Concept(\"(1->Particle) |- posz[1]\"), \"posz\")\n",
    "dist = debugger.check_concept_discovered(Concept(\"(1->Particle) (2->Particle) |- dist[1, 2]\"), \"dist\")\n",
    "\n",
    "t, len, posx, posy, posz, dist"
   ]
  },
  {
   "cell_type": "code",
   "execution_count": 8,
   "metadata": {},
   "outputs": [
    {
     "name": "stdout",
     "output_type": "stream",
     "text": [
      "\n",
      "\n",
      "########## \u001b[1mstringmotion0\u001b[0m ##########\n",
      "\n",
      "\n",
      "Selected concepts: ['length', 't']\n",
      "Try to complete invalid general laws\n",
      "Finish trying to complete incomplete general laws\n",
      "Fixing general laws.\n",
      "Try to convert conserved general laws to zero ones\n",
      "Finish trying to convert conserved general laws to zero ones\n",
      "Found 7 relations\n",
      "Begin filtering relations\n",
      "After filtering, 1 relations left\n",
      "Propose new proposition: length[1] is conserved\n"
     ]
    },
    {
     "name": "stderr",
     "output_type": "stream",
     "text": [
      "Add to Specific model: 100%|██████████| 1/1 [00:00<00:00, 31.89it/s]\n"
     ]
    },
    {
     "name": "stdout",
     "output_type": "stream",
     "text": [
      "Reducing 1 conclusions\n"
     ]
    },
    {
     "name": "stderr",
     "output_type": "stream",
     "text": [
      "Reduce Conclusions: 100%|██████████| 1/1 [00:00<00:00, 16.88it/s]"
     ]
    },
    {
     "name": "stdout",
     "output_type": "stream",
     "text": [
      "Insert to ideal: length[1] is conserved\n",
      "calc_relations between  {'P1'}\n",
      "Found 0 relations between conserved quantities\n"
     ]
    },
    {
     "name": "stderr",
     "output_type": "stream",
     "text": [
      "\n"
     ]
    },
    {
     "name": "stdout",
     "output_type": "stream",
     "text": [
      "Reducing 1 conclusions\n"
     ]
    },
    {
     "name": "stderr",
     "output_type": "stream",
     "text": [
      "Reduce Conclusions: 100%|██████████| 1/1 [00:00<00:00, 17.30it/s]"
     ]
    },
    {
     "name": "stdout",
     "output_type": "stream",
     "text": [
      "Insert to ideal: length[1] is conserved\n",
      "Fixing general laws.\n",
      "Found intrinsic relation: length[1] with relevant_id = [1]\n"
     ]
    },
    {
     "name": "stderr",
     "output_type": "stream",
     "text": [
      "\n"
     ]
    },
    {
     "name": "stdout",
     "output_type": "stream",
     "text": [
      "\u001b[1mRegistered New Onebody Intrinsic Concept: C_01 = [#stringmotion0 (1->Spring) |- length[1]]\u001b[0m\n",
      "\u001b[1mRegistered New Concept: C_01 = [#stringmotion0 (1->Spring) |- length[1]]\u001b[0m\n",
      "Total rewards: 2\n",
      "Saving knowledge to data/human/jds_knowledge.txt \n",
      "\n"
     ]
    }
   ],
   "source": [
    "debugger.work(\"stringmotion0\", name_list=[len, posx, t])\n",
    "theorist.save_to_file(debug_file)"
   ]
  },
  {
   "cell_type": "code",
   "execution_count": 9,
   "metadata": {},
   "outputs": [
    {
     "data": {
      "text/plain": [
       "C_01"
      ]
     },
     "execution_count": 9,
     "metadata": {},
     "output_type": "execute_result"
    }
   ],
   "source": [
    "freel = debugger.check_concept_discovered(Intrinsic(f\"[#stringmotion0 (1->Spring) |- {len(1)}]\"), \"freel\")\n",
    "freel"
   ]
  },
  {
   "cell_type": "markdown",
   "metadata": {},
   "source": [
    "### find dynamic: **strach length** (may with a minus) of a spring"
   ]
  },
  {
   "cell_type": "code",
   "execution_count": 10,
   "metadata": {},
   "outputs": [
    {
     "name": "stdout",
     "output_type": "stream",
     "text": [
      "\n",
      "\n",
      "########## \u001b[1mstringmotion0\u001b[0m ##########\n",
      "\n",
      "\n",
      "Selected concepts: ['length', 't']\n",
      "Try to complete invalid general laws\n",
      "Finish trying to complete incomplete general laws\n",
      "Fixing general laws.\n",
      "Try to convert conserved general laws to zero ones\n",
      "Finish trying to convert conserved general laws to zero ones\n",
      "Found 7 relations\n",
      "Begin filtering relations\n",
      "After filtering, 0 relations left\n"
     ]
    },
    {
     "name": "stderr",
     "output_type": "stream",
     "text": [
      "Add to Specific model: 0it [00:00, ?it/s]\n"
     ]
    },
    {
     "name": "stdout",
     "output_type": "stream",
     "text": [
      "Reducing 1 conclusions\n"
     ]
    },
    {
     "name": "stderr",
     "output_type": "stream",
     "text": [
      "Reduce Conclusions:   0%|          | 0/1 [00:00<?, ?it/s]"
     ]
    },
    {
     "name": "stdout",
     "output_type": "stream",
     "text": [
      "Insert to ideal: length[1] is conserved\n"
     ]
    },
    {
     "name": "stderr",
     "output_type": "stream",
     "text": [
      "Reduce Conclusions: 100%|██████████| 1/1 [00:00<00:00, 14.22it/s]"
     ]
    },
    {
     "name": "stdout",
     "output_type": "stream",
     "text": [
      "calc_relations between  {'P1', 'C_01[1]'}\n",
      "Found 2 relations between conserved quantities\n"
     ]
    },
    {
     "name": "stderr",
     "output_type": "stream",
     "text": [
      "\n"
     ]
    },
    {
     "name": "stdout",
     "output_type": "stream",
     "text": [
      "Reducing 2 conclusions\n"
     ]
    },
    {
     "name": "stderr",
     "output_type": "stream",
     "text": [
      "Reduce Conclusions:   0%|          | 0/2 [00:00<?, ?it/s]"
     ]
    },
    {
     "name": "stdout",
     "output_type": "stream",
     "text": [
      "Insert to ideal: length[1] is conserved\n"
     ]
    },
    {
     "name": "stderr",
     "output_type": "stream",
     "text": [
      "Reduce Conclusions: 100%|██████████| 2/2 [00:00<00:00,  9.63it/s]\n"
     ]
    },
    {
     "name": "stdout",
     "output_type": "stream",
     "text": [
      "Insert to ideal: (C_01[1] + (-1 * length[1])) is zero\n",
      "Possible general law: (1->Spring) |- (C_01[1] + (-1 * length[1])) is IsZero. Register it as both concept and law.\n",
      "\u001b[1mRegistered New Concept: C_02 = (1->Spring) |- (C_01[1] + (-1 * length[1]))\u001b[0m\n",
      "Fixing general laws.\n",
      "Found intrinsic relation: length[1] with relevant_id = [1]\n",
      "Total rewards: 1\n",
      "Saving knowledge to data/human/jds_knowledge.txt \n",
      "\n"
     ]
    }
   ],
   "source": [
    "debugger.work(\"stringmotion0\", intrinsic_mode=1, name_list=[len, t])\n",
    "theorist.save_to_file(debug_file)"
   ]
  },
  {
   "cell_type": "code",
   "execution_count": 11,
   "metadata": {},
   "outputs": [
    {
     "data": {
      "text/plain": [
       "-C_02"
      ]
     },
     "execution_count": 11,
     "metadata": {},
     "output_type": "execute_result"
    }
   ],
   "source": [
    "deltax = debugger.check_concept_discovered(len-freel, \"deltax\")\n",
    "deltax"
   ]
  },
  {
   "cell_type": "markdown",
   "metadata": {},
   "source": [
    "### find intrinsic: **mass** (may be with a minus) of a particle"
   ]
  },
  {
   "cell_type": "code",
   "execution_count": 12,
   "metadata": {},
   "outputs": [
    {
     "name": "stdout",
     "output_type": "stream",
     "text": [
      "\n",
      "\n",
      "########## \u001b[1mgravity\u001b[0m ##########\n",
      "\n",
      "\n",
      "Selected concepts: ['C_02']\n",
      "Try to complete invalid general laws\n",
      "Finish trying to complete incomplete general laws\n",
      "Fixing general laws.\n",
      "Try to convert conserved general laws to zero ones\n",
      "Finish trying to convert conserved general laws to zero ones\n",
      "Found 1 relations\n",
      "Begin filtering relations\n",
      "After filtering, 4 relations left\n",
      "Propose new proposition: posx[1] is zero\n",
      "Propose new proposition: posy[1] is zero\n",
      "Propose new proposition: (posz[1] + length[2]) is conserved\n",
      "Propose new proposition: C_02[2] is conserved\n"
     ]
    },
    {
     "name": "stderr",
     "output_type": "stream",
     "text": [
      "Add to Specific model: 100%|██████████| 4/4 [00:00<00:00, 22.81it/s]\n"
     ]
    },
    {
     "name": "stdout",
     "output_type": "stream",
     "text": [
      "Reducing 4 conclusions\n"
     ]
    },
    {
     "name": "stderr",
     "output_type": "stream",
     "text": [
      "Reduce Conclusions:   0%|          | 0/4 [00:00<?, ?it/s]"
     ]
    },
    {
     "name": "stdout",
     "output_type": "stream",
     "text": [
      "Insert to ideal: posx[1] is zero\n"
     ]
    },
    {
     "name": "stderr",
     "output_type": "stream",
     "text": [
      "Reduce Conclusions:  25%|██▌       | 1/4 [00:00<00:01,  2.30it/s]"
     ]
    },
    {
     "name": "stdout",
     "output_type": "stream",
     "text": [
      "Insert to ideal: posy[1] is zero\n"
     ]
    },
    {
     "name": "stderr",
     "output_type": "stream",
     "text": [
      "Reduce Conclusions:  50%|█████     | 2/4 [00:00<00:00,  2.30it/s]"
     ]
    },
    {
     "name": "stdout",
     "output_type": "stream",
     "text": [
      "Insert to ideal: (posz[1] + length[2]) is conserved\n"
     ]
    },
    {
     "name": "stderr",
     "output_type": "stream",
     "text": [
      "Reduce Conclusions: 100%|██████████| 4/4 [00:01<00:00,  2.90it/s]\n"
     ]
    },
    {
     "name": "stdout",
     "output_type": "stream",
     "text": [
      "Insert to ideal: C_02[2] is conserved\n",
      "calc_relations between  {'P1', 'P4', 'C_01[2]'}\n",
      "Found 2 relations between conserved quantities\n",
      "Reducing 4 conclusions\n"
     ]
    },
    {
     "name": "stderr",
     "output_type": "stream",
     "text": [
      "Reduce Conclusions:   0%|          | 0/4 [00:00<?, ?it/s]"
     ]
    },
    {
     "name": "stdout",
     "output_type": "stream",
     "text": [
      "Insert to ideal: posx[1] is zero\n"
     ]
    },
    {
     "name": "stderr",
     "output_type": "stream",
     "text": [
      "Reduce Conclusions:  25%|██▌       | 1/4 [00:00<00:01,  2.24it/s]"
     ]
    },
    {
     "name": "stdout",
     "output_type": "stream",
     "text": [
      "Insert to ideal: posy[1] is zero\n"
     ]
    },
    {
     "name": "stderr",
     "output_type": "stream",
     "text": [
      "Reduce Conclusions:  50%|█████     | 2/4 [00:00<00:00,  2.21it/s]"
     ]
    },
    {
     "name": "stdout",
     "output_type": "stream",
     "text": [
      "Insert to ideal: (posz[1] + length[2]) is conserved\n"
     ]
    },
    {
     "name": "stderr",
     "output_type": "stream",
     "text": [
      "Reduce Conclusions: 100%|██████████| 4/4 [00:01<00:00,  2.83it/s]"
     ]
    },
    {
     "name": "stdout",
     "output_type": "stream",
     "text": [
      "Insert to ideal: C_02[2] is conserved\n",
      "Possible general law: (1->Spring) |- C_02[1] is IsConserved. Register it as both concept and law.\n",
      "Fixing general laws.\n"
     ]
    },
    {
     "name": "stderr",
     "output_type": "stream",
     "text": [
      "\n"
     ]
    },
    {
     "name": "stdout",
     "output_type": "stream",
     "text": [
      "Found intrinsic relation: C_02[2] with relevant_id = [1]\n",
      "\u001b[1mRegistered New Onebody Intrinsic Concept: C_06 = [#gravity (1->Particle) |- C_02[2]]\u001b[0m\n",
      "\u001b[1mRegistered New Concept: C_06 = [#gravity (1->Particle) |- C_02[2]]\u001b[0m\n",
      "Found intrinsic relation: ((posz[1] + length[2]) + C_02[2]) with relevant_id = [2]\n",
      "Found intrinsic relation: (C_01[2] + (-1 * (posz[1] + length[2]))) with relevant_id = [1]\n",
      "Total rewards: 2\n",
      "Saving knowledge to data/human/jds_knowledge.txt \n",
      "\n"
     ]
    }
   ],
   "source": [
    "debugger.work(\"gravity\", intrinsic_mode=1, name_list=[deltax])\n",
    "theorist.save_to_file(debug_file)"
   ]
  },
  {
   "cell_type": "code",
   "execution_count": 13,
   "metadata": {},
   "outputs": [
    {
     "data": {
      "text/plain": [
       "-C_06"
      ]
     },
     "execution_count": 13,
     "metadata": {},
     "output_type": "execute_result"
    }
   ],
   "source": [
    "mass = debugger.check_concept_discovered(Intrinsic(f\"[#gravity (1->Particle) |- {deltax(2)}]\"), \"mass\")\n",
    "mass"
   ]
  },
  {
   "cell_type": "markdown",
   "metadata": {},
   "source": [
    "### find dynamic: $v_x$, $v_y$, $a_x$ and $a_y$ of a particle"
   ]
  },
  {
   "cell_type": "code",
   "execution_count": 14,
   "metadata": {},
   "outputs": [
    {
     "name": "stdout",
     "output_type": "stream",
     "text": [
      "\n",
      "\n",
      "########## \u001b[1mmotion0_3d\u001b[0m ##########\n",
      "\n",
      "\n",
      "Selected concepts: ['posx', 't', 'posy']\n",
      "Try to complete invalid general laws\n",
      "Finish trying to complete incomplete general laws\n",
      "Fixing general laws.\n",
      "Try to convert conserved general laws to zero ones\n",
      "Finish trying to convert conserved general laws to zero ones\n",
      "\u001b[1mRegistered New Concept: C_07 = (1->Particle) |- D[posx[1]]/D[t[0]]\u001b[0m\n",
      "Possible general law: (1->Particle) |- D[C_07[1]]/D[t[0]] is IsZero. Register it as both concept and law.\n",
      "\u001b[1mRegistered New Concept: C_08 = (1->Particle) |- D[C_07[1]]/D[t[0]]\u001b[0m\n",
      "\u001b[1mRegistered new general law: R_01 = GeneralLaw(name=R_01, type=IsZero, indication=ForAll, prop=(1->Particle) |- C_08[1] is zero, valid_experiments=['motion0_3d', 'hanging_spring_1', 'oscillationy', 'collision', 'celestial_2_yz', 'oblique_projectile', 'motion0', 'motiony', 'collision_nh', 'projectile', 'gravity', 'vertical_projectile', 'oblique_projectile_x', 'collision_elastic_3body', 'collision_2d', 'collision_y', 'hanging_spring_2', 'hanging_spring_3', 'motion0y', 'oblique_projectile_y', 'free_fall'], father=None)\u001b[0m\n",
      "\u001b[1mRegistered New Concept: C_09 = (1->Particle) |- D[posy[1]]/D[t[0]]\u001b[0m\n",
      "Possible general law: (1->Particle) |- D[C_09[1]]/D[t[0]] is IsZero. Register it as both concept and law.\n",
      "\u001b[1mRegistered New Concept: C_10 = (1->Particle) |- D[C_09[1]]/D[t[0]]\u001b[0m\n",
      "\u001b[1mRegistered new general law: R_02 = GeneralLaw(name=R_02, type=IsZero, indication=ForAll, prop=(1->Particle) |- C_10[1] is zero, valid_experiments=['motion0_3d', 'hanging_spring_1', 'collision', 'oblique_projectile', 'oscillation_x_3', 'motion0', 'motion', 'collision_nh', 'oscillation', 'projectile', 'gravity', 'vertical_projectile', 'oblique_projectile_x', 'oscillation_x_2', 'collision_elastic_3body', 'pendulum_oscillation_2', 'collision_2d', 'collision_y', 'pendulum_oscillation_1', 'hanging_spring_2', 'celestial_2_xz', 'hanging_spring_3', 'motion0y', 'oscillation_x_1', 'oblique_projectile_y', 'free_fall'], father=None)\u001b[0m\n",
      "Found 20 relations\n",
      "Begin filtering relations\n",
      "After filtering, 3 relations left\n",
      "Propose new proposition: posz[1] is zero\n",
      "Propose new proposition: D[posy[1]]/D[t[0]] is conserved\n",
      "Propose new proposition: D[posx[1]]/D[t[0]] is conserved\n"
     ]
    },
    {
     "name": "stderr",
     "output_type": "stream",
     "text": [
      "Add to Specific model: 100%|██████████| 3/3 [00:00<00:00, 13.61it/s]\n"
     ]
    },
    {
     "name": "stdout",
     "output_type": "stream",
     "text": [
      "Reducing 3 conclusions\n"
     ]
    },
    {
     "name": "stderr",
     "output_type": "stream",
     "text": [
      "Reduce Conclusions:   0%|          | 0/3 [00:00<?, ?it/s]"
     ]
    },
    {
     "name": "stdout",
     "output_type": "stream",
     "text": [
      "Insert to ideal: posz[1] is zero\n"
     ]
    },
    {
     "name": "stderr",
     "output_type": "stream",
     "text": [
      "Reduce Conclusions:  33%|███▎      | 1/3 [00:00<00:00,  2.26it/s]"
     ]
    },
    {
     "name": "stdout",
     "output_type": "stream",
     "text": [
      "Insert to ideal: D[posy[1]]/D[t[0]] is conserved\n"
     ]
    },
    {
     "name": "stderr",
     "output_type": "stream",
     "text": [
      "Reduce Conclusions: 100%|██████████| 3/3 [00:01<00:00,  1.95it/s]\n"
     ]
    },
    {
     "name": "stdout",
     "output_type": "stream",
     "text": [
      "Insert to ideal: D[posx[1]]/D[t[0]] is conserved\n",
      "calc_relations between  {'P2', 'P3', 'C_06[1]'}\n",
      "Found 0 relations between conserved quantities\n",
      "Reducing 3 conclusions\n"
     ]
    },
    {
     "name": "stderr",
     "output_type": "stream",
     "text": [
      "Reduce Conclusions:   0%|          | 0/3 [00:00<?, ?it/s]"
     ]
    },
    {
     "name": "stdout",
     "output_type": "stream",
     "text": [
      "Insert to ideal: posz[1] is zero\n"
     ]
    },
    {
     "name": "stderr",
     "output_type": "stream",
     "text": [
      "Reduce Conclusions:  33%|███▎      | 1/3 [00:00<00:00,  2.23it/s]"
     ]
    },
    {
     "name": "stdout",
     "output_type": "stream",
     "text": [
      "Insert to ideal: D[posy[1]]/D[t[0]] is conserved\n"
     ]
    },
    {
     "name": "stderr",
     "output_type": "stream",
     "text": [
      "Reduce Conclusions: 100%|██████████| 3/3 [00:01<00:00,  1.95it/s]"
     ]
    },
    {
     "name": "stdout",
     "output_type": "stream",
     "text": [
      "Insert to ideal: D[posx[1]]/D[t[0]] is conserved\n",
      "Fixing general laws.\n",
      "Try to reduce R_02\n",
      "--- R_02 is marked as useful\n",
      "Update diffalg for existing marked general laws\n",
      "Finish updating diffalg\n",
      "Try to reduce R_01\n",
      "--- R_01 is marked as useful\n",
      "Update diffalg for existing marked general laws\n",
      "Finish updating diffalg\n",
      "Total rewards: 4\n",
      "Saving knowledge to data/human/jds_knowledge.txt \n",
      "\n"
     ]
    },
    {
     "name": "stderr",
     "output_type": "stream",
     "text": [
      "\n"
     ]
    }
   ],
   "source": [
    "debugger.work(\"motion0_3d\", name_list=[posx, posy, posz, t])\n",
    "theorist.save_to_file(debug_file)"
   ]
  },
  {
   "cell_type": "code",
   "execution_count": 15,
   "metadata": {},
   "outputs": [
    {
     "data": {
      "text/plain": [
       "(C_07, C_09, C_08, C_10)"
      ]
     },
     "execution_count": 15,
     "metadata": {},
     "output_type": "execute_result"
    }
   ],
   "source": [
    "vx = debugger.check_concept_discovered(posx.diff(), \"vx\")\n",
    "vy = debugger.check_concept_discovered(posy.diff(), \"vy\")\n",
    "ax = debugger.check_concept_discovered(vx.diff(1), \"ax\")\n",
    "ay = debugger.check_concept_discovered(vy.diff(1), \"ay\")\n",
    "vx, vy, ax, ay"
   ]
  },
  {
   "cell_type": "code",
   "execution_count": 16,
   "metadata": {},
   "outputs": [
    {
     "data": {
      "text/plain": [
       "'R_01'"
      ]
     },
     "execution_count": 16,
     "metadata": {},
     "output_type": "execute_result"
    }
   ],
   "source": [
    "prop_ax = debugger.check_law(ax.gen_prop(\"Zero\"))\n",
    "prop_ax"
   ]
  },
  {
   "cell_type": "code",
   "execution_count": 17,
   "metadata": {},
   "outputs": [
    {
     "data": {
      "text/plain": [
       "'R_02'"
      ]
     },
     "execution_count": 17,
     "metadata": {},
     "output_type": "execute_result"
    }
   ],
   "source": [
    "prop_ay = debugger.check_law(ay.gen_prop(\"Zero\"))\n",
    "prop_ay"
   ]
  },
  {
   "cell_type": "markdown",
   "metadata": {},
   "source": [
    "### find dynamic: $v_z$ and $a_z$ of a particle"
   ]
  },
  {
   "cell_type": "code",
   "execution_count": 18,
   "metadata": {},
   "outputs": [
    {
     "name": "stdout",
     "output_type": "stream",
     "text": [
      "\n",
      "\n",
      "########## \u001b[1mmotion_3d\u001b[0m ##########\n",
      "\n",
      "\n",
      "Selected concepts: ['posz', 'posx', 'C_07', 't', 'posy']\n",
      "Try to complete invalid general laws\n",
      "- Try to complete R_01\n",
      "- Try to complete R_02\n",
      "Finish trying to complete incomplete general laws\n",
      "Fixing general laws.\n",
      "Try to convert conserved general laws to zero ones\n",
      "Finish trying to convert conserved general laws to zero ones\n",
      "\u001b[1mRegistered New Concept: C_13 = (1->Particle) |- D[posz[1]]/D[t[0]]\u001b[0m\n",
      "Found 58 relations\n",
      "Begin filtering relations\n",
      "After filtering, 13 relations left\n",
      "Propose new proposition: cy[2] is conserved\n",
      "Propose new proposition: cz[2] is conserved\n",
      "Propose new proposition: cx[2] is conserved\n",
      "Propose new proposition: D[C_13[1]]/D[t[0]] is conserved\n",
      "Propose new proposition: D[C_07[1]]/D[t[0]] is conserved\n",
      "Propose new proposition: D[posy[1]]/D[posz[1]] is conserved\n",
      "Propose new proposition: D[posy[1]]/D[posx[1]] is conserved\n",
      "Propose new proposition: D[posx[1]]/D[posz[1]] is conserved\n",
      "Propose new proposition: ((cy[2] * posx[1]) - (cx[2] * posy[1])) is conserved\n",
      "Propose new proposition: (((cx[2] * posx[1]) + (cy[2] * posy[1])) + (cz[2] * posz[1])) is conserved\n",
      "Propose new proposition: D[(C_07[1] * C_07[1])]/D[posz[1]] is conserved\n",
      "Propose new proposition: D[(C_07[1] * C_07[1])]/D[posx[1]] is conserved\n",
      "Propose new proposition: D[(C_07[1] * C_07[1])]/D[posy[1]] is conserved\n"
     ]
    },
    {
     "name": "stderr",
     "output_type": "stream",
     "text": [
      "Add to Specific model: 100%|██████████| 13/13 [00:00<00:00, 19.58it/s]\n"
     ]
    },
    {
     "name": "stdout",
     "output_type": "stream",
     "text": [
      "Reducing 13 conclusions\n"
     ]
    },
    {
     "name": "stderr",
     "output_type": "stream",
     "text": [
      "Reduce Conclusions:   0%|          | 0/13 [00:00<?, ?it/s]"
     ]
    },
    {
     "name": "stdout",
     "output_type": "stream",
     "text": [
      "Insert to ideal: cx[2] is conserved\n"
     ]
    },
    {
     "name": "stderr",
     "output_type": "stream",
     "text": [
      "Reduce Conclusions:   8%|▊         | 1/13 [00:00<00:06,  1.75it/s]"
     ]
    },
    {
     "name": "stdout",
     "output_type": "stream",
     "text": [
      "Insert to ideal: cy[2] is conserved\n"
     ]
    },
    {
     "name": "stderr",
     "output_type": "stream",
     "text": [
      "Reduce Conclusions:  15%|█▌        | 2/13 [00:01<00:06,  1.79it/s]"
     ]
    },
    {
     "name": "stdout",
     "output_type": "stream",
     "text": [
      "Insert to ideal: cz[2] is conserved\n"
     ]
    },
    {
     "name": "stderr",
     "output_type": "stream",
     "text": [
      "Reduce Conclusions:  23%|██▎       | 3/13 [00:02<00:05,  1.80it/s]"
     ]
    },
    {
     "name": "stdout",
     "output_type": "stream",
     "text": [
      "Insert to ideal: D[C_13[1]]/D[t[0]] is conserved\n"
     ]
    },
    {
     "name": "stderr",
     "output_type": "stream",
     "text": [
      "Reduce Conclusions:  31%|███       | 4/13 [00:03<00:06,  1.44it/s]"
     ]
    },
    {
     "name": "stdout",
     "output_type": "stream",
     "text": [
      "Insert to ideal: D[C_07[1]]/D[t[0]] is conserved\n"
     ]
    },
    {
     "name": "stderr",
     "output_type": "stream",
     "text": [
      "Reduce Conclusions:  38%|███▊      | 5/13 [00:04<00:07,  1.09it/s]"
     ]
    },
    {
     "name": "stdout",
     "output_type": "stream",
     "text": [
      "Insert to ideal: D[posy[1]]/D[posz[1]] is conserved\n"
     ]
    },
    {
     "name": "stderr",
     "output_type": "stream",
     "text": [
      "Reduce Conclusions:  46%|████▌     | 6/13 [00:05<00:07,  1.04s/it]"
     ]
    },
    {
     "name": "stdout",
     "output_type": "stream",
     "text": [
      "Insert to ideal: D[posy[1]]/D[posx[1]] is conserved\n"
     ]
    },
    {
     "name": "stderr",
     "output_type": "stream",
     "text": [
      "Reduce Conclusions:  54%|█████▍    | 7/13 [00:06<00:06,  1.11s/it]"
     ]
    },
    {
     "name": "stdout",
     "output_type": "stream",
     "text": [
      "Insert to ideal: ((cy[2] * posx[1]) - (cx[2] * posy[1])) is conserved\n"
     ]
    },
    {
     "name": "stderr",
     "output_type": "stream",
     "text": [
      "Reduce Conclusions:  69%|██████▉   | 9/13 [00:08<00:03,  1.13it/s]"
     ]
    },
    {
     "name": "stdout",
     "output_type": "stream",
     "text": [
      "Insert to ideal: (((cx[2] * posx[1]) + (cy[2] * posy[1])) + (cz[2] * posz[1])) is conserved\n"
     ]
    },
    {
     "name": "stderr",
     "output_type": "stream",
     "text": [
      "Reduce Conclusions: 100%|██████████| 13/13 [00:09<00:00,  1.44it/s]\n"
     ]
    },
    {
     "name": "stdout",
     "output_type": "stream",
     "text": [
      "calc_relations between  {'P2', 'P6', 'C_06[1]', 'P4', 'P5', 'P9', 'P8', 'P1', 'P7', 'P3'}\n",
      "Found 0 relations between conserved quantities\n",
      "Reducing 9 conclusions\n"
     ]
    },
    {
     "name": "stderr",
     "output_type": "stream",
     "text": [
      "Reduce Conclusions:   0%|          | 0/9 [00:00<?, ?it/s]"
     ]
    },
    {
     "name": "stdout",
     "output_type": "stream",
     "text": [
      "Insert to ideal: cx[2] is conserved\n"
     ]
    },
    {
     "name": "stderr",
     "output_type": "stream",
     "text": [
      "Reduce Conclusions:  11%|█         | 1/9 [00:00<00:04,  1.98it/s]"
     ]
    },
    {
     "name": "stdout",
     "output_type": "stream",
     "text": [
      "Insert to ideal: cy[2] is conserved\n"
     ]
    },
    {
     "name": "stderr",
     "output_type": "stream",
     "text": [
      "Reduce Conclusions:  22%|██▏       | 2/9 [00:01<00:03,  2.00it/s]"
     ]
    },
    {
     "name": "stdout",
     "output_type": "stream",
     "text": [
      "Insert to ideal: cz[2] is conserved\n"
     ]
    },
    {
     "name": "stderr",
     "output_type": "stream",
     "text": [
      "Reduce Conclusions:  33%|███▎      | 3/9 [00:01<00:02,  2.01it/s]"
     ]
    },
    {
     "name": "stdout",
     "output_type": "stream",
     "text": [
      "Insert to ideal: D[C_13[1]]/D[t[0]] is conserved\n"
     ]
    },
    {
     "name": "stderr",
     "output_type": "stream",
     "text": [
      "Reduce Conclusions:  44%|████▍     | 4/9 [00:02<00:03,  1.59it/s]"
     ]
    },
    {
     "name": "stdout",
     "output_type": "stream",
     "text": [
      "Insert to ideal: D[C_07[1]]/D[t[0]] is conserved\n"
     ]
    },
    {
     "name": "stderr",
     "output_type": "stream",
     "text": [
      "Reduce Conclusions:  56%|█████▌    | 5/9 [00:03<00:02,  1.42it/s]"
     ]
    },
    {
     "name": "stdout",
     "output_type": "stream",
     "text": [
      "Insert to ideal: D[posy[1]]/D[posz[1]] is conserved\n"
     ]
    },
    {
     "name": "stderr",
     "output_type": "stream",
     "text": [
      "Reduce Conclusions:  67%|██████▋   | 6/9 [00:04<00:02,  1.33it/s]"
     ]
    },
    {
     "name": "stdout",
     "output_type": "stream",
     "text": [
      "Insert to ideal: D[posy[1]]/D[posx[1]] is conserved\n"
     ]
    },
    {
     "name": "stderr",
     "output_type": "stream",
     "text": [
      "Reduce Conclusions:  78%|███████▊  | 7/9 [00:05<00:01,  1.28it/s]"
     ]
    },
    {
     "name": "stdout",
     "output_type": "stream",
     "text": [
      "Insert to ideal: ((cy[2] * posx[1]) - (cx[2] * posy[1])) is conserved\n"
     ]
    },
    {
     "name": "stderr",
     "output_type": "stream",
     "text": [
      "Reduce Conclusions: 100%|██████████| 9/9 [00:06<00:00,  1.46it/s]"
     ]
    },
    {
     "name": "stdout",
     "output_type": "stream",
     "text": [
      "Insert to ideal: (((cx[2] * posx[1]) + (cy[2] * posy[1])) + (cz[2] * posz[1])) is conserved\n",
      "Possible general law: (1->Particle) |- D[C_13[1]]/D[t[0]] is IsConserved. Register it as both concept and law.\n",
      "\u001b[1mRegistered New Concept: C_16 = (1->Particle) |- D[C_13[1]]/D[t[0]]\u001b[0m\n",
      "\u001b[1mRegistered new general law: R_03 = GeneralLaw(name=R_03, type=IsConserved, indication=ForAll, prop=(1->Particle) |- C_16[1] is conserved, valid_experiments=['motion_3d', 'oscillation_r_3', 'oscillationy', 'collision', 'oscillation_rot_3', 'oblique_projectile', 'oscillation_x_3', 'motion0', 'celestial_2_xy', 'motion', 'motiony', 'oscillation_rot_2', 'collision_nh', 'oscillation', 'projectile', 'gravity', 'vertical_projectile', 'oscillation_r_4', 'oblique_projectile_x', 'oscillation_x_2', 'collision_elastic_3body', 'oscillation_2d_2', 'collision_2d', 'collision_y', 'celestial_3', 'oscillation_rot_1', 'oscillation_2d_3', 'motion0_3d', 'motion0y', 'oscillation_2d_1', 'oscillation_x_1', 'celestial_4', 'oblique_projectile_y', 'free_fall'], father=None)\u001b[0m\n",
      "Possible general law: (1->Particle) |- D[C_07[1]]/D[t[0]] is IsConserved. Register it as both concept and law.\n"
     ]
    },
    {
     "name": "stderr",
     "output_type": "stream",
     "text": [
      "\n"
     ]
    },
    {
     "name": "stdout",
     "output_type": "stream",
     "text": [
      "\u001b[1mRegistered new general law: R_04 = GeneralLaw(name=R_04, type=IsConserved, indication=ForAll, prop=(1->Particle) |- C_08[1] is conserved, valid_experiments=['motion_3d', 'hanging_spring_1', 'oscillationy', 'collision', 'celestial_2_yz', 'oblique_projectile', 'motion0', 'motion', 'motiony', 'collision_nh', 'projectile', 'gravity', 'vertical_projectile', 'oblique_projectile_x', 'collision_elastic_3body', 'collision_2d', 'collision_y', 'hanging_spring_2', 'motion0_3d', 'hanging_spring_3', 'motion0y', 'oblique_projectile_y', 'free_fall'], father=None)\u001b[0m\n",
      "Fixing general laws.\n",
      "Try to reduce R_03\n",
      "--- R_03 is marked as useful\n",
      "Update diffalg for existing marked general laws\n",
      "Finish updating diffalg\n",
      "Total rewards: 5\n",
      "Saving knowledge to data/human/jds_knowledge.txt \n",
      "\n"
     ]
    }
   ],
   "source": [
    "debugger.work(\"motion_3d\", name_list=[vx, posx, posy, posz, t])\n",
    "theorist.save_to_file(debug_file)"
   ]
  },
  {
   "cell_type": "code",
   "execution_count": 19,
   "metadata": {},
   "outputs": [
    {
     "data": {
      "text/plain": [
       "(C_13, C_16)"
      ]
     },
     "execution_count": 19,
     "metadata": {},
     "output_type": "execute_result"
    }
   ],
   "source": [
    "vz = debugger.check_concept_discovered(posz.diff(1), \"vz\")\n",
    "az = debugger.check_concept_discovered(vz.diff(1), \"az\")\n",
    "vz, az"
   ]
  },
  {
   "cell_type": "code",
   "execution_count": 20,
   "metadata": {},
   "outputs": [
    {
     "data": {
      "text/plain": [
       "'R_03'"
      ]
     },
     "execution_count": 20,
     "metadata": {},
     "output_type": "execute_result"
    }
   ],
   "source": [
    "prop_az = debugger.check_law(az.gen_prop(\"Conserved\"))\n",
    "prop_az"
   ]
  },
  {
   "cell_type": "markdown",
   "metadata": {},
   "source": [
    "### find general conclusion: $\\sum_{i\\in\\text{particles}}m_iv^{2}_{x,i}=\\text{const.}$, $\\sum_{i\\in\\text{particles}}m_iv_{x,i}=\\text{const.}$\n",
    "\n",
    "(head of energy conservation)"
   ]
  },
  {
   "cell_type": "code",
   "execution_count": 21,
   "metadata": {},
   "outputs": [
    {
     "name": "stdout",
     "output_type": "stream",
     "text": [
      "\n",
      "\n",
      "########## \u001b[1mcollision\u001b[0m ##########\n",
      "\n",
      "\n",
      "Selected concepts: ['C_06', 'C_07']\n",
      "Try to complete invalid general laws\n",
      "Finish trying to complete incomplete general laws\n",
      "Fixing general laws.\n",
      "Try to convert conserved general laws to zero ones\n",
      "Finish trying to convert conserved general laws to zero ones\n",
      "Found 30 relations\n",
      "Begin filtering relations\n",
      "After filtering, 9 relations left\n",
      "Propose new proposition: posy[2] is zero\n",
      "Propose new proposition: posz[2] is zero\n",
      "Propose new proposition: posy[1] is zero\n",
      "Propose new proposition: posz[1] is zero\n",
      "Propose new proposition: (dist[1, 2] - dist[2, 1]) is zero\n",
      "Propose new proposition: ((dist[1, 2] ** 2) - ((posx[1] - posx[2]) ** 2)) is zero\n",
      "Propose new proposition: ((C_06[1] * C_07[1]) + (C_06[2] * C_07[2])) is conserved\n",
      "Propose new proposition: ((C_06[1] * (C_07[1] ** 2)) + (C_06[2] * (C_07[2] ** 2))) is conserved\n",
      "Propose new proposition: (((C_07[1] ** 2) / C_06[2]) + ((C_07[2] ** 2) / C_06[1])) is conserved\n"
     ]
    },
    {
     "name": "stderr",
     "output_type": "stream",
     "text": [
      "Add to Specific model: 100%|██████████| 9/9 [00:00<00:00, 34.12it/s]\n"
     ]
    },
    {
     "name": "stdout",
     "output_type": "stream",
     "text": [
      "Reducing 9 conclusions\n"
     ]
    },
    {
     "name": "stderr",
     "output_type": "stream",
     "text": [
      "Reduce Conclusions:   0%|          | 0/9 [00:00<?, ?it/s]"
     ]
    },
    {
     "name": "stdout",
     "output_type": "stream",
     "text": [
      "Insert to ideal: posy[2] is zero\n"
     ]
    },
    {
     "name": "stderr",
     "output_type": "stream",
     "text": [
      "Reduce Conclusions:  11%|█         | 1/9 [00:00<00:03,  2.02it/s]"
     ]
    },
    {
     "name": "stdout",
     "output_type": "stream",
     "text": [
      "Insert to ideal: posz[2] is zero\n"
     ]
    },
    {
     "name": "stderr",
     "output_type": "stream",
     "text": [
      "Reduce Conclusions:  22%|██▏       | 2/9 [00:01<00:03,  2.04it/s]"
     ]
    },
    {
     "name": "stdout",
     "output_type": "stream",
     "text": [
      "Insert to ideal: posy[1] is zero\n"
     ]
    },
    {
     "name": "stderr",
     "output_type": "stream",
     "text": [
      "Reduce Conclusions:  33%|███▎      | 3/9 [00:01<00:02,  2.09it/s]"
     ]
    },
    {
     "name": "stdout",
     "output_type": "stream",
     "text": [
      "Insert to ideal: posz[1] is zero\n"
     ]
    },
    {
     "name": "stderr",
     "output_type": "stream",
     "text": [
      "Reduce Conclusions:  44%|████▍     | 4/9 [00:01<00:02,  2.10it/s]"
     ]
    },
    {
     "name": "stdout",
     "output_type": "stream",
     "text": [
      "Insert to ideal: (dist[1, 2] - dist[2, 1]) is zero\n"
     ]
    },
    {
     "name": "stderr",
     "output_type": "stream",
     "text": [
      "Reduce Conclusions:  56%|█████▌    | 5/9 [00:02<00:01,  2.12it/s]"
     ]
    },
    {
     "name": "stdout",
     "output_type": "stream",
     "text": [
      "Insert to ideal: ((dist[1, 2] ** 2) - ((posx[1] - posx[2]) ** 2)) is zero\n"
     ]
    },
    {
     "name": "stderr",
     "output_type": "stream",
     "text": [
      "Reduce Conclusions:  67%|██████▋   | 6/9 [00:03<00:01,  2.08it/s]"
     ]
    },
    {
     "name": "stdout",
     "output_type": "stream",
     "text": [
      "Insert to ideal: ((C_06[1] * C_07[1]) + (C_06[2] * C_07[2])) is conserved\n"
     ]
    },
    {
     "name": "stderr",
     "output_type": "stream",
     "text": [
      "Reduce Conclusions:  78%|███████▊  | 7/9 [00:04<00:01,  1.69it/s]"
     ]
    },
    {
     "name": "stdout",
     "output_type": "stream",
     "text": [
      "Insert to ideal: ((C_06[1] * (C_07[1] ** 2)) + (C_06[2] * (C_07[2] ** 2))) is conserved\n"
     ]
    },
    {
     "name": "stderr",
     "output_type": "stream",
     "text": [
      "Reduce Conclusions: 100%|██████████| 9/9 [00:04<00:00,  1.81it/s]\n"
     ]
    },
    {
     "name": "stdout",
     "output_type": "stream",
     "text": [
      "calc_relations between  {'C_06[2]', 'P8', 'P7', 'C_06[1]'}\n",
      "Found 0 relations between conserved quantities\n",
      "Reducing 8 conclusions\n"
     ]
    },
    {
     "name": "stderr",
     "output_type": "stream",
     "text": [
      "Reduce Conclusions:   0%|          | 0/8 [00:00<?, ?it/s]"
     ]
    },
    {
     "name": "stdout",
     "output_type": "stream",
     "text": [
      "Insert to ideal: posy[2] is zero\n"
     ]
    },
    {
     "name": "stderr",
     "output_type": "stream",
     "text": [
      "Reduce Conclusions:  12%|█▎        | 1/8 [00:00<00:03,  2.23it/s]"
     ]
    },
    {
     "name": "stdout",
     "output_type": "stream",
     "text": [
      "Insert to ideal: posz[2] is zero\n"
     ]
    },
    {
     "name": "stderr",
     "output_type": "stream",
     "text": [
      "Reduce Conclusions:  25%|██▌       | 2/8 [00:01<00:02,  2.14it/s]"
     ]
    },
    {
     "name": "stdout",
     "output_type": "stream",
     "text": [
      "Insert to ideal: posy[1] is zero\n"
     ]
    },
    {
     "name": "stderr",
     "output_type": "stream",
     "text": [
      "Reduce Conclusions:  38%|███▊      | 3/8 [00:01<00:02,  2.17it/s]"
     ]
    },
    {
     "name": "stdout",
     "output_type": "stream",
     "text": [
      "Insert to ideal: posz[1] is zero\n"
     ]
    },
    {
     "name": "stderr",
     "output_type": "stream",
     "text": [
      "Reduce Conclusions:  50%|█████     | 4/8 [00:01<00:01,  2.19it/s]"
     ]
    },
    {
     "name": "stdout",
     "output_type": "stream",
     "text": [
      "Insert to ideal: (dist[1, 2] - dist[2, 1]) is zero\n"
     ]
    },
    {
     "name": "stderr",
     "output_type": "stream",
     "text": [
      "Reduce Conclusions:  62%|██████▎   | 5/8 [00:02<00:01,  2.19it/s]"
     ]
    },
    {
     "name": "stdout",
     "output_type": "stream",
     "text": [
      "Insert to ideal: ((dist[1, 2] ** 2) - ((posx[1] - posx[2]) ** 2)) is zero\n"
     ]
    },
    {
     "name": "stderr",
     "output_type": "stream",
     "text": [
      "Reduce Conclusions:  75%|███████▌  | 6/8 [00:03<00:00,  2.15it/s]"
     ]
    },
    {
     "name": "stdout",
     "output_type": "stream",
     "text": [
      "Insert to ideal: ((C_06[1] * C_07[1]) + (C_06[2] * C_07[2])) is conserved\n"
     ]
    },
    {
     "name": "stderr",
     "output_type": "stream",
     "text": [
      "Reduce Conclusions: 100%|██████████| 8/8 [00:04<00:00,  1.98it/s]"
     ]
    },
    {
     "name": "stdout",
     "output_type": "stream",
     "text": [
      "Insert to ideal: ((C_06[1] * (C_07[1] ** 2)) + (C_06[2] * (C_07[2] ** 2))) is conserved\n",
      "Possible general law: [Sum:Particle] (1->Particle) |- (C_06[1] * (C_07[1] ** 2)) is IsConserved. Register it as both concept and law.\n"
     ]
    },
    {
     "name": "stderr",
     "output_type": "stream",
     "text": [
      "\n"
     ]
    },
    {
     "name": "stdout",
     "output_type": "stream",
     "text": [
      "\u001b[1mRegistered New Concept: C_20 = [Sum:Particle] (1->Particle) |- (C_06[1] * (C_07[1] ** 2))\u001b[0m\n",
      "\u001b[1mRegistered new general law: R_05 = GeneralLaw(name=R_05, type=IsConserved, indication=Sum, prop=|- C_20 is conserved, valid_experiments=['collision', 'hanging_spring_1', 'oscillationy', 'celestial_2_yz', 'oblique_projectile', 'motion0', 'motiony', 'projectile', 'gravity', 'vertical_projectile', 'oblique_projectile_x', 'collision_elastic_3body', 'collision_2d', 'collision_y', 'hanging_spring_2', 'stringmotion0', 'motion0_3d', 'hanging_spring_3', 'motion0y', 'oblique_projectile_y', 'free_fall'], father=None)\u001b[0m\n",
      "Possible general law: [Sum:Particle] (1->Particle) |- (C_06[1] * C_07[1]) is IsConserved. Register it as both concept and law.\n",
      "\u001b[1mRegistered New Concept: C_21 = [Sum:Particle] (1->Particle) |- (C_06[1] * C_07[1])\u001b[0m\n",
      "\u001b[1mRegistered new general law: R_06 = GeneralLaw(name=R_06, type=IsConserved, indication=Sum, prop=|- C_21 is conserved, valid_experiments=['collision', 'oscillation_r_3', 'hanging_spring_1', 'projectile_oscillation_1', 'oscillationy', 'celestial_2_yz', 'projectile_oscillation_2', 'oblique_projectile', 'oscillation_x_3', 'motion0', 'celestial_2_xy', 'motiony', 'collision_nh', 'projectile', 'gravity', 'vertical_projectile', 'oscillation_r_4', 'oblique_projectile_x', 'oscillation_x_2', 'collision_elastic_3body', 'oscillation_2d_2', 'collision_2d', 'collision_y', 'hanging_spring_2', 'stringmotion0', 'celestial_2_xz', 'celestial_3', 'oscillation_2d_3', 'motion0_3d', 'hanging_spring_3', 'motion0y', 'oscillation_2d_1', 'oscillation_x_1', 'celestial_4', 'oblique_projectile_y', 'free_fall'], father=None)\u001b[0m\n",
      "Fixing general laws.\n",
      "\u001b[1mRegistered New Concept: C_23 = (1->Particle) |- (C_06[1] * (C_07[1] ** 2))\u001b[0m\n",
      "\u001b[1mRegistered New Concept: C_25 = (1->Particle) |- (C_06[1] * C_07[1])\u001b[0m\n",
      "Try to reduce R_06\n",
      "--- R_06 is marked as useful\n",
      "Update diffalg for existing marked general laws\n",
      "Check if R_01 should be removed\n",
      "Finish updating diffalg\n",
      "Try to reduce R_05\n",
      "--- R_05 is marked as useful\n",
      "Update diffalg for existing marked general laws\n",
      "Finish updating diffalg\n",
      "Total rewards: 10\n",
      "Saving knowledge to data/human/jds_knowledge.txt \n",
      "\n"
     ]
    }
   ],
   "source": [
    "debugger.work(\"collision\", name_list=[mass, vx, vy, vz])\n",
    "theorist.save_to_file(debug_file)"
   ]
  },
  {
   "cell_type": "code",
   "execution_count": 22,
   "metadata": {},
   "outputs": [
    {
     "data": {
      "text/plain": [
       "(-C_25, -C_23)"
      ]
     },
     "execution_count": 22,
     "metadata": {},
     "output_type": "execute_result"
    }
   ],
   "source": [
    "px = debugger.check_concept_discovered(mass*vx, \"px\")\n",
    "tx = debugger.check_concept_discovered(mass*vx**2, \"tx\")\n",
    "px, tx"
   ]
  },
  {
   "cell_type": "code",
   "execution_count": 23,
   "metadata": {},
   "outputs": [
    {
     "data": {
      "text/plain": [
       "(-C_21, -C_20)"
      ]
     },
     "execution_count": 23,
     "metadata": {},
     "output_type": "execute_result"
    }
   ],
   "source": [
    "sum_px = debugger.check_concept_discovered(px.mksum('Particle'), \"sum_px\")\n",
    "sum_tx = debugger.check_concept_discovered(tx.mksum('Particle'), \"sum_tx\")\n",
    "sum_px, sum_tx"
   ]
  },
  {
   "cell_type": "markdown",
   "metadata": {},
   "source": [
    "### find intrinsic: **elastic coefficient** of a spring"
   ]
  },
  {
   "cell_type": "code",
   "execution_count": 24,
   "metadata": {},
   "outputs": [
    {
     "name": "stdout",
     "output_type": "stream",
     "text": [
      "\n",
      "\n",
      "########## \u001b[1moscillation\u001b[0m ##########\n",
      "\n",
      "\n",
      "Selected concepts: ['C_06', 'C_02', 'C_08']\n",
      "Try to complete invalid general laws\n",
      "- Try to complete R_01\n",
      "- Try to complete R_05\n",
      "- Try to complete R_06\n",
      "Finish trying to complete incomplete general laws\n",
      "Fixing general laws.\n",
      "Try to convert conserved general laws to zero ones\n",
      "Finish trying to convert conserved general laws to zero ones\n",
      "Found 26 relations\n",
      "Begin filtering relations\n",
      "After filtering, 10 relations left\n",
      "Propose new proposition: posz[1] is zero\n",
      "Propose new proposition: posy[1] is zero\n",
      "Propose new proposition: (length[2] - posx[1]) is conserved\n",
      "Propose new proposition: (C_02[2] / C_08[1]) is conserved\n",
      "Propose new proposition: ((C_06[1] * C_08[1]) / C_02[2]) is conserved\n",
      "Propose new proposition: ((C_02[2] * C_06[1]) / C_08[1]) is conserved\n",
      "Propose new proposition: ((C_02[2] * C_06[1]) / (C_06[1] * C_08[1])) is conserved\n",
      "Propose new proposition: ((C_02[2] * C_02[2]) / (C_02[2] * C_08[1])) is conserved\n",
      "Propose new proposition: ((C_02[2] * C_02[2]) / (C_08[1] * C_08[1])) is conserved\n",
      "Propose new proposition: ((C_02[2] * C_08[1]) / (C_08[1] * C_08[1])) is conserved\n"
     ]
    },
    {
     "name": "stderr",
     "output_type": "stream",
     "text": [
      "Add to Specific model: 100%|██████████| 10/10 [00:00<00:00, 17.24it/s]\n"
     ]
    },
    {
     "name": "stdout",
     "output_type": "stream",
     "text": [
      "Reducing 7 conclusions\n"
     ]
    },
    {
     "name": "stderr",
     "output_type": "stream",
     "text": [
      "Reduce Conclusions:   0%|          | 0/7 [00:00<?, ?it/s]"
     ]
    },
    {
     "name": "stdout",
     "output_type": "stream",
     "text": [
      "Insert to ideal: posz[1] is zero\n"
     ]
    },
    {
     "name": "stderr",
     "output_type": "stream",
     "text": [
      "Reduce Conclusions:  14%|█▍        | 1/7 [00:00<00:03,  1.97it/s]"
     ]
    },
    {
     "name": "stdout",
     "output_type": "stream",
     "text": [
      "Insert to ideal: posy[1] is zero\n"
     ]
    },
    {
     "name": "stderr",
     "output_type": "stream",
     "text": [
      "Reduce Conclusions:  29%|██▊       | 2/7 [00:01<00:02,  2.03it/s]"
     ]
    },
    {
     "name": "stdout",
     "output_type": "stream",
     "text": [
      "Insert to ideal: (length[2] - posx[1]) is conserved\n"
     ]
    },
    {
     "name": "stderr",
     "output_type": "stream",
     "text": [
      "Reduce Conclusions:  43%|████▎     | 3/7 [00:01<00:01,  2.03it/s]"
     ]
    },
    {
     "name": "stdout",
     "output_type": "stream",
     "text": [
      "Insert to ideal: (C_02[2] / C_08[1]) is conserved\n"
     ]
    },
    {
     "name": "stderr",
     "output_type": "stream",
     "text": [
      "Reduce Conclusions: 100%|██████████| 7/7 [00:02<00:00,  2.57it/s]\n"
     ]
    },
    {
     "name": "stdout",
     "output_type": "stream",
     "text": [
      "calc_relations between  {'P4', 'C_01[2]', 'P3', 'C_06[1]'}\n",
      "Found 1 relations between conserved quantities\n",
      "Reducing 4 conclusions\n"
     ]
    },
    {
     "name": "stderr",
     "output_type": "stream",
     "text": [
      "Reduce Conclusions:   0%|          | 0/4 [00:00<?, ?it/s]"
     ]
    },
    {
     "name": "stdout",
     "output_type": "stream",
     "text": [
      "Insert to ideal: posz[1] is zero\n"
     ]
    },
    {
     "name": "stderr",
     "output_type": "stream",
     "text": [
      "Reduce Conclusions:  25%|██▌       | 1/4 [00:00<00:01,  2.28it/s]"
     ]
    },
    {
     "name": "stdout",
     "output_type": "stream",
     "text": [
      "Insert to ideal: posy[1] is zero\n"
     ]
    },
    {
     "name": "stderr",
     "output_type": "stream",
     "text": [
      "Reduce Conclusions:  50%|█████     | 2/4 [00:00<00:00,  2.35it/s]"
     ]
    },
    {
     "name": "stdout",
     "output_type": "stream",
     "text": [
      "Insert to ideal: (length[2] - posx[1]) is conserved\n"
     ]
    },
    {
     "name": "stderr",
     "output_type": "stream",
     "text": [
      "Reduce Conclusions: 100%|██████████| 4/4 [00:01<00:00,  2.37it/s]"
     ]
    },
    {
     "name": "stdout",
     "output_type": "stream",
     "text": [
      "Insert to ideal: (C_02[2] / C_08[1]) is conserved\n",
      "Fixing general laws.\n"
     ]
    },
    {
     "name": "stderr",
     "output_type": "stream",
     "text": [
      "\n"
     ]
    },
    {
     "name": "stdout",
     "output_type": "stream",
     "text": [
      "\u001b[1mRegistered New Concept: C_26 = (1->Spring) (2->Particle) |- (C_02[1] / C_08[2])\u001b[0m\n",
      "Found intrinsic relation: ((C_02[2] / C_08[1]) / C_06[1]) with relevant_id = [2]\n",
      "\u001b[1mRegistered New Onebody Intrinsic Concept: C_27 = [#oscillation (2->Spring) |- ((C_02[2] / C_08[1]) / C_06[1])]\u001b[0m\n",
      "\u001b[1mRegistered New Concept: C_27 = [#oscillation (2->Spring) |- ((C_02[2] / C_08[1]) / C_06[1])]\u001b[0m\n",
      "Total rewards: 5\n",
      "Saving knowledge to data/human/jds_knowledge.txt \n",
      "\n"
     ]
    }
   ],
   "source": [
    "debugger.work(\"oscillation\", intrinsic_mode=1, name_list=[mass, deltax, ax])\n",
    "theorist.save_to_file(debug_file)"
   ]
  },
  {
   "cell_type": "code",
   "execution_count": 25,
   "metadata": {},
   "outputs": [
    {
     "data": {
      "text/plain": [
       "-1/C_27"
      ]
     },
     "execution_count": 25,
     "metadata": {},
     "output_type": "execute_result"
    }
   ],
   "source": [
    "k = debugger.check_concept_discovered(Intrinsic(f\"[#oscillation (2->Spring) |- -{ax(1)/(deltax(2)/mass(1))}]\"), \"k\")\n",
    "k"
   ]
  },
  {
   "cell_type": "markdown",
   "metadata": {},
   "source": [
    "### find general conclusion: $\\sum_{i\\in\\text{particles}}T_{x,i}+\\sum_{i\\in\\text{springs}}V^{(\\text{spring})}_{i}=\\text{const.}$\n",
    "\n",
    "### find general conclusion: $\\forall i\\in\\text{particles},\\,a_{x,i}+\\frac{1}{m_i}\\frac{\\partial \\sum_{j\\in\\text{springs}}V^{(\\text{spring})}_{j}}{\\partial x_i}=0.$"
   ]
  },
  {
   "cell_type": "code",
   "execution_count": 26,
   "metadata": {},
   "outputs": [
    {
     "name": "stdout",
     "output_type": "stream",
     "text": [
      "\n",
      "\n",
      "########## \u001b[1moscillation\u001b[0m ##########\n",
      "\n",
      "\n",
      "Selected concepts: ['C_02', 'C_08']\n",
      "Try to complete invalid general laws\n",
      "- Try to complete R_01\n",
      "- Try to complete R_05\n",
      "\u001b[1mRegistered New Concept: C_28 = [Sum:Spring] (1->Spring) |- ((C_02[1] ** 2) * (C_27[1] ** -1))\u001b[0m\n",
      "\u001b[1mRegistered new general law: R_07 = GeneralLaw(name=R_07, type=IsConserved, indication=Sum, prop=|- (C_20 + C_28) is conserved, valid_experiments=['oscillation'], father=R_05)\u001b[0m\n",
      "- Try to complete R_06\n",
      "Finish trying to complete incomplete general laws\n",
      "Fixing general laws.\n",
      "Try to complete invalid general laws again\n",
      "- Try to complete R_01\n",
      "\u001b[1mRegistered new general law: R_08 = GeneralLaw(name=R_08, type=IsZero, indication=ForAll, prop=(1->Particle) |- ((2 * C_08[1]) + (Partial[C_28]/Partial[posx[1]] * (C_06[1] ** -1))) is zero, valid_experiments=['oscillation'], father=R_01)\u001b[0m\n",
      "- Try to complete R_06\n",
      "Finish trying to complete incomplete general laws\n",
      "Fixing general laws.\n",
      "Try to convert conserved general laws to zero ones\n",
      "Finish trying to convert conserved general laws to zero ones\n",
      "Found 13 relations\n",
      "Begin filtering relations\n",
      "After filtering, 3 relations left\n",
      "Propose new proposition: posz[1] is zero\n",
      "Propose new proposition: posy[1] is zero\n",
      "Propose new proposition: (length[2] - posx[1]) is conserved\n"
     ]
    },
    {
     "name": "stderr",
     "output_type": "stream",
     "text": [
      "Add to Specific model: 100%|██████████| 3/3 [00:00<00:00, 7820.33it/s]\n"
     ]
    },
    {
     "name": "stdout",
     "output_type": "stream",
     "text": [
      "Reducing 4 conclusions\n"
     ]
    },
    {
     "name": "stderr",
     "output_type": "stream",
     "text": [
      "Reduce Conclusions:   0%|          | 0/4 [00:00<?, ?it/s]"
     ]
    },
    {
     "name": "stdout",
     "output_type": "stream",
     "text": [
      "Insert to ideal: posz[1] is zero\n"
     ]
    },
    {
     "name": "stderr",
     "output_type": "stream",
     "text": [
      "Reduce Conclusions:  25%|██▌       | 1/4 [00:00<00:01,  2.05it/s]"
     ]
    },
    {
     "name": "stdout",
     "output_type": "stream",
     "text": [
      "Insert to ideal: posy[1] is zero\n"
     ]
    },
    {
     "name": "stderr",
     "output_type": "stream",
     "text": [
      "Reduce Conclusions:  50%|█████     | 2/4 [00:01<00:00,  2.12it/s]"
     ]
    },
    {
     "name": "stdout",
     "output_type": "stream",
     "text": [
      "Insert to ideal: (length[2] - posx[1]) is conserved\n"
     ]
    },
    {
     "name": "stderr",
     "output_type": "stream",
     "text": [
      "Reduce Conclusions: 100%|██████████| 4/4 [00:01<00:00,  2.23it/s]\n"
     ]
    },
    {
     "name": "stdout",
     "output_type": "stream",
     "text": [
      "Insert to ideal: (C_02[2] / C_08[1]) is conserved\n",
      "calc_relations between  {'P4', 'C_27[2]', 'C_01[2]', 'P3', 'C_06[1]'}\n",
      "Found 2 relations between conserved quantities\n",
      "Reducing 4 conclusions\n"
     ]
    },
    {
     "name": "stderr",
     "output_type": "stream",
     "text": [
      "Reduce Conclusions:   0%|          | 0/4 [00:00<?, ?it/s]"
     ]
    },
    {
     "name": "stdout",
     "output_type": "stream",
     "text": [
      "Insert to ideal: posz[1] is zero\n"
     ]
    },
    {
     "name": "stderr",
     "output_type": "stream",
     "text": [
      "Reduce Conclusions:  25%|██▌       | 1/4 [00:00<00:01,  2.27it/s]"
     ]
    },
    {
     "name": "stdout",
     "output_type": "stream",
     "text": [
      "Insert to ideal: posy[1] is zero\n"
     ]
    },
    {
     "name": "stderr",
     "output_type": "stream",
     "text": [
      "Reduce Conclusions:  50%|█████     | 2/4 [00:00<00:00,  2.45it/s]"
     ]
    },
    {
     "name": "stdout",
     "output_type": "stream",
     "text": [
      "Insert to ideal: (length[2] - posx[1]) is conserved\n"
     ]
    },
    {
     "name": "stderr",
     "output_type": "stream",
     "text": [
      "Reduce Conclusions: 100%|██████████| 4/4 [00:01<00:00,  2.46it/s]"
     ]
    },
    {
     "name": "stdout",
     "output_type": "stream",
     "text": [
      "Insert to ideal: (C_02[2] / C_08[1]) is conserved\n",
      "Fixing general laws.\n"
     ]
    },
    {
     "name": "stderr",
     "output_type": "stream",
     "text": [
      "\n"
     ]
    },
    {
     "name": "stdout",
     "output_type": "stream",
     "text": [
      "Found intrinsic relation: ((C_02[2] / C_08[1]) / C_27[2]) with relevant_id = [1]\n",
      "Try to reduce R_07\n",
      "--- R_07 is marked as useful\n",
      "Update diffalg for existing marked general laws\n",
      "Finish updating diffalg\n",
      "Try to reduce R_08\n",
      "--- R_08 is marked as useful\n",
      "Update diffalg for existing marked general laws\n",
      "Check if R_01 should be removed\n",
      "Finish updating diffalg\n",
      "Total rewards: 2\n",
      "Saving knowledge to data/human/jds_knowledge.txt \n",
      "\n"
     ]
    }
   ],
   "source": [
    "debugger.work(\"oscillation\", name_list=[ax, deltax], intrinsic_mode=1)\n",
    "theorist.save_to_file(\"data/human/jds\")"
   ]
  },
  {
   "cell_type": "markdown",
   "metadata": {},
   "source": [
    "inspect which experiments are now not covered by energy conservation"
   ]
  },
  {
   "cell_type": "code",
   "execution_count": 27,
   "metadata": {},
   "outputs": [
    {
     "data": {
      "text/plain": [
       "-C_28"
      ]
     },
     "execution_count": 27,
     "metadata": {},
     "output_type": "execute_result"
    }
   ],
   "source": [
    "sum_vspring = debugger.check_concept_discovered((k*deltax**2).mksum('Spring'), 'sum_vspring')\n",
    "sum_vspring"
   ]
  },
  {
   "cell_type": "code",
   "execution_count": 28,
   "metadata": {},
   "outputs": [
    {
     "data": {
      "text/plain": [
       "'R_07'"
      ]
     },
     "execution_count": 28,
     "metadata": {},
     "output_type": "execute_result"
    }
   ],
   "source": [
    "prop_tx_vk = debugger.check_law((sum_tx + sum_vspring).gen_prop(\"Conserved\"))\n",
    "prop_tx_vk"
   ]
  },
  {
   "cell_type": "code",
   "execution_count": 29,
   "metadata": {},
   "outputs": [
    {
     "name": "stdout",
     "output_type": "stream",
     "text": [
      "GeneralLaw(name=R_07, type=IsConserved, indication=Sum, prop=|- (C_20 + C_28) is conserved, valid_experiments=['oscillation', 'collision', 'celestial_2_yz', 'oblique_projectile', 'oscillation_x_3', 'motion0', 'motiony', 'projectile', 'gravity', 'vertical_projectile', 'oblique_projectile_x', 'oscillation_x_2', 'collision_elastic_3body', 'collision_2d', 'collision_y', 'stringmotion0', 'motion0_3d', 'motion0y', 'oscillation_x_1', 'oblique_projectile_y', 'free_fall'], father=R_05)\n",
      "|- (C_20 + C_28) is conserved\n",
      "|- (C_20 + C_28) is conserved\n",
      "Not valid experiments: \u001b[1m[hanging_spring_1, oscillation_2d_3, celestial_4, slope_oscillation_1, hanging_spring_3, slope_oscillation_2, oscillation_2d_2, celestial_2_xy, hanging_spring_2, oscillation_rot_2, motion_3d, projectile_oscillation_1, oscillation_rot_3, pendulum_oscillation_2, oscillation_rot_1, motion, collision_nh, oscillation_r_3, celestial_2_xz, oscillation_2d_1, pendulum_oscillation_1, oscillation_r_4, oscillationy, projectile_oscillation_2, celestial_3]\u001b[0m\n"
     ]
    }
   ],
   "source": [
    "print(debugger.law_info(prop_tx_vk))"
   ]
  },
  {
   "cell_type": "code",
   "execution_count": 30,
   "metadata": {},
   "outputs": [
    {
     "data": {
      "text/plain": [
       "'R_08'"
      ]
     },
     "execution_count": 30,
     "metadata": {},
     "output_type": "execute_result"
    }
   ],
   "source": [
    "temp_expr = 2 * ax(1) + Exp.Partial(sum_vspring(), posx(1).unwrap_atom) / mass(1)\n",
    "prop_ax_partvk = debugger.check_law(f\"(1->Particle) |- {temp_expr} is zero\")\n",
    "prop_ax_partvk"
   ]
  },
  {
   "cell_type": "code",
   "execution_count": 31,
   "metadata": {},
   "outputs": [
    {
     "data": {
      "text/latex": [
       "$\\displaystyle 2 \\frac{d^{2}}{d t_{0}^{2}} \\operatorname{posx}_{1}{\\left(t_{0} \\right)} + \\frac{- 2 C_{01 2} + 2 \\operatorname{length}_{2}{\\left(t_{0} \\right)}}{C_{06 1} C_{27 2}}$"
      ],
      "text/plain": [
       "2*Derivative(posx_1(t_0), (t_0, 2)) + (-2*C_01_2 + 2*length_2(t_0))/(C_06_1*C_27_2)"
      ]
     },
     "execution_count": 31,
     "metadata": {},
     "output_type": "execute_result"
    }
   ],
   "source": [
    "debugger.sympy_raw_definition(temp_expr, \"oscillation\")"
   ]
  },
  {
   "cell_type": "markdown",
   "metadata": {},
   "source": [
    "inspect which experiments are now not covered by Newton's second law in x direction now"
   ]
  },
  {
   "cell_type": "code",
   "execution_count": 32,
   "metadata": {},
   "outputs": [
    {
     "name": "stdout",
     "output_type": "stream",
     "text": [
      "GeneralLaw(name=R_08, type=IsZero, indication=ForAll, prop=(1->Particle) |- ((2 * C_08[1]) + (Partial[C_28]/Partial[posx[1]] * (C_06[1] ** -1))) is zero, valid_experiments=['oscillation', 'oscillation_r_3', 'hanging_spring_1', 'projectile_oscillation_1', 'oscillationy', 'collision', 'oscillation_rot_3', 'celestial_2_yz', 'projectile_oscillation_2', 'oblique_projectile', 'oscillation_x_3', 'motion0', 'motiony', 'oscillation_rot_2', 'collision_nh', 'projectile', 'gravity', 'vertical_projectile', 'oblique_projectile_x', 'oscillation_x_2', 'collision_elastic_3body', 'pendulum_oscillation_2', 'oscillation_2d_2', 'collision_2d', 'collision_y', 'pendulum_oscillation_1', 'hanging_spring_2', 'oscillation_rot_1', 'oscillation_2d_3', 'motion0_3d', 'hanging_spring_3', 'motion0y', 'oscillation_2d_1', 'oscillation_x_1', 'oblique_projectile_y', 'free_fall'], father=R_01)\n",
      "(1->Particle) |- ((2 * C_08[1]) + (Partial[C_28]/Partial[posx[1]] * (C_06[1] ** -1))) is zero\n",
      "(1->Particle) |- ((Partial[C_28]/Partial[posx[1]] * (C_06[1] ** -1)) + (2 * D^2[posx[1]]/D[t[0]]^2)) is zero\n",
      "Not valid experiments: \u001b[1m[celestial_2_xy, motion, slope_oscillation_1, celestial_4, slope_oscillation_2, celestial_2_xz, motion_3d, stringmotion0, oscillation_r_4, celestial_3]\u001b[0m\n"
     ]
    }
   ],
   "source": [
    "print(debugger.law_info(prop_ax_partvk))"
   ]
  },
  {
   "cell_type": "markdown",
   "metadata": {},
   "source": [
    "### find dynamic: $\\sum_{i\\in\\text{particles}}T_{y,i}$"
   ]
  },
  {
   "cell_type": "code",
   "execution_count": 33,
   "metadata": {},
   "outputs": [
    {
     "name": "stdout",
     "output_type": "stream",
     "text": [
      "\n",
      "\n",
      "########## \u001b[1mcollision_y\u001b[0m ##########\n",
      "\n",
      "\n",
      "Selected concepts: ['C_06', 't', 'C_09']\n",
      "Try to complete invalid general laws\n",
      "Finish trying to complete incomplete general laws\n",
      "Fixing general laws.\n",
      "Try to convert conserved general laws to zero ones\n",
      "Finish trying to convert conserved general laws to zero ones\n",
      "Found 50 relations\n",
      "Begin filtering relations\n",
      "After filtering, 7 relations left\n",
      "Propose new proposition: posx[2] is zero\n",
      "Propose new proposition: posx[1] is zero\n",
      "Propose new proposition: posz[2] is zero\n",
      "Propose new proposition: posz[1] is zero\n",
      "Propose new proposition: ((C_06[1] * C_09[1]) + (C_06[2] * C_09[2])) is conserved\n",
      "Propose new proposition: ((C_06[1] * (C_09[1] ** 2)) + (C_06[2] * (C_09[2] ** 2))) is conserved\n",
      "Propose new proposition: (((C_09[1] ** 2) / C_06[2]) + ((C_09[2] ** 2) / C_06[1])) is conserved\n"
     ]
    },
    {
     "name": "stderr",
     "output_type": "stream",
     "text": [
      "Add to Specific model: 100%|██████████| 7/7 [00:00<00:00, 23.88it/s]\n"
     ]
    },
    {
     "name": "stdout",
     "output_type": "stream",
     "text": [
      "Reducing 9 conclusions\n"
     ]
    },
    {
     "name": "stderr",
     "output_type": "stream",
     "text": [
      "Reduce Conclusions:   0%|          | 0/9 [00:00<?, ?it/s]"
     ]
    },
    {
     "name": "stdout",
     "output_type": "stream",
     "text": [
      "Insert to ideal: posx[1] is zero\n"
     ]
    },
    {
     "name": "stderr",
     "output_type": "stream",
     "text": [
      "Reduce Conclusions:  11%|█         | 1/9 [00:00<00:03,  2.17it/s]"
     ]
    },
    {
     "name": "stdout",
     "output_type": "stream",
     "text": [
      "Insert to ideal: posx[2] is zero\n"
     ]
    },
    {
     "name": "stderr",
     "output_type": "stream",
     "text": [
      "Reduce Conclusions:  22%|██▏       | 2/9 [00:00<00:03,  2.17it/s]"
     ]
    },
    {
     "name": "stdout",
     "output_type": "stream",
     "text": [
      "Insert to ideal: posz[1] is zero\n"
     ]
    },
    {
     "name": "stderr",
     "output_type": "stream",
     "text": [
      "Reduce Conclusions:  33%|███▎      | 3/9 [00:01<00:02,  2.13it/s]"
     ]
    },
    {
     "name": "stdout",
     "output_type": "stream",
     "text": [
      "Insert to ideal: posz[2] is zero\n"
     ]
    },
    {
     "name": "stderr",
     "output_type": "stream",
     "text": [
      "Reduce Conclusions:  44%|████▍     | 4/9 [00:01<00:02,  2.12it/s]"
     ]
    },
    {
     "name": "stdout",
     "output_type": "stream",
     "text": [
      "Insert to ideal: (dist[1, 2] - dist[2, 1]) is zero\n"
     ]
    },
    {
     "name": "stderr",
     "output_type": "stream",
     "text": [
      "Reduce Conclusions:  56%|█████▌    | 5/9 [00:02<00:01,  2.13it/s]"
     ]
    },
    {
     "name": "stdout",
     "output_type": "stream",
     "text": [
      "Insert to ideal: ((dist[1, 2] ** 2) - ((posy[1] - posy[2]) ** 2)) is zero\n"
     ]
    },
    {
     "name": "stderr",
     "output_type": "stream",
     "text": [
      "Reduce Conclusions:  67%|██████▋   | 6/9 [00:03<00:01,  2.09it/s]"
     ]
    },
    {
     "name": "stdout",
     "output_type": "stream",
     "text": [
      "Insert to ideal: ((C_06[1] * C_09[1]) + (C_06[2] * C_09[2])) is conserved\n"
     ]
    },
    {
     "name": "stderr",
     "output_type": "stream",
     "text": [
      "Reduce Conclusions:  78%|███████▊  | 7/9 [00:04<00:01,  1.68it/s]"
     ]
    },
    {
     "name": "stdout",
     "output_type": "stream",
     "text": [
      "Insert to ideal: ((C_06[1] * (C_09[1] ** 2)) + (C_06[2] * (C_09[2] ** 2))) is conserved\n"
     ]
    },
    {
     "name": "stderr",
     "output_type": "stream",
     "text": [
      "Reduce Conclusions: 100%|██████████| 9/9 [00:04<00:00,  1.82it/s]\n"
     ]
    },
    {
     "name": "stdout",
     "output_type": "stream",
     "text": [
      "calc_relations between  {'C_06[2]', 'P8', 'P7', 'C_06[1]'}\n",
      "Found 0 relations between conserved quantities\n",
      "Reducing 8 conclusions\n"
     ]
    },
    {
     "name": "stderr",
     "output_type": "stream",
     "text": [
      "Reduce Conclusions:   0%|          | 0/8 [00:00<?, ?it/s]"
     ]
    },
    {
     "name": "stdout",
     "output_type": "stream",
     "text": [
      "Insert to ideal: posx[1] is zero\n"
     ]
    },
    {
     "name": "stderr",
     "output_type": "stream",
     "text": [
      "Reduce Conclusions:  12%|█▎        | 1/8 [00:00<00:03,  2.22it/s]"
     ]
    },
    {
     "name": "stdout",
     "output_type": "stream",
     "text": [
      "Insert to ideal: posx[2] is zero\n"
     ]
    },
    {
     "name": "stderr",
     "output_type": "stream",
     "text": [
      "Reduce Conclusions:  25%|██▌       | 2/8 [00:00<00:02,  2.23it/s]"
     ]
    },
    {
     "name": "stdout",
     "output_type": "stream",
     "text": [
      "Insert to ideal: posz[1] is zero\n"
     ]
    },
    {
     "name": "stderr",
     "output_type": "stream",
     "text": [
      "Reduce Conclusions:  38%|███▊      | 3/8 [00:01<00:02,  2.21it/s]"
     ]
    },
    {
     "name": "stdout",
     "output_type": "stream",
     "text": [
      "Insert to ideal: posz[2] is zero\n"
     ]
    },
    {
     "name": "stderr",
     "output_type": "stream",
     "text": [
      "Reduce Conclusions:  50%|█████     | 4/8 [00:01<00:01,  2.20it/s]"
     ]
    },
    {
     "name": "stdout",
     "output_type": "stream",
     "text": [
      "Insert to ideal: (dist[1, 2] - dist[2, 1]) is zero\n"
     ]
    },
    {
     "name": "stderr",
     "output_type": "stream",
     "text": [
      "Reduce Conclusions:  62%|██████▎   | 5/8 [00:02<00:01,  2.20it/s]"
     ]
    },
    {
     "name": "stdout",
     "output_type": "stream",
     "text": [
      "Insert to ideal: ((dist[1, 2] ** 2) - ((posy[1] - posy[2]) ** 2)) is zero\n"
     ]
    },
    {
     "name": "stderr",
     "output_type": "stream",
     "text": [
      "Reduce Conclusions:  75%|███████▌  | 6/8 [00:03<00:00,  2.19it/s]"
     ]
    },
    {
     "name": "stdout",
     "output_type": "stream",
     "text": [
      "Insert to ideal: ((C_06[1] * C_09[1]) + (C_06[2] * C_09[2])) is conserved\n"
     ]
    },
    {
     "name": "stderr",
     "output_type": "stream",
     "text": [
      "Reduce Conclusions: 100%|██████████| 8/8 [00:04<00:00,  2.00it/s]"
     ]
    },
    {
     "name": "stdout",
     "output_type": "stream",
     "text": [
      "Insert to ideal: ((C_06[1] * (C_09[1] ** 2)) + (C_06[2] * (C_09[2] ** 2))) is conserved\n",
      "Possible general law: [Sum:Particle] (1->Particle) |- (C_06[1] * (C_09[1] ** 2)) is IsConserved. Register it as both concept and law.\n"
     ]
    },
    {
     "name": "stderr",
     "output_type": "stream",
     "text": [
      "\n"
     ]
    },
    {
     "name": "stdout",
     "output_type": "stream",
     "text": [
      "\u001b[1mRegistered New Concept: C_29 = [Sum:Particle] (1->Particle) |- (C_06[1] * (C_09[1] ** 2))\u001b[0m\n",
      "\u001b[1mRegistered new general law: R_09 = GeneralLaw(name=R_09, type=IsConserved, indication=Sum, prop=|- C_29 is conserved, valid_experiments=['collision_y', 'hanging_spring_1', 'collision', 'oblique_projectile', 'oscillation_x_3', 'motion0', 'motion', 'oscillation', 'projectile', 'gravity', 'vertical_projectile', 'oblique_projectile_x', 'oscillation_x_2', 'collision_elastic_3body', 'pendulum_oscillation_2', 'collision_2d', 'pendulum_oscillation_1', 'hanging_spring_2', 'stringmotion0', 'celestial_2_xz', 'motion0_3d', 'hanging_spring_3', 'motion0y', 'oscillation_x_1', 'oblique_projectile_y', 'free_fall'], father=None)\u001b[0m\n",
      "Possible general law: [Sum:Particle] (1->Particle) |- (C_06[1] * C_09[1]) is IsConserved. Register it as both concept and law.\n",
      "\u001b[1mRegistered New Concept: C_30 = [Sum:Particle] (1->Particle) |- (C_06[1] * C_09[1])\u001b[0m\n",
      "\u001b[1mRegistered new general law: R_10 = GeneralLaw(name=R_10, type=IsConserved, indication=Sum, prop=|- C_30 is conserved, valid_experiments=['collision_y', 'oscillation_r_3', 'hanging_spring_1', 'projectile_oscillation_1', 'collision', 'celestial_2_yz', 'projectile_oscillation_2', 'oblique_projectile', 'oscillation_x_3', 'motion0', 'celestial_2_xy', 'motion', 'collision_nh', 'oscillation', 'projectile', 'gravity', 'vertical_projectile', 'oscillation_r_4', 'oblique_projectile_x', 'oscillation_x_2', 'collision_elastic_3body', 'pendulum_oscillation_2', 'oscillation_2d_2', 'collision_2d', 'pendulum_oscillation_1', 'hanging_spring_2', 'stringmotion0', 'celestial_2_xz', 'celestial_3', 'oscillation_2d_3', 'motion0_3d', 'hanging_spring_3', 'motion0y', 'oscillation_2d_1', 'oscillation_x_1', 'celestial_4', 'oblique_projectile_y', 'free_fall'], father=None)\u001b[0m\n",
      "Fixing general laws.\n",
      "\u001b[1mRegistered New Concept: C_31 = (1->Particle) |- (C_06[1] * (C_09[1] ** 2))\u001b[0m\n",
      "\u001b[1mRegistered New Concept: C_33 = (1->Particle) |- (C_06[1] * C_09[1])\u001b[0m\n",
      "Try to reduce R_10\n",
      "--- R_10 is marked as useful\n",
      "Update diffalg for existing marked general laws\n",
      "Check if R_02 should be removed\n",
      "Finish updating diffalg\n",
      "Try to reduce R_09\n",
      "--- R_09 is marked as useful\n",
      "Update diffalg for existing marked general laws\n",
      "Finish updating diffalg\n",
      "Total rewards: 4\n",
      "Saving knowledge to data/human/jds_knowledge.txt \n",
      "\n"
     ]
    }
   ],
   "source": [
    "debugger.work(\"collision_y\", name_list=[mass, vy, t])\n",
    "theorist.save_to_file(\"data/human/jds\")"
   ]
  },
  {
   "cell_type": "code",
   "execution_count": 34,
   "metadata": {},
   "outputs": [
    {
     "data": {
      "text/plain": [
       "(-C_33, -C_31, -C_30, -C_29)"
      ]
     },
     "execution_count": 34,
     "metadata": {},
     "output_type": "execute_result"
    }
   ],
   "source": [
    "py = debugger.check_concept_discovered(mass*vy, \"py\")\n",
    "ty = debugger.check_concept_discovered(mass*vy**2, \"ty\")\n",
    "sum_py = debugger.check_concept_discovered(py.mksum('Particle'), \"sum_py\")\n",
    "sum_ty = debugger.check_concept_discovered(ty.mksum('Particle'), \"sum_ty\")\n",
    "py, ty, sum_py, sum_ty"
   ]
  },
  {
   "cell_type": "markdown",
   "metadata": {},
   "source": [
    "### find universal constant: $g$"
   ]
  },
  {
   "cell_type": "code",
   "execution_count": 35,
   "metadata": {},
   "outputs": [
    {
     "name": "stdout",
     "output_type": "stream",
     "text": [
      "\n",
      "\n",
      "########## \u001b[1mprojectile\u001b[0m ##########\n",
      "\n",
      "\n",
      "Selected concepts: ['posz', 'C_16', 'posx']\n",
      "Try to complete invalid general laws\n",
      "Finish trying to complete incomplete general laws\n",
      "Fixing general laws.\n",
      "Try to convert conserved general laws to zero ones\n",
      "Finish trying to convert conserved general laws to zero ones\n",
      "Found 19 relations\n",
      "Begin filtering relations\n",
      "After filtering, 3 relations left\n",
      "Propose new proposition: D[posx[1]]/D[t[0]] is conserved\n",
      "Propose new proposition: C_16[1] is conserved\n",
      "Propose new proposition: ((C_16[1] * posz[1]) / posz[1]) is conserved\n"
     ]
    },
    {
     "name": "stderr",
     "output_type": "stream",
     "text": [
      "Add to Specific model: 100%|██████████| 3/3 [00:00<00:00,  8.63it/s]\n"
     ]
    },
    {
     "name": "stdout",
     "output_type": "stream",
     "text": [
      "Reducing 2 conclusions\n"
     ]
    },
    {
     "name": "stderr",
     "output_type": "stream",
     "text": [
      "Reduce Conclusions:   0%|          | 0/2 [00:00<?, ?it/s]"
     ]
    },
    {
     "name": "stdout",
     "output_type": "stream",
     "text": [
      "Insert to ideal: D[posx[1]]/D[t[0]] is conserved\n"
     ]
    },
    {
     "name": "stderr",
     "output_type": "stream",
     "text": [
      "Reduce Conclusions: 100%|██████████| 2/2 [00:01<00:00,  1.76it/s]\n"
     ]
    },
    {
     "name": "stdout",
     "output_type": "stream",
     "text": [
      "Insert to ideal: C_16[1] is conserved\n",
      "calc_relations between  {'P1', 'C_06[1]'}\n",
      "Found 0 relations between conserved quantities\n",
      "Reducing 2 conclusions\n"
     ]
    },
    {
     "name": "stderr",
     "output_type": "stream",
     "text": [
      "Reduce Conclusions:   0%|          | 0/2 [00:00<?, ?it/s]"
     ]
    },
    {
     "name": "stdout",
     "output_type": "stream",
     "text": [
      "Insert to ideal: D[posx[1]]/D[t[0]] is conserved\n"
     ]
    },
    {
     "name": "stderr",
     "output_type": "stream",
     "text": [
      "Reduce Conclusions: 100%|██████████| 2/2 [00:01<00:00,  1.79it/s]"
     ]
    },
    {
     "name": "stdout",
     "output_type": "stream",
     "text": [
      "Insert to ideal: C_16[1] is conserved\n",
      "Possible general law: (1->Particle) |- C_16[1] is IsConserved. Register it as both concept and law.\n",
      "Trivial or existing general law. Skip.\n",
      "Fixing general laws.\n"
     ]
    },
    {
     "name": "stderr",
     "output_type": "stream",
     "text": [
      "\n"
     ]
    },
    {
     "name": "stdout",
     "output_type": "stream",
     "text": [
      "\u001b[1mRegistered New Universal Constant: C_40 = ExpData.ConstData =\n",
      "mean = -9.801234821969176, std = 0.000013154097359065362 defined by [#projectile |- C_16[1]]\u001b[0m\n",
      "Total rewards: 2\n",
      "Saving knowledge to data/human/jds_knowledge.txt \n",
      "\n"
     ]
    }
   ],
   "source": [
    "debugger.work(\"projectile\", name_list=[az, posx, posz])\n",
    "theorist.save_to_file(\"data/human/jds\")"
   ]
  },
  {
   "cell_type": "code",
   "execution_count": 36,
   "metadata": {},
   "outputs": [
    {
     "data": {
      "text/plain": [
       "-C_40"
      ]
     },
     "execution_count": 36,
     "metadata": {},
     "output_type": "execute_result"
    }
   ],
   "source": [
    "g = debugger.check_concept_discovered(Intrinsic(f\"[#projectile (1->Particle) |- -{az(1)}]\"), \"g\")\n",
    "g"
   ]
  },
  {
   "cell_type": "markdown",
   "metadata": {},
   "source": [
    "### find dynamic: $v_z^2+2gz$ of a particle"
   ]
  },
  {
   "cell_type": "code",
   "execution_count": 37,
   "metadata": {},
   "outputs": [
    {
     "name": "stdout",
     "output_type": "stream",
     "text": [
      "\n",
      "\n",
      "########## \u001b[1moblique_projectile\u001b[0m ##########\n",
      "\n",
      "\n",
      "Selected concepts: ['C_40', 'posz', 'C_13']\n",
      "Try to complete invalid general laws\n",
      "Finish trying to complete incomplete general laws\n",
      "Fixing general laws.\n",
      "Try to convert conserved general laws to zero ones\n",
      "Finish trying to convert conserved general laws to zero ones\n",
      "Found 20 relations\n",
      "Begin filtering relations\n",
      "After filtering, 2 relations left\n",
      "Propose new proposition: D[(C_13[1] * C_13[1])]/D[posz[1]] is conserved\n",
      "Propose new proposition: ((2 * (C_40 * posz[1])) - (C_13[1] * C_13[1])) is conserved\n"
     ]
    },
    {
     "name": "stderr",
     "output_type": "stream",
     "text": [
      "Add to Specific model: 100%|██████████| 2/2 [00:00<00:00,  4.40it/s]\n"
     ]
    },
    {
     "name": "stdout",
     "output_type": "stream",
     "text": [
      "Reducing 2 conclusions\n"
     ]
    },
    {
     "name": "stderr",
     "output_type": "stream",
     "text": [
      "Reduce Conclusions:   0%|          | 0/2 [00:00<?, ?it/s]"
     ]
    },
    {
     "name": "stdout",
     "output_type": "stream",
     "text": [
      "Insert to ideal: D[(C_13[1] * C_13[1])]/D[posz[1]] is conserved\n"
     ]
    },
    {
     "name": "stderr",
     "output_type": "stream",
     "text": [
      "Reduce Conclusions: 100%|██████████| 2/2 [00:01<00:00,  1.64it/s]\n"
     ]
    },
    {
     "name": "stdout",
     "output_type": "stream",
     "text": [
      "Insert to ideal: ((2 * (C_40 * posz[1])) - (C_13[1] * C_13[1])) is conserved\n",
      "calc_relations between  {'P2', 'C_06[1]'}\n",
      "Found 0 relations between conserved quantities\n",
      "Reducing 2 conclusions\n"
     ]
    },
    {
     "name": "stderr",
     "output_type": "stream",
     "text": [
      "Reduce Conclusions:   0%|          | 0/2 [00:00<?, ?it/s]"
     ]
    },
    {
     "name": "stdout",
     "output_type": "stream",
     "text": [
      "Insert to ideal: D[(C_13[1] * C_13[1])]/D[posz[1]] is conserved\n"
     ]
    },
    {
     "name": "stderr",
     "output_type": "stream",
     "text": [
      "Reduce Conclusions: 100%|██████████| 2/2 [00:01<00:00,  1.67it/s]"
     ]
    },
    {
     "name": "stdout",
     "output_type": "stream",
     "text": [
      "Insert to ideal: ((2 * (C_40 * posz[1])) - (C_13[1] * C_13[1])) is conserved\n",
      "Possible general law: (1->Particle) |- D[(C_13[1] * C_13[1])]/D[posz[1]] is IsConserved. Register it as both concept and law.\n"
     ]
    },
    {
     "name": "stderr",
     "output_type": "stream",
     "text": [
      "\n"
     ]
    },
    {
     "name": "stdout",
     "output_type": "stream",
     "text": [
      "\u001b[1mRegistered New Concept: C_42 = (1->Particle) |- D[(C_13[1] * C_13[1])]/D[posz[1]]\u001b[0m\n",
      "\u001b[1mRegistered new general law: R_11 = GeneralLaw(name=R_11, type=IsConserved, indication=ForAll, prop=(1->Particle) |- C_42[1] is conserved, valid_experiments=['oblique_projectile', 'oscillation_r_3', 'oscillationy', 'collision', 'oscillation_rot_3', 'oscillation_x_3', 'motion0', 'celestial_2_xy', 'motion', 'motiony', 'oscillation_rot_2', 'collision_nh', 'oscillation', 'projectile', 'gravity', 'vertical_projectile', 'oscillation_r_4', 'oblique_projectile_x', 'oscillation_x_2', 'collision_elastic_3body', 'oscillation_2d_2', 'collision_2d', 'collision_y', 'celestial_3', 'oscillation_rot_1', 'oscillation_2d_3', 'motion0_3d', 'motion0y', 'oscillation_2d_1', 'oscillation_x_1', 'motion_3d', 'celestial_4', 'oblique_projectile_y', 'free_fall'], father=None)\u001b[0m\n",
      "Possible general law: (1->Particle) |- ((2 * (C_40 * posz[1])) - (C_13[1] * C_13[1])) is IsConserved. Register it as both concept and law.\n",
      "\u001b[1mRegistered New Concept: C_43 = (1->Particle) |- ((2 * (C_40 * posz[1])) - (C_13[1] * C_13[1]))\u001b[0m\n",
      "\u001b[1mRegistered new general law: R_12 = GeneralLaw(name=R_12, type=IsConserved, indication=ForAll, prop=(1->Particle) |- C_43[1] is conserved, valid_experiments=['oblique_projectile', 'oscillation_r_3', 'oscillationy', 'collision', 'oscillation_rot_3', 'oscillation_x_3', 'motion0', 'celestial_2_xy', 'oscillation_rot_2', 'collision_nh', 'oscillation', 'projectile', 'gravity', 'vertical_projectile', 'oscillation_r_4', 'oblique_projectile_x', 'oscillation_x_2', 'collision_elastic_3body', 'oscillation_2d_2', 'collision_2d', 'collision_y', 'celestial_3', 'oscillation_rot_1', 'oscillation_2d_3', 'motion0_3d', 'motion0y', 'oscillation_2d_1', 'oscillation_x_1', 'celestial_4', 'oblique_projectile_y', 'free_fall'], father=None)\u001b[0m\n",
      "Fixing general laws.\n",
      "Try to reduce R_11\n",
      "--- R_11 is marked as useful\n",
      "Update diffalg for existing marked general laws\n",
      "Finish updating diffalg\n",
      "Try to reduce R_12\n",
      "--- R_12 is marked as useful\n",
      "Update diffalg for existing marked general laws\n",
      "Finish updating diffalg\n",
      "Total rewards: 4\n",
      "Saving knowledge to data/human/jds_knowledge.txt \n",
      "\n"
     ]
    }
   ],
   "source": [
    "debugger.work(\"oblique_projectile\", name_list=[posz, vz, g])\n",
    "theorist.save_to_file(\"data/human/jds\")"
   ]
  },
  {
   "cell_type": "code",
   "execution_count": 38,
   "metadata": {},
   "outputs": [
    {
     "data": {
      "text/plain": [
       "-C_43"
      ]
     },
     "execution_count": 38,
     "metadata": {},
     "output_type": "execute_result"
    }
   ],
   "source": [
    "vzsq_plus_2gz = debugger.check_concept_discovered(vz ** 2 + 2 * g * posz, \"vzsq_plus_2gz\")\n",
    "vzsq_plus_2gz"
   ]
  },
  {
   "cell_type": "markdown",
   "metadata": {},
   "source": [
    "### find dynamic: $\\sum_{i\\in\\text{particles}}T_{z,i}$\n",
    "### find general conclusion: $\\sum_{i\\in\\text{particles}}T_{x,i} + \\sum_{i\\in\\text{particles}}T_{y,i} + \\sum_{i\\in\\text{particles}}T_{z,i} = 0$"
   ]
  },
  {
   "cell_type": "code",
   "execution_count": 39,
   "metadata": {},
   "outputs": [
    {
     "name": "stdout",
     "output_type": "stream",
     "text": [
      "\n",
      "\n",
      "########## \u001b[1mcollision_nh\u001b[0m ##########\n",
      "\n",
      "\n",
      "Selected concepts: ['C_29', 't']\n",
      "Try to complete invalid general laws\n",
      "- Try to complete R_05\n",
      "\u001b[1mRegistered new general law: R_13 = GeneralLaw(name=R_13, type=IsConserved, indication=Sum, prop=|- (C_20 + C_29) is conserved, valid_experiments=['collision_nh'], father=R_05)\u001b[0m\n",
      "- Try to complete R_07\n",
      "\u001b[1mRegistered new general law: R_14 = GeneralLaw(name=R_14, type=IsConserved, indication=Sum, prop=|- (C_29 + (C_20 + C_28)) is conserved, valid_experiments=['collision_nh'], father=R_07)\u001b[0m\n",
      "- Try to complete R_09\n",
      "Finish trying to complete incomplete general laws\n",
      "Fixing general laws.\n",
      "Try to convert conserved general laws to zero ones\n",
      "Finish trying to convert conserved general laws to zero ones\n",
      "Found 10 relations\n",
      "Begin filtering relations\n",
      "After filtering, 3 relations left\n",
      "Propose new proposition: posz[1] is zero\n",
      "Propose new proposition: posz[2] is zero\n",
      "Propose new proposition: (((dist[1, 2] ** 2) - ((posx[1] - posx[2]) ** 2)) - ((posy[1] - posy[2]) ** 2)) is zero\n"
     ]
    },
    {
     "name": "stderr",
     "output_type": "stream",
     "text": [
      "Add to Specific model: 100%|██████████| 3/3 [00:00<00:00, 7173.84it/s]\n"
     ]
    },
    {
     "name": "stdout",
     "output_type": "stream",
     "text": [
      "Reducing 4 conclusions\n"
     ]
    },
    {
     "name": "stderr",
     "output_type": "stream",
     "text": [
      "Reduce Conclusions:  25%|██▌       | 1/4 [00:00<00:00,  6.20it/s]"
     ]
    },
    {
     "name": "stdout",
     "output_type": "stream",
     "text": [
      "Insert to ideal: posz[1] is zero\n"
     ]
    },
    {
     "name": "stderr",
     "output_type": "stream",
     "text": [
      "Reduce Conclusions:  25%|██▌       | 1/4 [00:00<00:00,  6.20it/s]"
     ]
    },
    {
     "name": "stdout",
     "output_type": "stream",
     "text": [
      "Insert to ideal: posz[2] is zero\n"
     ]
    },
    {
     "name": "stderr",
     "output_type": "stream",
     "text": [
      "Reduce Conclusions:  50%|█████     | 2/4 [00:00<00:00,  6.78it/s]"
     ]
    },
    {
     "name": "stdout",
     "output_type": "stream",
     "text": [
      "Insert to ideal: (dist[1, 2] - dist[2, 1]) is zero\n"
     ]
    },
    {
     "name": "stderr",
     "output_type": "stream",
     "text": [
      "Reduce Conclusions: 100%|██████████| 4/4 [00:00<00:00,  7.74it/s]"
     ]
    },
    {
     "name": "stdout",
     "output_type": "stream",
     "text": [
      "Insert to ideal: (((dist[1, 2] ** 2) - ((posx[1] - posx[2]) ** 2)) - ((posy[1] - posy[2]) ** 2)) is zero\n",
      "calc_relations between  {'C_06[2]', 'C_06[1]'}\n",
      "Found 0 relations between conserved quantities\n"
     ]
    },
    {
     "name": "stderr",
     "output_type": "stream",
     "text": [
      "\n"
     ]
    },
    {
     "name": "stdout",
     "output_type": "stream",
     "text": [
      "Reducing 4 conclusions\n"
     ]
    },
    {
     "name": "stderr",
     "output_type": "stream",
     "text": [
      "Reduce Conclusions:  25%|██▌       | 1/4 [00:00<00:00,  6.92it/s]"
     ]
    },
    {
     "name": "stdout",
     "output_type": "stream",
     "text": [
      "Insert to ideal: posz[1] is zero\n"
     ]
    },
    {
     "name": "stderr",
     "output_type": "stream",
     "text": [
      "Reduce Conclusions:  25%|██▌       | 1/4 [00:00<00:00,  6.92it/s]"
     ]
    },
    {
     "name": "stdout",
     "output_type": "stream",
     "text": [
      "Insert to ideal: posz[2] is zero\n"
     ]
    },
    {
     "name": "stderr",
     "output_type": "stream",
     "text": [
      "Reduce Conclusions:  50%|█████     | 2/4 [00:00<00:00,  7.23it/s]"
     ]
    },
    {
     "name": "stdout",
     "output_type": "stream",
     "text": [
      "Insert to ideal: (dist[1, 2] - dist[2, 1]) is zero\n"
     ]
    },
    {
     "name": "stderr",
     "output_type": "stream",
     "text": [
      "Reduce Conclusions: 100%|██████████| 4/4 [00:00<00:00,  8.10it/s]"
     ]
    },
    {
     "name": "stdout",
     "output_type": "stream",
     "text": [
      "Insert to ideal: (((dist[1, 2] ** 2) - ((posx[1] - posx[2]) ** 2)) - ((posy[1] - posy[2]) ** 2)) is zero\n",
      "Fixing general laws.\n"
     ]
    },
    {
     "name": "stderr",
     "output_type": "stream",
     "text": [
      "\n"
     ]
    },
    {
     "name": "stdout",
     "output_type": "stream",
     "text": [
      "\u001b[1mRegistered New Concept: C_48 = [Sum:Particle] (1->Particle) |- (C_06[1] * (C_13[1] ** 2))\u001b[0m\n",
      "\u001b[1mRegistered new general law: R_15 = GeneralLaw(name=R_15, type=IsConserved, indication=Sum, prop=|- (C_48 + (C_20 + C_29)) is conserved, valid_experiments=['collision_nh'], father=None)\u001b[0m\n",
      "Try to reduce R_13\n",
      "--- R_13 is marked as useful\n",
      "Update diffalg for existing marked general laws\n",
      "Finish updating diffalg\n",
      "Try to reduce R_14\n",
      "--- R_14 is marked as useful\n",
      "Update diffalg for existing marked general laws\n",
      "Finish updating diffalg\n",
      "Try to reduce R_15\n",
      "--- R_15 is marked as useful\n",
      "Update diffalg for existing marked general laws\n",
      "Finish updating diffalg\n",
      "Total rewards: 3\n",
      "Saving knowledge to data/human/jds_knowledge.txt \n",
      "\n"
     ]
    }
   ],
   "source": [
    "debugger.work(\"collision_nh\", name_list=[sum_ty, t])\n",
    "theorist.save_to_file(\"data/human/jds\")"
   ]
  },
  {
   "cell_type": "markdown",
   "metadata": {},
   "source": [
    "### find general conclusion: $\\sum_{i\\in\\text{particles}}T_{x,i}+\\sum_{i\\in\\text{particles}}T_{y,i}+\\sum_{i\\in\\text{particles}}T_{z,i}+2\\sum_{i\\in\\text{particles}}gz+\\sum_{i\\in\\text{springs}}V^{(\\text{spring})}_{i}=\\text{const.}$"
   ]
  },
  {
   "cell_type": "markdown",
   "metadata": {},
   "source": [
    "### find general conclusion: $\\forall i\\in\\text{particles},\\,a_{z,i}+\\frac{1}{m_i}\\frac{\\partial \\sum_{j\\in\\text{springs}}V^{(\\text{spring})}_{j}}{\\partial z_i}=\\text{const.}$\n",
    "\n",
    "(Newton's second law in $z$ direction is now completed)"
   ]
  },
  {
   "cell_type": "code",
   "execution_count": 40,
   "metadata": {},
   "outputs": [
    {
     "name": "stdout",
     "output_type": "stream",
     "text": [
      "\n",
      "\n",
      "########## \u001b[1mhanging_spring_1\u001b[0m ##########\n",
      "\n",
      "\n",
      "Selected concepts: ['C_43', 'C_28']\n",
      "Try to complete invalid general laws\n",
      "- Try to complete R_03\n",
      "\u001b[1mRegistered new general law: R_16 = GeneralLaw(name=R_16, type=IsConserved, indication=ForAll, prop=(1->Particle) |- ((2 * C_16[1]) + (Partial[C_28]/Partial[posz[1]] * (C_06[1] ** -1))) is conserved, valid_experiments=['hanging_spring_1'], father=R_03)\u001b[0m\n",
      "- Try to complete R_07\n",
      "\u001b[1mRegistered New Concept: C_49 = [Sum:Particle] (1->Particle) |- (C_06[1] * C_43[1])\u001b[0m\n",
      "\u001b[1mRegistered new general law: R_17 = GeneralLaw(name=R_17, type=IsConserved, indication=Sum, prop=|- ((C_20 + C_28) + (-1 * C_49)) is conserved, valid_experiments=['hanging_spring_1'], father=R_07)\u001b[0m\n",
      "- Try to complete R_11\n",
      "- Try to complete R_12\n",
      "- Try to complete R_14\n",
      "\u001b[1mRegistered new general law: R_19 = GeneralLaw(name=R_19, type=IsConserved, indication=Sum, prop=|- ((-1 * C_49) + (C_29 + (C_20 + C_28))) is conserved, valid_experiments=['hanging_spring_1'], father=R_14)\u001b[0m\n",
      "- Try to complete R_15\n",
      "Finish trying to complete incomplete general laws\n",
      "Fixing general laws.\n",
      "Try to complete invalid general laws again\n",
      "- Try to complete R_11\n",
      "- Try to complete R_12\n",
      "- Try to complete R_15\n",
      "Finish trying to complete incomplete general laws\n",
      "Fixing general laws.\n",
      "Try to convert conserved general laws to zero ones\n",
      "Finish trying to convert conserved general laws to zero ones\n",
      "Found 2 relations\n",
      "Begin filtering relations\n",
      "After filtering, 3 relations left\n",
      "Propose new proposition: posx[1] is zero\n",
      "Propose new proposition: posy[1] is zero\n",
      "Propose new proposition: (posz[1] + length[2]) is conserved\n"
     ]
    },
    {
     "name": "stderr",
     "output_type": "stream",
     "text": [
      "Add to Specific model: 100%|██████████| 3/3 [00:00<00:00, 10442.25it/s]\n"
     ]
    },
    {
     "name": "stdout",
     "output_type": "stream",
     "text": [
      "Reducing 3 conclusions\n"
     ]
    },
    {
     "name": "stderr",
     "output_type": "stream",
     "text": [
      "Reduce Conclusions:   0%|          | 0/3 [00:00<?, ?it/s]"
     ]
    },
    {
     "name": "stdout",
     "output_type": "stream",
     "text": [
      "Insert to ideal: posx[1] is zero\n"
     ]
    },
    {
     "name": "stderr",
     "output_type": "stream",
     "text": [
      "Reduce Conclusions:  33%|███▎      | 1/3 [00:00<00:00,  2.43it/s]"
     ]
    },
    {
     "name": "stdout",
     "output_type": "stream",
     "text": [
      "Insert to ideal: posy[1] is zero\n"
     ]
    },
    {
     "name": "stderr",
     "output_type": "stream",
     "text": [
      "Reduce Conclusions: 100%|██████████| 3/3 [00:00<00:00,  3.30it/s]\n"
     ]
    },
    {
     "name": "stdout",
     "output_type": "stream",
     "text": [
      "Insert to ideal: (posz[1] + length[2]) is conserved\n",
      "calc_relations between  {'C_27[2]', 'P1', 'C_01[2]', 'C_06[1]'}\n",
      "Found 0 relations between conserved quantities\n",
      "Reducing 3 conclusions\n"
     ]
    },
    {
     "name": "stderr",
     "output_type": "stream",
     "text": [
      "Reduce Conclusions:   0%|          | 0/3 [00:00<?, ?it/s]"
     ]
    },
    {
     "name": "stdout",
     "output_type": "stream",
     "text": [
      "Insert to ideal: posx[1] is zero\n"
     ]
    },
    {
     "name": "stderr",
     "output_type": "stream",
     "text": [
      "Reduce Conclusions:  33%|███▎      | 1/3 [00:00<00:00,  2.36it/s]"
     ]
    },
    {
     "name": "stdout",
     "output_type": "stream",
     "text": [
      "Insert to ideal: posy[1] is zero\n"
     ]
    },
    {
     "name": "stderr",
     "output_type": "stream",
     "text": [
      "Reduce Conclusions: 100%|██████████| 3/3 [00:00<00:00,  3.20it/s]"
     ]
    },
    {
     "name": "stdout",
     "output_type": "stream",
     "text": [
      "Insert to ideal: (posz[1] + length[2]) is conserved\n",
      "Fixing general laws.\n"
     ]
    },
    {
     "name": "stderr",
     "output_type": "stream",
     "text": [
      "\n"
     ]
    },
    {
     "name": "stdout",
     "output_type": "stream",
     "text": [
      "Try to reduce R_19\n",
      "--- R_19 is marked as useful\n",
      "Update diffalg for existing marked general laws\n",
      "Check if R_15 should be removed\n",
      "Check if R_13 should be removed\n",
      "Check if R_14 should be removed\n",
      "--- R_14 is a subexpr of R_19\n",
      "--- R_14 is removed\n",
      "Finish updating diffalg\n",
      "Try to reduce R_17\n",
      "--- R_17 is a subexpr of some marked general laws in {'R_10', 'R_09', 'R_19'}\n",
      "Try to reduce R_16\n",
      "--- R_16 is marked as useful\n",
      "Update diffalg for existing marked general laws\n",
      "Check if R_12 should be removed\n",
      "Check if R_11 should be removed\n",
      "Check if R_03 should be removed\n",
      "Finish updating diffalg\n",
      "Total rewards: 3\n",
      "Saving knowledge to data/human/jds_knowledge.txt \n",
      "\n"
     ]
    }
   ],
   "source": [
    "debugger.work(\"hanging_spring_1\", name_list=[vzsq_plus_2gz, sum_vspring])\n",
    "theorist.save_to_file(\"data/human/jds\")"
   ]
  },
  {
   "cell_type": "code",
   "execution_count": 41,
   "metadata": {},
   "outputs": [
    {
     "data": {
      "text/plain": [
       "C_49"
      ]
     },
     "execution_count": 41,
     "metadata": {},
     "output_type": "execute_result"
    }
   ],
   "source": [
    "tz_2mgz = debugger.check_concept_discovered((mass*vzsq_plus_2gz).mksum('Particle'), \"tz_2mgz\")\n",
    "tz_2mgz"
   ]
  },
  {
   "cell_type": "code",
   "execution_count": 42,
   "metadata": {},
   "outputs": [
    {
     "name": "stdout",
     "output_type": "stream",
     "text": [
      "((2 * C_16[1]) + (Partial[(-C_28)]/Partial[posz[1]] / (-C_06[1])))\n"
     ]
    },
    {
     "data": {
      "text/plain": [
       "'R_16'"
      ]
     },
     "execution_count": 42,
     "metadata": {},
     "output_type": "execute_result"
    }
   ],
   "source": [
    "temp_expr = 2 * az(1) + Exp.Partial(sum_vspring(), posz(1).unwrap_atom) / mass(1)\n",
    "print(temp_expr)\n",
    "prop_az_partvk = debugger.check_law(f\"(1->Particle) |- {temp_expr} is conserved\")\n",
    "prop_az_partvk"
   ]
  },
  {
   "cell_type": "markdown",
   "metadata": {},
   "source": [
    "inspect which experiments are now not covered by Newton's second law in $z$ direction"
   ]
  },
  {
   "cell_type": "code",
   "execution_count": 43,
   "metadata": {},
   "outputs": [
    {
     "name": "stdout",
     "output_type": "stream",
     "text": [
      "GeneralLaw(name=R_16, type=IsConserved, indication=ForAll, prop=(1->Particle) |- ((2 * C_16[1]) + (Partial[C_28]/Partial[posz[1]] * (C_06[1] ** -1))) is conserved, valid_experiments=['hanging_spring_1', 'oscillation_r_3', 'projectile_oscillation_1', 'oscillationy', 'collision', 'oscillation_rot_3', 'projectile_oscillation_2', 'oblique_projectile', 'oscillation_x_3', 'motion0', 'celestial_2_xy', 'motion', 'motiony', 'oscillation_rot_2', 'collision_nh', 'oscillation', 'projectile', 'gravity', 'vertical_projectile', 'oscillation_r_4', 'oblique_projectile_x', 'oscillation_x_2', 'collision_elastic_3body', 'pendulum_oscillation_2', 'oscillation_2d_2', 'collision_2d', 'collision_y', 'pendulum_oscillation_1', 'hanging_spring_2', 'celestial_3', 'slope_oscillation_2', 'oscillation_rot_1', 'oscillation_2d_3', 'motion0_3d', 'slope_oscillation_1', 'hanging_spring_3', 'motion0y', 'oscillation_2d_1', 'oscillation_x_1', 'motion_3d', 'celestial_4', 'oblique_projectile_y', 'free_fall'], father=R_03)\n",
      "(1->Particle) |- ((2 * C_16[1]) + (Partial[C_28]/Partial[posz[1]] * (C_06[1] ** -1))) is conserved\n",
      "(1->Particle) |- ((Partial[C_28]/Partial[posz[1]] * (C_06[1] ** -1)) + (2 * D^2[posz[1]]/D[t[0]]^2)) is conserved\n",
      "Not valid experiments: \u001b[1m[celestial_2_xz, stringmotion0, celestial_2_yz]\u001b[0m\n"
     ]
    }
   ],
   "source": [
    "print(debugger.law_info(prop_az_partvk))"
   ]
  },
  {
   "cell_type": "markdown",
   "metadata": {},
   "source": [
    "validate the general conclusion of energy conservation"
   ]
  },
  {
   "cell_type": "code",
   "execution_count": 44,
   "metadata": {},
   "outputs": [
    {
     "data": {
      "text/plain": [
       "'R_19'"
      ]
     },
     "execution_count": 44,
     "metadata": {},
     "output_type": "execute_result"
    }
   ],
   "source": [
    "prop_tx_ty_tz_2mgz_vk = debugger.check_law((sum_tx + sum_ty + tz_2mgz + sum_vspring).gen_prop(\"Conserved\"))\n",
    "prop_tx_ty_tz_2mgz_vk"
   ]
  },
  {
   "cell_type": "code",
   "execution_count": 45,
   "metadata": {},
   "outputs": [
    {
     "data": {
      "text/latex": [
       "$\\displaystyle C_{06 1} \\left(2 C_{40} \\operatorname{posz}_{1}{\\left(t_{0} \\right)} - \\left(\\frac{d}{d t_{0}} \\operatorname{posz}_{1}{\\left(t_{0} \\right)}\\right)^{2}\\right) - C_{06 1} \\left(\\frac{d}{d t_{0}} \\operatorname{posx}_{1}{\\left(t_{0} \\right)}\\right)^{2} - C_{06 1} \\left(\\frac{d}{d t_{0}} \\operatorname{posy}_{1}{\\left(t_{0} \\right)}\\right)^{2} - \\frac{\\left(C_{01 2} - \\operatorname{length}_{2}{\\left(t_{0} \\right)}\\right)^{2}}{C_{27 2}}$"
      ],
      "text/plain": [
       "C_06_1*(2*C_40*posz_1(t_0) - Derivative(posz_1(t_0), t_0)**2) - C_06_1*Derivative(posx_1(t_0), t_0)**2 - C_06_1*Derivative(posy_1(t_0), t_0)**2 - (C_01_2 - length_2(t_0))**2/C_27_2"
      ]
     },
     "execution_count": 45,
     "metadata": {},
     "output_type": "execute_result"
    }
   ],
   "source": [
    "debugger.sympy_raw_definition((sum_tx+ sum_ty + tz_2mgz + sum_vspring)(), \"hanging_spring_1\")"
   ]
  },
  {
   "cell_type": "markdown",
   "metadata": {},
   "source": [
    "inspect which experiments are now not covered by energy conservation now"
   ]
  },
  {
   "cell_type": "code",
   "execution_count": 46,
   "metadata": {},
   "outputs": [
    {
     "name": "stdout",
     "output_type": "stream",
     "text": [
      "GeneralLaw(name=R_19, type=IsConserved, indication=Sum, prop=|- ((-1 * C_49) + (C_29 + (C_20 + C_28))) is conserved, valid_experiments=['hanging_spring_1', 'oscillation_r_3', 'projectile_oscillation_1', 'oscillationy', 'collision', 'oscillation_rot_3', 'projectile_oscillation_2', 'oblique_projectile', 'oscillation_x_3', 'motion0', 'motion', 'motiony', 'oscillation_rot_2', 'collision_nh', 'oscillation', 'projectile', 'gravity', 'vertical_projectile', 'oblique_projectile_x', 'oscillation_x_2', 'collision_elastic_3body', 'pendulum_oscillation_2', 'oscillation_2d_2', 'collision_2d', 'collision_y', 'pendulum_oscillation_1', 'hanging_spring_2', 'stringmotion0', 'slope_oscillation_2', 'oscillation_rot_1', 'oscillation_2d_3', 'motion0_3d', 'slope_oscillation_1', 'hanging_spring_3', 'motion0y', 'oscillation_2d_1', 'oscillation_x_1', 'motion_3d', 'oblique_projectile_y', 'free_fall'], father=None)\n",
      "|- ((-1 * C_49) + (C_29 + (C_20 + C_28))) is conserved\n",
      "|- ((-1 * C_49) + (C_29 + (C_20 + C_28))) is conserved\n",
      "Not valid experiments: \u001b[1m[celestial_2_xy, celestial_4, celestial_2_xz, celestial_2_yz, oscillation_r_4, celestial_3]\u001b[0m\n"
     ]
    }
   ],
   "source": [
    "print(debugger.law_info(prop_tx_ty_tz_2mgz_vk))"
   ]
  },
  {
   "cell_type": "markdown",
   "metadata": {},
   "source": [
    "### Convert $a_z = \\text{const.}\\, \\text{to}\\, a_z = 0.$"
   ]
  },
  {
   "cell_type": "code",
   "execution_count": 47,
   "metadata": {},
   "outputs": [
    {
     "name": "stdout",
     "output_type": "stream",
     "text": [
      "\n",
      "\n",
      "########## \u001b[1mfree_fall\u001b[0m ##########\n",
      "\n",
      "\n",
      "Selected concepts: ['C_43']\n",
      "Try to complete invalid general laws\n",
      "- Try to complete R_15\n",
      "Finish trying to complete incomplete general laws\n",
      "Fixing general laws.\n",
      "Try to convert conserved general laws to zero ones\n",
      "\u001b[1mRegistered new general law: R_21 = GeneralLaw(name=R_21, type=IsZero, indication=ForAll, prop=(1->Particle) |- ((-1 * Partial[C_43[1]]/Partial[posz[1]]) + ((2 * C_16[1]) + (Partial[C_28]/Partial[posz[1]] * (C_06[1] ** -1)))) is zero, valid_experiments=['hanging_spring_1', 'oscillation_r_3', 'projectile_oscillation_1', 'oscillationy', 'collision', 'oscillation_rot_3', 'projectile_oscillation_2', 'oblique_projectile', 'oscillation_x_3', 'motion0', 'celestial_2_xy', 'motion', 'motiony', 'oscillation_rot_2', 'collision_nh', 'oscillation', 'projectile', 'gravity', 'vertical_projectile', 'oscillation_r_4', 'oblique_projectile_x', 'oscillation_x_2', 'collision_elastic_3body', 'pendulum_oscillation_2', 'oscillation_2d_2', 'collision_2d', 'collision_y', 'pendulum_oscillation_1', 'hanging_spring_2', 'celestial_3', 'slope_oscillation_2', 'oscillation_rot_1', 'oscillation_2d_3', 'motion0_3d', 'slope_oscillation_1', 'hanging_spring_3', 'motion0y', 'oscillation_2d_1', 'oscillation_x_1', 'motion_3d', 'celestial_4', 'oblique_projectile_y', 'free_fall'], father=R_03)\u001b[0m\n",
      "Finish trying to convert conserved general laws to zero ones\n",
      "Found 1 relations\n",
      "Begin filtering relations\n",
      "After filtering, 3 relations left\n",
      "Propose new proposition: posy[1] is zero\n",
      "Propose new proposition: posx[1] is zero\n",
      "Propose new proposition: C_43[1] is conserved\n"
     ]
    },
    {
     "name": "stderr",
     "output_type": "stream",
     "text": [
      "Add to Specific model: 100%|██████████| 3/3 [00:00<00:00, 13.56it/s]\n"
     ]
    },
    {
     "name": "stdout",
     "output_type": "stream",
     "text": [
      "Reducing 3 conclusions\n"
     ]
    },
    {
     "name": "stderr",
     "output_type": "stream",
     "text": [
      "Reduce Conclusions:   0%|          | 0/3 [00:00<?, ?it/s]"
     ]
    },
    {
     "name": "stdout",
     "output_type": "stream",
     "text": [
      "Insert to ideal: posx[1] is zero\n"
     ]
    },
    {
     "name": "stderr",
     "output_type": "stream",
     "text": [
      "Reduce Conclusions:  33%|███▎      | 1/3 [00:00<00:00,  2.48it/s]"
     ]
    },
    {
     "name": "stdout",
     "output_type": "stream",
     "text": [
      "Insert to ideal: posy[1] is zero\n"
     ]
    },
    {
     "name": "stderr",
     "output_type": "stream",
     "text": [
      "Reduce Conclusions: 100%|██████████| 3/3 [00:01<00:00,  2.48it/s]\n"
     ]
    },
    {
     "name": "stdout",
     "output_type": "stream",
     "text": [
      "Insert to ideal: C_43[1] is conserved\n",
      "calc_relations between  {'C_06[1]', 'P3'}\n",
      "Found 0 relations between conserved quantities\n",
      "Reducing 3 conclusions\n"
     ]
    },
    {
     "name": "stderr",
     "output_type": "stream",
     "text": [
      "Reduce Conclusions:   0%|          | 0/3 [00:00<?, ?it/s]"
     ]
    },
    {
     "name": "stdout",
     "output_type": "stream",
     "text": [
      "Insert to ideal: posx[1] is zero\n"
     ]
    },
    {
     "name": "stderr",
     "output_type": "stream",
     "text": [
      "Reduce Conclusions:  33%|███▎      | 1/3 [00:00<00:00,  2.36it/s]"
     ]
    },
    {
     "name": "stdout",
     "output_type": "stream",
     "text": [
      "Insert to ideal: posy[1] is zero\n"
     ]
    },
    {
     "name": "stderr",
     "output_type": "stream",
     "text": [
      "Reduce Conclusions: 100%|██████████| 3/3 [00:01<00:00,  2.41it/s]"
     ]
    },
    {
     "name": "stdout",
     "output_type": "stream",
     "text": [
      "Insert to ideal: C_43[1] is conserved\n",
      "Possible general law: (1->Particle) |- C_43[1] is IsConserved. Register it as both concept and law.\n",
      "Trivial or existing general law. Skip.\n",
      "Fixing general laws.\n"
     ]
    },
    {
     "name": "stderr",
     "output_type": "stream",
     "text": [
      "\n"
     ]
    },
    {
     "name": "stdout",
     "output_type": "stream",
     "text": [
      "Try to reduce R_21\n",
      "--- R_21 is marked as useful\n",
      "Update diffalg for existing marked general laws\n",
      "Check if R_12 should be removed\n",
      "Check if R_11 should be removed\n",
      "Check if R_03 should be removed\n",
      "Finish updating diffalg\n",
      "Total rewards: 2\n",
      "Saving knowledge to data/human/jds_knowledge.txt \n",
      "\n"
     ]
    }
   ],
   "source": [
    "debugger.work(\"free_fall\", name_list=[vzsq_plus_2gz, posx, posy])\n",
    "theorist.save_to_file(\"data/human/jds\")"
   ]
  },
  {
   "cell_type": "code",
   "execution_count": 48,
   "metadata": {},
   "outputs": [
    {
     "name": "stdout",
     "output_type": "stream",
     "text": [
      "(Partial[(-C_43[1])]/Partial[posz[1]] + ((2 * C_16[1]) + (Partial[(-C_28)]/Partial[posz[1]] / (-C_06[1]))))\n"
     ]
    },
    {
     "data": {
      "text/plain": [
       "'R_21'"
      ]
     },
     "execution_count": 48,
     "metadata": {},
     "output_type": "execute_result"
    }
   ],
   "source": [
    "temp_expr = 2 * az(1) + Exp.Partial(sum_vspring(), posz(1).unwrap_atom) / mass(1) + Exp.Partial(vzsq_plus_2gz(1), posz(1).unwrap_atom)\n",
    "print(temp_expr)\n",
    "prop_az_partvk_gz = debugger.check_law(f\"(1->Particle) |- {temp_expr} is zero\")\n",
    "prop_az_partvk_gz"
   ]
  },
  {
   "cell_type": "markdown",
   "metadata": {},
   "source": [
    "inspect which experiments are now not covered by Newton's second law in $z$ direction now"
   ]
  },
  {
   "cell_type": "code",
   "execution_count": 49,
   "metadata": {},
   "outputs": [
    {
     "name": "stdout",
     "output_type": "stream",
     "text": [
      "GeneralLaw(name=R_21, type=IsZero, indication=ForAll, prop=(1->Particle) |- ((-1 * Partial[C_43[1]]/Partial[posz[1]]) + ((2 * C_16[1]) + (Partial[C_28]/Partial[posz[1]] * (C_06[1] ** -1)))) is zero, valid_experiments=['hanging_spring_1', 'oscillation_r_3', 'projectile_oscillation_1', 'oscillationy', 'collision', 'oscillation_rot_3', 'projectile_oscillation_2', 'oblique_projectile', 'oscillation_x_3', 'motion0', 'celestial_2_xy', 'motion', 'motiony', 'oscillation_rot_2', 'collision_nh', 'oscillation', 'projectile', 'gravity', 'vertical_projectile', 'oscillation_r_4', 'oblique_projectile_x', 'oscillation_x_2', 'collision_elastic_3body', 'pendulum_oscillation_2', 'oscillation_2d_2', 'collision_2d', 'collision_y', 'pendulum_oscillation_1', 'hanging_spring_2', 'celestial_3', 'slope_oscillation_2', 'oscillation_rot_1', 'oscillation_2d_3', 'motion0_3d', 'slope_oscillation_1', 'hanging_spring_3', 'motion0y', 'oscillation_2d_1', 'oscillation_x_1', 'motion_3d', 'celestial_4', 'oblique_projectile_y', 'free_fall'], father=R_03)\n",
      "(1->Particle) |- ((-1 * Partial[C_43[1]]/Partial[posz[1]]) + ((2 * C_16[1]) + (Partial[C_28]/Partial[posz[1]] * (C_06[1] ** -1)))) is zero\n",
      "(1->Particle) |- (((Partial[C_28]/Partial[posz[1]] * (C_06[1] ** -1)) + (2 * D^2[posz[1]]/D[t[0]]^2)) + (-1 * Partial[((2 * (C_40 * posz[1])) - (D[posz[1]]/D[t[0]] * D[posz[1]]/D[t[0]]))]/Partial[posz[1]])) is zero\n",
      "Not valid experiments: \u001b[1m[celestial_2_xz, stringmotion0, celestial_2_yz]\u001b[0m\n"
     ]
    }
   ],
   "source": [
    "print(debugger.law_info(prop_az_partvk_gz))"
   ]
  },
  {
   "cell_type": "markdown",
   "metadata": {},
   "source": [
    "### find general conclusion: $\\sum_{i\\in\\text{particles}}T_{x,i}+\\sum_{i\\in\\text{particles}}T_{y,i}+\\sum_{i\\in\\text{particles}}T_{z,i}+2\\sum_{i\\in\\text{particles}}gz+\\sum_{i\\in\\text{springs}}V^{(\\text{spring})}_{i} + \\sum_{i,j\\in\\text{particles}}Gm_im_j/r_{ij}=\\text{const.}$\n",
    "\n",
    "### find general conclusion: $\\forall i\\in\\text{particles},\\,a_{x,i}+\\frac{1}{m_i}\\frac{\\partial \\sum_{j\\in\\text{springs}}V^{(\\text{spring})}_{j}}{\\partial x_i} + F_{G,x}=0.$\n",
    "\n",
    "### find general conclusion: $\\forall i\\in\\text{particles},\\,a_{y,i}+F_{G,y}=0.$"
   ]
  },
  {
   "cell_type": "code",
   "execution_count": 50,
   "metadata": {},
   "outputs": [
    {
     "name": "stdout",
     "output_type": "stream",
     "text": [
      "\n",
      "\n",
      "########## \u001b[1mcelestial_2_xy\u001b[0m ##########\n",
      "\n",
      "\n",
      "Selected concepts: ['dist', 'C_07', 't']\n",
      "Try to complete invalid general laws\n",
      "- Try to complete R_01\n",
      "- Try to complete R_02\n",
      "- Try to complete R_05\n",
      "- Try to complete R_07\n",
      "- Try to complete R_08\n",
      "- Try to complete R_09\n",
      "- Try to complete R_13\n",
      "\u001b[1mRegistered New Universal Constant: C_55 = ExpData.ConstData =\n",
      "mean = -0.00000000005387074036836015, std = 0.000000000000015666340304044238 defined by [#celestial_2_xy |- (D[(C_20 + C_29)]/D[((dist[1, 2] ** -1) + (dist[2, 1] ** -1))] / (C_06[1] * C_06[2]))]\u001b[0m\n",
      "\u001b[1mRegistered New Concept: C_56 = [Sum:Particle] (1->Particle) (2->Particle) |- ((dist[1, 2] ** -1) * (C_55 * (C_06[2] * C_06[1])))\u001b[0m\n",
      "\u001b[1mRegistered new general law: R_23 = GeneralLaw(name=R_23, type=IsConserved, indication=Sum, prop=|- ((C_20 + C_29) + (-1 * C_56)) is conserved, valid_experiments=['celestial_2_xy'], father=R_13)\u001b[0m\n",
      "- Try to complete R_15\n",
      "- Try to complete R_19\n",
      "Finish trying to complete incomplete general laws\n",
      "Fixing general laws.\n",
      "Try to complete invalid general laws again\n",
      "- Try to complete R_01\n",
      "\u001b[1mRegistered new general law: R_24 = GeneralLaw(name=R_24, type=IsZero, indication=ForAll, prop=(1->Particle) |- ((2 * C_08[1]) + (-1 * (Partial[C_56]/Partial[posx[1]] * (C_06[1] ** -1)))) is zero, valid_experiments=['celestial_2_xy'], father=R_01)\u001b[0m\n",
      "- Try to complete R_02\n",
      "\u001b[1mRegistered new general law: R_25 = GeneralLaw(name=R_25, type=IsZero, indication=ForAll, prop=(1->Particle) |- ((2 * C_10[1]) + (-1 * (Partial[C_56]/Partial[posy[1]] * (C_06[1] ** -1)))) is zero, valid_experiments=['celestial_2_xy'], father=R_02)\u001b[0m\n",
      "- Try to complete R_05\n",
      "- Try to complete R_07\n",
      "- Try to complete R_08\n",
      "\u001b[1mRegistered new general law: R_26 = GeneralLaw(name=R_26, type=IsZero, indication=ForAll, prop=(1->Particle) |- ((-1 * (Partial[C_56]/Partial[posx[1]] * (C_06[1] ** -1))) + ((2 * C_08[1]) + (Partial[C_28]/Partial[posx[1]] * (C_06[1] ** -1)))) is zero, valid_experiments=['celestial_2_xy'], father=R_08)\u001b[0m\n",
      "- Try to complete R_09\n",
      "- Try to complete R_15\n",
      "\u001b[1mRegistered new general law: R_27 = GeneralLaw(name=R_27, type=IsConserved, indication=Sum, prop=|- ((-1 * C_56) + (C_48 + (C_20 + C_29))) is conserved, valid_experiments=['celestial_2_xy'], father=R_15)\u001b[0m\n",
      "- Try to complete R_19\n",
      "\u001b[1mRegistered new general law: R_28 = GeneralLaw(name=R_28, type=IsConserved, indication=Sum, prop=|- ((-1 * C_56) + ((-1 * C_49) + (C_29 + (C_20 + C_28)))) is conserved, valid_experiments=['celestial_2_xy'], father=R_19)\u001b[0m\n",
      "Finish trying to complete incomplete general laws\n",
      "Fixing general laws.\n",
      "Try to convert conserved general laws to zero ones\n",
      "Finish trying to convert conserved general laws to zero ones\n",
      "Found 114 relations\n",
      "Begin filtering relations\n",
      "After filtering, 4 relations left\n",
      "Propose new proposition: posz[2] is zero\n",
      "Propose new proposition: posz[1] is zero\n",
      "Propose new proposition: D[C_07[1]]/D[C_07[2]] is conserved\n",
      "Propose new proposition: (((dist[1, 2] ** 2) - ((posx[1] - posx[2]) ** 2)) - ((posy[1] - posy[2]) ** 2)) is zero\n"
     ]
    },
    {
     "name": "stderr",
     "output_type": "stream",
     "text": [
      "Add to Specific model: 100%|██████████| 4/4 [00:37<00:00,  9.35s/it]\n"
     ]
    },
    {
     "name": "stdout",
     "output_type": "stream",
     "text": [
      "Reducing 5 conclusions\n"
     ]
    },
    {
     "name": "stderr",
     "output_type": "stream",
     "text": [
      "Reduce Conclusions:   0%|          | 0/5 [00:00<?, ?it/s]"
     ]
    },
    {
     "name": "stdout",
     "output_type": "stream",
     "text": [
      "Insert to ideal: posz[1] is zero\n"
     ]
    },
    {
     "name": "stderr",
     "output_type": "stream",
     "text": [
      "Reduce Conclusions:  20%|██        | 1/5 [00:00<00:01,  2.34it/s]"
     ]
    },
    {
     "name": "stdout",
     "output_type": "stream",
     "text": [
      "Insert to ideal: posz[2] is zero\n"
     ]
    },
    {
     "name": "stderr",
     "output_type": "stream",
     "text": [
      "Reduce Conclusions:  40%|████      | 2/5 [00:00<00:01,  2.29it/s]"
     ]
    },
    {
     "name": "stdout",
     "output_type": "stream",
     "text": [
      "Insert to ideal: (dist[1, 2] - dist[2, 1]) is zero\n"
     ]
    },
    {
     "name": "stderr",
     "output_type": "stream",
     "text": [
      "Reduce Conclusions:  60%|██████    | 3/5 [00:01<00:00,  2.24it/s]"
     ]
    },
    {
     "name": "stdout",
     "output_type": "stream",
     "text": [
      "Insert to ideal: D[C_07[1]]/D[C_07[2]] is conserved\n"
     ]
    },
    {
     "name": "stderr",
     "output_type": "stream",
     "text": [
      "Reduce Conclusions: 100%|██████████| 5/5 [00:02<00:00,  1.94it/s]\n"
     ]
    },
    {
     "name": "stdout",
     "output_type": "stream",
     "text": [
      "Insert to ideal: (((dist[1, 2] ** 2) - ((posx[1] - posx[2]) ** 2)) - ((posy[1] - posy[2]) ** 2)) is zero\n",
      "calc_relations between  {'C_06[2]', 'P5', 'C_06[1]'}\n",
      "Found 2 relations between conserved quantities\n",
      "Reducing 5 conclusions\n"
     ]
    },
    {
     "name": "stderr",
     "output_type": "stream",
     "text": [
      "Reduce Conclusions:   0%|          | 0/5 [00:00<?, ?it/s]"
     ]
    },
    {
     "name": "stdout",
     "output_type": "stream",
     "text": [
      "Insert to ideal: posz[1] is zero\n"
     ]
    },
    {
     "name": "stderr",
     "output_type": "stream",
     "text": [
      "Reduce Conclusions:  20%|██        | 1/5 [00:00<00:01,  2.49it/s]"
     ]
    },
    {
     "name": "stdout",
     "output_type": "stream",
     "text": [
      "Insert to ideal: posz[2] is zero\n"
     ]
    },
    {
     "name": "stderr",
     "output_type": "stream",
     "text": [
      "Reduce Conclusions:  40%|████      | 2/5 [00:00<00:01,  2.23it/s]"
     ]
    },
    {
     "name": "stdout",
     "output_type": "stream",
     "text": [
      "Insert to ideal: (dist[1, 2] - dist[2, 1]) is zero\n"
     ]
    },
    {
     "name": "stderr",
     "output_type": "stream",
     "text": [
      "Reduce Conclusions:  60%|██████    | 3/5 [00:01<00:00,  2.26it/s]"
     ]
    },
    {
     "name": "stdout",
     "output_type": "stream",
     "text": [
      "Insert to ideal: D[C_07[1]]/D[C_07[2]] is conserved\n"
     ]
    },
    {
     "name": "stderr",
     "output_type": "stream",
     "text": [
      "Reduce Conclusions: 100%|██████████| 5/5 [00:02<00:00,  1.96it/s]"
     ]
    },
    {
     "name": "stdout",
     "output_type": "stream",
     "text": [
      "Insert to ideal: (((dist[1, 2] ** 2) - ((posx[1] - posx[2]) ** 2)) - ((posy[1] - posy[2]) ** 2)) is zero\n",
      "Fixing general laws.\n"
     ]
    },
    {
     "name": "stderr",
     "output_type": "stream",
     "text": [
      "\n"
     ]
    },
    {
     "name": "stdout",
     "output_type": "stream",
     "text": [
      "\u001b[1mRegistered New Concept: C_59 = (1->Particle) (2->Particle) |- D[C_07[1]]/D[C_07[2]]\u001b[0m\n",
      "Try to reduce R_27\n",
      "--- R_27 is marked as useful\n",
      "Update diffalg for existing marked general laws\n",
      "Check if R_15 should be removed\n",
      "Finish updating diffalg\n",
      "Try to reduce R_28\n",
      "--- R_28 is marked as useful\n",
      "Update diffalg for existing marked general laws\n",
      "Check if R_15 should be removed\n",
      "Check if R_13 should be removed\n",
      "Check if R_19 should be removed\n",
      "Finish updating diffalg\n",
      "Try to reduce R_23\n",
      "--- R_23 is a subexpr of some marked general laws in {'R_10', 'R_06', 'R_28'}\n",
      "Try to reduce R_26\n",
      "--- R_26 is marked as useful\n",
      "Update diffalg for existing marked general laws\n",
      "Finish updating diffalg\n",
      "Try to reduce R_24\n",
      "--- R_24 is a subexpr of some marked general laws in {'R_26', 'R_06'}\n",
      "Try to reduce R_25\n",
      "--- R_25 is marked as useful\n",
      "Update diffalg for existing marked general laws\n",
      "Check if R_02 should be removed\n",
      "Finish updating diffalg\n",
      "Total rewards: 5\n"
     ]
    }
   ],
   "source": [
    "debugger.work(\"celestial_2_xy\", name_list=[vx, dist, t])"
   ]
  },
  {
   "cell_type": "code",
   "execution_count": 51,
   "metadata": {},
   "outputs": [
    {
     "data": {
      "text/plain": [
       "(C_55, C_56)"
      ]
     },
     "execution_count": 51,
     "metadata": {},
     "output_type": "execute_result"
    }
   ],
   "source": [
    "G = debugger.check_concept_discovered(Intrinsic(f\"[#celestial_2_xy |- - (D[({(sum_tx+ sum_ty)()})]/D[(({dist(1, 2)} ** -1) + ({dist(2, 1)} ** -1))] / ({mass(1)} * {mass(2)}))]\"), \"G\")\n",
    "sum_vG = debugger.check_concept_discovered(f\"[Sum:Particle] (1->Particle) (2->Particle) |- (({dist(1, 2)} ** -1) * ({G()} * ({mass(1)} * {mass(2)})))\", \"sum_vG\")\n",
    "G, sum_vG"
   ]
  },
  {
   "cell_type": "code",
   "execution_count": 52,
   "metadata": {},
   "outputs": [
    {
     "data": {
      "text/plain": [
       "'R_28'"
      ]
     },
     "execution_count": 52,
     "metadata": {},
     "output_type": "execute_result"
    }
   ],
   "source": [
    "prop_tx_ty_tz_2mgz_vk_vG = debugger.check_law((sum_tx + sum_ty + tz_2mgz + sum_vspring + sum_vG).gen_prop(\"Conserved\"))\n",
    "prop_tx_ty_tz_2mgz_vk_vG"
   ]
  },
  {
   "cell_type": "code",
   "execution_count": 53,
   "metadata": {},
   "outputs": [],
   "source": [
    "prop_tx_vG = debugger.check_law((sum_tx + sum_vG).gen_prop(\"Conserved\"))\n",
    "prop_tx_vG"
   ]
  },
  {
   "cell_type": "markdown",
   "metadata": {},
   "source": [
    "inspect which experiments are now not covered by energy conservation now"
   ]
  },
  {
   "cell_type": "code",
   "execution_count": 54,
   "metadata": {},
   "outputs": [
    {
     "name": "stdout",
     "output_type": "stream",
     "text": [
      "GeneralLaw(name=R_28, type=IsConserved, indication=Sum, prop=|- ((-1 * C_56) + ((-1 * C_49) + (C_29 + (C_20 + C_28)))) is conserved, valid_experiments=['celestial_2_xy', 'oscillation_r_3', 'hanging_spring_1', 'projectile_oscillation_1', 'oscillationy', 'collision', 'oscillation_rot_3', 'projectile_oscillation_2', 'oblique_projectile', 'oscillation_x_3', 'motion0', 'motion', 'motiony', 'oscillation_rot_2', 'collision_nh', 'oscillation', 'projectile', 'gravity', 'vertical_projectile', 'oblique_projectile_x', 'oscillation_x_2', 'collision_elastic_3body', 'pendulum_oscillation_2', 'oscillation_2d_2', 'collision_2d', 'collision_y', 'pendulum_oscillation_1', 'hanging_spring_2', 'stringmotion0', 'celestial_3', 'slope_oscillation_2', 'oscillation_rot_1', 'oscillation_2d_3', 'motion0_3d', 'slope_oscillation_1', 'hanging_spring_3', 'motion0y', 'oscillation_2d_1', 'oscillation_x_1', 'motion_3d', 'celestial_4', 'oblique_projectile_y', 'free_fall'], father=R_19)\n",
      "|- ((-1 * C_56) + ((-1 * C_49) + (C_29 + (C_20 + C_28)))) is conserved\n",
      "|- ((-1 * C_56) + ((-1 * C_49) + (C_29 + (C_20 + C_28)))) is conserved\n",
      "Not valid experiments: \u001b[1m[celestial_2_xz, celestial_2_yz, oscillation_r_4]\u001b[0m\n"
     ]
    }
   ],
   "source": [
    "print(debugger.law_info(prop_tx_ty_tz_2mgz_vk_vG))"
   ]
  },
  {
   "cell_type": "code",
   "execution_count": 55,
   "metadata": {},
   "outputs": [
    {
     "name": "stdout",
     "output_type": "stream",
     "text": [
      "((Partial[C_56]/Partial[posx[1]] / (-C_06[1])) + ((2 * C_08[1]) + (Partial[(-C_28)]/Partial[posx[1]] / (-C_06[1]))))\n"
     ]
    },
    {
     "data": {
      "text/plain": [
       "'R_26'"
      ]
     },
     "execution_count": 55,
     "metadata": {},
     "output_type": "execute_result"
    }
   ],
   "source": [
    "temp_expr = 2 * ax(1) + Exp.Partial(sum_vspring(), posx(1).unwrap_atom) / mass(1) + Exp.Partial(sum_vG(), posx(1).unwrap_atom) / mass(1)\n",
    "print(temp_expr)\n",
    "prop_ax_partvk_vG = debugger.check_law(f\"(1->Particle) |- {temp_expr} is zero\")\n",
    "prop_ax_partvk_vG"
   ]
  },
  {
   "cell_type": "markdown",
   "metadata": {},
   "source": [
    "inspect which experiments are now not covered by Newton's second law in $x$ direction now"
   ]
  },
  {
   "cell_type": "code",
   "execution_count": 56,
   "metadata": {},
   "outputs": [
    {
     "name": "stdout",
     "output_type": "stream",
     "text": [
      "GeneralLaw(name=R_26, type=IsZero, indication=ForAll, prop=(1->Particle) |- ((-1 * (Partial[C_56]/Partial[posx[1]] * (C_06[1] ** -1))) + ((2 * C_08[1]) + (Partial[C_28]/Partial[posx[1]] * (C_06[1] ** -1)))) is zero, valid_experiments=['celestial_2_xy', 'oscillation_r_3', 'hanging_spring_1', 'projectile_oscillation_1', 'oscillationy', 'oscillation_rot_3', 'celestial_2_yz', 'projectile_oscillation_2', 'oblique_projectile', 'oscillation_x_3', 'motion0', 'motiony', 'oscillation_rot_2', 'collision_nh', 'oscillation', 'projectile', 'gravity', 'vertical_projectile', 'oblique_projectile_x', 'oscillation_x_2', 'collision_elastic_3body', 'pendulum_oscillation_2', 'oscillation_2d_2', 'collision_2d', 'collision_y', 'pendulum_oscillation_1', 'hanging_spring_2', 'celestial_2_xz', 'celestial_3', 'oscillation_rot_1', 'oscillation_2d_3', 'motion0_3d', 'hanging_spring_3', 'motion0y', 'oscillation_2d_1', 'oscillation_x_1', 'celestial_4', 'oblique_projectile_y', 'free_fall'], father=R_08)\n",
      "(1->Particle) |- ((-1 * (Partial[C_56]/Partial[posx[1]] * (C_06[1] ** -1))) + ((2 * C_08[1]) + (Partial[C_28]/Partial[posx[1]] * (C_06[1] ** -1)))) is zero\n",
      "(1->Particle) |- ((-1 * (Partial[C_56]/Partial[posx[1]] * (C_06[1] ** -1))) + ((Partial[C_28]/Partial[posx[1]] * (C_06[1] ** -1)) + (2 * D^2[posx[1]]/D[t[0]]^2))) is zero\n",
      "Not valid experiments: \u001b[1m[collision, motion, slope_oscillation_1, slope_oscillation_2, motion_3d, stringmotion0, oscillation_r_4]\u001b[0m\n"
     ]
    }
   ],
   "source": [
    "print(debugger.law_info(prop_ax_partvk_vG))"
   ]
  },
  {
   "cell_type": "code",
   "execution_count": 57,
   "metadata": {},
   "outputs": [
    {
     "name": "stdout",
     "output_type": "stream",
     "text": [
      "((2 * C_10[1]) + (Partial[C_56]/Partial[posy[1]] / (-C_06[1])))\n"
     ]
    },
    {
     "data": {
      "text/plain": [
       "'R_25'"
      ]
     },
     "execution_count": 57,
     "metadata": {},
     "output_type": "execute_result"
    }
   ],
   "source": [
    "temp_expr = 2 * ay(1) + Exp.Partial(sum_vG(), posy(1).unwrap_atom) / mass(1)\n",
    "print(temp_expr)\n",
    "prop_ay_vG = debugger.check_law(f\"(1->Particle) |- {temp_expr} is zero\")\n",
    "prop_ay_vG"
   ]
  },
  {
   "cell_type": "markdown",
   "metadata": {},
   "source": [
    "inspect which experiments are now not covered by Newton's second law in $y$ direction now"
   ]
  },
  {
   "cell_type": "code",
   "execution_count": 58,
   "metadata": {},
   "outputs": [
    {
     "name": "stdout",
     "output_type": "stream",
     "text": [
      "GeneralLaw(name=R_25, type=IsZero, indication=ForAll, prop=(1->Particle) |- ((2 * C_10[1]) + (-1 * (Partial[C_56]/Partial[posy[1]] * (C_06[1] ** -1)))) is zero, valid_experiments=['celestial_2_xy', 'hanging_spring_1', 'collision', 'celestial_2_yz', 'oblique_projectile', 'oscillation_x_3', 'motion0', 'motion', 'collision_nh', 'oscillation', 'projectile', 'gravity', 'vertical_projectile', 'oblique_projectile_x', 'oscillation_x_2', 'collision_elastic_3body', 'pendulum_oscillation_2', 'collision_2d', 'collision_y', 'pendulum_oscillation_1', 'hanging_spring_2', 'celestial_2_xz', 'celestial_3', 'motion0_3d', 'hanging_spring_3', 'motion0y', 'oscillation_x_1', 'celestial_4', 'oblique_projectile_y', 'free_fall'], father=R_02)\n",
      "(1->Particle) |- ((2 * C_10[1]) + (-1 * (Partial[C_56]/Partial[posy[1]] * (C_06[1] ** -1)))) is zero\n",
      "(1->Particle) |- ((2 * D^2[posy[1]]/D[t[0]]^2) + (-1 * (Partial[C_56]/Partial[posy[1]] * (C_06[1] ** -1)))) is zero\n",
      "Not valid experiments: \u001b[1m[oscillation_rot_1, oscillation_2d_3, motiony, slope_oscillation_1, slope_oscillation_2, oscillation_2d_2, oscillation_r_3, oscillation_rot_2, motion_3d, stringmotion0, projectile_oscillation_1, oscillation_rot_3, oscillation_2d_1, oscillation_r_4, oscillationy, projectile_oscillation_2]\u001b[0m\n"
     ]
    }
   ],
   "source": [
    "print(debugger.law_info(prop_ay_vG))"
   ]
  },
  {
   "cell_type": "code",
   "execution_count": 59,
   "metadata": {},
   "outputs": [
    {
     "name": "stdout",
     "output_type": "stream",
     "text": [
      "Saving knowledge to data/human/jds_knowledge.txt \n",
      "\n"
     ]
    }
   ],
   "source": [
    "theorist.save_to_file(\"data/human/jds\")"
   ]
  },
  {
   "cell_type": "markdown",
   "metadata": {},
   "source": [
    "### find general conclusion: $\\forall i\\in\\text{particles},\\,a_{z,i} + F_{G,z}=const.$\n",
    "\n",
    "(Newton's second law in $z$ direction is now completed)"
   ]
  },
  {
   "cell_type": "code",
   "execution_count": 60,
   "metadata": {},
   "outputs": [
    {
     "name": "stdout",
     "output_type": "stream",
     "text": [
      "\n",
      "\n",
      "########## \u001b[1mcelestial_2_xz\u001b[0m ##########\n",
      "\n",
      "\n",
      "Selected concepts: ['t', 'C_56']\n",
      "Try to complete invalid general laws\n",
      "- Try to complete R_01\n",
      "\u001b[1mRegistered new general law: R_30 = GeneralLaw(name=R_30, type=IsZero, indication=ForAll, prop=(1->Particle) |- ((2 * C_08[1]) + (-1 * (Partial[C_56]/Partial[posx[1]] * (C_06[1] ** -1)))) is zero, valid_experiments=['celestial_2_xz'], father=R_01)\u001b[0m\n",
      "- Try to complete R_03\n",
      "\u001b[1mRegistered new general law: R_31 = GeneralLaw(name=R_31, type=IsConserved, indication=ForAll, prop=(1->Particle) |- ((2 * C_16[1]) + (-1 * (Partial[C_56]/Partial[posz[1]] * (C_06[1] ** -1)))) is conserved, valid_experiments=['celestial_2_xz'], father=R_03)\u001b[0m\n",
      "- Try to complete R_05\n",
      "- Try to complete R_07\n",
      "- Try to complete R_08\n",
      "- Try to complete R_11\n",
      "- Try to complete R_12\n",
      "- Try to complete R_13\n",
      "- Try to complete R_15\n",
      "- Try to complete R_19\n",
      "- Try to complete R_21\n",
      "- Try to complete R_28\n",
      "Finish trying to complete incomplete general laws\n",
      "Fixing general laws.\n",
      "Try to convert conserved general laws to zero ones\n",
      "Finish trying to convert conserved general laws to zero ones\n",
      "Found 2 relations\n",
      "Begin filtering relations\n",
      "After filtering, 3 relations left\n",
      "Propose new proposition: posy[1] is zero\n",
      "Propose new proposition: posy[2] is zero\n",
      "Propose new proposition: (((dist[1, 2] ** 2) - ((posx[1] - posx[2]) ** 2)) - ((posz[1] - posz[2]) ** 2)) is zero\n"
     ]
    },
    {
     "name": "stderr",
     "output_type": "stream",
     "text": [
      "Add to Specific model: 100%|██████████| 3/3 [00:00<00:00, 6768.65it/s]\n"
     ]
    },
    {
     "name": "stdout",
     "output_type": "stream",
     "text": [
      "Reducing 4 conclusions\n"
     ]
    },
    {
     "name": "stderr",
     "output_type": "stream",
     "text": [
      "Reduce Conclusions:   0%|          | 0/4 [00:00<?, ?it/s]"
     ]
    },
    {
     "name": "stdout",
     "output_type": "stream",
     "text": [
      "Insert to ideal: posy[1] is zero\n"
     ]
    },
    {
     "name": "stderr",
     "output_type": "stream",
     "text": [
      "Reduce Conclusions:  25%|██▌       | 1/4 [00:00<00:00,  5.77it/s]"
     ]
    },
    {
     "name": "stdout",
     "output_type": "stream",
     "text": [
      "Insert to ideal: posy[2] is zero\n"
     ]
    },
    {
     "name": "stderr",
     "output_type": "stream",
     "text": [
      "Reduce Conclusions:  75%|███████▌  | 3/4 [00:00<00:00,  7.06it/s]"
     ]
    },
    {
     "name": "stdout",
     "output_type": "stream",
     "text": [
      "Insert to ideal: (dist[1, 2] - dist[2, 1]) is zero\n"
     ]
    },
    {
     "name": "stderr",
     "output_type": "stream",
     "text": [
      "Reduce Conclusions: 100%|██████████| 4/4 [00:00<00:00,  7.82it/s]\n"
     ]
    },
    {
     "name": "stdout",
     "output_type": "stream",
     "text": [
      "Insert to ideal: (((dist[1, 2] ** 2) - ((posx[1] - posx[2]) ** 2)) - ((posz[1] - posz[2]) ** 2)) is zero\n",
      "calc_relations between  {'C_06[2]', 'C_06[1]'}\n",
      "Found 0 relations between conserved quantities\n",
      "Reducing 4 conclusions\n"
     ]
    },
    {
     "name": "stderr",
     "output_type": "stream",
     "text": [
      "Reduce Conclusions:  25%|██▌       | 1/4 [00:00<00:00,  6.36it/s]"
     ]
    },
    {
     "name": "stdout",
     "output_type": "stream",
     "text": [
      "Insert to ideal: posy[1] is zero\n"
     ]
    },
    {
     "name": "stderr",
     "output_type": "stream",
     "text": [
      "Reduce Conclusions:  25%|██▌       | 1/4 [00:00<00:00,  6.36it/s]"
     ]
    },
    {
     "name": "stdout",
     "output_type": "stream",
     "text": [
      "Insert to ideal: posy[2] is zero\n"
     ]
    },
    {
     "name": "stderr",
     "output_type": "stream",
     "text": [
      "Reduce Conclusions:  50%|█████     | 2/4 [00:00<00:00,  6.96it/s]"
     ]
    },
    {
     "name": "stdout",
     "output_type": "stream",
     "text": [
      "Insert to ideal: (dist[1, 2] - dist[2, 1]) is zero\n"
     ]
    },
    {
     "name": "stderr",
     "output_type": "stream",
     "text": [
      "Reduce Conclusions: 100%|██████████| 4/4 [00:00<00:00,  7.62it/s]"
     ]
    },
    {
     "name": "stdout",
     "output_type": "stream",
     "text": [
      "Insert to ideal: (((dist[1, 2] ** 2) - ((posx[1] - posx[2]) ** 2)) - ((posz[1] - posz[2]) ** 2)) is zero\n",
      "Fixing general laws.\n"
     ]
    },
    {
     "name": "stderr",
     "output_type": "stream",
     "text": [
      "\n"
     ]
    },
    {
     "name": "stdout",
     "output_type": "stream",
     "text": [
      "Try to reduce R_31\n",
      "--- R_31 is marked as useful\n",
      "Update diffalg for existing marked general laws\n",
      "Check if R_11 should be removed\n",
      "Check if R_12 should be removed\n",
      "Check if R_03 should be removed\n",
      "Finish updating diffalg\n",
      "Try to reduce R_30\n",
      "--- R_30 is a subexpr of some marked general laws in {'R_26', 'R_06'}\n",
      "Total rewards: 1\n"
     ]
    }
   ],
   "source": [
    "debugger.work(\"celestial_2_xz\", name_list=[sum_vG, t])"
   ]
  },
  {
   "cell_type": "code",
   "execution_count": 61,
   "metadata": {},
   "outputs": [
    {
     "name": "stdout",
     "output_type": "stream",
     "text": [
      "((2 * C_16[1]) + (Partial[C_56]/Partial[posz[1]] / (-C_06[1])))\n"
     ]
    },
    {
     "data": {
      "text/plain": [
       "'R_31'"
      ]
     },
     "execution_count": 61,
     "metadata": {},
     "output_type": "execute_result"
    }
   ],
   "source": [
    "temp_expr = 2 * az(1) + Exp.Partial(sum_vG(), posz(1).unwrap_atom) / mass(1)\n",
    "print(temp_expr)\n",
    "prop_az_FG = debugger.check_law(f\"(1->Particle) |- {temp_expr} is conserved\")\n",
    "prop_az_FG"
   ]
  },
  {
   "cell_type": "markdown",
   "metadata": {},
   "source": [
    "inspect which experiments are now not covered by Newton's second law in $z$ direction now"
   ]
  },
  {
   "cell_type": "code",
   "execution_count": 62,
   "metadata": {},
   "outputs": [
    {
     "name": "stdout",
     "output_type": "stream",
     "text": [
      "GeneralLaw(name=R_31, type=IsConserved, indication=ForAll, prop=(1->Particle) |- ((2 * C_16[1]) + (-1 * (Partial[C_56]/Partial[posz[1]] * (C_06[1] ** -1)))) is conserved, valid_experiments=['celestial_2_xz', 'oscillation_r_3', 'oscillationy', 'collision', 'oscillation_rot_3', 'celestial_2_yz', 'oblique_projectile', 'oscillation_x_3', 'motion0', 'celestial_2_xy', 'motion', 'motiony', 'oscillation_rot_2', 'collision_nh', 'oscillation', 'projectile', 'gravity', 'vertical_projectile', 'oscillation_r_4', 'oblique_projectile_x', 'oscillation_x_2', 'collision_elastic_3body', 'oscillation_2d_2', 'collision_2d', 'collision_y', 'celestial_3', 'oscillation_rot_1', 'oscillation_2d_3', 'motion0_3d', 'motion0y', 'oscillation_2d_1', 'oscillation_x_1', 'motion_3d', 'celestial_4', 'oblique_projectile_y', 'free_fall'], father=R_03)\n",
      "(1->Particle) |- ((2 * C_16[1]) + (-1 * (Partial[C_56]/Partial[posz[1]] * (C_06[1] ** -1)))) is conserved\n",
      "(1->Particle) |- ((2 * D^2[posz[1]]/D[t[0]]^2) + (-1 * (Partial[C_56]/Partial[posz[1]] * (C_06[1] ** -1)))) is conserved\n",
      "Not valid experiments: \u001b[1m[hanging_spring_1, slope_oscillation_1, hanging_spring_2, slope_oscillation_2, stringmotion0, projectile_oscillation_1, pendulum_oscillation_1, pendulum_oscillation_2, projectile_oscillation_2, hanging_spring_3]\u001b[0m\n"
     ]
    }
   ],
   "source": [
    "print(debugger.law_info(prop_az_FG))"
   ]
  },
  {
   "cell_type": "markdown",
   "metadata": {},
   "source": [
    "### save"
   ]
  },
  {
   "cell_type": "code",
   "execution_count": 63,
   "metadata": {},
   "outputs": [
    {
     "name": "stdout",
     "output_type": "stream",
     "text": [
      "Saving knowledge to data/human/jds_knowledge.txt \n",
      "\n"
     ]
    }
   ],
   "source": [
    "theorist.save_to_file(debug_file)"
   ]
  },
  {
   "cell_type": "markdown",
   "metadata": {},
   "source": [
    "## Test: Complete the Newton's second law in $x$ and $y$ directions"
   ]
  },
  {
   "cell_type": "markdown",
   "metadata": {},
   "source": [
    "Newton's second law in $z$ direction is already completed"
   ]
  },
  {
   "cell_type": "markdown",
   "metadata": {},
   "source": [
    "inspect which experiments are now not covered by Newton's second law in each direction"
   ]
  },
  {
   "cell_type": "code",
   "execution_count": 64,
   "metadata": {},
   "outputs": [
    {
     "name": "stdout",
     "output_type": "stream",
     "text": [
      "GeneralLaw(name=R_26, type=IsZero, indication=ForAll, prop=(1->Particle) |- ((-1 * (Partial[C_56]/Partial[posx[1]] * (C_06[1] ** -1))) + ((2 * C_08[1]) + (Partial[C_28]/Partial[posx[1]] * (C_06[1] ** -1)))) is zero, valid_experiments=['celestial_2_xy', 'oscillation_r_3', 'hanging_spring_1', 'projectile_oscillation_1', 'oscillationy', 'oscillation_rot_3', 'celestial_2_yz', 'projectile_oscillation_2', 'oblique_projectile', 'oscillation_x_3', 'motion0', 'motiony', 'oscillation_rot_2', 'collision_nh', 'oscillation', 'projectile', 'gravity', 'vertical_projectile', 'oblique_projectile_x', 'oscillation_x_2', 'collision_elastic_3body', 'pendulum_oscillation_2', 'oscillation_2d_2', 'collision_2d', 'collision_y', 'pendulum_oscillation_1', 'hanging_spring_2', 'celestial_2_xz', 'celestial_3', 'oscillation_rot_1', 'oscillation_2d_3', 'motion0_3d', 'hanging_spring_3', 'motion0y', 'oscillation_2d_1', 'oscillation_x_1', 'celestial_4', 'oblique_projectile_y', 'free_fall'], father=R_08)\n",
      "(1->Particle) |- ((-1 * (Partial[C_56]/Partial[posx[1]] * (C_06[1] ** -1))) + ((2 * C_08[1]) + (Partial[C_28]/Partial[posx[1]] * (C_06[1] ** -1)))) is zero\n",
      "(1->Particle) |- ((-1 * (Partial[C_56]/Partial[posx[1]] * (C_06[1] ** -1))) + ((Partial[C_28]/Partial[posx[1]] * (C_06[1] ** -1)) + (2 * D^2[posx[1]]/D[t[0]]^2))) is zero\n",
      "Not valid experiments: \u001b[1m[collision, motion, slope_oscillation_1, slope_oscillation_2, motion_3d, stringmotion0, oscillation_r_4]\u001b[0m\n",
      "\n",
      "GeneralLaw(name=R_25, type=IsZero, indication=ForAll, prop=(1->Particle) |- ((2 * C_10[1]) + (-1 * (Partial[C_56]/Partial[posy[1]] * (C_06[1] ** -1)))) is zero, valid_experiments=['celestial_2_xy', 'hanging_spring_1', 'collision', 'celestial_2_yz', 'oblique_projectile', 'oscillation_x_3', 'motion0', 'motion', 'collision_nh', 'oscillation', 'projectile', 'gravity', 'vertical_projectile', 'oblique_projectile_x', 'oscillation_x_2', 'collision_elastic_3body', 'pendulum_oscillation_2', 'collision_2d', 'collision_y', 'pendulum_oscillation_1', 'hanging_spring_2', 'celestial_2_xz', 'celestial_3', 'motion0_3d', 'hanging_spring_3', 'motion0y', 'oscillation_x_1', 'celestial_4', 'oblique_projectile_y', 'free_fall'], father=R_02)\n",
      "(1->Particle) |- ((2 * C_10[1]) + (-1 * (Partial[C_56]/Partial[posy[1]] * (C_06[1] ** -1)))) is zero\n",
      "(1->Particle) |- ((2 * D^2[posy[1]]/D[t[0]]^2) + (-1 * (Partial[C_56]/Partial[posy[1]] * (C_06[1] ** -1)))) is zero\n",
      "Not valid experiments: \u001b[1m[oscillation_rot_1, oscillation_2d_3, motiony, slope_oscillation_1, slope_oscillation_2, oscillation_2d_2, oscillation_r_3, oscillation_rot_2, motion_3d, stringmotion0, projectile_oscillation_1, oscillation_rot_3, oscillation_2d_1, oscillation_r_4, oscillationy, projectile_oscillation_2]\u001b[0m\n",
      "\n",
      "GeneralLaw(name=R_21, type=IsZero, indication=ForAll, prop=(1->Particle) |- ((-1 * Partial[C_43[1]]/Partial[posz[1]]) + ((2 * C_16[1]) + (Partial[C_28]/Partial[posz[1]] * (C_06[1] ** -1)))) is zero, valid_experiments=['hanging_spring_1', 'oscillation_r_3', 'projectile_oscillation_1', 'oscillationy', 'collision', 'oscillation_rot_3', 'projectile_oscillation_2', 'oblique_projectile', 'oscillation_x_3', 'motion0', 'celestial_2_xy', 'motion', 'motiony', 'oscillation_rot_2', 'collision_nh', 'oscillation', 'projectile', 'gravity', 'vertical_projectile', 'oscillation_r_4', 'oblique_projectile_x', 'oscillation_x_2', 'collision_elastic_3body', 'pendulum_oscillation_2', 'oscillation_2d_2', 'collision_2d', 'collision_y', 'pendulum_oscillation_1', 'hanging_spring_2', 'celestial_3', 'slope_oscillation_2', 'oscillation_rot_1', 'oscillation_2d_3', 'motion0_3d', 'slope_oscillation_1', 'hanging_spring_3', 'motion0y', 'oscillation_2d_1', 'oscillation_x_1', 'motion_3d', 'celestial_4', 'oblique_projectile_y', 'free_fall'], father=R_03)\n",
      "(1->Particle) |- ((-1 * Partial[C_43[1]]/Partial[posz[1]]) + ((2 * C_16[1]) + (Partial[C_28]/Partial[posz[1]] * (C_06[1] ** -1)))) is zero\n",
      "(1->Particle) |- (((Partial[C_28]/Partial[posz[1]] * (C_06[1] ** -1)) + (2 * D^2[posz[1]]/D[t[0]]^2)) + (-1 * Partial[((2 * (C_40 * posz[1])) - (D[posz[1]]/D[t[0]] * D[posz[1]]/D[t[0]]))]/Partial[posz[1]])) is zero\n",
      "Not valid experiments: \u001b[1m[celestial_2_xz, stringmotion0, celestial_2_yz]\u001b[0m\n",
      "\n"
     ]
    }
   ],
   "source": [
    "for prop in [prop_ax_partvk_vG, prop_ay_vG, prop_az_partvk_gz]:\n",
    "    print(debugger.law_info(prop))\n",
    "    print()"
   ]
  },
  {
   "cell_type": "markdown",
   "metadata": {},
   "source": [
    "### find general conclusion: $\\forall i\\in\\text{particles},\\,a_{x,i}+\\frac{1}{m_i}\\frac{\\partial \\sum_{j\\in\\text{springs}}V^{(\\text{spring})}_{j}}{\\partial x_i} + F_{g,x,i} + F_{G}=0.$\n",
    "\n",
    "### find general conclusion: $\\forall i\\in\\text{particles},\\,a_{y,i}+F_{g,y,i} + F_G=0.$\n",
    "\n",
    "(Newton's second law in $x$ direction is now completed)\n"
   ]
  },
  {
   "cell_type": "code",
   "execution_count": 65,
   "metadata": {},
   "outputs": [
    {
     "name": "stdout",
     "output_type": "stream",
     "text": [
      "\n",
      "\n",
      "########## \u001b[1mmotion_3d\u001b[0m ##########\n",
      "\n",
      "\n",
      "Selected concepts: ['C_43', 't']\n",
      "Try to complete invalid general laws\n",
      "- Try to complete R_01\n",
      "\u001b[1mRegistered new general law: R_49 = GeneralLaw(name=R_49, type=IsZero, indication=ForAll, prop=(1->Particle) |- ((2 * C_08[1]) + (-1 * Partial[C_43[1]]/Partial[posx[1]])) is zero, valid_experiments=['motion_3d'], father=R_01)\u001b[0m\n",
      "- Try to complete R_02\n",
      "\u001b[1mRegistered new general law: R_50 = GeneralLaw(name=R_50, type=IsZero, indication=ForAll, prop=(1->Particle) |- ((2 * C_10[1]) + (-1 * Partial[C_43[1]]/Partial[posy[1]])) is zero, valid_experiments=['motion_3d'], father=R_02)\u001b[0m\n",
      "- Try to complete R_05\n",
      "- Try to complete R_06\n",
      "- Try to complete R_07\n",
      "- Try to complete R_08\n",
      "\u001b[1mRegistered new general law: R_51 = GeneralLaw(name=R_51, type=IsZero, indication=ForAll, prop=(1->Particle) |- ((-1 * Partial[C_43[1]]/Partial[posx[1]]) + ((2 * C_08[1]) + (Partial[C_28]/Partial[posx[1]] * (C_06[1] ** -1)))) is zero, valid_experiments=['motion_3d'], father=R_08)\u001b[0m\n",
      "- Try to complete R_09\n",
      "- Try to complete R_10\n",
      "- Try to complete R_12\n",
      "- Try to complete R_13\n",
      "\u001b[1mRegistered new general law: R_52 = GeneralLaw(name=R_52, type=IsConserved, indication=Sum, prop=|- ((C_20 + C_29) + (-1 * C_49)) is conserved, valid_experiments=['motion_3d'], father=R_13)\u001b[0m\n",
      "- Try to complete R_15\n",
      "- Try to complete R_25\n",
      "\u001b[1mRegistered new general law: R_53 = GeneralLaw(name=R_53, type=IsZero, indication=ForAll, prop=(1->Particle) |- ((-1 * Partial[C_43[1]]/Partial[posy[1]]) + ((2 * C_10[1]) + (-1 * (Partial[C_56]/Partial[posy[1]] * (C_06[1] ** -1))))) is zero, valid_experiments=['motion_3d'], father=R_25)\u001b[0m\n",
      "- Try to complete R_26\n",
      "\u001b[1mRegistered new general law: R_54 = GeneralLaw(name=R_54, type=IsZero, indication=ForAll, prop=(1->Particle) |- ((-1 * Partial[C_43[1]]/Partial[posx[1]]) + ((-1 * (Partial[C_56]/Partial[posx[1]] * (C_06[1] ** -1))) + ((2 * C_08[1]) + (Partial[C_28]/Partial[posx[1]] * (C_06[1] ** -1))))) is zero, valid_experiments=['motion_3d'], father=R_26)\u001b[0m\n",
      "- Try to complete R_27\n",
      "Finish trying to complete incomplete general laws\n",
      "Fixing general laws.\n",
      "Try to convert conserved general laws to zero ones\n",
      "Finish trying to convert conserved general laws to zero ones\n",
      "Found 8 relations\n",
      "Begin filtering relations\n",
      "After filtering, 5 relations left\n",
      "Propose new proposition: cz[2] is conserved\n",
      "Propose new proposition: cy[2] is conserved\n",
      "Propose new proposition: cx[2] is conserved\n",
      "Propose new proposition: ((cy[2] * posx[1]) - (cx[2] * posy[1])) is conserved\n",
      "Propose new proposition: (((cx[2] * posx[1]) + (cy[2] * posy[1])) + (cz[2] * posz[1])) is conserved\n"
     ]
    },
    {
     "name": "stderr",
     "output_type": "stream",
     "text": [
      "Add to Specific model: 100%|██████████| 5/5 [00:00<00:00, 12401.85it/s]\n"
     ]
    },
    {
     "name": "stdout",
     "output_type": "stream",
     "text": [
      "Reducing 9 conclusions\n"
     ]
    },
    {
     "name": "stderr",
     "output_type": "stream",
     "text": [
      "Reduce Conclusions:   0%|          | 0/9 [00:00<?, ?it/s]"
     ]
    },
    {
     "name": "stdout",
     "output_type": "stream",
     "text": [
      "Insert to ideal: cx[2] is conserved\n"
     ]
    },
    {
     "name": "stderr",
     "output_type": "stream",
     "text": [
      "Reduce Conclusions:  11%|█         | 1/9 [00:00<00:04,  1.88it/s]"
     ]
    },
    {
     "name": "stdout",
     "output_type": "stream",
     "text": [
      "Insert to ideal: cy[2] is conserved\n"
     ]
    },
    {
     "name": "stderr",
     "output_type": "stream",
     "text": [
      "Reduce Conclusions:  22%|██▏       | 2/9 [00:01<00:03,  1.92it/s]"
     ]
    },
    {
     "name": "stdout",
     "output_type": "stream",
     "text": [
      "Insert to ideal: cz[2] is conserved\n"
     ]
    },
    {
     "name": "stderr",
     "output_type": "stream",
     "text": [
      "Reduce Conclusions:  33%|███▎      | 3/9 [00:01<00:03,  1.96it/s]"
     ]
    },
    {
     "name": "stdout",
     "output_type": "stream",
     "text": [
      "Insert to ideal: D[C_13[1]]/D[t[0]] is conserved\n"
     ]
    },
    {
     "name": "stderr",
     "output_type": "stream",
     "text": [
      "Reduce Conclusions:  44%|████▍     | 4/9 [00:02<00:03,  1.54it/s]"
     ]
    },
    {
     "name": "stdout",
     "output_type": "stream",
     "text": [
      "Insert to ideal: D[C_07[1]]/D[t[0]] is conserved\n"
     ]
    },
    {
     "name": "stderr",
     "output_type": "stream",
     "text": [
      "Reduce Conclusions:  56%|█████▌    | 5/9 [00:03<00:02,  1.38it/s]"
     ]
    },
    {
     "name": "stdout",
     "output_type": "stream",
     "text": [
      "Insert to ideal: D[posy[1]]/D[posz[1]] is conserved\n"
     ]
    },
    {
     "name": "stderr",
     "output_type": "stream",
     "text": [
      "Reduce Conclusions:  67%|██████▋   | 6/9 [00:04<00:02,  1.31it/s]"
     ]
    },
    {
     "name": "stdout",
     "output_type": "stream",
     "text": [
      "Insert to ideal: D[posy[1]]/D[posx[1]] is conserved\n"
     ]
    },
    {
     "name": "stderr",
     "output_type": "stream",
     "text": [
      "Reduce Conclusions:  78%|███████▊  | 7/9 [00:05<00:01,  1.28it/s]"
     ]
    },
    {
     "name": "stdout",
     "output_type": "stream",
     "text": [
      "Insert to ideal: ((cy[2] * posx[1]) - (cx[2] * posy[1])) is conserved\n"
     ]
    },
    {
     "name": "stderr",
     "output_type": "stream",
     "text": [
      "Reduce Conclusions: 100%|██████████| 9/9 [00:06<00:00,  1.46it/s]\n"
     ]
    },
    {
     "name": "stdout",
     "output_type": "stream",
     "text": [
      "Insert to ideal: (((cx[2] * posx[1]) + (cy[2] * posy[1])) + (cz[2] * posz[1])) is conserved\n",
      "calc_relations between  {'P2', 'P6', 'C_06[1]', 'P4', 'P5', 'P9', 'P8', 'P1', 'P7', 'P3'}\n",
      "Found 0 relations between conserved quantities\n",
      "Reducing 9 conclusions\n"
     ]
    },
    {
     "name": "stderr",
     "output_type": "stream",
     "text": [
      "Reduce Conclusions:   0%|          | 0/9 [00:00<?, ?it/s]"
     ]
    },
    {
     "name": "stdout",
     "output_type": "stream",
     "text": [
      "Insert to ideal: cx[2] is conserved\n"
     ]
    },
    {
     "name": "stderr",
     "output_type": "stream",
     "text": [
      "Reduce Conclusions:  11%|█         | 1/9 [00:00<00:04,  1.92it/s]"
     ]
    },
    {
     "name": "stdout",
     "output_type": "stream",
     "text": [
      "Insert to ideal: cy[2] is conserved\n"
     ]
    },
    {
     "name": "stderr",
     "output_type": "stream",
     "text": [
      "Reduce Conclusions:  22%|██▏       | 2/9 [00:01<00:03,  1.94it/s]"
     ]
    },
    {
     "name": "stdout",
     "output_type": "stream",
     "text": [
      "Insert to ideal: cz[2] is conserved\n"
     ]
    },
    {
     "name": "stderr",
     "output_type": "stream",
     "text": [
      "Reduce Conclusions:  33%|███▎      | 3/9 [00:01<00:03,  1.97it/s]"
     ]
    },
    {
     "name": "stdout",
     "output_type": "stream",
     "text": [
      "Insert to ideal: D[C_13[1]]/D[t[0]] is conserved\n"
     ]
    },
    {
     "name": "stderr",
     "output_type": "stream",
     "text": [
      "Reduce Conclusions:  44%|████▍     | 4/9 [00:02<00:03,  1.58it/s]"
     ]
    },
    {
     "name": "stdout",
     "output_type": "stream",
     "text": [
      "Insert to ideal: D[C_07[1]]/D[t[0]] is conserved\n"
     ]
    },
    {
     "name": "stderr",
     "output_type": "stream",
     "text": [
      "Reduce Conclusions:  56%|█████▌    | 5/9 [00:03<00:02,  1.39it/s]"
     ]
    },
    {
     "name": "stdout",
     "output_type": "stream",
     "text": [
      "Insert to ideal: D[posy[1]]/D[posz[1]] is conserved\n"
     ]
    },
    {
     "name": "stderr",
     "output_type": "stream",
     "text": [
      "Reduce Conclusions:  67%|██████▋   | 6/9 [00:04<00:02,  1.31it/s]"
     ]
    },
    {
     "name": "stdout",
     "output_type": "stream",
     "text": [
      "Insert to ideal: D[posy[1]]/D[posx[1]] is conserved\n"
     ]
    },
    {
     "name": "stderr",
     "output_type": "stream",
     "text": [
      "Reduce Conclusions:  78%|███████▊  | 7/9 [00:05<00:01,  1.28it/s]"
     ]
    },
    {
     "name": "stdout",
     "output_type": "stream",
     "text": [
      "Insert to ideal: ((cy[2] * posx[1]) - (cx[2] * posy[1])) is conserved\n"
     ]
    },
    {
     "name": "stderr",
     "output_type": "stream",
     "text": [
      "Reduce Conclusions: 100%|██████████| 9/9 [00:06<00:00,  1.46it/s]"
     ]
    },
    {
     "name": "stdout",
     "output_type": "stream",
     "text": [
      "Insert to ideal: (((cx[2] * posx[1]) + (cy[2] * posy[1])) + (cz[2] * posz[1])) is conserved\n",
      "Fixing general laws.\n"
     ]
    },
    {
     "name": "stderr",
     "output_type": "stream",
     "text": [
      "\n"
     ]
    },
    {
     "name": "stdout",
     "output_type": "stream",
     "text": [
      "Try to reduce R_51\n",
      "--- R_51 is marked as useful\n",
      "Update diffalg for existing marked general laws\n",
      "Check if R_08 should be removed\n",
      "Check if R_01 should be removed\n",
      "Finish updating diffalg\n",
      "Try to reduce R_54\n",
      "--- R_54 is marked as useful\n",
      "Update diffalg for existing marked general laws\n",
      "Check if R_26 should be removed\n",
      "--- R_26 is a subexpr of R_54\n",
      "--- R_26 is removed\n",
      "Finish updating diffalg\n",
      "Try to reduce R_50\n",
      "--- R_50 is marked as useful\n",
      "Update diffalg for existing marked general laws\n",
      "Check if R_02 should be removed\n",
      "Finish updating diffalg\n",
      "Try to reduce R_49\n",
      "--- R_49 is a subexpr of some marked general laws in {'R_51'}\n",
      "Try to reduce R_52\n",
      "--- R_52 is a subexpr of some marked general laws in {'R_28', 'R_19'}\n",
      "Try to reduce R_53\n",
      "--- R_53 is marked as useful\n",
      "Update diffalg for existing marked general laws\n",
      "Check if R_02 should be removed\n",
      "Check if R_25 should be removed\n",
      "Check if R_50 should be removed\n",
      "Finish updating diffalg\n",
      "Total rewards: 5\n",
      "Saving knowledge to data/human/jds_knowledge.txt \n",
      "\n"
     ]
    }
   ],
   "source": [
    "debugger.work(\"motion_3d\", name_list=[t, vzsq_plus_2gz])\n",
    "theorist.save_to_file(debug_file)"
   ]
  },
  {
   "cell_type": "code",
   "execution_count": 66,
   "metadata": {},
   "outputs": [
    {
     "name": "stdout",
     "output_type": "stream",
     "text": [
      "((Partial[C_56]/Partial[posx[1]] / (-C_06[1])) + (Partial[(-C_43[1])]/Partial[posx[1]] + ((2 * C_08[1]) + (Partial[(-C_28)]/Partial[posx[1]] / (-C_06[1])))))\n"
     ]
    },
    {
     "data": {
      "text/plain": [
       "'R_54'"
      ]
     },
     "execution_count": 66,
     "metadata": {},
     "output_type": "execute_result"
    }
   ],
   "source": [
    "temp_expr = 2 * ax(1) + Exp.Partial(sum_vspring(), posx(1).unwrap_atom) / mass(1) + Exp.Partial(vzsq_plus_2gz(1), posx(1).unwrap_atom) + Exp.Partial(sum_vG(), posx(1).unwrap_atom) / mass(1)\n",
    "print(temp_expr)\n",
    "prop_ax_partvk_partvsq_2gz_FG = debugger.check_law(f\"(1->Particle) |- {temp_expr} is zero\")\n",
    "prop_ax_partvk_partvsq_2gz_FG"
   ]
  },
  {
   "cell_type": "code",
   "execution_count": 67,
   "metadata": {},
   "outputs": [
    {
     "name": "stdout",
     "output_type": "stream",
     "text": [
      "GeneralLaw(name=R_54, type=IsZero, indication=ForAll, prop=(1->Particle) |- ((-1 * Partial[C_43[1]]/Partial[posx[1]]) + ((-1 * (Partial[C_56]/Partial[posx[1]] * (C_06[1] ** -1))) + ((2 * C_08[1]) + (Partial[C_28]/Partial[posx[1]] * (C_06[1] ** -1))))) is zero, valid_experiments=['motion_3d', 'oscillation_r_3', 'hanging_spring_1', 'projectile_oscillation_1', 'oscillationy', 'oscillation_rot_3', 'celestial_2_yz', 'projectile_oscillation_2', 'oblique_projectile', 'oscillation_x_3', 'motion0', 'celestial_2_xy', 'motion', 'motiony', 'oscillation_rot_2', 'collision_nh', 'oscillation', 'projectile', 'gravity', 'vertical_projectile', 'oblique_projectile_x', 'oscillation_x_2', 'collision_elastic_3body', 'pendulum_oscillation_2', 'oscillation_2d_2', 'collision_2d', 'collision_y', 'pendulum_oscillation_1', 'hanging_spring_2', 'celestial_2_xz', 'celestial_3', 'oscillation_rot_1', 'oscillation_2d_3', 'motion0_3d', 'slope_oscillation_1', 'hanging_spring_3', 'motion0y', 'oscillation_2d_1', 'oscillation_x_1', 'celestial_4', 'oblique_projectile_y', 'free_fall'], father=None)\n",
      "(1->Particle) |- ((-1 * Partial[C_43[1]]/Partial[posx[1]]) + ((-1 * (Partial[C_56]/Partial[posx[1]] * (C_06[1] ** -1))) + ((2 * C_08[1]) + (Partial[C_28]/Partial[posx[1]] * (C_06[1] ** -1))))) is zero\n",
      "(1->Particle) |- ((-1 * Partial[((2 * (C_40 * posz[1])) - (D[posz[1]]/D[t[0]] * D[posz[1]]/D[t[0]]))]/Partial[posx[1]]) + ((-1 * (Partial[C_56]/Partial[posx[1]] * (C_06[1] ** -1))) + ((Partial[C_28]/Partial[posx[1]] * (C_06[1] ** -1)) + (2 * D^2[posx[1]]/D[t[0]]^2)))) is zero\n",
      "Not valid experiments: \u001b[1m[collision, slope_oscillation_2, stringmotion0, oscillation_r_4]\u001b[0m\n"
     ]
    }
   ],
   "source": [
    "print(debugger.law_info(prop_ax_partvk_partvsq_2gz_FG))"
   ]
  },
  {
   "cell_type": "code",
   "execution_count": 68,
   "metadata": {},
   "outputs": [
    {
     "data": {
      "text/plain": [
       "'R_53'"
      ]
     },
     "execution_count": 68,
     "metadata": {},
     "output_type": "execute_result"
    }
   ],
   "source": [
    "temp_expr = 2 * ay(1) + Exp.Partial(vzsq_plus_2gz(1), posy(1).unwrap_atom) + Exp.Partial(sum_vG(), posy(1).unwrap_atom) / mass(1)\n",
    "prop_ay_partvsq_2gz_FG = debugger.check_law(f\"(1->Particle) |- {temp_expr} is zero\")\n",
    "prop_ay_partvsq_2gz_FG"
   ]
  },
  {
   "cell_type": "markdown",
   "metadata": {},
   "source": [
    "inspect which experiments are now not covered by Newton's second law in $y$ direction now"
   ]
  },
  {
   "cell_type": "code",
   "execution_count": 69,
   "metadata": {},
   "outputs": [
    {
     "name": "stdout",
     "output_type": "stream",
     "text": [
      "GeneralLaw(name=R_53, type=IsZero, indication=ForAll, prop=(1->Particle) |- ((-1 * Partial[C_43[1]]/Partial[posy[1]]) + ((2 * C_10[1]) + (-1 * (Partial[C_56]/Partial[posy[1]] * (C_06[1] ** -1))))) is zero, valid_experiments=['motion_3d', 'hanging_spring_1', 'collision', 'celestial_2_yz', 'oblique_projectile', 'oscillation_x_3', 'motion0', 'celestial_2_xy', 'motion', 'motiony', 'collision_nh', 'oscillation', 'projectile', 'gravity', 'vertical_projectile', 'oblique_projectile_x', 'oscillation_x_2', 'collision_elastic_3body', 'pendulum_oscillation_2', 'collision_2d', 'collision_y', 'pendulum_oscillation_1', 'hanging_spring_2', 'celestial_2_xz', 'celestial_3', 'motion0_3d', 'hanging_spring_3', 'motion0y', 'oscillation_x_1', 'celestial_4', 'oblique_projectile_y', 'free_fall'], father=R_25)\n",
      "(1->Particle) |- ((-1 * Partial[C_43[1]]/Partial[posy[1]]) + ((2 * C_10[1]) + (-1 * (Partial[C_56]/Partial[posy[1]] * (C_06[1] ** -1))))) is zero\n",
      "(1->Particle) |- (((2 * D^2[posy[1]]/D[t[0]]^2) + (-1 * (Partial[C_56]/Partial[posy[1]] * (C_06[1] ** -1)))) + (-1 * Partial[((2 * (C_40 * posz[1])) - (D[posz[1]]/D[t[0]] * D[posz[1]]/D[t[0]]))]/Partial[posy[1]])) is zero\n",
      "Not valid experiments: \u001b[1m[oscillation_rot_1, oscillation_2d_3, slope_oscillation_1, slope_oscillation_2, oscillation_2d_2, oscillation_r_3, oscillation_rot_2, stringmotion0, projectile_oscillation_1, oscillation_rot_3, oscillation_2d_1, oscillation_r_4, oscillationy, projectile_oscillation_2]\u001b[0m\n"
     ]
    }
   ],
   "source": [
    "print(debugger.law_info(prop_ay_partvsq_2gz_FG))"
   ]
  },
  {
   "cell_type": "markdown",
   "metadata": {},
   "source": [
    "### find general conclusion: $\\forall i\\in\\text{particles},\\,a_{y,i} + \\frac{1}{m_i}\\frac{\\partial \\sum_{j\\in\\text{springs}}V^{(\\text{spring})}_{j}}{\\partial y_i} +F_{g,y,i} + F_G=0.$\n",
    "\n",
    "Newton's second law in $y$ direction is now completed\n",
    "\n",
    "(Some byproducts are found)"
   ]
  },
  {
   "cell_type": "code",
   "execution_count": 70,
   "metadata": {},
   "outputs": [
    {
     "name": "stdout",
     "output_type": "stream",
     "text": [
      "\n",
      "\n",
      "########## \u001b[1moscillation_2d_1\u001b[0m ##########\n",
      "\n",
      "\n",
      "Selected concepts: ['C_28', 't']\n",
      "Try to complete invalid general laws\n",
      "- Try to complete R_01\n",
      "- Try to complete R_02\n",
      "\u001b[1mRegistered new general law: R_58 = GeneralLaw(name=R_58, type=IsZero, indication=ForAll, prop=(1->Particle) |- ((2 * C_10[1]) + (Partial[C_28]/Partial[posy[1]] * (C_06[1] ** -1))) is zero, valid_experiments=['oscillation_2d_1'], father=R_02)\u001b[0m\n",
      "- Try to complete R_05\n",
      "- Try to complete R_07\n",
      "- Try to complete R_09\n",
      "- Try to complete R_13\n",
      "\u001b[1mRegistered new general law: R_59 = GeneralLaw(name=R_59, type=IsConserved, indication=Sum, prop=|- (C_28 + (C_20 + C_29)) is conserved, valid_experiments=['oscillation_2d_1'], father=R_13)\u001b[0m\n",
      "- Try to complete R_15\n",
      "\u001b[1mRegistered new general law: R_60 = GeneralLaw(name=R_60, type=IsConserved, indication=Sum, prop=|- (C_28 + (C_48 + (C_20 + C_29))) is conserved, valid_experiments=['oscillation_2d_1'], father=R_15)\u001b[0m\n",
      "- Try to complete R_25\n",
      "\u001b[1mRegistered new general law: R_61 = GeneralLaw(name=R_61, type=IsZero, indication=ForAll, prop=(1->Particle) |- ((Partial[C_28]/Partial[posy[1]] * (C_06[1] ** -1)) + ((2 * C_10[1]) + (-1 * (Partial[C_56]/Partial[posy[1]] * (C_06[1] ** -1))))) is zero, valid_experiments=['oscillation_2d_1'], father=R_25)\u001b[0m\n",
      "- Try to complete R_27\n",
      "\u001b[1mRegistered new general law: R_62 = GeneralLaw(name=R_62, type=IsConserved, indication=Sum, prop=|- (C_28 + ((-1 * C_56) + (C_48 + (C_20 + C_29)))) is conserved, valid_experiments=['oscillation_2d_1'], father=R_27)\u001b[0m\n",
      "- Try to complete R_50\n",
      "\u001b[1mRegistered new general law: R_63 = GeneralLaw(name=R_63, type=IsZero, indication=ForAll, prop=(1->Particle) |- ((Partial[C_28]/Partial[posy[1]] * (C_06[1] ** -1)) + ((2 * C_10[1]) + (-1 * Partial[C_43[1]]/Partial[posy[1]]))) is zero, valid_experiments=['oscillation_2d_1'], father=R_50)\u001b[0m\n",
      "- Try to complete R_53\n",
      "\u001b[1mRegistered new general law: R_64 = GeneralLaw(name=R_64, type=IsZero, indication=ForAll, prop=(1->Particle) |- ((Partial[C_28]/Partial[posy[1]] * (C_06[1] ** -1)) + ((-1 * Partial[C_43[1]]/Partial[posy[1]]) + ((2 * C_10[1]) + (-1 * (Partial[C_56]/Partial[posy[1]] * (C_06[1] ** -1)))))) is zero, valid_experiments=['oscillation_2d_1'], father=R_53)\u001b[0m\n",
      "Finish trying to complete incomplete general laws\n",
      "Fixing general laws.\n",
      "Try to convert conserved general laws to zero ones\n",
      "Finish trying to convert conserved general laws to zero ones\n",
      "Found 2 relations\n",
      "Begin filtering relations\n",
      "After filtering, 5 relations left\n",
      "Propose new proposition: posz[2] is zero\n",
      "Propose new proposition: posz[1] is zero\n",
      "Propose new proposition: (dist[1, 2] - length[3]) is zero\n",
      "Propose new proposition: (dist[1, 2] - dist[2, 1]) is zero\n",
      "Propose new proposition: (((dist[1, 2] ** 2) - ((posx[1] - posx[2]) ** 2)) - ((posy[1] - posy[2]) ** 2)) is zero\n"
     ]
    },
    {
     "name": "stderr",
     "output_type": "stream",
     "text": [
      "Add to Specific model: 100%|██████████| 5/5 [00:00<00:00, 11922.41it/s]\n"
     ]
    },
    {
     "name": "stdout",
     "output_type": "stream",
     "text": [
      "Reducing 5 conclusions\n"
     ]
    },
    {
     "name": "stderr",
     "output_type": "stream",
     "text": [
      "Reduce Conclusions:   0%|          | 0/5 [00:00<?, ?it/s]"
     ]
    },
    {
     "name": "stdout",
     "output_type": "stream",
     "text": [
      "Insert to ideal: posz[1] is zero\n"
     ]
    },
    {
     "name": "stderr",
     "output_type": "stream",
     "text": [
      "Reduce Conclusions:  20%|██        | 1/5 [00:00<00:00,  5.91it/s]"
     ]
    },
    {
     "name": "stdout",
     "output_type": "stream",
     "text": [
      "Insert to ideal: posz[2] is zero\n"
     ]
    },
    {
     "name": "stderr",
     "output_type": "stream",
     "text": [
      "Reduce Conclusions:  40%|████      | 2/5 [00:00<00:00,  6.46it/s]"
     ]
    },
    {
     "name": "stdout",
     "output_type": "stream",
     "text": [
      "Insert to ideal: (dist[1, 2] - length[3]) is zero\n"
     ]
    },
    {
     "name": "stderr",
     "output_type": "stream",
     "text": [
      "Reduce Conclusions:  60%|██████    | 3/5 [00:00<00:00,  6.71it/s]"
     ]
    },
    {
     "name": "stdout",
     "output_type": "stream",
     "text": [
      "Insert to ideal: (dist[1, 2] - dist[2, 1]) is zero\n"
     ]
    },
    {
     "name": "stderr",
     "output_type": "stream",
     "text": [
      "Reduce Conclusions: 100%|██████████| 5/5 [00:00<00:00,  7.29it/s]\n"
     ]
    },
    {
     "name": "stdout",
     "output_type": "stream",
     "text": [
      "Insert to ideal: (((dist[1, 2] ** 2) - ((posx[1] - posx[2]) ** 2)) - ((posy[1] - posy[2]) ** 2)) is zero\n",
      "calc_relations between  {'C_06[2]', 'C_01[3]', 'C_27[3]', 'C_06[1]'}\n",
      "Found 0 relations between conserved quantities\n",
      "Reducing 5 conclusions\n"
     ]
    },
    {
     "name": "stderr",
     "output_type": "stream",
     "text": [
      "Reduce Conclusions:  20%|██        | 1/5 [00:00<00:00,  7.22it/s]"
     ]
    },
    {
     "name": "stdout",
     "output_type": "stream",
     "text": [
      "Insert to ideal: posz[1] is zero\n"
     ]
    },
    {
     "name": "stderr",
     "output_type": "stream",
     "text": [
      "Reduce Conclusions:  20%|██        | 1/5 [00:00<00:00,  7.22it/s]"
     ]
    },
    {
     "name": "stdout",
     "output_type": "stream",
     "text": [
      "Insert to ideal: posz[2] is zero\n"
     ]
    },
    {
     "name": "stderr",
     "output_type": "stream",
     "text": [
      "Reduce Conclusions:  40%|████      | 2/5 [00:00<00:00,  7.47it/s]"
     ]
    },
    {
     "name": "stdout",
     "output_type": "stream",
     "text": [
      "Insert to ideal: (dist[1, 2] - length[3]) is zero\n"
     ]
    },
    {
     "name": "stderr",
     "output_type": "stream",
     "text": [
      "Reduce Conclusions:  60%|██████    | 3/5 [00:00<00:00,  7.27it/s]"
     ]
    },
    {
     "name": "stdout",
     "output_type": "stream",
     "text": [
      "Insert to ideal: (dist[1, 2] - dist[2, 1]) is zero\n"
     ]
    },
    {
     "name": "stderr",
     "output_type": "stream",
     "text": [
      "Reduce Conclusions: 100%|██████████| 5/5 [00:00<00:00,  7.90it/s]"
     ]
    },
    {
     "name": "stdout",
     "output_type": "stream",
     "text": [
      "Insert to ideal: (((dist[1, 2] ** 2) - ((posx[1] - posx[2]) ** 2)) - ((posy[1] - posy[2]) ** 2)) is zero\n",
      "Fixing general laws.\n"
     ]
    },
    {
     "name": "stderr",
     "output_type": "stream",
     "text": [
      "\n"
     ]
    },
    {
     "name": "stdout",
     "output_type": "stream",
     "text": [
      "Try to reduce R_61\n",
      "--- R_61 is marked as useful\n",
      "Update diffalg for existing marked general laws\n",
      "Check if R_02 should be removed\n",
      "Check if R_25 should be removed\n",
      "Finish updating diffalg\n",
      "Try to reduce R_63\n",
      "--- R_63 is marked as useful\n",
      "Update diffalg for existing marked general laws\n",
      "Check if R_02 should be removed\n",
      "Check if R_50 should be removed\n",
      "Finish updating diffalg\n",
      "Try to reduce R_59\n",
      "--- R_59 is a subexpr of some marked general laws in {'R_28', 'R_19'}\n",
      "Try to reduce R_62\n",
      "--- R_62 is marked as useful\n",
      "Update diffalg for existing marked general laws\n",
      "Check if R_15 should be removed\n",
      "Check if R_27 should be removed\n",
      "Finish updating diffalg\n",
      "Try to reduce R_60\n",
      "--- R_60 is a subexpr of some marked general laws in {'R_62', 'R_28', 'R_19'}\n",
      "Try to reduce R_64\n",
      "--- R_64 is marked as useful\n",
      "Update diffalg for existing marked general laws\n",
      "Check if R_01 should be removed\n",
      "Check if R_51 should be removed\n",
      "Check if R_53 should be removed\n",
      "--- R_53 is a subexpr of R_64\n",
      "--- R_53 is removed\n",
      "Check if R_54 should be removed\n",
      "Check if R_02 should be removed\n",
      "Check if R_61 should be removed\n",
      "--- R_61 is a subexpr of R_64\n",
      "--- R_61 is removed\n",
      "Check if R_08 should be removed\n",
      "Check if R_25 should be removed\n",
      "Check if R_50 should be removed\n",
      "Check if R_63 should be removed\n",
      "--- R_63 is a subexpr of R_64\n",
      "--- R_63 is removed\n",
      "Finish updating diffalg\n",
      "Try to reduce R_58\n",
      "--- R_58 is a subexpr of some marked general laws in {'R_64'}\n",
      "Total rewards: 3\n"
     ]
    }
   ],
   "source": [
    "debugger.work(\"oscillation_2d_1\", name_list=[sum_vspring, t])"
   ]
  },
  {
   "cell_type": "code",
   "execution_count": 71,
   "metadata": {},
   "outputs": [
    {
     "name": "stdout",
     "output_type": "stream",
     "text": [
      "((Partial[(-C_28)]/Partial[posy[1]] / (-C_06[1])) + ((Partial[C_56]/Partial[posy[1]] / (-C_06[1])) + ((2 * C_10[1]) + Partial[(-C_43[1])]/Partial[posy[1]])))\n"
     ]
    },
    {
     "data": {
      "text/plain": [
       "'R_64'"
      ]
     },
     "execution_count": 71,
     "metadata": {},
     "output_type": "execute_result"
    }
   ],
   "source": [
    "temp_expr = 2 * ay(1) + Exp.Partial(vzsq_plus_2gz(1), posy(1).unwrap_atom) + Exp.Partial(sum_vG(), posy(1).unwrap_atom) / mass(1) + Exp.Partial(sum_vspring(), posy(1).unwrap_atom) / mass(1)\n",
    "print(temp_expr)\n",
    "prop_ay_partvk_partvsq_2gz_FG = debugger.check_law(f\"(1->Particle) |- {temp_expr} is zero\")\n",
    "prop_ay_partvk_partvsq_2gz_FG"
   ]
  },
  {
   "cell_type": "code",
   "execution_count": 72,
   "metadata": {},
   "outputs": [
    {
     "name": "stdout",
     "output_type": "stream",
     "text": [
      "GeneralLaw(name=R_64, type=IsZero, indication=ForAll, prop=(1->Particle) |- ((Partial[C_28]/Partial[posy[1]] * (C_06[1] ** -1)) + ((-1 * Partial[C_43[1]]/Partial[posy[1]]) + ((2 * C_10[1]) + (-1 * (Partial[C_56]/Partial[posy[1]] * (C_06[1] ** -1)))))) is zero, valid_experiments=['oscillation_2d_1', 'oscillation_r_3', 'hanging_spring_1', 'projectile_oscillation_1', 'oscillationy', 'collision', 'oscillation_rot_3', 'celestial_2_yz', 'projectile_oscillation_2', 'oblique_projectile', 'oscillation_x_3', 'motion0', 'celestial_2_xy', 'motion', 'motiony', 'oscillation_rot_2', 'collision_nh', 'oscillation', 'projectile', 'gravity', 'vertical_projectile', 'oblique_projectile_x', 'oscillation_x_2', 'collision_elastic_3body', 'pendulum_oscillation_2', 'oscillation_2d_2', 'collision_2d', 'collision_y', 'pendulum_oscillation_1', 'hanging_spring_2', 'celestial_2_xz', 'celestial_3', 'slope_oscillation_2', 'oscillation_rot_1', 'oscillation_2d_3', 'motion0_3d', 'slope_oscillation_1', 'hanging_spring_3', 'motion0y', 'oscillation_x_1', 'motion_3d', 'celestial_4', 'oblique_projectile_y', 'free_fall'], father=None)\n",
      "(1->Particle) |- ((Partial[C_28]/Partial[posy[1]] * (C_06[1] ** -1)) + ((-1 * Partial[C_43[1]]/Partial[posy[1]]) + ((2 * C_10[1]) + (-1 * (Partial[C_56]/Partial[posy[1]] * (C_06[1] ** -1)))))) is zero\n",
      "(1->Particle) |- ((Partial[C_28]/Partial[posy[1]] * (C_06[1] ** -1)) + (((2 * D^2[posy[1]]/D[t[0]]^2) + (-1 * (Partial[C_56]/Partial[posy[1]] * (C_06[1] ** -1)))) + (-1 * Partial[((2 * (C_40 * posz[1])) - (D[posz[1]]/D[t[0]] * D[posz[1]]/D[t[0]]))]/Partial[posy[1]]))) is zero\n",
      "Not valid experiments: \u001b[1m[oscillation_r_4, stringmotion0]\u001b[0m\n"
     ]
    }
   ],
   "source": [
    "print(debugger.law_info(prop_ay_partvk_partvsq_2gz_FG))"
   ]
  },
  {
   "cell_type": "markdown",
   "metadata": {},
   "source": [
    "### summarize"
   ]
  },
  {
   "cell_type": "code",
   "execution_count": 73,
   "metadata": {},
   "outputs": [
    {
     "name": "stdout",
     "output_type": "stream",
     "text": [
      "GeneralLaw(name=R_54, type=IsZero, indication=ForAll, prop=(1->Particle) |- ((-1 * Partial[C_43[1]]/Partial[posx[1]]) + ((-1 * (Partial[C_56]/Partial[posx[1]] * (C_06[1] ** -1))) + ((2 * C_08[1]) + (Partial[C_28]/Partial[posx[1]] * (C_06[1] ** -1))))) is zero, valid_experiments=['motion_3d', 'oscillation_r_3', 'hanging_spring_1', 'projectile_oscillation_1', 'oscillationy', 'oscillation_rot_3', 'celestial_2_yz', 'projectile_oscillation_2', 'oblique_projectile', 'oscillation_x_3', 'motion0', 'celestial_2_xy', 'motion', 'motiony', 'oscillation_rot_2', 'collision_nh', 'oscillation', 'projectile', 'gravity', 'vertical_projectile', 'oblique_projectile_x', 'oscillation_x_2', 'collision_elastic_3body', 'pendulum_oscillation_2', 'oscillation_2d_2', 'collision_2d', 'collision_y', 'pendulum_oscillation_1', 'hanging_spring_2', 'celestial_2_xz', 'celestial_3', 'oscillation_rot_1', 'oscillation_2d_3', 'motion0_3d', 'slope_oscillation_1', 'hanging_spring_3', 'motion0y', 'oscillation_2d_1', 'oscillation_x_1', 'celestial_4', 'oblique_projectile_y', 'free_fall'], father=None)\n",
      "(1->Particle) |- ((-1 * Partial[C_43[1]]/Partial[posx[1]]) + ((-1 * (Partial[C_56]/Partial[posx[1]] * (C_06[1] ** -1))) + ((2 * C_08[1]) + (Partial[C_28]/Partial[posx[1]] * (C_06[1] ** -1))))) is zero\n",
      "(1->Particle) |- ((-1 * Partial[((2 * (C_40 * posz[1])) - (D[posz[1]]/D[t[0]] * D[posz[1]]/D[t[0]]))]/Partial[posx[1]]) + ((-1 * (Partial[C_56]/Partial[posx[1]] * (C_06[1] ** -1))) + ((Partial[C_28]/Partial[posx[1]] * (C_06[1] ** -1)) + (2 * D^2[posx[1]]/D[t[0]]^2)))) is zero\n",
      "Not valid experiments: \u001b[1m[collision, slope_oscillation_2, stringmotion0, oscillation_r_4]\u001b[0m\n"
     ]
    }
   ],
   "source": [
    "print(debugger.law_info(prop_ax_partvk_partvsq_2gz_FG))"
   ]
  },
  {
   "cell_type": "code",
   "execution_count": 74,
   "metadata": {},
   "outputs": [
    {
     "name": "stdout",
     "output_type": "stream",
     "text": [
      "GeneralLaw(name=R_64, type=IsZero, indication=ForAll, prop=(1->Particle) |- ((Partial[C_28]/Partial[posy[1]] * (C_06[1] ** -1)) + ((-1 * Partial[C_43[1]]/Partial[posy[1]]) + ((2 * C_10[1]) + (-1 * (Partial[C_56]/Partial[posy[1]] * (C_06[1] ** -1)))))) is zero, valid_experiments=['oscillation_2d_1', 'oscillation_r_3', 'hanging_spring_1', 'projectile_oscillation_1', 'oscillationy', 'collision', 'oscillation_rot_3', 'celestial_2_yz', 'projectile_oscillation_2', 'oblique_projectile', 'oscillation_x_3', 'motion0', 'celestial_2_xy', 'motion', 'motiony', 'oscillation_rot_2', 'collision_nh', 'oscillation', 'projectile', 'gravity', 'vertical_projectile', 'oblique_projectile_x', 'oscillation_x_2', 'collision_elastic_3body', 'pendulum_oscillation_2', 'oscillation_2d_2', 'collision_2d', 'collision_y', 'pendulum_oscillation_1', 'hanging_spring_2', 'celestial_2_xz', 'celestial_3', 'slope_oscillation_2', 'oscillation_rot_1', 'oscillation_2d_3', 'motion0_3d', 'slope_oscillation_1', 'hanging_spring_3', 'motion0y', 'oscillation_x_1', 'motion_3d', 'celestial_4', 'oblique_projectile_y', 'free_fall'], father=None)\n",
      "(1->Particle) |- ((Partial[C_28]/Partial[posy[1]] * (C_06[1] ** -1)) + ((-1 * Partial[C_43[1]]/Partial[posy[1]]) + ((2 * C_10[1]) + (-1 * (Partial[C_56]/Partial[posy[1]] * (C_06[1] ** -1)))))) is zero\n",
      "(1->Particle) |- ((Partial[C_28]/Partial[posy[1]] * (C_06[1] ** -1)) + (((2 * D^2[posy[1]]/D[t[0]]^2) + (-1 * (Partial[C_56]/Partial[posy[1]] * (C_06[1] ** -1)))) + (-1 * Partial[((2 * (C_40 * posz[1])) - (D[posz[1]]/D[t[0]] * D[posz[1]]/D[t[0]]))]/Partial[posy[1]]))) is zero\n",
      "Not valid experiments: \u001b[1m[oscillation_r_4, stringmotion0]\u001b[0m\n"
     ]
    }
   ],
   "source": [
    "print(debugger.law_info(prop_ay_partvk_partvsq_2gz_FG))"
   ]
  },
  {
   "cell_type": "code",
   "execution_count": 75,
   "metadata": {},
   "outputs": [
    {
     "name": "stdout",
     "output_type": "stream",
     "text": [
      "GeneralLaw(name=R_21, type=IsZero, indication=ForAll, prop=(1->Particle) |- ((-1 * Partial[C_43[1]]/Partial[posz[1]]) + ((2 * C_16[1]) + (Partial[C_28]/Partial[posz[1]] * (C_06[1] ** -1)))) is zero, valid_experiments=['hanging_spring_1', 'oscillation_r_3', 'projectile_oscillation_1', 'oscillationy', 'collision', 'oscillation_rot_3', 'projectile_oscillation_2', 'oblique_projectile', 'oscillation_x_3', 'motion0', 'celestial_2_xy', 'motion', 'motiony', 'oscillation_rot_2', 'collision_nh', 'oscillation', 'projectile', 'gravity', 'vertical_projectile', 'oscillation_r_4', 'oblique_projectile_x', 'oscillation_x_2', 'collision_elastic_3body', 'pendulum_oscillation_2', 'oscillation_2d_2', 'collision_2d', 'collision_y', 'pendulum_oscillation_1', 'hanging_spring_2', 'celestial_3', 'slope_oscillation_2', 'oscillation_rot_1', 'oscillation_2d_3', 'motion0_3d', 'slope_oscillation_1', 'hanging_spring_3', 'motion0y', 'oscillation_2d_1', 'oscillation_x_1', 'motion_3d', 'celestial_4', 'oblique_projectile_y', 'free_fall'], father=R_03)\n",
      "(1->Particle) |- ((-1 * Partial[C_43[1]]/Partial[posz[1]]) + ((2 * C_16[1]) + (Partial[C_28]/Partial[posz[1]] * (C_06[1] ** -1)))) is zero\n",
      "(1->Particle) |- (((Partial[C_28]/Partial[posz[1]] * (C_06[1] ** -1)) + (2 * D^2[posz[1]]/D[t[0]]^2)) + (-1 * Partial[((2 * (C_40 * posz[1])) - (D[posz[1]]/D[t[0]] * D[posz[1]]/D[t[0]]))]/Partial[posz[1]])) is zero\n",
      "Not valid experiments: \u001b[1m[celestial_2_xz, stringmotion0, celestial_2_yz]\u001b[0m\n"
     ]
    }
   ],
   "source": [
    "print(debugger.law_info(prop_az_partvk_gz))"
   ]
  },
  {
   "cell_type": "code",
   "execution_count": 76,
   "metadata": {},
   "outputs": [
    {
     "name": "stdout",
     "output_type": "stream",
     "text": [
      "GeneralLaw(name=R_31, type=IsConserved, indication=ForAll, prop=(1->Particle) |- ((2 * C_16[1]) + (-1 * (Partial[C_56]/Partial[posz[1]] * (C_06[1] ** -1)))) is conserved, valid_experiments=['celestial_2_xz', 'oscillation_r_3', 'oscillationy', 'collision', 'oscillation_rot_3', 'celestial_2_yz', 'oblique_projectile', 'oscillation_x_3', 'motion0', 'celestial_2_xy', 'motion', 'motiony', 'oscillation_rot_2', 'collision_nh', 'oscillation', 'projectile', 'gravity', 'vertical_projectile', 'oscillation_r_4', 'oblique_projectile_x', 'oscillation_x_2', 'collision_elastic_3body', 'oscillation_2d_2', 'collision_2d', 'collision_y', 'celestial_3', 'oscillation_rot_1', 'oscillation_2d_3', 'motion0_3d', 'motion0y', 'oscillation_2d_1', 'oscillation_x_1', 'motion_3d', 'celestial_4', 'oblique_projectile_y', 'free_fall'], father=R_03)\n",
      "(1->Particle) |- ((2 * C_16[1]) + (-1 * (Partial[C_56]/Partial[posz[1]] * (C_06[1] ** -1)))) is conserved\n",
      "(1->Particle) |- ((2 * D^2[posz[1]]/D[t[0]]^2) + (-1 * (Partial[C_56]/Partial[posz[1]] * (C_06[1] ** -1)))) is conserved\n",
      "Not valid experiments: \u001b[1m[hanging_spring_1, slope_oscillation_1, hanging_spring_2, slope_oscillation_2, stringmotion0, projectile_oscillation_1, pendulum_oscillation_1, pendulum_oscillation_2, projectile_oscillation_2, hanging_spring_3]\u001b[0m\n"
     ]
    }
   ],
   "source": [
    "print(debugger.law_info(prop_az_FG))"
   ]
  },
  {
   "cell_type": "markdown",
   "metadata": {},
   "source": [
    "### save"
   ]
  },
  {
   "cell_type": "code",
   "execution_count": 77,
   "metadata": {},
   "outputs": [
    {
     "name": "stdout",
     "output_type": "stream",
     "text": [
      "Saving knowledge to data/human/jds_knowledge.txt \n",
      "\n"
     ]
    }
   ],
   "source": [
    "theorist.save_to_file(debug_file)"
   ]
  },
  {
   "cell_type": "code",
   "execution_count": null,
   "metadata": {},
   "outputs": [],
   "source": []
  }
 ],
 "metadata": {
  "kernelspec": {
   "display_name": "pubpy",
   "language": "python",
   "name": "python3"
  },
  "language_info": {
   "codemirror_mode": {
    "name": "ipython",
    "version": 3
   },
   "file_extension": ".py",
   "mimetype": "text/x-python",
   "name": "python",
   "nbconvert_exporter": "python",
   "pygments_lexer": "ipython3",
   "version": "3.11.9"
  }
 },
 "nbformat": 4,
 "nbformat_minor": 2
}
