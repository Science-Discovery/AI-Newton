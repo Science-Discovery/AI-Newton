{
 "cells": [
  {
   "cell_type": "code",
   "execution_count": 1,
   "metadata": {},
   "outputs": [
    {
     "name": "stdout",
     "output_type": "stream",
     "text": [
      "/home/fyl/ai-physicist\n"
     ]
    }
   ],
   "source": [
    "import os\n",
    "work_dir = os.path.abspath('../..')\n",
    "print(work_dir)\n",
    "os.chdir(work_dir)"
   ]
  },
  {
   "cell_type": "code",
   "execution_count": 2,
   "metadata": {},
   "outputs": [],
   "source": [
    "from aiphy.symbolic import partial_diff, GeoInfoCache"
   ]
  },
  {
   "cell_type": "code",
   "execution_count": 3,
   "metadata": {},
   "outputs": [],
   "source": [
    "import sympy as sp\n",
    "expr = sp.sympify('C_10_1*(-2*C_79*posz_1(t_0) + Derivative(posz_1(t_0), t_0)**2)')\n",
    "symbs=[sp.sympify('posx_1(t_0)'), sp.sympify('posy_1(t_0)'), sp.sympify('posz_1(t_0)')]\n",
    "geo_info=[sp.sympify('posy_1(t_0)'),\n",
    "          sp.sympify('-Γ_4 + cx_2*posx_1(t_0) + cz_2*posz_1(t_0)')\n",
    "          ]"
   ]
  },
  {
   "cell_type": "code",
   "execution_count": 4,
   "metadata": {},
   "outputs": [
    {
     "data": {
      "text/plain": [
       "[2*C_10_1*C_79*cx_2*cz_2/(cx_2**2 + cz_2**2),\n",
       " 0,\n",
       " -2*C_10_1*C_79*cx_2**2/(cx_2**2 + cz_2**2)]"
      ]
     },
     "execution_count": 4,
     "metadata": {},
     "output_type": "execute_result"
    }
   ],
   "source": [
    "geoinfo = GeoInfoCache(geo_info, symbs)\n",
    "partial_diff(expr, geoinfo)"
   ]
  },
  {
   "cell_type": "code",
   "execution_count": 5,
   "metadata": {},
   "outputs": [],
   "source": [
    "import sympy as sp\n",
    "expr = sp.sympify('C_10_1*(-2*C_79*posz_1(t_0) + Derivative(posz_1(t_0), t_0)**2)')\n",
    "symbs=[sp.sympify('posx_1(t_0)'), sp.sympify('posy_1(t_0)'), sp.sympify('posz_1(t_0)')]\n",
    "geo_info=[sp.sympify('posy_1(t_0)'),\n",
    "          sp.sympify('-Γ_2 + cx_2(t_0)'),\n",
    "          sp.sympify('-Γ_3 + cz_2(t_0)'), \n",
    "          sp.sympify('-Γ_4 + cx_2(t_0)*posx_1(t_0) + cz_2(t_0)*posz_1(t_0)')\n",
    "          ]"
   ]
  },
  {
   "cell_type": "code",
   "execution_count": 6,
   "metadata": {},
   "outputs": [
    {
     "data": {
      "text/plain": [
       "[2*C_10_1*C_79*cx_2(t_0)*cz_2(t_0)/(cx_2(t_0)**2 + cz_2(t_0)**2),\n",
       " 0,\n",
       " -2*C_10_1*C_79*cx_2(t_0)**2/(cx_2(t_0)**2 + cz_2(t_0)**2)]"
      ]
     },
     "execution_count": 6,
     "metadata": {},
     "output_type": "execute_result"
    }
   ],
   "source": [
    "geoinfo = GeoInfoCache(geo_info, symbs)\n",
    "partial_diff(expr, geoinfo)"
   ]
  },
  {
   "cell_type": "code",
   "execution_count": 7,
   "metadata": {},
   "outputs": [],
   "source": [
    "expr = sp.sympify('k/r(t)')\n",
    "symbs=[sp.sympify('x(t)'), sp.sympify('y(t)'), sp.sympify('z(t)')]\n",
    "geo_info=[sp.sympify('r(t) ** 2 - x(t) ** 2 - y(t) ** 2 - z(t) ** 2')]"
   ]
  },
  {
   "cell_type": "code",
   "execution_count": 8,
   "metadata": {},
   "outputs": [
    {
     "data": {
      "text/plain": [
       "[-k*x(t)/r(t)**3, -k*y(t)/r(t)**3, -k*z(t)/r(t)**3]"
      ]
     },
     "execution_count": 8,
     "metadata": {},
     "output_type": "execute_result"
    }
   ],
   "source": [
    "geoinfo = GeoInfoCache(geo_info, symbs)\n",
    "partial_diff(expr, geoinfo)"
   ]
  },
  {
   "cell_type": "code",
   "execution_count": null,
   "metadata": {},
   "outputs": [],
   "source": []
  }
 ],
 "metadata": {
  "kernelspec": {
   "display_name": "pubpy",
   "language": "python",
   "name": "python3"
  },
  "language_info": {
   "codemirror_mode": {
    "name": "ipython",
    "version": 3
   },
   "file_extension": ".py",
   "mimetype": "text/x-python",
   "name": "python",
   "nbconvert_exporter": "python",
   "pygments_lexer": "ipython3",
   "version": "3.11.9"
  }
 },
 "nbformat": 4,
 "nbformat_minor": 2
}
